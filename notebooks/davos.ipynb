{
 "cells": [
  {
   "cell_type": "markdown",
   "id": "d10625b1-a03d-443c-810d-9afaa25563e4",
   "metadata": {},
   "source": [
    "# Davos Data Project\n",
    "\n",
    "# Goal:\n",
    "## Generate data to support a story that demonstrates the value of Gecko's unique dataset\n",
    "\n",
    "\n",
    "**Hypotheses:**\n",
    "- Extreme Weather leads to outages due to increased energy demand and stress on the grid\n",
    "    - Winter weather events , extreme cold\n",
    "    - Summer and extreme heat\n",
    "- What is the current state of US boilers, Gecko has inspected many recently, are they in good shape ?  How do we define good shape ?"
   ]
  },
  {
   "cell_type": "markdown",
   "id": "b2bab932-37aa-461b-85f1-39cc596dd15e",
   "metadata": {
    "tags": []
   },
   "source": [
    "# Table of Contents:\n",
    "\n",
    "1. Data Overview\n",
    "    - data\n",
    "2. Environment Setup\n",
    "3. Data Loading & Preprocessing\n",
    "4. EDA & Visualization"
   ]
  },
  {
   "cell_type": "markdown",
   "id": "97e6dc1c-31db-419e-a05c-19701eff8753",
   "metadata": {
    "tags": []
   },
   "source": [
    "# 1. Data Overview\n",
    "\n",
    "- data\n",
    "    - raw_data\n",
    "        1. **AEP Plants 2011-20220802 Boiler Tube Leaks.xlsx**\n",
    "            - AEP boiler tube leaks Jan 2011 - Aug 2022\n",
    "            - Source: AEP, Wolpa\n",
    "        2. **Duke Fleet Boiler tube failure data 2005 - 2020.csv**\n",
    "            - Duke boiler tube leaks 2005 - 2020\n",
    "            - Source: Duke, Connor\n",
    "        3. **All US Boilers.csv**\n",
    "            - US Boilers\n",
    "            - Source: IIR, Wolpa\n",
    "        - **salesforce.csv**\n",
    "            - Gecko Salesforce data\n",
    "            - Source: Gecko Salesforce\n",
    "        - **portalservice_power_units**\n",
    "            - all power industry units in portal data\n",
    "            - Source: Gecko portal-service"
   ]
  },
  {
   "cell_type": "code",
   "execution_count": null,
   "id": "6cf7cf7d-3cb7-485b-8bb9-465cf41da2ae",
   "metadata": {},
   "outputs": [],
   "source": []
  },
  {
   "cell_type": "markdown",
   "id": "9f44f133-0b12-4d5b-b856-271f698478dc",
   "metadata": {},
   "source": [
    "# 2. Environment Setup"
   ]
  },
  {
   "cell_type": "code",
   "execution_count": 1,
   "id": "d8c1f2c1-7329-4143-b99c-89a23db73f69",
   "metadata": {},
   "outputs": [],
   "source": [
    "import json\n",
    "import matplotlib\n",
    "import matplotlib.pyplot as plt\n",
    "from matplotlib.colors import ListedColormap\n",
    "import numpy as np\n",
    "import os\n",
    "import pandas as pd\n",
    "import requests\n",
    "import seaborn as sns\n",
    "import sys\n",
    "sys.path.insert(0, '..')\n",
    "import warnings\n",
    "import zlib\n",
    "\n",
    "# local\n",
    "from libs.etl.data_cleaning import generate_aep_outage_dfs, generate_duke_outage_dfs, generate_iir_boilers_dfs, determine_component\n",
    "from libs.inspection_analysis.utils import analyze_inspection_df, hist_inspection_df, check_thickness, get_thickness_histogram, group_critdat, get_inspection_df\n",
    "from libs.reference.constants import COMPONENT_TYPE_MAP, POWER_CUST_LIST\n",
    "from libs.viz.utils import add_vbar_labels, add_hbar_labels"
   ]
  },
  {
   "cell_type": "markdown",
   "id": "290662bf-801f-4c95-8bf8-b70f8c363e7a",
   "metadata": {},
   "source": [
    "Matplotlib Style:"
   ]
  },
  {
   "cell_type": "code",
   "execution_count": 2,
   "id": "c9d9575d-bce6-4f72-b1c0-d8a3e0ea24d7",
   "metadata": {},
   "outputs": [],
   "source": [
    "plt.style.use('dark_background')\n",
    "#sns.set_style('darkgrid')"
   ]
  },
  {
   "cell_type": "markdown",
   "id": "7a85bb07-99a7-4f56-ab04-5865d0738427",
   "metadata": {},
   "source": [
    "Get Current Working Directory:"
   ]
  },
  {
   "cell_type": "code",
   "execution_count": 3,
   "id": "a68c091c-c879-4fcf-8ab7-a156b0316855",
   "metadata": {},
   "outputs": [
    {
     "name": "stdout",
     "output_type": "stream",
     "text": [
      "C:\\Users\\tom.fiorelli\\Documents\\GitHub\\davos-data-project\\notebooks\n"
     ]
    }
   ],
   "source": [
    "wd = os.getcwd()\n",
    "print(wd)"
   ]
  },
  {
   "cell_type": "markdown",
   "id": "da18dca6-34bf-411e-a3c4-322282929124",
   "metadata": {},
   "source": [
    "Pandas Settings:"
   ]
  },
  {
   "cell_type": "code",
   "execution_count": 4,
   "id": "ccb85672-3619-4733-ae1c-cce36a063777",
   "metadata": {},
   "outputs": [],
   "source": [
    "pd.set_option('display.max_rows', 1000)\n",
    "pd.set_option('display.max_columns', 1000)"
   ]
  },
  {
   "cell_type": "markdown",
   "id": "bc9952c2-0365-47f5-aca7-af4912288ab3",
   "metadata": {},
   "source": [
    "Disable Warnings:"
   ]
  },
  {
   "cell_type": "code",
   "execution_count": 5,
   "id": "84407a19-4ae9-4569-b00f-5f5450d964b3",
   "metadata": {},
   "outputs": [],
   "source": [
    "warnings.filterwarnings('ignore')"
   ]
  },
  {
   "cell_type": "markdown",
   "id": "7bf9ea6a-d028-471c-81ac-0d0586ff32ee",
   "metadata": {},
   "source": [
    "Set Token ?"
   ]
  },
  {
   "cell_type": "code",
   "execution_count": 6,
   "id": "06b0e4e0-22f3-495f-9b23-40bcba254e55",
   "metadata": {},
   "outputs": [],
   "source": [
    "# token = \"\"\"eyJhbGciOiJSUzI1NiIsInR5cCI6IkpXVCIsImtpZCI6IkVpeTN0a0l0bzZ0SDFTZ1VZdUdXVCJ9.eyJpc3MiOiJodHRwczovL2dlY2tvcm9ib3RpY3MudXMuYXV0aDAuY29tLyIsInN1YiI6Imdvb2dsZS1vYXV0aDJ8MTAxODIxNjU3MzQ0ODI0ODQxMjA5IiwiYXVkIjpbImNsb3VkLmdlY2tvcm9ib3RpY3MuY29tIiwiaHR0cHM6Ly9nZWNrb3JvYm90aWNzLnVzLmF1dGgwLmNvbS91c2VyaW5mbyJdLCJpYXQiOjE2NzM5NzE1NzYsImV4cCI6MTY3NDA1Nzk3NiwiYXpwIjoiSm1la3lLS0RsM2liRzdQbExRY2JLWHZoekx1UTRaQ08iLCJzY29wZSI6Im9wZW5pZCBwcm9maWxlIGVtYWlsIiwicGVybWlzc2lvbnMiOlsiY29sbGVjdGlvbnM6M2RfbW9kZWxzOmVkaXQiLCJjb2xsZWN0aW9uczphZG5vYy1hYnUtZGhhYmktbmF0aW9uYWwtb2lsLWNvbXBhbnktMmE1MzY0OmVkaXQiLCJjb2xsZWN0aW9uczphZXAtYTgyZjE4OmVkaXQiLCJjb2xsZWN0aW9uczphZXMtZWE0ZjMwOmVkaXQiLCJjb2xsZWN0aW9uczpiYXNmLTBmMmNiZTplZGl0IiwiY29sbGVjdGlvbnM6Y2hldnJvbi0wMWE1M2Y6ZWRpdCIsImNvbGxlY3Rpb25zOmNvbWJpbmVkX2NvbXBvbmVudF9kZnM6ZWRpdCIsImNvbGxlY3Rpb25zOmRvbXRhci03NDVhNWE6ZWRpdCIsImNvbGxlY3Rpb25zOmR1a2UtN2YyZmFmOmVkaXQiLCJjb2xsZWN0aW9uczplYmVuc2J1cmctcG93ZXItY29tcGFueS0wZTEyMWY6ZWRpdCIsImNvbGxlY3Rpb25zOmV4eG9uLTdmZDJhYjplZGl0IiwiY29sbGVjdGlvbnM6ZmRlLWRlbW86ZWRpdCIsImNvbGxlY3Rpb25zOmdlb3JnaWEtcGFjaWZpYy1hMWVjNTM6ZWRpdCIsImNvbGxlY3Rpb25zOm1hbnVhbF9pbnNwZWN0aW9uczplZGl0IiwiY29sbGVjdGlvbnM6bm9uc3BlY2lmaWMtY3VzdG9tZXI6ZWRpdCIsImNvbGxlY3Rpb25zOnJvbGxvdXRfaW1hZ2VzOmVkaXQiLCJjb2xsZWN0aW9uczp1cy1uYXZ5LTY5YTcyYTplZGl0IiwiZ2Vja286cmVhZCIsImdlY2tvOnJvbG9kZXg6ZWRpdCJdfQ.k5CJ5-EnyS1ELVIoCtNFqVrYRYuqVsKYdG5_nWqAXxgBcSS-qhiVr-RXpLyX3FLG2BYSrg0qUA8fet27LB7hMUt8wBnFNwFBlHAUbv0xYvyn2zLrxSWMxUIPI5vr6MVRKbJwPpPYVA-uOmM3idW8sWVs3RR544WZUC29Nt73zThAap2LG9qG-UrAJGOo9U365uFKkANH_A69qySfMUnQ7SGrSuuXNP0f8xXPmn4LQ63zJ_kVDEQNNQD-LhQo6ynMVG28h9UhoQ39MPvz-yRJLYKBk45QfQPk1yCqXWTwKKUg4_UyNy-JyaEbTWU3CW_Y47mlqVu5HZHWOWbTE3cb7A\"\"\""
   ]
  },
  {
   "cell_type": "markdown",
   "id": "277b521e-bf0a-4e5f-b9e0-1d5c94f4439d",
   "metadata": {},
   "source": [
    "# 3. EDA and Visualization"
   ]
  },
  {
   "cell_type": "markdown",
   "id": "196255f0-4e32-4fd4-b68d-48fada43cd33",
   "metadata": {},
   "source": [
    "## Source 1:\n",
    "AEP Plants 2011-20220802 Boiler Tube Leaks.xlsx\n",
    "\n",
    "Description:\n",
    "\n",
    "This dataset contains a large set of AEP tube failures across their steam fleet for a number of years"
   ]
  },
  {
   "cell_type": "code",
   "execution_count": 7,
   "id": "68a0b203-bf5d-445a-9122-4fba6ef8f811",
   "metadata": {},
   "outputs": [],
   "source": [
    "# get data\n",
    "aep_df, active_aep_df = generate_aep_outage_dfs()"
   ]
  },
  {
   "cell_type": "code",
   "execution_count": 8,
   "id": "555f37f1-6b60-490b-b87f-7acf240feaa9",
   "metadata": {},
   "outputs": [
    {
     "data": {
      "text/plain": [
       "(2195, 18)"
      ]
     },
     "execution_count": 8,
     "metadata": {},
     "output_type": "execute_result"
    }
   ],
   "source": [
    "aep_df.shape"
   ]
  },
  {
   "cell_type": "code",
   "execution_count": 9,
   "id": "55428cf3-5e56-4387-ae92-10257e0c6be4",
   "metadata": {},
   "outputs": [
    {
     "data": {
      "text/plain": [
       "(1473, 18)"
      ]
     },
     "execution_count": 9,
     "metadata": {},
     "output_type": "execute_result"
    }
   ],
   "source": [
    "active_aep_df.shape"
   ]
  },
  {
   "cell_type": "code",
   "execution_count": null,
   "id": "4315869a-7e11-4f9d-b2aa-2463dca5be58",
   "metadata": {},
   "outputs": [],
   "source": []
  },
  {
   "cell_type": "code",
   "execution_count": 10,
   "id": "f0ecf606-e118-4b79-a256-a2e293c8c18c",
   "metadata": {},
   "outputs": [
    {
     "data": {
      "text/html": [
       "<div>\n",
       "<style scoped>\n",
       "    .dataframe tbody tr th:only-of-type {\n",
       "        vertical-align: middle;\n",
       "    }\n",
       "\n",
       "    .dataframe tbody tr th {\n",
       "        vertical-align: top;\n",
       "    }\n",
       "\n",
       "    .dataframe thead th {\n",
       "        text-align: right;\n",
       "    }\n",
       "</style>\n",
       "<table border=\"1\" class=\"dataframe\">\n",
       "  <thead>\n",
       "    <tr style=\"text-align: right;\">\n",
       "      <th></th>\n",
       "      <th>Utility Name</th>\n",
       "      <th>Plant Name</th>\n",
       "      <th>Unit Name</th>\n",
       "      <th>Event Start Timestamp</th>\n",
       "      <th>Event End Timestamp</th>\n",
       "      <th>Event Type Code</th>\n",
       "      <th>Event Number</th>\n",
       "      <th>System Name</th>\n",
       "      <th>Component Name</th>\n",
       "      <th>Cause Code</th>\n",
       "      <th>Cause Description</th>\n",
       "      <th>Retired Flag</th>\n",
       "      <th>v_Event_Reduction</th>\n",
       "      <th>NERC Equivalent Hours</th>\n",
       "      <th>NERC MWH Loss</th>\n",
       "      <th>Unnamed: 15</th>\n",
       "      <th>Outage Month</th>\n",
       "      <th>Outage Week</th>\n",
       "    </tr>\n",
       "  </thead>\n",
       "  <tbody>\n",
       "    <tr>\n",
       "      <th>0</th>\n",
       "      <td>AEP West Southwestern Electric Power Co</td>\n",
       "      <td>Pirkey</td>\n",
       "      <td>Pirkey 1</td>\n",
       "      <td>2010-12-31 03:19:59.999</td>\n",
       "      <td>2011-01-02 00:12:00</td>\n",
       "      <td>U1</td>\n",
       "      <td>123.0</td>\n",
       "      <td>Boiler</td>\n",
       "      <td>Boiler Tube Leaks</td>\n",
       "      <td>1000</td>\n",
       "      <td>Waterwall (Furnace wall)</td>\n",
       "      <td>N</td>\n",
       "      <td>675.0</td>\n",
       "      <td>24.2</td>\n",
       "      <td>16335.0</td>\n",
       "      <td>Keep</td>\n",
       "      <td>12</td>\n",
       "      <td>52</td>\n",
       "    </tr>\n",
       "  </tbody>\n",
       "</table>\n",
       "</div>"
      ],
      "text/plain": [
       "                              Utility Name Plant Name Unit Name  \\\n",
       "0  AEP West Southwestern Electric Power Co     Pirkey  Pirkey 1   \n",
       "\n",
       "    Event Start Timestamp Event End Timestamp Event Type Code  Event Number  \\\n",
       "0 2010-12-31 03:19:59.999 2011-01-02 00:12:00              U1         123.0   \n",
       "\n",
       "  System Name     Component Name  Cause Code         Cause Description  \\\n",
       "0      Boiler  Boiler Tube Leaks        1000  Waterwall (Furnace wall)   \n",
       "\n",
       "  Retired Flag  v_Event_Reduction  NERC Equivalent Hours  NERC MWH Loss  \\\n",
       "0            N              675.0                   24.2        16335.0   \n",
       "\n",
       "  Unnamed: 15  Outage Month  Outage Week  \n",
       "0        Keep            12           52  "
      ]
     },
     "execution_count": 10,
     "metadata": {},
     "output_type": "execute_result"
    }
   ],
   "source": [
    "aep_df.head(1)"
   ]
  },
  {
   "cell_type": "code",
   "execution_count": 11,
   "id": "d7d98a3b-3051-4d34-821c-6b1a830deb1d",
   "metadata": {},
   "outputs": [
    {
     "data": {
      "text/html": [
       "<div>\n",
       "<style scoped>\n",
       "    .dataframe tbody tr th:only-of-type {\n",
       "        vertical-align: middle;\n",
       "    }\n",
       "\n",
       "    .dataframe tbody tr th {\n",
       "        vertical-align: top;\n",
       "    }\n",
       "\n",
       "    .dataframe thead th {\n",
       "        text-align: right;\n",
       "    }\n",
       "</style>\n",
       "<table border=\"1\" class=\"dataframe\">\n",
       "  <thead>\n",
       "    <tr style=\"text-align: right;\">\n",
       "      <th></th>\n",
       "      <th>Utility Name</th>\n",
       "      <th>Plant Name</th>\n",
       "      <th>Unit Name</th>\n",
       "      <th>Event Start Timestamp</th>\n",
       "      <th>Event End Timestamp</th>\n",
       "      <th>Event Type Code</th>\n",
       "      <th>Event Number</th>\n",
       "      <th>System Name</th>\n",
       "      <th>Component Name</th>\n",
       "      <th>Cause Code</th>\n",
       "      <th>Cause Description</th>\n",
       "      <th>Retired Flag</th>\n",
       "      <th>v_Event_Reduction</th>\n",
       "      <th>NERC Equivalent Hours</th>\n",
       "      <th>NERC MWH Loss</th>\n",
       "      <th>Unnamed: 15</th>\n",
       "      <th>Outage Month</th>\n",
       "      <th>Outage Week</th>\n",
       "    </tr>\n",
       "  </thead>\n",
       "  <tbody>\n",
       "    <tr>\n",
       "      <th>0</th>\n",
       "      <td>AEP West Southwestern Electric Power Co</td>\n",
       "      <td>Pirkey</td>\n",
       "      <td>Pirkey 1</td>\n",
       "      <td>2010-12-31 03:19:59.999</td>\n",
       "      <td>2011-01-02 00:12:00</td>\n",
       "      <td>U1</td>\n",
       "      <td>123.0</td>\n",
       "      <td>Boiler</td>\n",
       "      <td>Boiler Tube Leaks</td>\n",
       "      <td>1000</td>\n",
       "      <td>Waterwall (Furnace wall)</td>\n",
       "      <td>N</td>\n",
       "      <td>675.0</td>\n",
       "      <td>24.2</td>\n",
       "      <td>16335.0</td>\n",
       "      <td>Keep</td>\n",
       "      <td>12</td>\n",
       "      <td>52</td>\n",
       "    </tr>\n",
       "  </tbody>\n",
       "</table>\n",
       "</div>"
      ],
      "text/plain": [
       "                              Utility Name Plant Name Unit Name  \\\n",
       "0  AEP West Southwestern Electric Power Co     Pirkey  Pirkey 1   \n",
       "\n",
       "    Event Start Timestamp Event End Timestamp Event Type Code  Event Number  \\\n",
       "0 2010-12-31 03:19:59.999 2011-01-02 00:12:00              U1         123.0   \n",
       "\n",
       "  System Name     Component Name  Cause Code         Cause Description  \\\n",
       "0      Boiler  Boiler Tube Leaks        1000  Waterwall (Furnace wall)   \n",
       "\n",
       "  Retired Flag  v_Event_Reduction  NERC Equivalent Hours  NERC MWH Loss  \\\n",
       "0            N              675.0                   24.2        16335.0   \n",
       "\n",
       "  Unnamed: 15  Outage Month  Outage Week  \n",
       "0        Keep            12           52  "
      ]
     },
     "execution_count": 11,
     "metadata": {},
     "output_type": "execute_result"
    }
   ],
   "source": [
    "active_aep_df.head(1)"
   ]
  },
  {
   "cell_type": "code",
   "execution_count": null,
   "id": "a0932628-e9f9-475d-bde9-b87dc894ab79",
   "metadata": {},
   "outputs": [],
   "source": []
  },
  {
   "cell_type": "code",
   "execution_count": 12,
   "id": "c866df27-a13c-456e-b1bf-0b17e170f139",
   "metadata": {},
   "outputs": [
    {
     "data": {
      "text/plain": [
       "{'Boiler', 'HRSG Boiler', 'Heat Recovery Steam Generator (HRSG)'}"
      ]
     },
     "execution_count": 12,
     "metadata": {},
     "output_type": "execute_result"
    }
   ],
   "source": [
    "set(aep_df['System Name'])"
   ]
  },
  {
   "cell_type": "code",
   "execution_count": 13,
   "id": "a58234ad-981a-45bc-adb2-fdde8fffba6a",
   "metadata": {},
   "outputs": [
    {
     "data": {
      "text/plain": [
       "Timestamp('2010-12-31 03:19:59.999000')"
      ]
     },
     "execution_count": 13,
     "metadata": {},
     "output_type": "execute_result"
    }
   ],
   "source": [
    "active_aep_df['Event Start Timestamp'].min()"
   ]
  },
  {
   "cell_type": "code",
   "execution_count": 14,
   "id": "49a75954-84e2-4f2c-96d6-c56fa9f9ac37",
   "metadata": {},
   "outputs": [
    {
     "data": {
      "text/plain": [
       "Timestamp('2022-06-25 06:25:00')"
      ]
     },
     "execution_count": 14,
     "metadata": {},
     "output_type": "execute_result"
    }
   ],
   "source": [
    "active_aep_df['Event Start Timestamp'].max()"
   ]
  },
  {
   "cell_type": "code",
   "execution_count": 15,
   "id": "5d2af482-342d-46d3-b7f6-7c7b424db5d4",
   "metadata": {},
   "outputs": [
    {
     "data": {
      "text/plain": [
       "26"
      ]
     },
     "execution_count": 15,
     "metadata": {},
     "output_type": "execute_result"
    }
   ],
   "source": [
    "active_aep_df['Plant Name'].nunique()"
   ]
  },
  {
   "cell_type": "code",
   "execution_count": 16,
   "id": "037bd053-aae3-4a84-b983-b7c4938c2f4f",
   "metadata": {},
   "outputs": [
    {
     "data": {
      "text/plain": [
       "57"
      ]
     },
     "execution_count": 16,
     "metadata": {},
     "output_type": "execute_result"
    }
   ],
   "source": [
    "active_aep_df['Unit Name'].nunique()"
   ]
  },
  {
   "cell_type": "code",
   "execution_count": null,
   "id": "7bf497fe-9ee0-4e04-bf74-af59094ee664",
   "metadata": {},
   "outputs": [],
   "source": []
  },
  {
   "cell_type": "code",
   "execution_count": 17,
   "id": "56b50099-0a60-4b22-8069-d6ce93e7d388",
   "metadata": {},
   "outputs": [],
   "source": [
    "component_df = active_aep_df.groupby(['Cause Description'])['Event Start Timestamp'].nunique().to_frame().sort_values(by='Event Start Timestamp', ascending=False).reset_index()"
   ]
  },
  {
   "cell_type": "code",
   "execution_count": 18,
   "id": "c0ea52c5-f68f-4d6c-8694-2440eda1487e",
   "metadata": {},
   "outputs": [
    {
     "data": {
      "image/png": "[encoded data removed]",
      "text/plain": [
       "<Figure size 640x480 with 1 Axes>"
      ]
     },
     "metadata": {},
     "output_type": "display_data"
    }
   ],
   "source": [
    "fig, ax = plt.subplots()\n",
    "plt.rcParams[\"figure.figsize\"] = (10,5)\n",
    "\n",
    "x = component_df[\"Cause Description\"]\n",
    "y = component_df[\"Event Start Timestamp\"]\n",
    "width =0.7\n",
    "\n",
    "rects1 = ax.barh(x, y, width, label = 'Outages')\n",
    "ax.set_title('AEP Outages by Component')\n",
    "ax.set_ylabel('Cause')\n",
    "ax.set_xlabel('Count of Outages')\n",
    "\n",
    "add_hbar_labels(x, y)\n",
    "\n",
    "#ax.set_xticks(x)\n",
    "#ax.set_xticklabels(component_df[\"Cause Description\"])\n",
    "#ax.legend()\n",
    "\n",
    "ax.invert_yaxis()\n",
    "\n",
    "#fig.tight_layout()\n",
    "\n",
    "#plt.xticks(rotation=90)\n",
    "plt.show()"
   ]
  },
  {
   "cell_type": "code",
   "execution_count": null,
   "id": "24be8d55-a1f9-489e-b266-034fa1acbb3d",
   "metadata": {},
   "outputs": [],
   "source": []
  },
  {
   "cell_type": "code",
   "execution_count": null,
   "id": "d5f12c31-cca5-4310-81aa-ebcb585e0467",
   "metadata": {},
   "outputs": [],
   "source": []
  },
  {
   "cell_type": "code",
   "execution_count": 19,
   "id": "8be7326e-6048-4ffd-baa3-fe5c0b23dd92",
   "metadata": {},
   "outputs": [],
   "source": [
    "aep_month_outage_df = active_aep_df.groupby(['Outage Month'])['Event Start Timestamp'].nunique().to_frame().reset_index()"
   ]
  },
  {
   "cell_type": "code",
   "execution_count": 20,
   "id": "dce32f02-6f01-4333-a07e-9b31bd24f4ad",
   "metadata": {},
   "outputs": [
    {
     "data": {
      "image/png": "[encoded data removed]",
      "text/plain": [
       "<Figure size 1000x500 with 1 Axes>"
      ]
     },
     "metadata": {},
     "output_type": "display_data"
    }
   ],
   "source": [
    "fig, ax = plt.subplots()\n",
    "\n",
    "x = aep_month_outage_df[\"Outage Month\"]\n",
    "y = aep_month_outage_df[\"Event Start Timestamp\"]\n",
    "width =0.7\n",
    "\n",
    "rects1 = ax.bar(x, y, width, label = 'Outages')\n",
    "ax.set_title('AEP Outages by Month')\n",
    "ax.set_ylabel('Count of Outages')\n",
    "ax.set_xticks(x)\n",
    "ax.set_xticklabels(aep_month_outage_df[\"Outage Month\"])\n",
    "#ax.legend()\n",
    "\n",
    "#add_vbar_labels(x,y)\n",
    "\n",
    "fig.tight_layout()\n",
    "\n",
    "plt.xticks(rotation=90)\n",
    "plt.show()"
   ]
  },
  {
   "cell_type": "code",
   "execution_count": null,
   "id": "f8e4ab08-7d4b-4a01-bb0f-286dfbe11f31",
   "metadata": {},
   "outputs": [],
   "source": []
  },
  {
   "cell_type": "code",
   "execution_count": null,
   "id": "138e47e8-ad7e-4a07-beba-27cef27f464b",
   "metadata": {},
   "outputs": [],
   "source": []
  },
  {
   "cell_type": "code",
   "execution_count": 21,
   "id": "dc75ffc7-4b47-4e1c-8b3b-bc559db8b312",
   "metadata": {},
   "outputs": [],
   "source": [
    "plant_outages_df = active_aep_df.groupby(['Plant Name'])['Event Start Timestamp'].nunique().to_frame().reset_index().sort_values(by='Event Start Timestamp', ascending=False)"
   ]
  },
  {
   "cell_type": "code",
   "execution_count": 22,
   "id": "be11d9a8-f226-4296-8abf-e2f88681286a",
   "metadata": {},
   "outputs": [
    {
     "data": {
      "image/png": "[encoded data removed]",
      "text/plain": [
       "<Figure size 1000x500 with 1 Axes>"
      ]
     },
     "metadata": {},
     "output_type": "display_data"
    }
   ],
   "source": [
    "fig, ax = plt.subplots()\n",
    "\n",
    "x = plant_outages_df[\"Plant Name\"]\n",
    "y = plant_outages_df[\"Event Start Timestamp\"]\n",
    "width =0.7\n",
    "\n",
    "rects1 = ax.bar(x, y, width, label = 'Outages')\n",
    "ax.set_title('Outages by Plant')\n",
    "ax.set_ylabel('Count of Outages')\n",
    "ax.set_xticks(x)\n",
    "ax.set_xticklabels(plant_outages_df[\"Plant Name\"])\n",
    "ax.legend()\n",
    "\n",
    "# add_vbar_labels(x,y)\n",
    "\n",
    "fig.tight_layout()\n",
    "\n",
    "plt.xticks(rotation=90)\n",
    "plt.show()"
   ]
  },
  {
   "cell_type": "code",
   "execution_count": null,
   "id": "9077b2ad-fdaa-41f0-98e6-1a3ac5da317f",
   "metadata": {},
   "outputs": [],
   "source": []
  },
  {
   "cell_type": "code",
   "execution_count": null,
   "id": "aea5dcc7-4169-4202-8b70-e2b926c4ebaa",
   "metadata": {},
   "outputs": [],
   "source": []
  },
  {
   "cell_type": "code",
   "execution_count": 23,
   "id": "c9352308-b2ca-4078-bb57-a018559452fa",
   "metadata": {},
   "outputs": [],
   "source": [
    "outage_duration_df = active_aep_df.groupby(['Plant Name'])['NERC Equivalent Hours'].sum().to_frame().reset_index().sort_values(by='NERC Equivalent Hours', ascending=False)"
   ]
  },
  {
   "cell_type": "code",
   "execution_count": 24,
   "id": "d76243ac-ad03-46d3-b810-d5df3075d8d1",
   "metadata": {},
   "outputs": [
    {
     "data": {
      "image/png": "[encoded data removed]",
      "text/plain": [
       "<Figure size 1000x500 with 1 Axes>"
      ]
     },
     "metadata": {},
     "output_type": "display_data"
    }
   ],
   "source": [
    "fig, ax = plt.subplots()\n",
    "\n",
    "x = outage_duration_df[\"Plant Name\"]\n",
    "y = outage_duration_df[\"NERC Equivalent Hours\"]\n",
    "width =0.7\n",
    "\n",
    "rects1 = ax.bar(x, y, width, label = 'Total Outage Hrs')\n",
    "ax.set_title('AEP Total Outage Duration by Plant')\n",
    "ax.set_ylabel('Total Duration (hrs)')\n",
    "ax.set_xticks(x)\n",
    "ax.set_xticklabels(plant_outages_df[\"Plant Name\"])\n",
    "ax.legend()\n",
    "\n",
    "# add_vbar_labels(x,y)\n",
    "\n",
    "fig.tight_layout()\n",
    "\n",
    "plt.xticks(rotation=90)\n",
    "plt.show()"
   ]
  },
  {
   "cell_type": "code",
   "execution_count": null,
   "id": "3fce3eef-e2c4-43b1-adb1-89d132978d07",
   "metadata": {},
   "outputs": [],
   "source": []
  },
  {
   "cell_type": "code",
   "execution_count": null,
   "id": "48cbdb1d-933d-4694-bac5-141a2fde63e9",
   "metadata": {},
   "outputs": [],
   "source": []
  },
  {
   "cell_type": "code",
   "execution_count": 25,
   "id": "0afaf142-18d1-4bea-ab05-f75c117c6a96",
   "metadata": {},
   "outputs": [],
   "source": [
    "outage_mwh_df = active_aep_df.groupby(['Plant Name'])['NERC MWH Loss'].sum().to_frame().reset_index().sort_values(by='NERC MWH Loss', ascending=False)"
   ]
  },
  {
   "cell_type": "code",
   "execution_count": 26,
   "id": "d246b65d-26aa-41ca-a573-707ff840d592",
   "metadata": {},
   "outputs": [
    {
     "data": {
      "image/png": "[encoded data removed]",
      "text/plain": [
       "<Figure size 1000x500 with 1 Axes>"
      ]
     },
     "metadata": {},
     "output_type": "display_data"
    }
   ],
   "source": [
    "fig, ax = plt.subplots()\n",
    "\n",
    "x = outage_mwh_df[\"Plant Name\"]\n",
    "y = outage_mwh_df[\"NERC MWH Loss\"]\n",
    "width =0.7\n",
    "\n",
    "rects1 = ax.bar(x, y, width, label = 'Total MWhs Lost')\n",
    "ax.set_title('AEP - Total MWhs Lost by Plant')\n",
    "ax.set_ylabel('Millions of MWhs')\n",
    "ax.set_xticks(x)\n",
    "ax.set_xticklabels(plant_outages_df[\"Plant Name\"])\n",
    "ax.legend()\n",
    "\n",
    "#add_vbar_labels(x,y)\n",
    "\n",
    "fig.tight_layout()\n",
    "\n",
    "plt.xticks(rotation=90)\n",
    "plt.show()"
   ]
  },
  {
   "cell_type": "code",
   "execution_count": null,
   "id": "581675b5-aa4b-4fc0-9cfb-d275629d02e5",
   "metadata": {},
   "outputs": [],
   "source": []
  },
  {
   "cell_type": "code",
   "execution_count": null,
   "id": "1ac48502-5bec-4e51-b40a-b8e963b32671",
   "metadata": {},
   "outputs": [],
   "source": []
  },
  {
   "cell_type": "markdown",
   "id": "b6253ddd-a985-4d14-9148-6bd335828726",
   "metadata": {},
   "source": [
    "## Source 2:\n",
    "Duke Fleet Boiler tube failure data 2005 - 2020.csv"
   ]
  },
  {
   "cell_type": "code",
   "execution_count": 27,
   "id": "50a46eb8-7588-46f0-b213-cb4e77b39115",
   "metadata": {
    "tags": []
   },
   "outputs": [],
   "source": [
    "duke_df = generate_duke_outage_dfs()"
   ]
  },
  {
   "cell_type": "code",
   "execution_count": 28,
   "id": "62cf8b41-eded-4857-9661-f0e9ef04e233",
   "metadata": {},
   "outputs": [
    {
     "data": {
      "text/plain": [
       "(1184, 8)"
      ]
     },
     "execution_count": 28,
     "metadata": {},
     "output_type": "execute_result"
    }
   ],
   "source": [
    "duke_df.shape"
   ]
  },
  {
   "cell_type": "code",
   "execution_count": 29,
   "id": "20a2ad43-83a3-4652-a6b6-e5a51e8ebde0",
   "metadata": {},
   "outputs": [
    {
     "data": {
      "text/html": [
       "<div>\n",
       "<style scoped>\n",
       "    .dataframe tbody tr th:only-of-type {\n",
       "        vertical-align: middle;\n",
       "    }\n",
       "\n",
       "    .dataframe tbody tr th {\n",
       "        vertical-align: top;\n",
       "    }\n",
       "\n",
       "    .dataframe thead th {\n",
       "        text-align: right;\n",
       "    }\n",
       "</style>\n",
       "<table border=\"1\" class=\"dataframe\">\n",
       "  <thead>\n",
       "    <tr style=\"text-align: right;\">\n",
       "      <th></th>\n",
       "      <th>Event ID</th>\n",
       "      <th>Station-Unit</th>\n",
       "      <th>Start Date</th>\n",
       "      <th>Cause Code Name</th>\n",
       "      <th>IsRepeat</th>\n",
       "      <th>TimeBetweenFailure</th>\n",
       "      <th>Outage Month</th>\n",
       "      <th>Outage Week</th>\n",
       "    </tr>\n",
       "  </thead>\n",
       "  <tbody>\n",
       "    <tr>\n",
       "      <th>0</th>\n",
       "      <td>31289</td>\n",
       "      <td>East Bend Steam-2</td>\n",
       "      <td>1/4/05 9:41</td>\n",
       "      <td>Waterwall (Furnace wall) A</td>\n",
       "      <td>False</td>\n",
       "      <td>NaN</td>\n",
       "      <td>1</td>\n",
       "      <td>1</td>\n",
       "    </tr>\n",
       "    <tr>\n",
       "      <th>1</th>\n",
       "      <td>31290</td>\n",
       "      <td>East Bend Steam-2</td>\n",
       "      <td>1/4/05 10:23</td>\n",
       "      <td>Waterwall (Furnace wall) A</td>\n",
       "      <td>True</td>\n",
       "      <td>0.700000</td>\n",
       "      <td>1</td>\n",
       "      <td>1</td>\n",
       "    </tr>\n",
       "    <tr>\n",
       "      <th>2</th>\n",
       "      <td>34085</td>\n",
       "      <td>Gibson Steam-3</td>\n",
       "      <td>1/14/05 11:31</td>\n",
       "      <td>Waterwall (Furnace wall) A</td>\n",
       "      <td>False</td>\n",
       "      <td>NaN</td>\n",
       "      <td>1</td>\n",
       "      <td>2</td>\n",
       "    </tr>\n",
       "    <tr>\n",
       "      <th>3</th>\n",
       "      <td>34086</td>\n",
       "      <td>Gibson Steam-3</td>\n",
       "      <td>1/14/05 14:11</td>\n",
       "      <td>Waterwall (Furnace wall) A</td>\n",
       "      <td>True</td>\n",
       "      <td>2.666667</td>\n",
       "      <td>1</td>\n",
       "      <td>2</td>\n",
       "    </tr>\n",
       "    <tr>\n",
       "      <th>4</th>\n",
       "      <td>34087</td>\n",
       "      <td>Gibson Steam-3</td>\n",
       "      <td>1/16/05 2:41</td>\n",
       "      <td>Waterwall (Furnace wall) A</td>\n",
       "      <td>True</td>\n",
       "      <td>36.500000</td>\n",
       "      <td>1</td>\n",
       "      <td>2</td>\n",
       "    </tr>\n",
       "  </tbody>\n",
       "</table>\n",
       "</div>"
      ],
      "text/plain": [
       "   Event ID       Station-Unit     Start Date             Cause Code Name  \\\n",
       "0     31289  East Bend Steam-2    1/4/05 9:41  Waterwall (Furnace wall) A   \n",
       "1     31290  East Bend Steam-2   1/4/05 10:23  Waterwall (Furnace wall) A   \n",
       "2     34085     Gibson Steam-3  1/14/05 11:31  Waterwall (Furnace wall) A   \n",
       "3     34086     Gibson Steam-3  1/14/05 14:11  Waterwall (Furnace wall) A   \n",
       "4     34087     Gibson Steam-3   1/16/05 2:41  Waterwall (Furnace wall) A   \n",
       "\n",
       "   IsRepeat  TimeBetweenFailure  Outage Month  Outage Week  \n",
       "0     False                 NaN             1            1  \n",
       "1      True            0.700000             1            1  \n",
       "2     False                 NaN             1            2  \n",
       "3      True            2.666667             1            2  \n",
       "4      True           36.500000             1            2  "
      ]
     },
     "execution_count": 29,
     "metadata": {},
     "output_type": "execute_result"
    }
   ],
   "source": [
    "duke_df.head()"
   ]
  },
  {
   "cell_type": "code",
   "execution_count": 30,
   "id": "0053731f-88b5-403d-8cae-90780eb86428",
   "metadata": {},
   "outputs": [],
   "source": [
    "duke_month_outages_df = duke_df.groupby(['Outage Month'])['Event ID'].nunique().to_frame().reset_index()"
   ]
  },
  {
   "cell_type": "code",
   "execution_count": 31,
   "id": "3975f0f0-d7cf-47a9-b06d-714723dcfc84",
   "metadata": {},
   "outputs": [
    {
     "data": {
      "image/png": "[encoded data removed]",
      "text/plain": [
       "<Figure size 1000x500 with 1 Axes>"
      ]
     },
     "metadata": {},
     "output_type": "display_data"
    }
   ],
   "source": [
    "fig, ax = plt.subplots()\n",
    "\n",
    "x = duke_month_outages_df[\"Outage Month\"]\n",
    "y = duke_month_outages_df[\"Event ID\"]\n",
    "width =0.7\n",
    "\n",
    "rects1 = ax.bar(x, y, width, label = 'Outages')\n",
    "ax.set_title('Duke Outages by Month')\n",
    "ax.set_ylabel('Count of Outages')\n",
    "ax.set_xticks(x)\n",
    "ax.set_xticklabels(duke_month_outages_df[\"Outage Month\"])\n",
    "ax.legend()\n",
    "\n",
    "fig.tight_layout()\n",
    "\n",
    "plt.xticks(rotation=90)\n",
    "plt.show()"
   ]
  },
  {
   "cell_type": "code",
   "execution_count": null,
   "id": "ec68f9cb-7b63-4b0a-b2d9-1acc1dca5ed6",
   "metadata": {},
   "outputs": [],
   "source": []
  },
  {
   "cell_type": "code",
   "execution_count": 32,
   "id": "03eee0c6-8157-4366-b5b1-397dcda8a89d",
   "metadata": {},
   "outputs": [],
   "source": [
    "duke_station_unit_df = duke_df.groupby(['Station-Unit'])['Event ID'].nunique().to_frame().reset_index().sort_values(by=['Event ID'], ascending=False)"
   ]
  },
  {
   "cell_type": "code",
   "execution_count": 33,
   "id": "4f29e29c-71b9-45fc-8651-b5317f9c435a",
   "metadata": {},
   "outputs": [
    {
     "data": {
      "image/png": "[encoded data removed]",
      "text/plain": [
       "<Figure size 1000x500 with 1 Axes>"
      ]
     },
     "metadata": {},
     "output_type": "display_data"
    }
   ],
   "source": [
    "fig, ax = plt.subplots()\n",
    "\n",
    "x = duke_station_unit_df[\"Station-Unit\"]\n",
    "y = duke_station_unit_df[\"Event ID\"]\n",
    "width =0.7\n",
    "\n",
    "rects1 = ax.barh(x, y, width, label = 'Outages')\n",
    "ax.set_title('Duke Outages by Station-Unit')\n",
    "ax.set_ylabel('Station-Unit')\n",
    "#ax.set_xticks(x)\n",
    "#ax.set_xticklabels(duke_station_unit_df[\"Station-Unit\"])\n",
    "ax.legend()\n",
    "ax.set_xlabel('Count of Outages')\n",
    "\n",
    "ax.invert_yaxis()\n",
    "\n",
    "fig.tight_layout()\n",
    "\n",
    "#plt.xticks(rotation=90)\n",
    "plt.show()"
   ]
  },
  {
   "cell_type": "code",
   "execution_count": null,
   "id": "9c959d8a-d89c-4711-8651-3ed7702fa19a",
   "metadata": {},
   "outputs": [],
   "source": []
  },
  {
   "cell_type": "code",
   "execution_count": null,
   "id": "55c835ab-06a9-4b03-ae94-bd3f772e244f",
   "metadata": {},
   "outputs": [],
   "source": []
  },
  {
   "cell_type": "code",
   "execution_count": null,
   "id": "d8dd093b-61e5-403b-bb1e-13c9b97f7b28",
   "metadata": {},
   "outputs": [],
   "source": []
  },
  {
   "cell_type": "code",
   "execution_count": null,
   "id": "ccc473ef-e722-4aa8-8fd8-e10e558a2eac",
   "metadata": {},
   "outputs": [],
   "source": []
  },
  {
   "cell_type": "markdown",
   "id": "d0282756-29dd-418d-8dc8-c6fd9c44979f",
   "metadata": {
    "tags": []
   },
   "source": [
    "## Source 3:\n",
    "All US Boilers.csv"
   ]
  },
  {
   "cell_type": "code",
   "execution_count": 34,
   "id": "5b92fa25-206d-432d-ac6f-0b6d828b1390",
   "metadata": {},
   "outputs": [],
   "source": [
    "us_boilers_df, operational_us_boilers_df = generate_iir_boilers_dfs()"
   ]
  },
  {
   "cell_type": "code",
   "execution_count": null,
   "id": "ca8722e8-74e3-403c-af9c-f90d55b188e6",
   "metadata": {},
   "outputs": [],
   "source": []
  },
  {
   "cell_type": "markdown",
   "id": "98ab23ec-18dc-41b2-85d5-59a36a01087c",
   "metadata": {},
   "source": [
    "### NOTES:\n",
    "\n",
    "OUT_DESIGN is in MW\n",
    "\n",
    "avg 5days per outage\n",
    "\n",
    "heat rate , lower is better"
   ]
  },
  {
   "cell_type": "code",
   "execution_count": 35,
   "id": "d5a5d7a2-73a4-41fb-822f-759a318fa6f2",
   "metadata": {},
   "outputs": [
    {
     "data": {
      "text/html": [
       "<div>\n",
       "<style scoped>\n",
       "    .dataframe tbody tr th:only-of-type {\n",
       "        vertical-align: middle;\n",
       "    }\n",
       "\n",
       "    .dataframe tbody tr th {\n",
       "        vertical-align: top;\n",
       "    }\n",
       "\n",
       "    .dataframe thead th {\n",
       "        text-align: right;\n",
       "    }\n",
       "</style>\n",
       "<table border=\"1\" class=\"dataframe\">\n",
       "  <thead>\n",
       "    <tr style=\"text-align: right;\">\n",
       "      <th></th>\n",
       "      <th>PARENTNAME</th>\n",
       "      <th>OWNER_NAME</th>\n",
       "      <th>OPER_NAME</th>\n",
       "      <th>PLANT_NAME</th>\n",
       "      <th>PHYS_CITY</th>\n",
       "      <th>P_COUNTY</th>\n",
       "      <th>UNIT_STATE</th>\n",
       "      <th>P_ST_NAME</th>\n",
       "      <th>P_COUNTRY</th>\n",
       "      <th>MARKET_REG</th>\n",
       "      <th>WORLD_REG</th>\n",
       "      <th>IND_CODE_DESC</th>\n",
       "      <th>SIC_CODE</th>\n",
       "      <th>PLANT_ID</th>\n",
       "      <th>UNIT_NAME</th>\n",
       "      <th>UNIT_ID</th>\n",
       "      <th>UNIT_TYPE</th>\n",
       "      <th>OUT_DESIGN</th>\n",
       "      <th>KO_DATE</th>\n",
       "      <th>STARTUP</th>\n",
       "      <th>STARTYEAR</th>\n",
       "      <th>SHUTDOWN</th>\n",
       "      <th>PRIM_FUEL</th>\n",
       "      <th>SECND_FUEL</th>\n",
       "      <th>FUEL_GROUP</th>\n",
       "      <th>HEAT_RATE</th>\n",
       "      <th>PWR_USAGE</th>\n",
       "      <th>U_STATUS</th>\n",
       "      <th>BOIL_NAME</th>\n",
       "      <th>BOILERTYPE</th>\n",
       "      <th>BMFR_NAME</th>\n",
       "      <th>BOIL_INFO</th>\n",
       "      <th>STEAM</th>\n",
       "      <th>STEAM_UOM</th>\n",
       "      <th>STEAM_TON</th>\n",
       "      <th>PRESSURE</th>\n",
       "      <th>PRES_UOM</th>\n",
       "      <th>PRES_BAR</th>\n",
       "      <th>TEMP</th>\n",
       "      <th>TEMP_UOM</th>\n",
       "      <th>TEMP_CEL</th>\n",
       "      <th>DESIGNFIRM</th>\n",
       "      <th>CONSTFIRM</th>\n",
       "      <th>MMBTU_HR</th>\n",
       "      <th>KO_YEAR</th>\n",
       "      <th>LATITUDE</th>\n",
       "      <th>LONGITUDE</th>\n",
       "      <th>COGEN_CHP</th>\n",
       "      <th>SHUTDOWN_dt</th>\n",
       "      <th>SHUTDOWN_yr</th>\n",
       "      <th>BOIL_CONFIG</th>\n",
       "      <th>BOIL_TYPE_Tag</th>\n",
       "      <th>Criticality</th>\n",
       "    </tr>\n",
       "  </thead>\n",
       "  <tbody>\n",
       "    <tr>\n",
       "      <th>0</th>\n",
       "      <td>The Blackstone Group Incorporated</td>\n",
       "      <td>Lightstone Generation LLC</td>\n",
       "      <td>Lightstone Generation LLC</td>\n",
       "      <td>James Gavin Power Station</td>\n",
       "      <td>Cheshire</td>\n",
       "      <td>Gallia</td>\n",
       "      <td>OH</td>\n",
       "      <td>Ohio</td>\n",
       "      <td>U.S.A.</td>\n",
       "      <td>Great Lakes</td>\n",
       "      <td>North America</td>\n",
       "      <td>Power</td>\n",
       "      <td>4911</td>\n",
       "      <td>1010019</td>\n",
       "      <td>James Gavin 02</td>\n",
       "      <td>1003920</td>\n",
       "      <td>Steam Turbine</td>\n",
       "      <td>1300.0</td>\n",
       "      <td>NaN</td>\n",
       "      <td>1-Jul-75</td>\n",
       "      <td>1975</td>\n",
       "      <td>1-Dec-35</td>\n",
       "      <td>Coal Bituminous</td>\n",
       "      <td>Fuel Oil No. 2 Distillate Diesel</td>\n",
       "      <td>Coal</td>\n",
       "      <td>9799.0</td>\n",
       "      <td>Base Load</td>\n",
       "      <td>Operational</td>\n",
       "      <td>Boiler 02</td>\n",
       "      <td>Dry Bottom Boiler</td>\n",
       "      <td>Babcock &amp; Wilcox</td>\n",
       "      <td>Opposed-Fired SCR LNB ESP-CS FGD-WS Trona</td>\n",
       "      <td>9775000.0</td>\n",
       "      <td>lbs/hr</td>\n",
       "      <td>4887.5</td>\n",
       "      <td>3685.0</td>\n",
       "      <td>PSIG</td>\n",
       "      <td>254.0</td>\n",
       "      <td>1010.0</td>\n",
       "      <td>deg F</td>\n",
       "      <td>543.0</td>\n",
       "      <td>AEP Pro Serv</td>\n",
       "      <td>AEP Pro Serv</td>\n",
       "      <td>NaN</td>\n",
       "      <td>NaN</td>\n",
       "      <td>38.934700</td>\n",
       "      <td>-82.115800</td>\n",
       "      <td>0</td>\n",
       "      <td>2035-12-01</td>\n",
       "      <td>2035.0</td>\n",
       "      <td>Opposed</td>\n",
       "      <td>Unknown</td>\n",
       "      <td>none</td>\n",
       "    </tr>\n",
       "    <tr>\n",
       "      <th>1</th>\n",
       "      <td>American Electric Power Company Incorporated</td>\n",
       "      <td>Appalachian Power Company</td>\n",
       "      <td>Appalachian Power Company</td>\n",
       "      <td>John Amos Power Station</td>\n",
       "      <td>Winfield</td>\n",
       "      <td>Putnam</td>\n",
       "      <td>WV</td>\n",
       "      <td>West Virginia</td>\n",
       "      <td>U.S.A.</td>\n",
       "      <td>Mid Atlantic</td>\n",
       "      <td>North America</td>\n",
       "      <td>Power</td>\n",
       "      <td>4911</td>\n",
       "      <td>1516038</td>\n",
       "      <td>John E Amos 03</td>\n",
       "      <td>1007895</td>\n",
       "      <td>Steam Turbine</td>\n",
       "      <td>1300.0</td>\n",
       "      <td>NaN</td>\n",
       "      <td>1-Oct-73</td>\n",
       "      <td>1973</td>\n",
       "      <td>1-Dec-33</td>\n",
       "      <td>Coal Bituminous</td>\n",
       "      <td>Fuel Oil No. 2 Distillate Diesel</td>\n",
       "      <td>Coal</td>\n",
       "      <td>9597.0</td>\n",
       "      <td>Intermediate Load</td>\n",
       "      <td>Operational</td>\n",
       "      <td>Boiler 03</td>\n",
       "      <td>Dry Bottom Boiler</td>\n",
       "      <td>Babcock &amp; Wilcox</td>\n",
       "      <td>UP-101 PC Opposed-Fired SCR LNB ESP-CS (FGD-WS...</td>\n",
       "      <td>9775000.0</td>\n",
       "      <td>lbs/hr</td>\n",
       "      <td>4887.5</td>\n",
       "      <td>3700.0</td>\n",
       "      <td>PSIG</td>\n",
       "      <td>255.0</td>\n",
       "      <td>1000.0</td>\n",
       "      <td>deg F</td>\n",
       "      <td>538.0</td>\n",
       "      <td>American Electric Power</td>\n",
       "      <td>American Electric Power</td>\n",
       "      <td>11936.0</td>\n",
       "      <td>NaN</td>\n",
       "      <td>38.473069</td>\n",
       "      <td>-81.822458</td>\n",
       "      <td>0</td>\n",
       "      <td>2033-12-01</td>\n",
       "      <td>2033.0</td>\n",
       "      <td>Opposed</td>\n",
       "      <td>PC</td>\n",
       "      <td>none</td>\n",
       "    </tr>\n",
       "    <tr>\n",
       "      <th>2</th>\n",
       "      <td>Tennessee Valley Authority</td>\n",
       "      <td>Tennessee Valley Authority</td>\n",
       "      <td>Tennessee Valley Authority</td>\n",
       "      <td>Cumberland Fossil Power Station</td>\n",
       "      <td>Cumberland City</td>\n",
       "      <td>Stewart</td>\n",
       "      <td>TN</td>\n",
       "      <td>Tennessee</td>\n",
       "      <td>U.S.A.</td>\n",
       "      <td>Southeast</td>\n",
       "      <td>North America</td>\n",
       "      <td>Power</td>\n",
       "      <td>4911</td>\n",
       "      <td>1012869</td>\n",
       "      <td>Cumberland 01</td>\n",
       "      <td>1003702</td>\n",
       "      <td>Steam Turbine</td>\n",
       "      <td>1300.0</td>\n",
       "      <td>1-Jan-68</td>\n",
       "      <td>1-Mar-73</td>\n",
       "      <td>1973</td>\n",
       "      <td>31-Dec-28</td>\n",
       "      <td>Coal Bituminous</td>\n",
       "      <td>NaN</td>\n",
       "      <td>Coal</td>\n",
       "      <td>9678.0</td>\n",
       "      <td>Base Load</td>\n",
       "      <td>Operational</td>\n",
       "      <td>Boiler 01</td>\n",
       "      <td>Dry Bottom Boiler</td>\n",
       "      <td>Babcock &amp; Wilcox</td>\n",
       "      <td>PC Opposed-Fired LNB SCR ESP-CS FGD-WS</td>\n",
       "      <td>9300000.0</td>\n",
       "      <td>lbs/hr</td>\n",
       "      <td>4650.0</td>\n",
       "      <td>3500.0</td>\n",
       "      <td>PSIG</td>\n",
       "      <td>241.0</td>\n",
       "      <td>1003.0</td>\n",
       "      <td>deg F</td>\n",
       "      <td>539.0</td>\n",
       "      <td>Black &amp; Veatch</td>\n",
       "      <td>NaN</td>\n",
       "      <td>NaN</td>\n",
       "      <td>1968.0</td>\n",
       "      <td>36.391944</td>\n",
       "      <td>-87.655555</td>\n",
       "      <td>0</td>\n",
       "      <td>2028-12-31</td>\n",
       "      <td>2028.0</td>\n",
       "      <td>Opposed</td>\n",
       "      <td>PC</td>\n",
       "      <td>none</td>\n",
       "    </tr>\n",
       "    <tr>\n",
       "      <th>3</th>\n",
       "      <td>Tennessee Valley Authority</td>\n",
       "      <td>Tennessee Valley Authority</td>\n",
       "      <td>Tennessee Valley Authority</td>\n",
       "      <td>Cumberland Fossil Power Station</td>\n",
       "      <td>Cumberland City</td>\n",
       "      <td>Stewart</td>\n",
       "      <td>TN</td>\n",
       "      <td>Tennessee</td>\n",
       "      <td>U.S.A.</td>\n",
       "      <td>Southeast</td>\n",
       "      <td>North America</td>\n",
       "      <td>Power</td>\n",
       "      <td>4911</td>\n",
       "      <td>1012869</td>\n",
       "      <td>Cumberland 02</td>\n",
       "      <td>1003703</td>\n",
       "      <td>Steam Turbine</td>\n",
       "      <td>1300.0</td>\n",
       "      <td>1-Jan-68</td>\n",
       "      <td>1-Nov-73</td>\n",
       "      <td>1973</td>\n",
       "      <td>31-Dec-26</td>\n",
       "      <td>Coal Bituminous</td>\n",
       "      <td>NaN</td>\n",
       "      <td>Coal</td>\n",
       "      <td>9678.0</td>\n",
       "      <td>Intermediate Load</td>\n",
       "      <td>Operational</td>\n",
       "      <td>Boiler 02</td>\n",
       "      <td>Dry Bottom Boiler</td>\n",
       "      <td>Babcock &amp; Wilcox</td>\n",
       "      <td>PC Opposed-Fired ESP LNB SCR FGD-WS</td>\n",
       "      <td>9300000.0</td>\n",
       "      <td>lbs/hr</td>\n",
       "      <td>4650.0</td>\n",
       "      <td>3500.0</td>\n",
       "      <td>PSIG</td>\n",
       "      <td>241.0</td>\n",
       "      <td>1003.0</td>\n",
       "      <td>deg F</td>\n",
       "      <td>539.0</td>\n",
       "      <td>Black &amp; Veatch</td>\n",
       "      <td>NaN</td>\n",
       "      <td>NaN</td>\n",
       "      <td>1968.0</td>\n",
       "      <td>36.391944</td>\n",
       "      <td>-87.655555</td>\n",
       "      <td>0</td>\n",
       "      <td>2026-12-31</td>\n",
       "      <td>2026.0</td>\n",
       "      <td>Opposed</td>\n",
       "      <td>PC</td>\n",
       "      <td>none</td>\n",
       "    </tr>\n",
       "    <tr>\n",
       "      <th>4</th>\n",
       "      <td>The Blackstone Group Incorporated</td>\n",
       "      <td>Lightstone Generation LLC</td>\n",
       "      <td>Lightstone Generation LLC</td>\n",
       "      <td>James Gavin Power Station</td>\n",
       "      <td>Cheshire</td>\n",
       "      <td>Gallia</td>\n",
       "      <td>OH</td>\n",
       "      <td>Ohio</td>\n",
       "      <td>U.S.A.</td>\n",
       "      <td>Great Lakes</td>\n",
       "      <td>North America</td>\n",
       "      <td>Power</td>\n",
       "      <td>4911</td>\n",
       "      <td>1010019</td>\n",
       "      <td>James Gavin 01</td>\n",
       "      <td>1003919</td>\n",
       "      <td>Steam Turbine</td>\n",
       "      <td>1300.0</td>\n",
       "      <td>NaN</td>\n",
       "      <td>1-Oct-74</td>\n",
       "      <td>1974</td>\n",
       "      <td>1-Dec-35</td>\n",
       "      <td>Coal Bituminous</td>\n",
       "      <td>Fuel Oil No. 2 Distillate Diesel</td>\n",
       "      <td>Coal</td>\n",
       "      <td>9799.0</td>\n",
       "      <td>Base Load</td>\n",
       "      <td>Operational</td>\n",
       "      <td>Boiler 01</td>\n",
       "      <td>Dry Bottom Boiler</td>\n",
       "      <td>Babcock &amp; Wilcox</td>\n",
       "      <td>Opposed-Fired SCR LNB ESP-CS FGD-WS Trona</td>\n",
       "      <td>9775000.0</td>\n",
       "      <td>lbs/hr</td>\n",
       "      <td>4887.5</td>\n",
       "      <td>3685.0</td>\n",
       "      <td>PSIG</td>\n",
       "      <td>254.0</td>\n",
       "      <td>1010.0</td>\n",
       "      <td>deg F</td>\n",
       "      <td>543.0</td>\n",
       "      <td>Black &amp; Veatch</td>\n",
       "      <td>NaN</td>\n",
       "      <td>NaN</td>\n",
       "      <td>NaN</td>\n",
       "      <td>38.934700</td>\n",
       "      <td>-82.115800</td>\n",
       "      <td>0</td>\n",
       "      <td>2035-12-01</td>\n",
       "      <td>2035.0</td>\n",
       "      <td>Opposed</td>\n",
       "      <td>Unknown</td>\n",
       "      <td>none</td>\n",
       "    </tr>\n",
       "    <tr>\n",
       "      <th>5</th>\n",
       "      <td>American Electric Power Company Incorporated</td>\n",
       "      <td>Appalachian Power Company</td>\n",
       "      <td>Appalachian Power Company</td>\n",
       "      <td>Mountaineer Power Station</td>\n",
       "      <td>New Haven</td>\n",
       "      <td>Mason</td>\n",
       "      <td>WV</td>\n",
       "      <td>West Virginia</td>\n",
       "      <td>U.S.A.</td>\n",
       "      <td>Mid Atlantic</td>\n",
       "      <td>North America</td>\n",
       "      <td>Power</td>\n",
       "      <td>4911</td>\n",
       "      <td>1013868</td>\n",
       "      <td>Mountaineer 01</td>\n",
       "      <td>1007883</td>\n",
       "      <td>Steam Turbine</td>\n",
       "      <td>1300.0</td>\n",
       "      <td>NaN</td>\n",
       "      <td>1-Sep-80</td>\n",
       "      <td>1980</td>\n",
       "      <td>NaN</td>\n",
       "      <td>Coal Bituminous</td>\n",
       "      <td>Fuel Oil No. 2 Distillate Diesel</td>\n",
       "      <td>Coal</td>\n",
       "      <td>9403.0</td>\n",
       "      <td>Base Load</td>\n",
       "      <td>Operational</td>\n",
       "      <td>Boiler 01</td>\n",
       "      <td>Dry Bottom Boiler</td>\n",
       "      <td>Babcock &amp; Wilcox</td>\n",
       "      <td>UP-108 PC Opposed-Fired OFA LNB SCR ESP-CS FGD...</td>\n",
       "      <td>9775000.0</td>\n",
       "      <td>lbs/hr</td>\n",
       "      <td>4887.5</td>\n",
       "      <td>3845.0</td>\n",
       "      <td>PSIG</td>\n",
       "      <td>265.0</td>\n",
       "      <td>1010.0</td>\n",
       "      <td>deg F</td>\n",
       "      <td>543.0</td>\n",
       "      <td>American Electric Power</td>\n",
       "      <td>American Electric Power</td>\n",
       "      <td>11960.0</td>\n",
       "      <td>NaN</td>\n",
       "      <td>38.978694</td>\n",
       "      <td>-81.936250</td>\n",
       "      <td>0</td>\n",
       "      <td>NaT</td>\n",
       "      <td>NaN</td>\n",
       "      <td>Opposed</td>\n",
       "      <td>PC</td>\n",
       "      <td>none</td>\n",
       "    </tr>\n",
       "    <tr>\n",
       "      <th>6</th>\n",
       "      <td>American Electric Power Company Incorporated</td>\n",
       "      <td>Indiana Michigan Power Company</td>\n",
       "      <td>Indiana Michigan Power Company</td>\n",
       "      <td>Rockport Power Station</td>\n",
       "      <td>Rockport</td>\n",
       "      <td>Spencer</td>\n",
       "      <td>IN</td>\n",
       "      <td>Indiana</td>\n",
       "      <td>U.S.A.</td>\n",
       "      <td>Great Lakes</td>\n",
       "      <td>North America</td>\n",
       "      <td>Power</td>\n",
       "      <td>4911</td>\n",
       "      <td>1010400</td>\n",
       "      <td>Rockport 01</td>\n",
       "      <td>1004662</td>\n",
       "      <td>Steam Turbine</td>\n",
       "      <td>1300.0</td>\n",
       "      <td>1-Jan-77</td>\n",
       "      <td>1-Dec-84</td>\n",
       "      <td>1984</td>\n",
       "      <td>29-Dec-28</td>\n",
       "      <td>Coal Subbituminous</td>\n",
       "      <td>Coal Bituminous</td>\n",
       "      <td>Coal</td>\n",
       "      <td>9816.0</td>\n",
       "      <td>Intermediate Load</td>\n",
       "      <td>Operational</td>\n",
       "      <td>Boiler 01</td>\n",
       "      <td>Dry Bottom Boiler</td>\n",
       "      <td>Babcock &amp; Wilcox</td>\n",
       "      <td>PC Opposed-Fired LNB OFA ESP-CS ACIS DSI (SCR-...</td>\n",
       "      <td>9775000.0</td>\n",
       "      <td>lbs/hr</td>\n",
       "      <td>4887.5</td>\n",
       "      <td>3510.0</td>\n",
       "      <td>PSIG</td>\n",
       "      <td>242.0</td>\n",
       "      <td>1000.0</td>\n",
       "      <td>deg F</td>\n",
       "      <td>538.0</td>\n",
       "      <td>Black &amp; Veatch</td>\n",
       "      <td>AEP Pro Serv</td>\n",
       "      <td>12374.0</td>\n",
       "      <td>1977.0</td>\n",
       "      <td>37.923478</td>\n",
       "      <td>-87.033942</td>\n",
       "      <td>0</td>\n",
       "      <td>2028-12-29</td>\n",
       "      <td>2028.0</td>\n",
       "      <td>Opposed</td>\n",
       "      <td>PC</td>\n",
       "      <td>none</td>\n",
       "    </tr>\n",
       "    <tr>\n",
       "      <th>7</th>\n",
       "      <td>American Electric Power Company Incorporated</td>\n",
       "      <td>Indiana Michigan Power Company</td>\n",
       "      <td>Indiana Michigan Power Company</td>\n",
       "      <td>Rockport Power Station</td>\n",
       "      <td>Rockport</td>\n",
       "      <td>Spencer</td>\n",
       "      <td>IN</td>\n",
       "      <td>Indiana</td>\n",
       "      <td>U.S.A.</td>\n",
       "      <td>Great Lakes</td>\n",
       "      <td>North America</td>\n",
       "      <td>Power</td>\n",
       "      <td>4911</td>\n",
       "      <td>1010400</td>\n",
       "      <td>Rockport 02</td>\n",
       "      <td>1004663</td>\n",
       "      <td>Steam Turbine</td>\n",
       "      <td>1300.0</td>\n",
       "      <td>NaN</td>\n",
       "      <td>1-Dec-89</td>\n",
       "      <td>1989</td>\n",
       "      <td>29-Dec-28</td>\n",
       "      <td>Coal Subbituminous</td>\n",
       "      <td>Coal Bituminous</td>\n",
       "      <td>Coal</td>\n",
       "      <td>9816.0</td>\n",
       "      <td>Intermediate Load</td>\n",
       "      <td>Operational</td>\n",
       "      <td>Boiler 02</td>\n",
       "      <td>Dry Bottom Boiler</td>\n",
       "      <td>Babcock &amp; Wilcox</td>\n",
       "      <td>Opposed-Fired LNB OFA ESP-CS ACIS DSI (SCR-201...</td>\n",
       "      <td>9775000.0</td>\n",
       "      <td>lbs/hr</td>\n",
       "      <td>4887.5</td>\n",
       "      <td>3510.0</td>\n",
       "      <td>PSIG</td>\n",
       "      <td>242.0</td>\n",
       "      <td>1000.0</td>\n",
       "      <td>deg F</td>\n",
       "      <td>538.0</td>\n",
       "      <td>Black &amp; Veatch</td>\n",
       "      <td>AEP Pro Serv</td>\n",
       "      <td>12374.0</td>\n",
       "      <td>NaN</td>\n",
       "      <td>37.923478</td>\n",
       "      <td>-87.033942</td>\n",
       "      <td>0</td>\n",
       "      <td>2028-12-29</td>\n",
       "      <td>2028.0</td>\n",
       "      <td>Opposed</td>\n",
       "      <td>Unknown</td>\n",
       "      <td>none</td>\n",
       "    </tr>\n",
       "    <tr>\n",
       "      <th>8</th>\n",
       "      <td>Duke Energy Corporation</td>\n",
       "      <td>Duke Energy Carolinas LLC</td>\n",
       "      <td>Duke Energy Carolinas LLC</td>\n",
       "      <td>Belews Creek Power Station</td>\n",
       "      <td>Belews Creek</td>\n",
       "      <td>Stokes</td>\n",
       "      <td>NC</td>\n",
       "      <td>North Carolina</td>\n",
       "      <td>U.S.A.</td>\n",
       "      <td>Mid Atlantic</td>\n",
       "      <td>North America</td>\n",
       "      <td>Power</td>\n",
       "      <td>4911</td>\n",
       "      <td>1014219</td>\n",
       "      <td>Belews Creek 01</td>\n",
       "      <td>1004766</td>\n",
       "      <td>Steam Turbine</td>\n",
       "      <td>1245.6</td>\n",
       "      <td>1-Jan-70</td>\n",
       "      <td>1-Aug-74</td>\n",
       "      <td>1974</td>\n",
       "      <td>NaN</td>\n",
       "      <td>Coal Bituminous</td>\n",
       "      <td>Natural Gas</td>\n",
       "      <td>Coal</td>\n",
       "      <td>9035.0</td>\n",
       "      <td>Intermediate Load</td>\n",
       "      <td>Operational</td>\n",
       "      <td>Boiler 01</td>\n",
       "      <td>Dry Bottom Boiler</td>\n",
       "      <td>Babcock &amp; Wilcox</td>\n",
       "      <td>PC Opposed-Fired SCR LNB OFA ESP-CS FGC FGD-WS</td>\n",
       "      <td>7300000.0</td>\n",
       "      <td>lbs/hr</td>\n",
       "      <td>3650.0</td>\n",
       "      <td>3500.0</td>\n",
       "      <td>PSIG</td>\n",
       "      <td>241.0</td>\n",
       "      <td>1000.0</td>\n",
       "      <td>deg F</td>\n",
       "      <td>538.0</td>\n",
       "      <td>Duke Power Company</td>\n",
       "      <td>Duke Power Company</td>\n",
       "      <td>12000.0</td>\n",
       "      <td>1970.0</td>\n",
       "      <td>36.281100</td>\n",
       "      <td>-80.060300</td>\n",
       "      <td>0</td>\n",
       "      <td>NaT</td>\n",
       "      <td>NaN</td>\n",
       "      <td>Opposed</td>\n",
       "      <td>PC</td>\n",
       "      <td>none</td>\n",
       "    </tr>\n",
       "    <tr>\n",
       "      <th>9</th>\n",
       "      <td>Duke Energy Corporation</td>\n",
       "      <td>Duke Energy Carolinas LLC</td>\n",
       "      <td>Duke Energy Carolinas LLC</td>\n",
       "      <td>Belews Creek Power Station</td>\n",
       "      <td>Belews Creek</td>\n",
       "      <td>Stokes</td>\n",
       "      <td>NC</td>\n",
       "      <td>North Carolina</td>\n",
       "      <td>U.S.A.</td>\n",
       "      <td>Mid Atlantic</td>\n",
       "      <td>North America</td>\n",
       "      <td>Power</td>\n",
       "      <td>4911</td>\n",
       "      <td>1014219</td>\n",
       "      <td>Belews Creek 02</td>\n",
       "      <td>1004769</td>\n",
       "      <td>Steam Turbine</td>\n",
       "      <td>1245.6</td>\n",
       "      <td>NaN</td>\n",
       "      <td>1-Dec-75</td>\n",
       "      <td>1975</td>\n",
       "      <td>NaN</td>\n",
       "      <td>Coal Bituminous</td>\n",
       "      <td>Natural Gas</td>\n",
       "      <td>Coal</td>\n",
       "      <td>9035.0</td>\n",
       "      <td>Intermediate Load</td>\n",
       "      <td>Operational</td>\n",
       "      <td>Boiler 02</td>\n",
       "      <td>Dry Bottom Boiler</td>\n",
       "      <td>Babcock &amp; Wilcox</td>\n",
       "      <td>PC Opposed-Fired Supercritical SCR LNB FGC ESP...</td>\n",
       "      <td>7300000.0</td>\n",
       "      <td>lbs/hr</td>\n",
       "      <td>3650.0</td>\n",
       "      <td>3500.0</td>\n",
       "      <td>PSIG</td>\n",
       "      <td>241.0</td>\n",
       "      <td>1000.0</td>\n",
       "      <td>deg F</td>\n",
       "      <td>538.0</td>\n",
       "      <td>Duke Power Company</td>\n",
       "      <td>Duke Power Company</td>\n",
       "      <td>12000.0</td>\n",
       "      <td>NaN</td>\n",
       "      <td>36.281100</td>\n",
       "      <td>-80.060300</td>\n",
       "      <td>0</td>\n",
       "      <td>NaT</td>\n",
       "      <td>NaN</td>\n",
       "      <td>Opposed</td>\n",
       "      <td>PC</td>\n",
       "      <td>Supercritical</td>\n",
       "    </tr>\n",
       "  </tbody>\n",
       "</table>\n",
       "</div>"
      ],
      "text/plain": [
       "                                     PARENTNAME  \\\n",
       "0             The Blackstone Group Incorporated   \n",
       "1  American Electric Power Company Incorporated   \n",
       "2                    Tennessee Valley Authority   \n",
       "3                    Tennessee Valley Authority   \n",
       "4             The Blackstone Group Incorporated   \n",
       "5  American Electric Power Company Incorporated   \n",
       "6  American Electric Power Company Incorporated   \n",
       "7  American Electric Power Company Incorporated   \n",
       "8                       Duke Energy Corporation   \n",
       "9                       Duke Energy Corporation   \n",
       "\n",
       "                       OWNER_NAME                       OPER_NAME  \\\n",
       "0       Lightstone Generation LLC       Lightstone Generation LLC   \n",
       "1       Appalachian Power Company       Appalachian Power Company   \n",
       "2      Tennessee Valley Authority      Tennessee Valley Authority   \n",
       "3      Tennessee Valley Authority      Tennessee Valley Authority   \n",
       "4       Lightstone Generation LLC       Lightstone Generation LLC   \n",
       "5       Appalachian Power Company       Appalachian Power Company   \n",
       "6  Indiana Michigan Power Company  Indiana Michigan Power Company   \n",
       "7  Indiana Michigan Power Company  Indiana Michigan Power Company   \n",
       "8       Duke Energy Carolinas LLC       Duke Energy Carolinas LLC   \n",
       "9       Duke Energy Carolinas LLC       Duke Energy Carolinas LLC   \n",
       "\n",
       "                        PLANT_NAME        PHYS_CITY P_COUNTY UNIT_STATE  \\\n",
       "0        James Gavin Power Station         Cheshire   Gallia         OH   \n",
       "1          John Amos Power Station         Winfield   Putnam         WV   \n",
       "2  Cumberland Fossil Power Station  Cumberland City  Stewart         TN   \n",
       "3  Cumberland Fossil Power Station  Cumberland City  Stewart         TN   \n",
       "4        James Gavin Power Station         Cheshire   Gallia         OH   \n",
       "5        Mountaineer Power Station        New Haven    Mason         WV   \n",
       "6           Rockport Power Station         Rockport  Spencer         IN   \n",
       "7           Rockport Power Station         Rockport  Spencer         IN   \n",
       "8       Belews Creek Power Station     Belews Creek   Stokes         NC   \n",
       "9       Belews Creek Power Station     Belews Creek   Stokes         NC   \n",
       "\n",
       "        P_ST_NAME P_COUNTRY    MARKET_REG      WORLD_REG IND_CODE_DESC  \\\n",
       "0            Ohio    U.S.A.   Great Lakes  North America         Power   \n",
       "1   West Virginia    U.S.A.  Mid Atlantic  North America         Power   \n",
       "2       Tennessee    U.S.A.     Southeast  North America         Power   \n",
       "3       Tennessee    U.S.A.     Southeast  North America         Power   \n",
       "4            Ohio    U.S.A.   Great Lakes  North America         Power   \n",
       "5   West Virginia    U.S.A.  Mid Atlantic  North America         Power   \n",
       "6         Indiana    U.S.A.   Great Lakes  North America         Power   \n",
       "7         Indiana    U.S.A.   Great Lakes  North America         Power   \n",
       "8  North Carolina    U.S.A.  Mid Atlantic  North America         Power   \n",
       "9  North Carolina    U.S.A.  Mid Atlantic  North America         Power   \n",
       "\n",
       "   SIC_CODE  PLANT_ID        UNIT_NAME  UNIT_ID      UNIT_TYPE  OUT_DESIGN  \\\n",
       "0      4911   1010019   James Gavin 02  1003920  Steam Turbine      1300.0   \n",
       "1      4911   1516038   John E Amos 03  1007895  Steam Turbine      1300.0   \n",
       "2      4911   1012869    Cumberland 01  1003702  Steam Turbine      1300.0   \n",
       "3      4911   1012869    Cumberland 02  1003703  Steam Turbine      1300.0   \n",
       "4      4911   1010019   James Gavin 01  1003919  Steam Turbine      1300.0   \n",
       "5      4911   1013868   Mountaineer 01  1007883  Steam Turbine      1300.0   \n",
       "6      4911   1010400      Rockport 01  1004662  Steam Turbine      1300.0   \n",
       "7      4911   1010400      Rockport 02  1004663  Steam Turbine      1300.0   \n",
       "8      4911   1014219  Belews Creek 01  1004766  Steam Turbine      1245.6   \n",
       "9      4911   1014219  Belews Creek 02  1004769  Steam Turbine      1245.6   \n",
       "\n",
       "    KO_DATE   STARTUP  STARTYEAR   SHUTDOWN           PRIM_FUEL  \\\n",
       "0       NaN  1-Jul-75       1975   1-Dec-35     Coal Bituminous   \n",
       "1       NaN  1-Oct-73       1973   1-Dec-33     Coal Bituminous   \n",
       "2  1-Jan-68  1-Mar-73       1973  31-Dec-28     Coal Bituminous   \n",
       "3  1-Jan-68  1-Nov-73       1973  31-Dec-26     Coal Bituminous   \n",
       "4       NaN  1-Oct-74       1974   1-Dec-35     Coal Bituminous   \n",
       "5       NaN  1-Sep-80       1980        NaN     Coal Bituminous   \n",
       "6  1-Jan-77  1-Dec-84       1984  29-Dec-28  Coal Subbituminous   \n",
       "7       NaN  1-Dec-89       1989  29-Dec-28  Coal Subbituminous   \n",
       "8  1-Jan-70  1-Aug-74       1974        NaN     Coal Bituminous   \n",
       "9       NaN  1-Dec-75       1975        NaN     Coal Bituminous   \n",
       "\n",
       "                         SECND_FUEL FUEL_GROUP  HEAT_RATE          PWR_USAGE  \\\n",
       "0  Fuel Oil No. 2 Distillate Diesel       Coal     9799.0          Base Load   \n",
       "1  Fuel Oil No. 2 Distillate Diesel       Coal     9597.0  Intermediate Load   \n",
       "2                               NaN       Coal     9678.0          Base Load   \n",
       "3                               NaN       Coal     9678.0  Intermediate Load   \n",
       "4  Fuel Oil No. 2 Distillate Diesel       Coal     9799.0          Base Load   \n",
       "5  Fuel Oil No. 2 Distillate Diesel       Coal     9403.0          Base Load   \n",
       "6                   Coal Bituminous       Coal     9816.0  Intermediate Load   \n",
       "7                   Coal Bituminous       Coal     9816.0  Intermediate Load   \n",
       "8                       Natural Gas       Coal     9035.0  Intermediate Load   \n",
       "9                       Natural Gas       Coal     9035.0  Intermediate Load   \n",
       "\n",
       "      U_STATUS  BOIL_NAME         BOILERTYPE         BMFR_NAME  \\\n",
       "0  Operational  Boiler 02  Dry Bottom Boiler  Babcock & Wilcox   \n",
       "1  Operational  Boiler 03  Dry Bottom Boiler  Babcock & Wilcox   \n",
       "2  Operational  Boiler 01  Dry Bottom Boiler  Babcock & Wilcox   \n",
       "3  Operational  Boiler 02  Dry Bottom Boiler  Babcock & Wilcox   \n",
       "4  Operational  Boiler 01  Dry Bottom Boiler  Babcock & Wilcox   \n",
       "5  Operational  Boiler 01  Dry Bottom Boiler  Babcock & Wilcox   \n",
       "6  Operational  Boiler 01  Dry Bottom Boiler  Babcock & Wilcox   \n",
       "7  Operational  Boiler 02  Dry Bottom Boiler  Babcock & Wilcox   \n",
       "8  Operational  Boiler 01  Dry Bottom Boiler  Babcock & Wilcox   \n",
       "9  Operational  Boiler 02  Dry Bottom Boiler  Babcock & Wilcox   \n",
       "\n",
       "                                           BOIL_INFO      STEAM STEAM_UOM  \\\n",
       "0          Opposed-Fired SCR LNB ESP-CS FGD-WS Trona  9775000.0    lbs/hr   \n",
       "1  UP-101 PC Opposed-Fired SCR LNB ESP-CS (FGD-WS...  9775000.0    lbs/hr   \n",
       "2             PC Opposed-Fired LNB SCR ESP-CS FGD-WS  9300000.0    lbs/hr   \n",
       "3                PC Opposed-Fired ESP LNB SCR FGD-WS  9300000.0    lbs/hr   \n",
       "4          Opposed-Fired SCR LNB ESP-CS FGD-WS Trona  9775000.0    lbs/hr   \n",
       "5  UP-108 PC Opposed-Fired OFA LNB SCR ESP-CS FGD...  9775000.0    lbs/hr   \n",
       "6  PC Opposed-Fired LNB OFA ESP-CS ACIS DSI (SCR-...  9775000.0    lbs/hr   \n",
       "7  Opposed-Fired LNB OFA ESP-CS ACIS DSI (SCR-201...  9775000.0    lbs/hr   \n",
       "8     PC Opposed-Fired SCR LNB OFA ESP-CS FGC FGD-WS  7300000.0    lbs/hr   \n",
       "9  PC Opposed-Fired Supercritical SCR LNB FGC ESP...  7300000.0    lbs/hr   \n",
       "\n",
       "   STEAM_TON  PRESSURE PRES_UOM  PRES_BAR    TEMP TEMP_UOM  TEMP_CEL  \\\n",
       "0     4887.5    3685.0     PSIG     254.0  1010.0    deg F     543.0   \n",
       "1     4887.5    3700.0     PSIG     255.0  1000.0    deg F     538.0   \n",
       "2     4650.0    3500.0     PSIG     241.0  1003.0    deg F     539.0   \n",
       "3     4650.0    3500.0     PSIG     241.0  1003.0    deg F     539.0   \n",
       "4     4887.5    3685.0     PSIG     254.0  1010.0    deg F     543.0   \n",
       "5     4887.5    3845.0     PSIG     265.0  1010.0    deg F     543.0   \n",
       "6     4887.5    3510.0     PSIG     242.0  1000.0    deg F     538.0   \n",
       "7     4887.5    3510.0     PSIG     242.0  1000.0    deg F     538.0   \n",
       "8     3650.0    3500.0     PSIG     241.0  1000.0    deg F     538.0   \n",
       "9     3650.0    3500.0     PSIG     241.0  1000.0    deg F     538.0   \n",
       "\n",
       "                DESIGNFIRM                CONSTFIRM  MMBTU_HR  KO_YEAR  \\\n",
       "0             AEP Pro Serv             AEP Pro Serv       NaN      NaN   \n",
       "1  American Electric Power  American Electric Power   11936.0      NaN   \n",
       "2           Black & Veatch                      NaN       NaN   1968.0   \n",
       "3           Black & Veatch                      NaN       NaN   1968.0   \n",
       "4           Black & Veatch                      NaN       NaN      NaN   \n",
       "5  American Electric Power  American Electric Power   11960.0      NaN   \n",
       "6           Black & Veatch             AEP Pro Serv   12374.0   1977.0   \n",
       "7           Black & Veatch             AEP Pro Serv   12374.0      NaN   \n",
       "8       Duke Power Company       Duke Power Company   12000.0   1970.0   \n",
       "9       Duke Power Company       Duke Power Company   12000.0      NaN   \n",
       "\n",
       "    LATITUDE  LONGITUDE  COGEN_CHP SHUTDOWN_dt  SHUTDOWN_yr BOIL_CONFIG  \\\n",
       "0  38.934700 -82.115800          0  2035-12-01       2035.0     Opposed   \n",
       "1  38.473069 -81.822458          0  2033-12-01       2033.0     Opposed   \n",
       "2  36.391944 -87.655555          0  2028-12-31       2028.0     Opposed   \n",
       "3  36.391944 -87.655555          0  2026-12-31       2026.0     Opposed   \n",
       "4  38.934700 -82.115800          0  2035-12-01       2035.0     Opposed   \n",
       "5  38.978694 -81.936250          0         NaT          NaN     Opposed   \n",
       "6  37.923478 -87.033942          0  2028-12-29       2028.0     Opposed   \n",
       "7  37.923478 -87.033942          0  2028-12-29       2028.0     Opposed   \n",
       "8  36.281100 -80.060300          0         NaT          NaN     Opposed   \n",
       "9  36.281100 -80.060300          0         NaT          NaN     Opposed   \n",
       "\n",
       "  BOIL_TYPE_Tag    Criticality  \n",
       "0       Unknown           none  \n",
       "1            PC           none  \n",
       "2            PC           none  \n",
       "3            PC           none  \n",
       "4       Unknown           none  \n",
       "5            PC           none  \n",
       "6            PC           none  \n",
       "7       Unknown           none  \n",
       "8            PC           none  \n",
       "9            PC  Supercritical  "
      ]
     },
     "execution_count": 35,
     "metadata": {},
     "output_type": "execute_result"
    }
   ],
   "source": [
    "us_boilers_df.head(10)"
   ]
  },
  {
   "cell_type": "code",
   "execution_count": null,
   "id": "8e4844c0-9b93-4726-b7dd-63f01820f295",
   "metadata": {},
   "outputs": [],
   "source": []
  },
  {
   "cell_type": "code",
   "execution_count": 36,
   "id": "acd3bd8d-e8e1-4568-9e25-6845fd323496",
   "metadata": {},
   "outputs": [],
   "source": [
    "# us_boilers_df[us_boilers_df['PLANT_NAME'].str.contains('Petersburg')]"
   ]
  },
  {
   "cell_type": "code",
   "execution_count": 37,
   "id": "79030bbc-7671-41b5-b42b-adbb43716d2f",
   "metadata": {},
   "outputs": [],
   "source": [
    "operational_boilers_usage = operational_us_boilers_df.groupby(['PWR_USAGE'])['UNIT_ID'].nunique().to_frame().reset_index()"
   ]
  },
  {
   "cell_type": "code",
   "execution_count": 38,
   "id": "e62cc778-140a-4af5-8414-e5d6f51a873c",
   "metadata": {},
   "outputs": [
    {
     "data": {
      "image/png": "[encoded data removed]",
      "text/plain": [
       "<Figure size 1000x500 with 1 Axes>"
      ]
     },
     "metadata": {},
     "output_type": "display_data"
    }
   ],
   "source": [
    "fig, ax = plt.subplots()\n",
    "\n",
    "x = operational_boilers_usage[\"PWR_USAGE\"]\n",
    "y = operational_boilers_usage[\"UNIT_ID\"]\n",
    "width =0.7\n",
    "\n",
    "rects1 = ax.bar(x, y, width, label = 'Status')\n",
    "ax.set_title('US Boiler Usage Category')\n",
    "ax.set_ylabel('Count of Units')\n",
    "ax.set_xticks(x)\n",
    "#ax.set_xticklabels(x)\n",
    "#ax.legend()\n",
    "\n",
    "add_vbar_labels(x,y)\n",
    "\n",
    "fig.tight_layout()\n",
    "\n",
    "#plt.axvline(x=2023, c='r')\n",
    "#plt.xticks(np.arange(min(x), max(x)+1, 5))\n",
    "\n",
    "#plt.xticks(rotation=45)\n",
    "plt.show()"
   ]
  },
  {
   "cell_type": "code",
   "execution_count": null,
   "id": "8845f721-c6af-4d9b-a320-365bf1217d81",
   "metadata": {},
   "outputs": [],
   "source": []
  },
  {
   "cell_type": "code",
   "execution_count": 39,
   "id": "bf4aa835-9312-40d2-934e-f6f373ea9daa",
   "metadata": {},
   "outputs": [],
   "source": [
    "operational_boilers_fuel = operational_us_boilers_df.groupby(['PRIM_FUEL'])['UNIT_ID'].nunique().to_frame().reset_index().sort_values(by=['UNIT_ID'], ascending=False)"
   ]
  },
  {
   "cell_type": "code",
   "execution_count": 40,
   "id": "9d1141ed-2fed-4244-9ea2-464ffadd6e2d",
   "metadata": {},
   "outputs": [
    {
     "data": {
      "image/png": "[encoded data removed]",
      "text/plain": [
       "<Figure size 1000x500 with 1 Axes>"
      ]
     },
     "metadata": {},
     "output_type": "display_data"
    }
   ],
   "source": [
    "fig, ax = plt.subplots()\n",
    "\n",
    "x = operational_boilers_fuel[\"PRIM_FUEL\"]\n",
    "y = operational_boilers_fuel[\"UNIT_ID\"]\n",
    "width =0.7\n",
    "\n",
    "rects1 = ax.barh(x, y, width, label = 'Status')\n",
    "ax.set_title('US Boiler Fuel Type')\n",
    "\n",
    "#ax.set_xticklabels(x)\n",
    "ax.legend()\n",
    "\n",
    "fig.tight_layout()\n",
    "\n",
    "ax.invert_yaxis()\n",
    "\n",
    "ax.set_ylabel('Fuel Type')\n",
    "ax.set_xlabel('Count of Units')\n",
    "#ax.set_xticks(x)\n",
    "\n",
    "#plt.axvline(x=2023, c='r')\n",
    "#plt.xticks(np.arange(min(x), max(x)+1, 5))\n",
    "\n",
    "#plt.xticks(rotation=90)\n",
    "plt.show()"
   ]
  },
  {
   "cell_type": "code",
   "execution_count": null,
   "id": "765c2bd3-c107-48c5-a382-55323992700f",
   "metadata": {},
   "outputs": [],
   "source": []
  },
  {
   "cell_type": "code",
   "execution_count": 41,
   "id": "b028f32c-56cb-40be-8722-af6a1af04ede",
   "metadata": {},
   "outputs": [
    {
     "data": {
      "text/plain": [
       "{'Atlantic Canada',\n",
       " 'Great Lakes',\n",
       " 'Mid Atlantic',\n",
       " 'Midwest',\n",
       " 'New England',\n",
       " 'Northeast',\n",
       " 'Ontario',\n",
       " 'Rocky Mountains',\n",
       " 'Southeast',\n",
       " 'Southwest',\n",
       " 'West Coast',\n",
       " 'Western Canada'}"
      ]
     },
     "execution_count": 41,
     "metadata": {},
     "output_type": "execute_result"
    }
   ],
   "source": [
    "set(us_boilers_df['MARKET_REG'])"
   ]
  },
  {
   "cell_type": "code",
   "execution_count": 42,
   "id": "f8d0c78a-c5a0-4d61-9183-056935d44fdf",
   "metadata": {},
   "outputs": [
    {
     "data": {
      "text/html": [
       "<div>\n",
       "<style scoped>\n",
       "    .dataframe tbody tr th:only-of-type {\n",
       "        vertical-align: middle;\n",
       "    }\n",
       "\n",
       "    .dataframe tbody tr th {\n",
       "        vertical-align: top;\n",
       "    }\n",
       "\n",
       "    .dataframe thead th {\n",
       "        text-align: right;\n",
       "    }\n",
       "</style>\n",
       "<table border=\"1\" class=\"dataframe\">\n",
       "  <thead>\n",
       "    <tr style=\"text-align: right;\">\n",
       "      <th></th>\n",
       "      <th></th>\n",
       "      <th></th>\n",
       "      <th></th>\n",
       "      <th></th>\n",
       "      <th>UNIT_ID</th>\n",
       "    </tr>\n",
       "    <tr>\n",
       "      <th>MARKET_REG</th>\n",
       "      <th>PARENTNAME</th>\n",
       "      <th>OWNER_NAME</th>\n",
       "      <th>OPER_NAME</th>\n",
       "      <th>PLANT_NAME</th>\n",
       "      <th></th>\n",
       "    </tr>\n",
       "  </thead>\n",
       "  <tbody>\n",
       "    <tr>\n",
       "      <th rowspan=\"8\" valign=\"top\">Atlantic Canada</th>\n",
       "      <th rowspan=\"5\" valign=\"top\">Emera Incorporated</th>\n",
       "      <th rowspan=\"5\" valign=\"top\">Nova Scotia Power Corporation</th>\n",
       "      <th rowspan=\"5\" valign=\"top\">Nova Scotia Power Corporation</th>\n",
       "      <th>Glace Bay Power Station</th>\n",
       "      <td>5</td>\n",
       "    </tr>\n",
       "    <tr>\n",
       "      <th>Lingan Thermal Generating Station</th>\n",
       "      <td>4</td>\n",
       "    </tr>\n",
       "    <tr>\n",
       "      <th>Point Aconi Thermal Generating Station</th>\n",
       "      <td>1</td>\n",
       "    </tr>\n",
       "    <tr>\n",
       "      <th>Point Tupper Generating Station</th>\n",
       "      <td>1</td>\n",
       "    </tr>\n",
       "    <tr>\n",
       "      <th>Trenton Thermal Generating Station</th>\n",
       "      <td>2</td>\n",
       "    </tr>\n",
       "    <tr>\n",
       "      <th rowspan=\"3\" valign=\"top\">Energie NB Power</th>\n",
       "      <th rowspan=\"3\" valign=\"top\">Energie NB Power</th>\n",
       "      <th rowspan=\"3\" valign=\"top\">Energie NB Power</th>\n",
       "      <th>Belledune Power Station</th>\n",
       "      <td>1</td>\n",
       "    </tr>\n",
       "    <tr>\n",
       "      <th>Coleson Cove Power Station</th>\n",
       "      <td>3</td>\n",
       "    </tr>\n",
       "    <tr>\n",
       "      <th>Dalhousie Generating Station</th>\n",
       "      <td>2</td>\n",
       "    </tr>\n",
       "    <tr>\n",
       "      <th rowspan=\"12\" valign=\"top\">Great Lakes</th>\n",
       "      <th rowspan=\"5\" valign=\"top\">AES Corporation</th>\n",
       "      <th rowspan=\"3\" valign=\"top\">AES Indiana</th>\n",
       "      <th rowspan=\"3\" valign=\"top\">AES Indiana</th>\n",
       "      <th>Harding Street Generating Station</th>\n",
       "      <td>5</td>\n",
       "    </tr>\n",
       "    <tr>\n",
       "      <th>PI Eagle Valley Power Plant (H T Pritchard)</th>\n",
       "      <td>6</td>\n",
       "    </tr>\n",
       "    <tr>\n",
       "      <th>Petersburg Generating Station</th>\n",
       "      <td>4</td>\n",
       "    </tr>\n",
       "    <tr>\n",
       "      <th>AES Ohio</th>\n",
       "      <th>Dayton Power &amp; Light Company</th>\n",
       "      <th>J M Stuart Generating Station</th>\n",
       "      <td>4</td>\n",
       "    </tr>\n",
       "    <tr>\n",
       "      <th>Dayton Power &amp; Light Company</th>\n",
       "      <th>Dayton Power &amp; Light Company</th>\n",
       "      <th>Killen Power Station</th>\n",
       "      <td>1</td>\n",
       "    </tr>\n",
       "    <tr>\n",
       "      <th>Alcoa Corporation</th>\n",
       "      <th>Alcoa Power Generating Incorporated</th>\n",
       "      <th>Alcoa Power Generating Incorporated</th>\n",
       "      <th>Warrick Generating Station</th>\n",
       "      <td>4</td>\n",
       "    </tr>\n",
       "    <tr>\n",
       "      <th rowspan=\"4\" valign=\"top\">Alliant Energy Corporation</th>\n",
       "      <th rowspan=\"4\" valign=\"top\">Wisconsin Power and Light Company</th>\n",
       "      <th rowspan=\"4\" valign=\"top\">Wisconsin Power and Light Company</th>\n",
       "      <th>Columbia Energy Center</th>\n",
       "      <td>2</td>\n",
       "    </tr>\n",
       "    <tr>\n",
       "      <th>Edgewater Generating Station</th>\n",
       "      <td>3</td>\n",
       "    </tr>\n",
       "    <tr>\n",
       "      <th>Nelson Dewey Power Station</th>\n",
       "      <td>2</td>\n",
       "    </tr>\n",
       "    <tr>\n",
       "      <th>Rock River Power Station</th>\n",
       "      <td>2</td>\n",
       "    </tr>\n",
       "    <tr>\n",
       "      <th rowspan=\"2\" valign=\"top\">Ameren Corporation</th>\n",
       "      <th>Ameren Corporation</th>\n",
       "      <th>Ameren Corporation</th>\n",
       "      <th>Hutsonville Generating Station</th>\n",
       "      <td>2</td>\n",
       "    </tr>\n",
       "    <tr>\n",
       "      <th>Ameren Missouri</th>\n",
       "      <th>Ameren Missouri</th>\n",
       "      <th>Venice Power Station</th>\n",
       "      <td>6</td>\n",
       "    </tr>\n",
       "  </tbody>\n",
       "</table>\n",
       "</div>"
      ],
      "text/plain": [
       "                                                                                                                                                                UNIT_ID\n",
       "MARKET_REG      PARENTNAME                 OWNER_NAME                          OPER_NAME                           PLANT_NAME                                          \n",
       "Atlantic Canada Emera Incorporated         Nova Scotia Power Corporation       Nova Scotia Power Corporation       Glace Bay Power Station                            5\n",
       "                                                                                                                   Lingan Thermal Generating Station                  4\n",
       "                                                                                                                   Point Aconi Thermal Generating Station             1\n",
       "                                                                                                                   Point Tupper Generating Station                    1\n",
       "                                                                                                                   Trenton Thermal Generating Station                 2\n",
       "                Energie NB Power           Energie NB Power                    Energie NB Power                    Belledune Power Station                            1\n",
       "                                                                                                                   Coleson Cove Power Station                         3\n",
       "                                                                                                                   Dalhousie Generating Station                       2\n",
       "Great Lakes     AES Corporation            AES Indiana                         AES Indiana                         Harding Street Generating Station                  5\n",
       "                                                                                                                   PI Eagle Valley Power Plant (H T Pritchard)        6\n",
       "                                                                                                                   Petersburg Generating Station                      4\n",
       "                                           AES Ohio                            Dayton Power & Light Company        J M Stuart Generating Station                      4\n",
       "                                           Dayton Power & Light Company        Dayton Power & Light Company        Killen Power Station                               1\n",
       "                Alcoa Corporation          Alcoa Power Generating Incorporated Alcoa Power Generating Incorporated Warrick Generating Station                         4\n",
       "                Alliant Energy Corporation Wisconsin Power and Light Company   Wisconsin Power and Light Company   Columbia Energy Center                             2\n",
       "                                                                                                                   Edgewater Generating Station                       3\n",
       "                                                                                                                   Nelson Dewey Power Station                         2\n",
       "                                                                                                                   Rock River Power Station                           2\n",
       "                Ameren Corporation         Ameren Corporation                  Ameren Corporation                  Hutsonville Generating Station                     2\n",
       "                                           Ameren Missouri                     Ameren Missouri                     Venice Power Station                               6"
      ]
     },
     "execution_count": 42,
     "metadata": {},
     "output_type": "execute_result"
    }
   ],
   "source": [
    "us_boilers_df.groupby(['MARKET_REG', 'PARENTNAME', 'OWNER_NAME', 'OPER_NAME', 'PLANT_NAME'])['UNIT_ID'].nunique().to_frame().head(20)"
   ]
  },
  {
   "cell_type": "code",
   "execution_count": 43,
   "id": "d73be1e4-15eb-49f4-810c-429c1b8eedff",
   "metadata": {},
   "outputs": [
    {
     "data": {
      "text/plain": [
       "320"
      ]
     },
     "execution_count": 43,
     "metadata": {},
     "output_type": "execute_result"
    }
   ],
   "source": [
    "us_boilers_df['PARENTNAME'].nunique()"
   ]
  },
  {
   "cell_type": "code",
   "execution_count": 44,
   "id": "2e1da793-3dff-4317-96b4-6393e1500f7a",
   "metadata": {},
   "outputs": [
    {
     "data": {
      "text/plain": [
       "2286"
      ]
     },
     "execution_count": 44,
     "metadata": {},
     "output_type": "execute_result"
    }
   ],
   "source": [
    "us_boilers_df['UNIT_ID'].nunique()"
   ]
  },
  {
   "cell_type": "code",
   "execution_count": 45,
   "id": "fe6ef66e-a42e-4e43-b58b-a6a8acc96a40",
   "metadata": {},
   "outputs": [],
   "source": [
    "shutdowns_by_yr = us_boilers_df.groupby(['SHUTDOWN_yr'])['UNIT_ID'].nunique().to_frame().reset_index()"
   ]
  },
  {
   "cell_type": "code",
   "execution_count": 46,
   "id": "c8ffed05-5158-47cd-8b77-2f58f37ec962",
   "metadata": {},
   "outputs": [
    {
     "data": {
      "text/html": [
       "<div>\n",
       "<style scoped>\n",
       "    .dataframe tbody tr th:only-of-type {\n",
       "        vertical-align: middle;\n",
       "    }\n",
       "\n",
       "    .dataframe tbody tr th {\n",
       "        vertical-align: top;\n",
       "    }\n",
       "\n",
       "    .dataframe thead th {\n",
       "        text-align: right;\n",
       "    }\n",
       "</style>\n",
       "<table border=\"1\" class=\"dataframe\">\n",
       "  <thead>\n",
       "    <tr style=\"text-align: right;\">\n",
       "      <th></th>\n",
       "      <th>SHUTDOWN_yr</th>\n",
       "      <th>UNIT_ID</th>\n",
       "    </tr>\n",
       "  </thead>\n",
       "  <tbody>\n",
       "    <tr>\n",
       "      <th>0</th>\n",
       "      <td>1983.0</td>\n",
       "      <td>2</td>\n",
       "    </tr>\n",
       "    <tr>\n",
       "      <th>1</th>\n",
       "      <td>1985.0</td>\n",
       "      <td>1</td>\n",
       "    </tr>\n",
       "    <tr>\n",
       "      <th>2</th>\n",
       "      <td>1987.0</td>\n",
       "      <td>1</td>\n",
       "    </tr>\n",
       "    <tr>\n",
       "      <th>3</th>\n",
       "      <td>1990.0</td>\n",
       "      <td>1</td>\n",
       "    </tr>\n",
       "    <tr>\n",
       "      <th>4</th>\n",
       "      <td>1991.0</td>\n",
       "      <td>3</td>\n",
       "    </tr>\n",
       "  </tbody>\n",
       "</table>\n",
       "</div>"
      ],
      "text/plain": [
       "   SHUTDOWN_yr  UNIT_ID\n",
       "0       1983.0        2\n",
       "1       1985.0        1\n",
       "2       1987.0        1\n",
       "3       1990.0        1\n",
       "4       1991.0        3"
      ]
     },
     "execution_count": 46,
     "metadata": {},
     "output_type": "execute_result"
    }
   ],
   "source": [
    "shutdowns_by_yr.head()"
   ]
  },
  {
   "cell_type": "code",
   "execution_count": 47,
   "id": "4abbde23-fac0-4dbf-892d-a58aa91ca13e",
   "metadata": {},
   "outputs": [
    {
     "data": {
      "text/html": [
       "<div>\n",
       "<style scoped>\n",
       "    .dataframe tbody tr th:only-of-type {\n",
       "        vertical-align: middle;\n",
       "    }\n",
       "\n",
       "    .dataframe tbody tr th {\n",
       "        vertical-align: top;\n",
       "    }\n",
       "\n",
       "    .dataframe thead th {\n",
       "        text-align: right;\n",
       "    }\n",
       "</style>\n",
       "<table border=\"1\" class=\"dataframe\">\n",
       "  <thead>\n",
       "    <tr style=\"text-align: right;\">\n",
       "      <th></th>\n",
       "      <th>SHUTDOWN_yr</th>\n",
       "      <th>UNIT_ID</th>\n",
       "    </tr>\n",
       "  </thead>\n",
       "  <tbody>\n",
       "    <tr>\n",
       "      <th>28</th>\n",
       "      <td>2015.0</td>\n",
       "      <td>114</td>\n",
       "    </tr>\n",
       "  </tbody>\n",
       "</table>\n",
       "</div>"
      ],
      "text/plain": [
       "    SHUTDOWN_yr  UNIT_ID\n",
       "28       2015.0      114"
      ]
     },
     "execution_count": 47,
     "metadata": {},
     "output_type": "execute_result"
    }
   ],
   "source": [
    "shutdowns_by_yr[shutdowns_by_yr.UNIT_ID==shutdowns_by_yr.UNIT_ID.max()]"
   ]
  },
  {
   "cell_type": "code",
   "execution_count": 48,
   "id": "8724b50a-e551-45ec-a1bf-6df3e9c09591",
   "metadata": {},
   "outputs": [
    {
     "data": {
      "image/png": "[encoded data removed]",
      "text/plain": [
       "<Figure size 1000x500 with 1 Axes>"
      ]
     },
     "metadata": {},
     "output_type": "display_data"
    }
   ],
   "source": [
    "fig, ax = plt.subplots()\n",
    "\n",
    "x = shutdowns_by_yr[\"SHUTDOWN_yr\"]\n",
    "y = shutdowns_by_yr[\"UNIT_ID\"]\n",
    "width =0.7\n",
    "\n",
    "rects1 = ax.bar(x, y, width, label = 'Planned Shutdowns')\n",
    "ax.set_title('US Boiler Shutdowns')\n",
    "ax.set_ylabel('Count of Units')\n",
    "ax.set_xticks(x)\n",
    "#ax.set_xticklabels(shutdowns_by_yr[\"SHUTDOWN_yr\"])\n",
    "ax.legend()\n",
    "\n",
    "fig.tight_layout()\n",
    "\n",
    "plt.axvline(x=2023, c='r')\n",
    "plt.xticks(np.arange(min(x), max(x)+1, 5))\n",
    "\n",
    "plt.xticks(rotation=45)\n",
    "plt.show()"
   ]
  },
  {
   "cell_type": "code",
   "execution_count": null,
   "id": "3d353514-d721-45ba-bffe-cb8e50519075",
   "metadata": {},
   "outputs": [],
   "source": []
  },
  {
   "cell_type": "code",
   "execution_count": 49,
   "id": "eb8f4d15-afdb-4f1e-a317-ece33eb901f8",
   "metadata": {},
   "outputs": [],
   "source": [
    "operational_boilers_shutdown = operational_us_boilers_df.groupby(['SHUTDOWN_yr'])['UNIT_ID'].nunique().to_frame().reset_index()"
   ]
  },
  {
   "cell_type": "code",
   "execution_count": 50,
   "id": "79179262-8f06-46a5-8e9a-1e29c6e29587",
   "metadata": {},
   "outputs": [
    {
     "data": {
      "image/png": "[encoded data removed]",
      "text/plain": [
       "<Figure size 1000x500 with 1 Axes>"
      ]
     },
     "metadata": {},
     "output_type": "display_data"
    }
   ],
   "source": [
    "fig, ax = plt.subplots()\n",
    "\n",
    "x = operational_boilers_shutdown[\"SHUTDOWN_yr\"]\n",
    "y = operational_boilers_shutdown[\"UNIT_ID\"]\n",
    "width =0.7\n",
    "\n",
    "rects1 = ax.bar(x, y, width, label = 'Planned Shutdowns')\n",
    "ax.set_title('US Boiler Shutdowns')\n",
    "ax.set_ylabel('Count of Units')\n",
    "ax.set_xticks(x)\n",
    "#ax.set_xticklabels(shutdowns_by_yr[\"SHUTDOWN_yr\"])\n",
    "ax.legend()\n",
    "\n",
    "fig.tight_layout()\n",
    "\n",
    "plt.axvline(x=2023, c='r')\n",
    "plt.xticks(np.arange(min(x), max(x)+1, 5))\n",
    "\n",
    "plt.xticks(rotation=45)\n",
    "plt.show()"
   ]
  },
  {
   "cell_type": "code",
   "execution_count": null,
   "id": "efd4502e-ff1b-4eab-81af-53100cda82a4",
   "metadata": {},
   "outputs": [],
   "source": []
  },
  {
   "cell_type": "code",
   "execution_count": 51,
   "id": "f3052c2a-fc9a-4ed0-869a-41111bce304c",
   "metadata": {},
   "outputs": [],
   "source": [
    "boiler_status = us_boilers_df.groupby(['U_STATUS'])['UNIT_ID'].nunique().to_frame().reset_index()"
   ]
  },
  {
   "cell_type": "code",
   "execution_count": 52,
   "id": "eb833965-b486-4989-bd35-7b75c97b93e8",
   "metadata": {},
   "outputs": [
    {
     "data": {
      "image/png": "[encoded data removed]",
      "text/plain": [
       "<Figure size 1000x500 with 1 Axes>"
      ]
     },
     "metadata": {},
     "output_type": "display_data"
    }
   ],
   "source": [
    "fig, ax = plt.subplots()\n",
    "\n",
    "x = boiler_status[\"U_STATUS\"]\n",
    "y = boiler_status[\"UNIT_ID\"]\n",
    "width =0.7\n",
    "\n",
    "rects1 = ax.bar(x, y, width, label = 'Status')\n",
    "ax.set_title('US Boiler Status')\n",
    "ax.set_ylabel('Count of Units')\n",
    "ax.set_xticks(x)\n",
    "#ax.set_xticklabels(x)\n",
    "ax.legend()\n",
    "\n",
    "fig.tight_layout()\n",
    "\n",
    "#plt.axvline(x=2023, c='r')\n",
    "#plt.xticks(np.arange(min(x), max(x)+1, 5))\n",
    "\n",
    "plt.xticks(rotation=45)\n",
    "plt.show()"
   ]
  },
  {
   "cell_type": "code",
   "execution_count": null,
   "id": "96833658-85af-416e-a120-eeb619402a6d",
   "metadata": {},
   "outputs": [],
   "source": []
  },
  {
   "cell_type": "markdown",
   "id": "6bfa7a09-7d9d-45d5-927c-22dd28037029",
   "metadata": {},
   "source": [
    "Mothballed power plants\n",
    "Power plant layup or mothballing is one of the methods that plant operators can apply to prevent corrosive damage and ensure the preservation of various assets. When equipment and plants are mothballed, the organization maintains the service life of these facilities by employing various protective measures.\n",
    "\n",
    "https://www.bryair.com/news-and-events/articles/mothballing-as-an-effective-power-plant-layup/#:~:text=Power%20plant%20layup%20or%20mothballing,by%20employing%20various%20protective%20measures."
   ]
  },
  {
   "cell_type": "code",
   "execution_count": null,
   "id": "dd79430f-bb97-4e4a-a56a-9deb61c55a2c",
   "metadata": {},
   "outputs": [],
   "source": []
  },
  {
   "cell_type": "code",
   "execution_count": 53,
   "id": "c2fcc27c-d31f-49d3-8af8-a878fe9d10e5",
   "metadata": {},
   "outputs": [],
   "source": [
    "us_boilers_byparent = operational_us_boilers_df.groupby(['PARENTNAME'])['UNIT_ID'].nunique().to_frame().sort_values(by='UNIT_ID', ascending=False).reset_index()"
   ]
  },
  {
   "cell_type": "code",
   "execution_count": 54,
   "id": "bd009016-ecdb-4a80-a6f7-7f8a2c04408b",
   "metadata": {},
   "outputs": [
    {
     "data": {
      "text/html": [
       "<div>\n",
       "<style scoped>\n",
       "    .dataframe tbody tr th:only-of-type {\n",
       "        vertical-align: middle;\n",
       "    }\n",
       "\n",
       "    .dataframe tbody tr th {\n",
       "        vertical-align: top;\n",
       "    }\n",
       "\n",
       "    .dataframe thead th {\n",
       "        text-align: right;\n",
       "    }\n",
       "</style>\n",
       "<table border=\"1\" class=\"dataframe\">\n",
       "  <thead>\n",
       "    <tr style=\"text-align: right;\">\n",
       "      <th></th>\n",
       "      <th>PARENTNAME</th>\n",
       "      <th>UNIT_ID</th>\n",
       "    </tr>\n",
       "  </thead>\n",
       "  <tbody>\n",
       "    <tr>\n",
       "      <th>0</th>\n",
       "      <td>American Electric Power Company Incorporated</td>\n",
       "      <td>43</td>\n",
       "    </tr>\n",
       "    <tr>\n",
       "      <th>1</th>\n",
       "      <td>Vistra Energy Corporation</td>\n",
       "      <td>41</td>\n",
       "    </tr>\n",
       "    <tr>\n",
       "      <th>2</th>\n",
       "      <td>Xcel Energy Incorporated</td>\n",
       "      <td>35</td>\n",
       "    </tr>\n",
       "    <tr>\n",
       "      <th>3</th>\n",
       "      <td>Southern Company</td>\n",
       "      <td>29</td>\n",
       "    </tr>\n",
       "    <tr>\n",
       "      <th>4</th>\n",
       "      <td>Duke Energy Corporation</td>\n",
       "      <td>29</td>\n",
       "    </tr>\n",
       "    <tr>\n",
       "      <th>5</th>\n",
       "      <td>Berkshire Hathaway Incorporated</td>\n",
       "      <td>27</td>\n",
       "    </tr>\n",
       "    <tr>\n",
       "      <th>6</th>\n",
       "      <td>Covanta Holding Corporation</td>\n",
       "      <td>26</td>\n",
       "    </tr>\n",
       "    <tr>\n",
       "      <th>7</th>\n",
       "      <td>Tennessee Valley Authority</td>\n",
       "      <td>25</td>\n",
       "    </tr>\n",
       "    <tr>\n",
       "      <th>8</th>\n",
       "      <td>NRG Energy Incorporated</td>\n",
       "      <td>23</td>\n",
       "    </tr>\n",
       "    <tr>\n",
       "      <th>9</th>\n",
       "      <td>Entergy Corporation</td>\n",
       "      <td>21</td>\n",
       "    </tr>\n",
       "  </tbody>\n",
       "</table>\n",
       "</div>"
      ],
      "text/plain": [
       "                                     PARENTNAME  UNIT_ID\n",
       "0  American Electric Power Company Incorporated       43\n",
       "1                     Vistra Energy Corporation       41\n",
       "2                      Xcel Energy Incorporated       35\n",
       "3                              Southern Company       29\n",
       "4                       Duke Energy Corporation       29\n",
       "5               Berkshire Hathaway Incorporated       27\n",
       "6                   Covanta Holding Corporation       26\n",
       "7                    Tennessee Valley Authority       25\n",
       "8                       NRG Energy Incorporated       23\n",
       "9                           Entergy Corporation       21"
      ]
     },
     "execution_count": 54,
     "metadata": {},
     "output_type": "execute_result"
    }
   ],
   "source": [
    "us_boilers_byparent.head(10)"
   ]
  },
  {
   "cell_type": "code",
   "execution_count": 55,
   "id": "d6ba2c2a-ffa9-426f-b66f-75918ce70c5f",
   "metadata": {},
   "outputs": [
    {
     "data": {
      "text/plain": [
       "1005"
      ]
     },
     "execution_count": 55,
     "metadata": {},
     "output_type": "execute_result"
    }
   ],
   "source": [
    "us_boilers_byparent.UNIT_ID.sum()"
   ]
  },
  {
   "cell_type": "code",
   "execution_count": null,
   "id": "4f793682-c4b9-420c-92dd-dde51c9218d1",
   "metadata": {},
   "outputs": [],
   "source": []
  },
  {
   "cell_type": "code",
   "execution_count": 56,
   "id": "e5f29ddf-1962-4b53-98da-f2f792cf21c0",
   "metadata": {},
   "outputs": [
    {
     "data": {
      "text/html": [
       "<div>\n",
       "<style scoped>\n",
       "    .dataframe tbody tr th:only-of-type {\n",
       "        vertical-align: middle;\n",
       "    }\n",
       "\n",
       "    .dataframe tbody tr th {\n",
       "        vertical-align: top;\n",
       "    }\n",
       "\n",
       "    .dataframe thead th {\n",
       "        text-align: right;\n",
       "    }\n",
       "</style>\n",
       "<table border=\"1\" class=\"dataframe\">\n",
       "  <thead>\n",
       "    <tr style=\"text-align: right;\">\n",
       "      <th></th>\n",
       "      <th></th>\n",
       "      <th></th>\n",
       "      <th>UNIT_ID</th>\n",
       "    </tr>\n",
       "    <tr>\n",
       "      <th>FUEL_GROUP</th>\n",
       "      <th>PRIM_FUEL</th>\n",
       "      <th>SECND_FUEL</th>\n",
       "      <th></th>\n",
       "    </tr>\n",
       "  </thead>\n",
       "  <tbody>\n",
       "    <tr>\n",
       "      <th rowspan=\"2\" valign=\"top\">Natural Gas</th>\n",
       "      <th rowspan=\"2\" valign=\"top\">Natural Gas</th>\n",
       "      <th>Fuel Oil No. 2 Distillate Diesel</th>\n",
       "      <td>209</td>\n",
       "    </tr>\n",
       "    <tr>\n",
       "      <th>Fuel Oil No. 6 Residual</th>\n",
       "      <td>148</td>\n",
       "    </tr>\n",
       "    <tr>\n",
       "      <th rowspan=\"6\" valign=\"top\">Coal</th>\n",
       "      <th>Coal Subbituminous</th>\n",
       "      <th>Natural Gas</th>\n",
       "      <td>142</td>\n",
       "    </tr>\n",
       "    <tr>\n",
       "      <th rowspan=\"2\" valign=\"top\">Coal Bituminous</th>\n",
       "      <th>Fuel Oil No. 2 Distillate Diesel</th>\n",
       "      <td>131</td>\n",
       "    </tr>\n",
       "    <tr>\n",
       "      <th>Natural Gas</th>\n",
       "      <td>115</td>\n",
       "    </tr>\n",
       "    <tr>\n",
       "      <th>Coal Subbituminous</th>\n",
       "      <th>Coal Bituminous</th>\n",
       "      <td>112</td>\n",
       "    </tr>\n",
       "    <tr>\n",
       "      <th>Coal Bituminous</th>\n",
       "      <th>Coal Subbituminous</th>\n",
       "      <td>61</td>\n",
       "    </tr>\n",
       "    <tr>\n",
       "      <th>Coal Subbituminous</th>\n",
       "      <th>Fuel Oil No. 2 Distillate Diesel</th>\n",
       "      <td>55</td>\n",
       "    </tr>\n",
       "    <tr>\n",
       "      <th>Renewable Energy</th>\n",
       "      <th>Waste (solid/sludge)</th>\n",
       "      <th>Natural Gas</th>\n",
       "      <td>46</td>\n",
       "    </tr>\n",
       "    <tr>\n",
       "      <th>Fuel Oil</th>\n",
       "      <th>Fuel Oil No. 6 Residual</th>\n",
       "      <th>Natural Gas</th>\n",
       "      <td>43</td>\n",
       "    </tr>\n",
       "    <tr>\n",
       "      <th>Coal</th>\n",
       "      <th>Coal Bituminous</th>\n",
       "      <th>Petroleum Coke</th>\n",
       "      <td>30</td>\n",
       "    </tr>\n",
       "    <tr>\n",
       "      <th>Natural Gas</th>\n",
       "      <th>Combined Cycle Waste Heat</th>\n",
       "      <th>Natural Gas</th>\n",
       "      <td>22</td>\n",
       "    </tr>\n",
       "    <tr>\n",
       "      <th>Fuel Oil</th>\n",
       "      <th>Fuel Oil No. 6 Residual</th>\n",
       "      <th>Fuel Oil No. 2 Distillate Diesel</th>\n",
       "      <td>21</td>\n",
       "    </tr>\n",
       "    <tr>\n",
       "      <th>Renewable Energy</th>\n",
       "      <th>Waste (solid/sludge)</th>\n",
       "      <th>Fuel Oil No. 2 Distillate Diesel</th>\n",
       "      <td>19</td>\n",
       "    </tr>\n",
       "    <tr>\n",
       "      <th>Natural Gas</th>\n",
       "      <th>Natural Gas</th>\n",
       "      <th>Fuel Oil No. 5 Residual</th>\n",
       "      <td>17</td>\n",
       "    </tr>\n",
       "    <tr>\n",
       "      <th>Coal</th>\n",
       "      <th>Coal Bituminous</th>\n",
       "      <th>Fuel Oil No. 6 Residual</th>\n",
       "      <td>14</td>\n",
       "    </tr>\n",
       "    <tr>\n",
       "      <th>Natural Gas</th>\n",
       "      <th>Natural Gas</th>\n",
       "      <th>Fuel Oil</th>\n",
       "      <td>14</td>\n",
       "    </tr>\n",
       "    <tr>\n",
       "      <th rowspan=\"2\" valign=\"top\">Coal</th>\n",
       "      <th>Coal Lignite</th>\n",
       "      <th>Coal Subbituminous</th>\n",
       "      <td>13</td>\n",
       "    </tr>\n",
       "    <tr>\n",
       "      <th>Coal Bituminous</th>\n",
       "      <th>Coal Waste</th>\n",
       "      <td>12</td>\n",
       "    </tr>\n",
       "    <tr>\n",
       "      <th>Renewable Energy</th>\n",
       "      <th>Wood</th>\n",
       "      <th>Natural Gas</th>\n",
       "      <td>12</td>\n",
       "    </tr>\n",
       "  </tbody>\n",
       "</table>\n",
       "</div>"
      ],
      "text/plain": [
       "                                                                             UNIT_ID\n",
       "FUEL_GROUP       PRIM_FUEL                 SECND_FUEL                               \n",
       "Natural Gas      Natural Gas               Fuel Oil No. 2 Distillate Diesel      209\n",
       "                                           Fuel Oil No. 6 Residual               148\n",
       "Coal             Coal Subbituminous        Natural Gas                           142\n",
       "                 Coal Bituminous           Fuel Oil No. 2 Distillate Diesel      131\n",
       "                                           Natural Gas                           115\n",
       "                 Coal Subbituminous        Coal Bituminous                       112\n",
       "                 Coal Bituminous           Coal Subbituminous                     61\n",
       "                 Coal Subbituminous        Fuel Oil No. 2 Distillate Diesel       55\n",
       "Renewable Energy Waste (solid/sludge)      Natural Gas                            46\n",
       "Fuel Oil         Fuel Oil No. 6 Residual   Natural Gas                            43\n",
       "Coal             Coal Bituminous           Petroleum Coke                         30\n",
       "Natural Gas      Combined Cycle Waste Heat Natural Gas                            22\n",
       "Fuel Oil         Fuel Oil No. 6 Residual   Fuel Oil No. 2 Distillate Diesel       21\n",
       "Renewable Energy Waste (solid/sludge)      Fuel Oil No. 2 Distillate Diesel       19\n",
       "Natural Gas      Natural Gas               Fuel Oil No. 5 Residual                17\n",
       "Coal             Coal Bituminous           Fuel Oil No. 6 Residual                14\n",
       "Natural Gas      Natural Gas               Fuel Oil                               14\n",
       "Coal             Coal Lignite              Coal Subbituminous                     13\n",
       "                 Coal Bituminous           Coal Waste                             12\n",
       "Renewable Energy Wood                      Natural Gas                            12"
      ]
     },
     "execution_count": 56,
     "metadata": {},
     "output_type": "execute_result"
    }
   ],
   "source": [
    "us_boilers_df.groupby(['FUEL_GROUP', 'PRIM_FUEL', 'SECND_FUEL'])['UNIT_ID'].nunique().to_frame().sort_values(by='UNIT_ID', ascending=False).head(20)"
   ]
  },
  {
   "cell_type": "code",
   "execution_count": 57,
   "id": "a223f7a9-402c-4619-adbd-76d9b27b4949",
   "metadata": {},
   "outputs": [
    {
     "data": {
      "text/html": [
       "<div>\n",
       "<style scoped>\n",
       "    .dataframe tbody tr th:only-of-type {\n",
       "        vertical-align: middle;\n",
       "    }\n",
       "\n",
       "    .dataframe tbody tr th {\n",
       "        vertical-align: top;\n",
       "    }\n",
       "\n",
       "    .dataframe thead th {\n",
       "        text-align: right;\n",
       "    }\n",
       "</style>\n",
       "<table border=\"1\" class=\"dataframe\">\n",
       "  <thead>\n",
       "    <tr style=\"text-align: right;\">\n",
       "      <th></th>\n",
       "      <th>UNIT_ID</th>\n",
       "    </tr>\n",
       "    <tr>\n",
       "      <th>FUEL_GROUP</th>\n",
       "      <th></th>\n",
       "    </tr>\n",
       "  </thead>\n",
       "  <tbody>\n",
       "    <tr>\n",
       "      <th>Coal</th>\n",
       "      <td>472</td>\n",
       "    </tr>\n",
       "    <tr>\n",
       "      <th>Natural Gas</th>\n",
       "      <td>350</td>\n",
       "    </tr>\n",
       "    <tr>\n",
       "      <th>Renewable Energy</th>\n",
       "      <td>106</td>\n",
       "    </tr>\n",
       "    <tr>\n",
       "      <th>Fuel Oil</th>\n",
       "      <td>77</td>\n",
       "    </tr>\n",
       "  </tbody>\n",
       "</table>\n",
       "</div>"
      ],
      "text/plain": [
       "                  UNIT_ID\n",
       "FUEL_GROUP               \n",
       "Coal                  472\n",
       "Natural Gas           350\n",
       "Renewable Energy      106\n",
       "Fuel Oil               77"
      ]
     },
     "execution_count": 57,
     "metadata": {},
     "output_type": "execute_result"
    }
   ],
   "source": [
    "operational_us_boilers_df.groupby(['FUEL_GROUP'])['UNIT_ID'].nunique().to_frame().sort_values(by='UNIT_ID', ascending=False)"
   ]
  },
  {
   "cell_type": "code",
   "execution_count": null,
   "id": "5d4ece61-7449-42f4-b9b2-c2b7a33a4f76",
   "metadata": {},
   "outputs": [],
   "source": []
  },
  {
   "cell_type": "code",
   "execution_count": null,
   "id": "4c03fc07-4fd6-4467-ba87-126822e3b5a5",
   "metadata": {},
   "outputs": [],
   "source": []
  },
  {
   "cell_type": "code",
   "execution_count": null,
   "id": "159ab75d-395b-4648-a6ae-e59a2295ca35",
   "metadata": {},
   "outputs": [],
   "source": []
  },
  {
   "cell_type": "markdown",
   "id": "ffe94c80-61c9-4b16-9e07-d99ceb1c9103",
   "metadata": {},
   "source": [
    "### Source 4:\n",
    "\n",
    "Portal Service ...\n",
    "\n",
    "\n",
    "portalservice_power_units.json"
   ]
  },
  {
   "cell_type": "code",
   "execution_count": 58,
   "id": "c115f7dc-4add-48b5-ae88-852f97ac8473",
   "metadata": {},
   "outputs": [
    {
     "ename": "FileNotFoundError",
     "evalue": "[Errno 2] No such file or directory: '../data/raw_data/portalservice_power_inspections_2022.json'",
     "output_type": "error",
     "traceback": [
      "\u001b[1;31m---------------------------------------------------------------------------\u001b[0m",
      "\u001b[1;31mFileNotFoundError\u001b[0m                         Traceback (most recent call last)",
      "Cell \u001b[1;32mIn [58], line 1\u001b[0m\n\u001b[1;32m----> 1\u001b[0m \u001b[38;5;28;01mwith\u001b[39;00m \u001b[38;5;28;43mopen\u001b[39;49m\u001b[43m(\u001b[49m\u001b[38;5;124;43mr\u001b[39;49m\u001b[38;5;124;43m'\u001b[39;49m\u001b[38;5;124;43m../data/raw_data/portalservice_power_inspections_2022.json\u001b[39;49m\u001b[38;5;124;43m'\u001b[39;49m\u001b[43m)\u001b[49m \u001b[38;5;28;01mas\u001b[39;00m json_data:\n\u001b[0;32m      2\u001b[0m     d \u001b[38;5;241m=\u001b[39m json\u001b[38;5;241m.\u001b[39mloads(json_data\u001b[38;5;241m.\u001b[39mread())\n\u001b[0;32m      3\u001b[0m     json_data\u001b[38;5;241m.\u001b[39mclose()\n",
      "\u001b[1;31mFileNotFoundError\u001b[0m: [Errno 2] No such file or directory: '../data/raw_data/portalservice_power_inspections_2022.json'"
     ]
    }
   ],
   "source": [
    "with open(r'../data/raw_data/portalservice_power_inspections_2022.json') as json_data:\n",
    "    d = json.loads(json_data.read())\n",
    "    json_data.close()"
   ]
  },
  {
   "cell_type": "code",
   "execution_count": null,
   "id": "3730f89f-8d05-49d4-b99d-1003f6f6e692",
   "metadata": {},
   "outputs": [],
   "source": [
    "portalservice_power_inspections_2022_df = pd.json_normalize(d)"
   ]
  },
  {
   "cell_type": "code",
   "execution_count": null,
   "id": "c071e947-0b8e-4c6a-9d18-2bf3bc49ada5",
   "metadata": {},
   "outputs": [],
   "source": [
    "portalservice_power_inspections_2022_df.head(1)"
   ]
  },
  {
   "cell_type": "code",
   "execution_count": null,
   "id": "f2698a54-7621-4f70-b26f-69a374c38807",
   "metadata": {},
   "outputs": [],
   "source": [
    "portalservice_power_inspections_2022_df.columns"
   ]
  },
  {
   "cell_type": "code",
   "execution_count": null,
   "id": "feea8ae2-4405-4de5-9319-c205f6a503be",
   "metadata": {},
   "outputs": [],
   "source": [
    "ref_df = portalservice_power_inspections_2022_df.loc[:,(\n",
    "    'Customer.name',\n",
    "    'Location.region',\n",
    "    'Location.name',\n",
    "    'Location.city',\n",
    "    'Location.slack_channel',\n",
    "    'Unit.slug',\n",
    "    'Unit.id',\n",
    "    'Unit.name',\n",
    "    'Unit.retirement_date',\n",
    "    'Unit.fuel_type',\n",
    "    'Unit.capacity',\n",
    "    'Unit.total_tubes',\n",
    "    'Component.slug',\n",
    "    'Component.name',\n",
    "    'Component.tube_diameter', \n",
    "    'Component.tube_spacing',\n",
    "    'Component.shell_diameter',\n",
    "    'Component.component_type',\n",
    "    'Inspection.slug',\n",
    "    'Inspection.date',\n",
    "    'Inspection.ndt_method_type',\n",
    "    'Inspection.inspection_type',\n",
    ")]"
   ]
  },
  {
   "cell_type": "code",
   "execution_count": null,
   "id": "2a24862f-9894-4807-bddf-68ef42975c0b",
   "metadata": {},
   "outputs": [],
   "source": []
  },
  {
   "cell_type": "code",
   "execution_count": null,
   "id": "a3ad0f9d-f26e-4162-b76a-4916c096bbd9",
   "metadata": {},
   "outputs": [],
   "source": [
    "ref_df.head(1)"
   ]
  },
  {
   "cell_type": "code",
   "execution_count": null,
   "id": "34e3b3bd-948c-4cd8-8318-a10e919c2df8",
   "metadata": {},
   "outputs": [],
   "source": [
    "ref_df.shape"
   ]
  },
  {
   "cell_type": "code",
   "execution_count": null,
   "id": "7a3bb5db-7d42-48bb-9d45-a8ad21f50f55",
   "metadata": {},
   "outputs": [],
   "source": [
    "min(ref_df['Inspection.date'])"
   ]
  },
  {
   "cell_type": "code",
   "execution_count": null,
   "id": "88c51b7b-7958-42b3-8ee7-b772e6bd2e52",
   "metadata": {},
   "outputs": [],
   "source": [
    "max(ref_df['Inspection.date'])"
   ]
  },
  {
   "cell_type": "code",
   "execution_count": null,
   "id": "41f38e32-be25-4126-8c69-6cc2c6813f37",
   "metadata": {},
   "outputs": [],
   "source": [
    "set(ref_df['Component.component_type'])"
   ]
  },
  {
   "cell_type": "code",
   "execution_count": null,
   "id": "b74bd364-f430-4007-99a3-a08aa3ef5170",
   "metadata": {},
   "outputs": [],
   "source": []
  },
  {
   "cell_type": "code",
   "execution_count": null,
   "id": "37805b7d-ff9b-4658-8fb7-e444630b843f",
   "metadata": {},
   "outputs": [],
   "source": [
    "ref_df[ref_df['Customer.name']=='Consolidated Edison Company of New York (Corporate)']"
   ]
  },
  {
   "cell_type": "code",
   "execution_count": null,
   "id": "3f86a47e-c2af-435d-b4c1-4302da1205b2",
   "metadata": {},
   "outputs": [],
   "source": []
  },
  {
   "cell_type": "code",
   "execution_count": null,
   "id": "67b44538-6e02-4471-804c-0ab336154b85",
   "metadata": {},
   "outputs": [],
   "source": []
  },
  {
   "cell_type": "code",
   "execution_count": null,
   "id": "544e39b9-df50-4f8d-b533-c0febc4cf11e",
   "metadata": {},
   "outputs": [],
   "source": [
    "portalservice_power_inspections_2022_df.shape"
   ]
  },
  {
   "cell_type": "code",
   "execution_count": null,
   "id": "e9c6d963-e441-4676-a6f8-8ec2c93008ca",
   "metadata": {},
   "outputs": [],
   "source": []
  },
  {
   "cell_type": "code",
   "execution_count": null,
   "id": "335b4be2-deec-43d4-82e6-036185a2cc49",
   "metadata": {},
   "outputs": [],
   "source": []
  },
  {
   "cell_type": "markdown",
   "id": "df774e6b-f5bc-434e-84e1-c37a6a1b8b20",
   "metadata": {},
   "source": [
    "# For Wolpa\n",
    "\n"
   ]
  },
  {
   "cell_type": "code",
   "execution_count": null,
   "id": "d6d7314b-ca2e-4aa2-9b64-4a416ddeb875",
   "metadata": {},
   "outputs": [],
   "source": [
    "wolpas_df = pd.read_csv(r'../data/raw_data/unit_slug_mappings.csv')"
   ]
  },
  {
   "cell_type": "code",
   "execution_count": null,
   "id": "b006c3ef-0b51-4a5d-b106-a90993f15a6a",
   "metadata": {},
   "outputs": [],
   "source": [
    "wolpas_df.head()"
   ]
  },
  {
   "cell_type": "code",
   "execution_count": null,
   "id": "65fd0002-3e97-486d-9f17-3af910d7fbc6",
   "metadata": {},
   "outputs": [],
   "source": [
    "wolpas_df.shape"
   ]
  },
  {
   "cell_type": "code",
   "execution_count": null,
   "id": "2ec683ea-a5c7-42d5-868d-c549a1ed7cd4",
   "metadata": {},
   "outputs": [],
   "source": [
    "wolpas_df[~wolpas_df.GECKO_UNIT_SLUG.isnull()].shape"
   ]
  },
  {
   "cell_type": "code",
   "execution_count": null,
   "id": "9769d113-91b1-4fee-a277-4c458e951263",
   "metadata": {},
   "outputs": [],
   "source": [
    "filtered_wolpa_df = wolpas_df[~wolpas_df['GECKO_UNIT_SLUG'].isnull()]"
   ]
  },
  {
   "cell_type": "code",
   "execution_count": null,
   "id": "3be6b785-2889-49e6-84c6-c4706a1bdc39",
   "metadata": {},
   "outputs": [],
   "source": [
    "filtered_wolpa_df.shape"
   ]
  },
  {
   "cell_type": "code",
   "execution_count": null,
   "id": "dcf52ba3-ea72-4127-bd91-45242edf7c5b",
   "metadata": {},
   "outputs": [],
   "source": [
    "filtered_wolpa_df.head()"
   ]
  },
  {
   "cell_type": "code",
   "execution_count": null,
   "id": "9118640e-6394-46e2-8a67-f7f7eda5d9c8",
   "metadata": {},
   "outputs": [],
   "source": [
    "slug_maps = ref_df.loc[:,('Inspection.slug', 'Unit.slug')]"
   ]
  },
  {
   "cell_type": "code",
   "execution_count": null,
   "id": "f4d8c526-8b12-4e12-a90f-8c89c587dc38",
   "metadata": {},
   "outputs": [],
   "source": [
    "wolpa_df_inspection_slugs = filtered_wolpa_df.merge(slug_maps, how='left', left_on='GECKO_UNIT_SLUG', right_on='Unit.slug')"
   ]
  },
  {
   "cell_type": "code",
   "execution_count": null,
   "id": "603e116a-8235-4476-a472-2fc436a4200e",
   "metadata": {},
   "outputs": [],
   "source": [
    "wolpa_df_inspection_slugs.head()"
   ]
  },
  {
   "cell_type": "code",
   "execution_count": null,
   "id": "0722717f-9fd5-47df-b47a-a892035d9427",
   "metadata": {},
   "outputs": [],
   "source": []
  },
  {
   "cell_type": "code",
   "execution_count": null,
   "id": "0d036e52-23db-4327-9f7a-bf01a964dd87",
   "metadata": {},
   "outputs": [],
   "source": []
  },
  {
   "cell_type": "code",
   "execution_count": null,
   "id": "3c45a53b-b743-4140-a1a9-2a992766b8da",
   "metadata": {},
   "outputs": [],
   "source": []
  },
  {
   "cell_type": "code",
   "execution_count": null,
   "id": "75413eb7-cae6-4f0f-b45e-d43640c115d7",
   "metadata": {},
   "outputs": [],
   "source": []
  },
  {
   "cell_type": "markdown",
   "id": "0208c750-9211-434e-a3b2-f5c1e995a2d7",
   "metadata": {},
   "source": [
    "## Get All PBI"
   ]
  },
  {
   "cell_type": "code",
   "execution_count": null,
   "id": "1068d7ce-ca2a-47a8-8fd9-b61cefb0be0d",
   "metadata": {
    "tags": []
   },
   "outputs": [],
   "source": [
    "all_pbi_to_check_df = pd.read_csv('../data/outputs/all_pbi.csv')"
   ]
  },
  {
   "cell_type": "code",
   "execution_count": null,
   "id": "ceb15526-34dc-4b56-9d5f-7896ba2dc2b0",
   "metadata": {},
   "outputs": [],
   "source": [
    "all_pbi_to_check_df.head(1)"
   ]
  },
  {
   "cell_type": "code",
   "execution_count": null,
   "id": "fbb92368-597f-4cc3-ba02-cc5455e8e442",
   "metadata": {},
   "outputs": [],
   "source": [
    "all_pbi_to_check_df.shape"
   ]
  },
  {
   "cell_type": "code",
   "execution_count": null,
   "id": "87bd1f3c-3469-4502-ba08-1ee5a920d68e",
   "metadata": {},
   "outputs": [],
   "source": []
  },
  {
   "cell_type": "code",
   "execution_count": null,
   "id": "ba2aef63-bffd-43a7-a34b-878315910aa0",
   "metadata": {},
   "outputs": [],
   "source": []
  },
  {
   "cell_type": "markdown",
   "id": "34c1890e-bdfc-43ea-a65e-ee91566d0a1e",
   "metadata": {},
   "source": [
    "## Get Slopes Components Only"
   ]
  },
  {
   "cell_type": "code",
   "execution_count": null,
   "id": "1ab47e0b-e497-439f-b52d-d1e2a6885c02",
   "metadata": {},
   "outputs": [],
   "source": [
    "all_pbi_to_check_df['Component_type'] = all_pbi_to_check_df['Component.slug'].apply(lambda x: determine_component(x))"
   ]
  },
  {
   "cell_type": "code",
   "execution_count": null,
   "id": "689403d9-7275-4f66-b12e-da312b7fcccb",
   "metadata": {},
   "outputs": [],
   "source": [
    "set(all_pbi_to_check_df['Component_type'])"
   ]
  },
  {
   "cell_type": "code",
   "execution_count": null,
   "id": "348da53f-ec58-41a9-a500-b1b3a3acd766",
   "metadata": {},
   "outputs": [],
   "source": [
    "all_pbi_to_check_df.groupby(['Component_type'])['Component.slug'].nunique().to_frame()"
   ]
  },
  {
   "cell_type": "code",
   "execution_count": null,
   "id": "24531232-2699-47d1-b8e1-4ecea4097110",
   "metadata": {},
   "outputs": [],
   "source": [
    "slope_slugs_df = all_pbi_to_check_df[all_pbi_to_check_df['Component_type']=='Slopes']"
   ]
  },
  {
   "cell_type": "code",
   "execution_count": null,
   "id": "ff1326c7-44c5-4998-9574-6e17826f1687",
   "metadata": {},
   "outputs": [],
   "source": [
    "slope_slugs_df.head()"
   ]
  },
  {
   "cell_type": "code",
   "execution_count": null,
   "id": "f4263444-e3bb-4a70-bacb-0865bf8c98a7",
   "metadata": {},
   "outputs": [],
   "source": [
    "slope_slugs_df.groupby(['Customer.name', 'Location.name'])['Component.slug'].nunique()"
   ]
  },
  {
   "cell_type": "code",
   "execution_count": null,
   "id": "15214aec-9767-442c-b0af-95cb95200572",
   "metadata": {},
   "outputs": [],
   "source": [
    "slope_slugs_df.rename(columns={\n",
    "    'Inspection.slug': 'slug',\t\n",
    "    'Component.wall_nominal_thickness': 'nominal',\n",
    "}, inplace=True)"
   ]
  },
  {
   "cell_type": "code",
   "execution_count": null,
   "id": "5b67b72f-66ce-4095-aeb9-3d885fda165f",
   "metadata": {},
   "outputs": [],
   "source": [
    "slope_slugs_df['nominal'].isnull().sum()"
   ]
  },
  {
   "cell_type": "code",
   "execution_count": null,
   "id": "8319ce63-b1c9-46b2-a5df-8c8b53f750f0",
   "metadata": {},
   "outputs": [],
   "source": [
    "slope_slugs_df.shape[0]"
   ]
  },
  {
   "cell_type": "code",
   "execution_count": null,
   "id": "81797ef9-7b79-4e65-8c8a-1e669330830e",
   "metadata": {},
   "outputs": [],
   "source": [
    "slope_slugs_df[slope_slugs_df['nominal']==0.012]"
   ]
  },
  {
   "cell_type": "code",
   "execution_count": null,
   "id": "c334697e-1edb-4f3d-b931-eef83e9fcee3",
   "metadata": {},
   "outputs": [],
   "source": [
    "slopes_df = slope_slugs_df[(~slope_slugs_df.nominal.isnull()) & (slope_slugs_df.nominal!=0.012)]"
   ]
  },
  {
   "cell_type": "code",
   "execution_count": null,
   "id": "75057664-285d-45a5-a492-9ab78fc596ef",
   "metadata": {},
   "outputs": [],
   "source": [
    "set(slopes_df['nominal'])"
   ]
  },
  {
   "cell_type": "code",
   "execution_count": null,
   "id": "0eacbb22-fcb4-4472-afae-bcb078fbae6d",
   "metadata": {},
   "outputs": [],
   "source": [
    "slopes_df.shape"
   ]
  },
  {
   "cell_type": "code",
   "execution_count": null,
   "id": "799db1ec-03d7-4803-b405-5f8d5951c901",
   "metadata": {},
   "outputs": [],
   "source": [
    "slopes_df[slopes_df['nominal']<0.22].shape"
   ]
  },
  {
   "cell_type": "code",
   "execution_count": null,
   "id": "1d84538b-f3fa-4988-8ae4-63a3be63459e",
   "metadata": {},
   "outputs": [],
   "source": [
    "slopes_df.reset_index(inplace=True)"
   ]
  },
  {
   "cell_type": "code",
   "execution_count": null,
   "id": "477df453-4125-4663-943c-5b23bb29f277",
   "metadata": {},
   "outputs": [],
   "source": [
    "slopes_histogram_df, slopes_hist_error_slug_list = get_thickness_histogram(slopes_df)"
   ]
  },
  {
   "cell_type": "code",
   "execution_count": null,
   "id": "4cef0ef4-bc79-4621-92c0-aed6efe80854",
   "metadata": {},
   "outputs": [],
   "source": [
    "slopes_comb_df = slopes_df.merge(slopes_histogram_df, how='inner', on=['slug', 'nominal'])"
   ]
  },
  {
   "cell_type": "code",
   "execution_count": null,
   "id": "982b5171-6bac-4ffd-aff1-8a7a599c7e53",
   "metadata": {},
   "outputs": [],
   "source": [
    "slopes_comb_df.drop(columns='index', inplace=True)"
   ]
  },
  {
   "cell_type": "code",
   "execution_count": null,
   "id": "bd67fff6-afaa-4e74-bd41-f262a125bf93",
   "metadata": {},
   "outputs": [],
   "source": [
    "slopes_comb_df.head()"
   ]
  },
  {
   "cell_type": "code",
   "execution_count": null,
   "id": "9b10a3ef-5ff9-49dc-b2fa-7742a63f747d",
   "metadata": {},
   "outputs": [],
   "source": [
    "slopes_comb_df.shape"
   ]
  },
  {
   "cell_type": "code",
   "execution_count": null,
   "id": "8902f6eb-cf1b-48d7-8f82-f53a4ded2613",
   "metadata": {},
   "outputs": [],
   "source": [
    "# slopes_comb_df.to_csv('../data/outputs/raw_slopes.csv')"
   ]
  },
  {
   "cell_type": "code",
   "execution_count": null,
   "id": "8fa5d0a7-1248-44cc-9742-0b131bc80a8b",
   "metadata": {},
   "outputs": [],
   "source": [
    "slopes_comb_df[(slopes_comb_df['Customer.name'].isin(POWER_CUST_LIST))].shape"
   ]
  },
  {
   "cell_type": "code",
   "execution_count": null,
   "id": "33fabce9-e45d-4891-bcd8-030626331c4f",
   "metadata": {},
   "outputs": [],
   "source": [
    "slopes_comb_df[(slopes_comb_df['Customer.name'].isin(POWER_CUST_LIST)) & (slopes_df['nominal']<0.24)].shape"
   ]
  },
  {
   "cell_type": "code",
   "execution_count": null,
   "id": "f27fc742-5fe9-4e9c-9ea0-69d92ec314ab",
   "metadata": {},
   "outputs": [],
   "source": [
    "slopes_comb_df[(slopes_comb_df['Customer.name'].isin(POWER_CUST_LIST)) & (slopes_df['nominal']<0.22)].shape"
   ]
  },
  {
   "cell_type": "code",
   "execution_count": null,
   "id": "5377f0a3-f26b-44e7-9069-cb4966d80e9f",
   "metadata": {},
   "outputs": [],
   "source": [
    "slopes_comb_df.columns"
   ]
  },
  {
   "cell_type": "code",
   "execution_count": null,
   "id": "01c2cc6e-be02-4417-9451-14986e7236a6",
   "metadata": {},
   "outputs": [],
   "source": [
    "slopes_comb_df.groupby(['Component_type'])[\n",
    "    'Bins w 10% Loss',\n",
    "    'Bins w 20% Loss',\n",
    "    'Bins w 30% Loss',\n",
    "    'Bins w 40% Loss',\n",
    "    'Bins w 50% Loss',\n",
    "    'Bins w 60% Loss',\n",
    "    'Bins w 70% Loss',\n",
    "    'Bins w 80% Loss',\n",
    "    'Bins w 90% Loss',\n",
    "    'nominal',\n",
    "    'tubes_inspected',\n",
    "    'bins_collected'\n",
    "].median()"
   ]
  },
  {
   "cell_type": "code",
   "execution_count": null,
   "id": "aa72cc31-8a5c-4417-ac6e-d0333377b140",
   "metadata": {},
   "outputs": [],
   "source": [
    "slopes_comb_df[(slopes_comb_df['Customer.name'].isin(POWER_CUST_LIST))].groupby(['Component_type'])[\n",
    "    'Bins w 10% Loss',\n",
    "    'Bins w 20% Loss',\n",
    "    'Bins w 30% Loss',\n",
    "    'Bins w 40% Loss',\n",
    "    'Bins w 50% Loss',\n",
    "    'Bins w 60% Loss',\n",
    "    'Bins w 70% Loss',\n",
    "    'Bins w 80% Loss',\n",
    "    'Bins w 90% Loss',\n",
    "    'nominal',\n",
    "    'tubes_inspected',\n",
    "    'bins_collected'\n",
    "].median()"
   ]
  },
  {
   "cell_type": "code",
   "execution_count": null,
   "id": "6fbdc876-2379-4da2-b2c7-4cba0a0e9195",
   "metadata": {},
   "outputs": [],
   "source": [
    "slopes_comb_df[(slopes_comb_df['Customer.name'].isin(POWER_CUST_LIST)) & (slopes_df['nominal']<0.22)].groupby(['Component_type'])[\n",
    "    'Bins w 10% Loss',\n",
    "    'Bins w 20% Loss',\n",
    "    'Bins w 30% Loss',\n",
    "    'Bins w 40% Loss',\n",
    "    'Bins w 50% Loss',\n",
    "    'Bins w 60% Loss',\n",
    "    'Bins w 70% Loss',\n",
    "    'Bins w 80% Loss',\n",
    "    'Bins w 90% Loss',\n",
    "    'nominal',\n",
    "    'tubes_inspected',\n",
    "    'bins_collected'\n",
    "].median()"
   ]
  },
  {
   "cell_type": "code",
   "execution_count": null,
   "id": "e2605c2c-4dc1-407d-bc4f-935aafd691a9",
   "metadata": {},
   "outputs": [],
   "source": [
    "slopes_comb_df[(slopes_comb_df['Customer.name'].isin(POWER_CUST_LIST)) & (slopes_df['nominal']>=0.24)].shape"
   ]
  },
  {
   "cell_type": "code",
   "execution_count": null,
   "id": "5482e75e-bc29-418e-9b7d-4c8287e03dd2",
   "metadata": {},
   "outputs": [],
   "source": [
    "slopes_comb_df[(slopes_comb_df['Customer.name'].isin(POWER_CUST_LIST)) & (slopes_df['nominal']>0.24)].groupby(['Component_type'])[\n",
    "    'Bins w 10% Loss',\n",
    "    'Bins w 20% Loss',\n",
    "    'Bins w 30% Loss',\n",
    "    'Bins w 40% Loss',\n",
    "    'Bins w 50% Loss',\n",
    "    'Bins w 60% Loss',\n",
    "    'Bins w 70% Loss',\n",
    "    'Bins w 80% Loss',\n",
    "    'Bins w 90% Loss',\n",
    "    'nominal',\n",
    "    'tubes_inspected',\n",
    "    'bins_collected'\n",
    "].median()"
   ]
  },
  {
   "cell_type": "code",
   "execution_count": null,
   "id": "f5280006-a7e3-4640-bbee-ac0214334f65",
   "metadata": {},
   "outputs": [],
   "source": [
    "slopes_comb_df[(slopes_comb_df['Customer.name'].isin(POWER_CUST_LIST)) & (slopes_df['nominal']<=0.24)].shape"
   ]
  },
  {
   "cell_type": "code",
   "execution_count": null,
   "id": "b09de670-57a5-443a-974e-4ac79094b648",
   "metadata": {},
   "outputs": [],
   "source": [
    "slopes_comb_df[(slopes_comb_df['Customer.name'].isin(POWER_CUST_LIST)) & (slopes_df['nominal']<=0.24)].groupby(['Component_type'])[\n",
    "    'Bins w 10% Loss',\n",
    "    'Bins w 20% Loss',\n",
    "    'Bins w 30% Loss',\n",
    "    'Bins w 40% Loss',\n",
    "    'Bins w 50% Loss',\n",
    "    'Bins w 60% Loss',\n",
    "    'Bins w 70% Loss',\n",
    "    'Bins w 80% Loss',\n",
    "    'Bins w 90% Loss',\n",
    "    'nominal',\n",
    "    'tubes_inspected',\n",
    "    'bins_collected'\n",
    "].median()"
   ]
  },
  {
   "cell_type": "code",
   "execution_count": null,
   "id": "56365ae3-c559-4794-88b7-0c326bd02267",
   "metadata": {},
   "outputs": [],
   "source": [
    "slopes_comb_df[slopes_comb_df['Customer.name']=='Duke Energy']"
   ]
  },
  {
   "cell_type": "code",
   "execution_count": null,
   "id": "af9217ec-137d-4316-a45c-64fe64bf4dbd",
   "metadata": {},
   "outputs": [],
   "source": [
    "IIR_ID_slopes_df = pd.read_csv('../data/intermediate/slopes_wIIR_id.csv')"
   ]
  },
  {
   "cell_type": "code",
   "execution_count": null,
   "id": "3bde498d-b684-4f2d-a0bb-98dedcb0196b",
   "metadata": {},
   "outputs": [],
   "source": [
    "IIR_ID_slopes_df.head(1)"
   ]
  },
  {
   "cell_type": "code",
   "execution_count": null,
   "id": "0c46d972-04a9-46c3-a34f-ea4d1638d343",
   "metadata": {},
   "outputs": [],
   "source": [
    "IIR_ID_slopes_df.IIR_UNIT_ID = IIR_ID_slopes_df.IIR_UNIT_ID.astype(int)"
   ]
  },
  {
   "cell_type": "code",
   "execution_count": null,
   "id": "58377fd2-8643-4464-8835-28d92495754b",
   "metadata": {},
   "outputs": [],
   "source": [
    "us_boilers_df.head(1)"
   ]
  },
  {
   "cell_type": "code",
   "execution_count": null,
   "id": "0f15c1b0-3690-44df-802a-d533fcba85c8",
   "metadata": {},
   "outputs": [],
   "source": [
    "enriched_slopes_aggs_df = IIR_ID_slopes_df.merge(us_boilers_df, how='left', left_on='IIR_UNIT_ID', right_on='UNIT_ID')"
   ]
  },
  {
   "cell_type": "code",
   "execution_count": null,
   "id": "4fd58886-8eb0-4fec-929d-90ff7afd1ed2",
   "metadata": {},
   "outputs": [],
   "source": [
    "enriched_slopes_aggs_df.head(1)"
   ]
  },
  {
   "cell_type": "code",
   "execution_count": null,
   "id": "2fc1369b-7f51-46ea-bd17-47348d75455b",
   "metadata": {},
   "outputs": [],
   "source": [
    "enriched_slopes_aggs_df[(enriched_slopes_aggs_df['Customer.name'].isin(POWER_CUST_LIST)) & (enriched_slopes_aggs_df['nominal']<=0.24)].groupby(['FUEL_GROUP'])['slug'].nunique()"
   ]
  },
  {
   "cell_type": "code",
   "execution_count": null,
   "id": "0accc97f-0f96-4fb8-bb03-8506cb43cfd1",
   "metadata": {},
   "outputs": [],
   "source": [
    "enriched_slopes_aggs_df[(enriched_slopes_aggs_df['Customer.name'].isin(POWER_CUST_LIST)) & (enriched_slopes_aggs_df['nominal']<=0.24)].groupby(['PRIM_FUEL'])['slug'].nunique()"
   ]
  },
  {
   "cell_type": "code",
   "execution_count": null,
   "id": "88e573fa-7c89-4f7a-9268-8c50342eee30",
   "metadata": {},
   "outputs": [],
   "source": []
  },
  {
   "cell_type": "code",
   "execution_count": null,
   "id": "5a6398b9-aaa2-48df-9479-cb9ca0f103cd",
   "metadata": {},
   "outputs": [],
   "source": [
    "enriched_slopes_aggs_df.shape"
   ]
  },
  {
   "cell_type": "code",
   "execution_count": null,
   "id": "c9b4ea37-6038-4038-9a5f-5c3910e999dc",
   "metadata": {},
   "outputs": [],
   "source": [
    "enriched_slopes_aggs_df.to_csv('../data/outputs/agg_slopes_data.csv')"
   ]
  },
  {
   "cell_type": "code",
   "execution_count": null,
   "id": "8fce9dbf-3c77-44b1-99f5-f65cc50be6ba",
   "metadata": {},
   "outputs": [],
   "source": []
  },
  {
   "cell_type": "code",
   "execution_count": null,
   "id": "6f42e644-6963-4d04-9bb8-de118dfe0f59",
   "metadata": {},
   "outputs": [],
   "source": []
  },
  {
   "cell_type": "code",
   "execution_count": null,
   "id": "42dc9526-1a58-4706-a1cd-0209063d077c",
   "metadata": {},
   "outputs": [],
   "source": [
    "all_pbi_to_check_df.rename(columns={\n",
    "    'Inspection.slug': 'slug',\t\n",
    "    'Component.wall_nominal_thickness': 'nominal',\n",
    "}, inplace=True)\n",
    "\n",
    "null_nominals = all_pbi_to_check_df['nominal'].isnull().sum()\n",
    "null_nominals_aspercentage = round(100*null_nominals/all_pbi_to_check_df.shape[0], 2)\n",
    "\n",
    "median_nominal = all_pbi_to_check_df['nominal'].median()\n",
    "\n",
    "print('Nominals with null value: {} , or {}% of total'.format(null_nominals, null_nominals_aspercentage))\n",
    "print('Nominal used to fillna:  {}'.format(median_nominal))\n",
    "\n",
    "all_pbi_to_check_df['nominal'].fillna(median_nominal, inplace=True)"
   ]
  },
  {
   "cell_type": "code",
   "execution_count": null,
   "id": "b03a2572-7907-4a90-800e-2c77581d15bb",
   "metadata": {},
   "outputs": [],
   "source": []
  },
  {
   "cell_type": "code",
   "execution_count": null,
   "id": "64151c0a-243e-4994-87f9-bc95dfee2f9c",
   "metadata": {},
   "outputs": [],
   "source": []
  },
  {
   "cell_type": "code",
   "execution_count": null,
   "id": "f8c7f19d-5b7f-4fd8-b169-7c8a0e7cd564",
   "metadata": {},
   "outputs": [],
   "source": []
  },
  {
   "cell_type": "code",
   "execution_count": null,
   "id": "fa5423ae-b206-489c-9f1a-9a62eefaddc2",
   "metadata": {},
   "outputs": [],
   "source": []
  },
  {
   "cell_type": "markdown",
   "id": "cb16ad47-6fee-4f53-a1fe-1181311395a7",
   "metadata": {},
   "source": [
    "## Error checking and handling"
   ]
  },
  {
   "cell_type": "code",
   "execution_count": null,
   "id": "21104751-d1d7-4058-9bdc-cb2ab1b8931a",
   "metadata": {},
   "outputs": [],
   "source": [
    "len(error_slug_list)"
   ]
  },
  {
   "cell_type": "code",
   "execution_count": null,
   "id": "5df30e58-776e-40de-855a-477da6a28ccb",
   "metadata": {},
   "outputs": [],
   "source": [
    "error_slug_list"
   ]
  },
  {
   "cell_type": "code",
   "execution_count": null,
   "id": "b0dd4c45-ca4b-4333-bfe1-5d3c69107f82",
   "metadata": {},
   "outputs": [],
   "source": [
    "error_df = ref_df[ref_df['Inspection.slug'].isin(error_slug_list)]"
   ]
  },
  {
   "cell_type": "code",
   "execution_count": null,
   "id": "9d90ffc2-d6e6-45cb-b58c-36351c8a4bdd",
   "metadata": {},
   "outputs": [],
   "source": [
    "dominion_mtstorm_unit_1 = ['20220919-072202', '20220919-f40fdc', '20220919-35548d', '20220917-b520a5']\n",
    "great_river_spiritwood_unit_1 = ['20220507-caec3a', '20220507-182a26', '20220506-c90d1d', '20220506-396ef9']\n",
    "aes_warrior_run_unit_1 = ['20220509-27e470', '20220509-addaf6', '20220509-0849bd']"
   ]
  },
  {
   "cell_type": "code",
   "execution_count": null,
   "id": "aea31bec-eccd-4852-b6fd-a171c601e8a0",
   "metadata": {},
   "outputs": [],
   "source": [
    "unchecked_error_df = error_df[\n",
    "    (~error_df['Inspection.slug'].isin(dominion_mtstorm_unit_1)) & \n",
    "    (~error_df['Inspection.slug'].isin(great_river_spiritwood_unit_1)) &\n",
    "    (~error_df['Inspection.slug'].isin(aes_warrior_run_unit_1))\n",
    "]"
   ]
  },
  {
   "cell_type": "code",
   "execution_count": null,
   "id": "02edc830-9508-4ead-b29b-6608debd1123",
   "metadata": {},
   "outputs": [],
   "source": [
    "unchecked_error_df"
   ]
  },
  {
   "cell_type": "code",
   "execution_count": null,
   "id": "6ad98c44-b881-4a31-ab2f-aeb895d10fa3",
   "metadata": {},
   "outputs": [],
   "source": []
  },
  {
   "cell_type": "code",
   "execution_count": null,
   "id": "f60774d1-ce7e-4535-b2ce-7a9eda7b540c",
   "metadata": {},
   "outputs": [],
   "source": [
    "#get_inspection_df('20220310-990386')"
   ]
  },
  {
   "cell_type": "code",
   "execution_count": null,
   "id": "9ff35b0e-813c-4422-b6db-0576a8e85c59",
   "metadata": {},
   "outputs": [],
   "source": []
  },
  {
   "cell_type": "code",
   "execution_count": null,
   "id": "ba8cc4d7-c74a-4732-89ef-07f02d6d1899",
   "metadata": {},
   "outputs": [],
   "source": []
  },
  {
   "cell_type": "code",
   "execution_count": null,
   "id": "d4b39eeb-e30b-413f-a50f-22e4b5ea04c9",
   "metadata": {},
   "outputs": [],
   "source": []
  },
  {
   "cell_type": "code",
   "execution_count": null,
   "id": "16070e5f-6c50-45b9-9a60-054dc4dd36ea",
   "metadata": {},
   "outputs": [],
   "source": []
  },
  {
   "cell_type": "code",
   "execution_count": null,
   "id": "73583479-394b-4e44-8b54-155293615e41",
   "metadata": {},
   "outputs": [],
   "source": []
  },
  {
   "cell_type": "code",
   "execution_count": null,
   "id": "4bc68eb8-88ff-46f1-a5c3-7d4f56c7f6bc",
   "metadata": {},
   "outputs": [],
   "source": []
  },
  {
   "cell_type": "markdown",
   "id": "3202c4a4-90ee-4616-8a1d-21456e4f2ab4",
   "metadata": {},
   "source": [
    "## Davos - Jake"
   ]
  },
  {
   "cell_type": "code",
   "execution_count": null,
   "id": "c8e4c09f-8c59-4e13-9739-4c5711a3cc4d",
   "metadata": {},
   "outputs": [],
   "source": [
    "jake_davos_threshold = 0.6\n",
    "# jake_davos_df, davos_error_slug_list = check_thickness(all_pbi_to_check_df, jake_davos_threshold)"
   ]
  },
  {
   "cell_type": "code",
   "execution_count": null,
   "id": "8c7c7a2f-f0c7-43de-9b4c-dcdd3ca3efd1",
   "metadata": {},
   "outputs": [],
   "source": [
    "# ratio = 100*(jake_davos_df[jake_davos_df.critical_bins != 0].shape[0] / jake_davos_df.shape[0])"
   ]
  },
  {
   "cell_type": "code",
   "execution_count": null,
   "id": "fd8b120e-a6a7-4296-b540-ffa9b43204d8",
   "metadata": {},
   "outputs": [],
   "source": [
    "# ratio"
   ]
  },
  {
   "cell_type": "code",
   "execution_count": null,
   "id": "1e2d1889-d359-498a-a0d3-1eec226f753a",
   "metadata": {},
   "outputs": [],
   "source": [
    "round(ratio, 2)"
   ]
  },
  {
   "cell_type": "code",
   "execution_count": null,
   "id": "d8317b0e-9b7a-4f5d-a169-7b4411270545",
   "metadata": {},
   "outputs": [],
   "source": []
  },
  {
   "cell_type": "code",
   "execution_count": null,
   "id": "ca233daa-e54a-4eac-bed2-2b955e16d5e8",
   "metadata": {},
   "outputs": [],
   "source": [
    "len(davos_error_slug_list)"
   ]
  },
  {
   "cell_type": "code",
   "execution_count": null,
   "id": "8609089b-4b4d-415a-a8dd-80d71415e828",
   "metadata": {},
   "outputs": [],
   "source": []
  },
  {
   "cell_type": "code",
   "execution_count": null,
   "id": "afc525d9-2346-457c-b525-16cded513e10",
   "metadata": {},
   "outputs": [],
   "source": []
  },
  {
   "cell_type": "code",
   "execution_count": null,
   "id": "173cf056-6470-475f-8cc8-75dc0fc1aa75",
   "metadata": {},
   "outputs": [],
   "source": []
  },
  {
   "cell_type": "markdown",
   "id": "a4871a39-369d-4591-9032-bb6b35cfac13",
   "metadata": {},
   "source": [
    "# Use Histogram Generator"
   ]
  },
  {
   "cell_type": "code",
   "execution_count": null,
   "id": "8a75b0ec-d93b-489a-92bd-71012bc3602e",
   "metadata": {},
   "outputs": [],
   "source": [
    "# histogram_df, hist_error_slug_list = get_thickness_histogram(all_pbi_to_check_df)"
   ]
  },
  {
   "cell_type": "code",
   "execution_count": null,
   "id": "2e60cf2e-598b-4e0c-ae88-213101967fca",
   "metadata": {},
   "outputs": [],
   "source": [
    "histogram_df.head()"
   ]
  },
  {
   "cell_type": "code",
   "execution_count": null,
   "id": "da91f0de-9b08-4a62-b608-aef895ced547",
   "metadata": {},
   "outputs": [],
   "source": [
    "histogram_df.shape"
   ]
  },
  {
   "cell_type": "code",
   "execution_count": null,
   "id": "724c457d-e817-4538-9b24-63a1de47bb2a",
   "metadata": {},
   "outputs": [],
   "source": [
    "len(hist_error_slug_list)"
   ]
  },
  {
   "cell_type": "code",
   "execution_count": null,
   "id": "2f51aad6-3630-498c-86c7-321ad9e066ad",
   "metadata": {},
   "outputs": [],
   "source": []
  },
  {
   "cell_type": "code",
   "execution_count": null,
   "id": "bed08ed3-f741-45b0-a8e6-5fc6a307c856",
   "metadata": {},
   "outputs": [],
   "source": []
  },
  {
   "cell_type": "code",
   "execution_count": null,
   "id": "498fc442-b450-4ea5-9d02-55143858def0",
   "metadata": {},
   "outputs": [],
   "source": [
    "enriched_hist_df = histogram_df.merge(all_pbi_to_check_df.loc[:,(\n",
    "    'slug',\n",
    "    'Customer.name',\n",
    "    'Location.name',\n",
    "    'Location.city',\n",
    "    'Unit.name',\n",
    "    'Unit.slug',\n",
    "    'Component.slug',\n",
    ")], how='left', on='slug')"
   ]
  },
  {
   "cell_type": "code",
   "execution_count": null,
   "id": "7b632135-1608-4cf6-9285-df9a7fa61948",
   "metadata": {},
   "outputs": [],
   "source": [
    "enriched_hist_df.head(1)"
   ]
  },
  {
   "cell_type": "code",
   "execution_count": null,
   "id": "2dcbefc4-4a1b-461f-95b6-b4812388eaf2",
   "metadata": {},
   "outputs": [],
   "source": [
    "enriched_hist_df.shape"
   ]
  },
  {
   "cell_type": "code",
   "execution_count": null,
   "id": "ed976649-0bd1-44d5-8a62-27987ef35478",
   "metadata": {},
   "outputs": [],
   "source": []
  },
  {
   "cell_type": "code",
   "execution_count": null,
   "id": "63e3c9c4-7696-4f27-962d-89fc7d3666d7",
   "metadata": {},
   "outputs": [],
   "source": []
  },
  {
   "cell_type": "code",
   "execution_count": null,
   "id": "42633304-9316-4aee-9f9b-eade23dc074a",
   "metadata": {},
   "outputs": [],
   "source": [
    "clean_hist_df = enriched_hist_df.loc[:, (\n",
    "    'Customer.name',\n",
    "    'Location.name',\n",
    "    'Location.city',\n",
    "    'Unit.name',\n",
    "    'Unit.slug',\n",
    "    'Component.slug',\n",
    "    'slug',\n",
    "    'nominal',\n",
    "    'min_t',\n",
    "    'max_t',\n",
    "    'tubes_inspected',\n",
    "    'bins_collected',\n",
    "    'Tubes w 10% Loss',\n",
    "    'Tubes w 20% Loss',\n",
    "    'Tubes w 30% Loss',\n",
    "    'Tubes w 40% Loss',\n",
    "    'Tubes w 50% Loss',\n",
    "    'Tubes w 60% Loss',\n",
    "    'Tubes w 70% Loss',\n",
    "    'Tubes w 80% Loss',\n",
    "    'Tubes w 90% Loss',\n",
    "    'Bins w 10% Loss',\n",
    "    'Bins w 20% Loss',\n",
    "    'Bins w 30% Loss',\n",
    "    'Bins w 40% Loss',\n",
    "    'Bins w 50% Loss',\n",
    "    'Bins w 60% Loss',\n",
    "    'Bins w 70% Loss',\n",
    "    'Bins w 80% Loss',\n",
    "    'Bins w 90% Loss'\n",
    ")]"
   ]
  },
  {
   "cell_type": "code",
   "execution_count": null,
   "id": "0939a495-66a9-4c39-b64d-8810b8a30bab",
   "metadata": {},
   "outputs": [],
   "source": [
    "# NOTE this relies on an assume 3in bin size\n",
    "clean_hist_df['tube_feet_inspected'] = clean_hist_df['bins_collected']*3/12 # convert to tube feet ?"
   ]
  },
  {
   "cell_type": "code",
   "execution_count": null,
   "id": "b5227517-5361-4355-b601-12dc5718a5e7",
   "metadata": {},
   "outputs": [],
   "source": [
    "clean_hist_df.head(1)"
   ]
  },
  {
   "cell_type": "code",
   "execution_count": null,
   "id": "88b939d8-b76f-4496-b874-08f9915b1cd1",
   "metadata": {},
   "outputs": [],
   "source": [
    "clean_hist_df.shape"
   ]
  },
  {
   "cell_type": "code",
   "execution_count": null,
   "id": "e1b2cadd-0854-4ecc-a2f2-6023b2333f8c",
   "metadata": {},
   "outputs": [],
   "source": []
  },
  {
   "cell_type": "markdown",
   "id": "7ea53d3c-4f9e-408e-94b4-b06ae52bd2c6",
   "metadata": {},
   "source": [
    "## Filter for just the power customers identified"
   ]
  },
  {
   "cell_type": "code",
   "execution_count": null,
   "id": "ee34c867-71f8-4635-9354-cba6b5eb7498",
   "metadata": {},
   "outputs": [],
   "source": [
    "power_hist_df = clean_hist_df[clean_hist_df['Customer.name'].isin(POWER_CUST_LIST)]"
   ]
  },
  {
   "cell_type": "code",
   "execution_count": null,
   "id": "0f6f1015-b52d-4581-9ee8-99d8706816c6",
   "metadata": {},
   "outputs": [],
   "source": []
  },
  {
   "cell_type": "code",
   "execution_count": null,
   "id": "e31f390a-4786-4853-803b-2d93de5a36ee",
   "metadata": {},
   "outputs": [],
   "source": [
    "site_grouped_hist = clean_hist_df.groupby(['Customer.name', 'Location.name'])[\n",
    "    'Tubes w 10% Loss',\n",
    "    'Tubes w 20% Loss',\n",
    "    'Tubes w 30% Loss',\n",
    "    'Tubes w 40% Loss',\n",
    "    'Tubes w 50% Loss',\n",
    "    'Tubes w 60% Loss',\n",
    "    'Tubes w 70% Loss',\n",
    "    'Tubes w 80% Loss',\n",
    "    'Tubes w 90% Loss',\n",
    "    'Bins w 10% Loss',\n",
    "    'Bins w 20% Loss',\n",
    "    'Bins w 30% Loss',\n",
    "    'Bins w 40% Loss',\n",
    "    'Bins w 50% Loss',\n",
    "    'Bins w 60% Loss',\n",
    "    'Bins w 70% Loss',\n",
    "    'Bins w 80% Loss',\n",
    "    'Bins w 90% Loss',\n",
    "    'tube_feet_inspected',\n",
    "    'tubes_inspected',\t\n",
    "    'bins_collected'\n",
    "].sum()"
   ]
  },
  {
   "cell_type": "code",
   "execution_count": null,
   "id": "11083cde-66f8-4264-8553-a83aefbb3522",
   "metadata": {},
   "outputs": [],
   "source": [
    "site_grouped_hist.head(25)"
   ]
  },
  {
   "cell_type": "code",
   "execution_count": null,
   "id": "f4c1eb9d-3027-46df-a5b4-7813f1456824",
   "metadata": {},
   "outputs": [],
   "source": []
  },
  {
   "cell_type": "code",
   "execution_count": null,
   "id": "4272a9d1-926c-4d0f-ab46-ae08bb07371e",
   "metadata": {},
   "outputs": [],
   "source": []
  },
  {
   "cell_type": "code",
   "execution_count": null,
   "id": "bf6040c2-491c-43f9-af78-8c6f55849603",
   "metadata": {},
   "outputs": [],
   "source": [
    "unit_grouped_hist = clean_hist_df.groupby(['Customer.name', 'Location.name', 'Unit.name'])[\n",
    "    'Tubes w 10% Loss',\n",
    "    'Tubes w 20% Loss',\n",
    "    'Tubes w 30% Loss',\n",
    "    'Tubes w 40% Loss',\n",
    "    'Tubes w 50% Loss',\n",
    "    'Tubes w 60% Loss',\n",
    "    'Tubes w 70% Loss',\n",
    "    'Tubes w 80% Loss',\n",
    "    'Tubes w 90% Loss',\n",
    "    'Bins w 10% Loss',\n",
    "    'Bins w 20% Loss',\n",
    "    'Bins w 30% Loss',\n",
    "    'Bins w 40% Loss',\n",
    "    'Bins w 50% Loss',\n",
    "    'Bins w 60% Loss',\n",
    "    'Bins w 70% Loss',\n",
    "    'Bins w 80% Loss',\n",
    "    'Bins w 90% Loss',\n",
    "    'tube_feet_inspected',\n",
    "    'tubes_inspected',\t\n",
    "    'bins_collected'\n",
    "].sum()"
   ]
  },
  {
   "cell_type": "code",
   "execution_count": null,
   "id": "ba9b34c5-06c5-42ad-b7c0-fed47cf7cd44",
   "metadata": {},
   "outputs": [],
   "source": []
  },
  {
   "cell_type": "code",
   "execution_count": null,
   "id": "4e872431-46eb-4366-a514-a05e958b0d5d",
   "metadata": {},
   "outputs": [],
   "source": [
    "unit_grouped_hist.head()"
   ]
  },
  {
   "cell_type": "code",
   "execution_count": null,
   "id": "aeec0fc7-fe1a-407a-96a8-db6b7dde2268",
   "metadata": {},
   "outputs": [],
   "source": [
    "unit_grouped_hist[unit_grouped_hist['Bins w 40% Loss']!=0].shape"
   ]
  },
  {
   "cell_type": "code",
   "execution_count": null,
   "id": "2460bb56-49c6-43a2-a158-65537433a433",
   "metadata": {},
   "outputs": [],
   "source": [
    "unit_grouped_hist[unit_grouped_hist['Bins w 50% Loss']!=0].shape"
   ]
  },
  {
   "cell_type": "code",
   "execution_count": null,
   "id": "f2220883-cdb6-45bf-a50e-0957b6677bf2",
   "metadata": {},
   "outputs": [],
   "source": [
    "unit_grouped_hist[unit_grouped_hist['Bins w 60% Loss']!=0].shape"
   ]
  },
  {
   "cell_type": "code",
   "execution_count": null,
   "id": "4d109ada-c1fa-4abe-88a2-12d85550b017",
   "metadata": {},
   "outputs": [],
   "source": [
    "unit_grouped_hist.shape"
   ]
  },
  {
   "cell_type": "code",
   "execution_count": null,
   "id": "c472db5b-0b53-4d9e-a07f-a82b43ac9c83",
   "metadata": {},
   "outputs": [],
   "source": []
  },
  {
   "cell_type": "markdown",
   "id": "49643db1-23f6-4b5f-9ccf-e7a1dab96920",
   "metadata": {},
   "source": [
    "Save unit_grouped_hist as a csv"
   ]
  },
  {
   "cell_type": "code",
   "execution_count": null,
   "id": "0f091fa8-dfaa-4cc1-b92a-d5d1cfc9631b",
   "metadata": {},
   "outputs": [],
   "source": [
    "# unit_grouped_hist.reset_index().to_csv('data/outputs/unit_grouped_hist.csv')"
   ]
  },
  {
   "cell_type": "code",
   "execution_count": null,
   "id": "875b617b-bbcb-4b1c-bbc9-4a9fc808433e",
   "metadata": {},
   "outputs": [],
   "source": []
  },
  {
   "cell_type": "code",
   "execution_count": null,
   "id": "1113dd1d-1f1d-4a88-9f1b-4b88ed506cb7",
   "metadata": {},
   "outputs": [],
   "source": [
    "component_grouped_hist = clean_hist_df.groupby(['Customer.name', 'Location.name', 'Unit.name', 'Component.slug'])[\n",
    "    'Tubes w 10% Loss',\n",
    "    'Tubes w 20% Loss',\n",
    "    'Tubes w 30% Loss',\n",
    "    'Tubes w 40% Loss',\n",
    "    'Tubes w 50% Loss',\n",
    "    'Tubes w 60% Loss',\n",
    "    'Tubes w 70% Loss',\n",
    "    'Tubes w 80% Loss',\n",
    "    'Tubes w 90% Loss',\n",
    "    'Bins w 10% Loss',\n",
    "    'Bins w 20% Loss',\n",
    "    'Bins w 30% Loss',\n",
    "    'Bins w 40% Loss',\n",
    "    'Bins w 50% Loss',\n",
    "    'Bins w 60% Loss',\n",
    "    'Bins w 70% Loss',\n",
    "    'Bins w 80% Loss',\n",
    "    'Bins w 90% Loss',\n",
    "    'tube_feet_inspected',\n",
    "    'tubes_inspected',\t\n",
    "    'bins_collected'\n",
    "].sum()"
   ]
  },
  {
   "cell_type": "code",
   "execution_count": null,
   "id": "9ef90124-fcdc-4b5b-8409-3bce592c05f2",
   "metadata": {},
   "outputs": [],
   "source": [
    "component_grouped_hist.tail(5)"
   ]
  },
  {
   "cell_type": "code",
   "execution_count": null,
   "id": "1e69242c-6f06-4149-9fad-1dea9cc86bda",
   "metadata": {},
   "outputs": [],
   "source": [
    "component_grouped_hist.shape"
   ]
  },
  {
   "cell_type": "code",
   "execution_count": null,
   "id": "b34d1a30-b1e9-47ba-aba1-cdcf709075b7",
   "metadata": {},
   "outputs": [],
   "source": []
  },
  {
   "cell_type": "markdown",
   "id": "e3de0d97-2c40-4334-82b6-3345a4646dd1",
   "metadata": {},
   "source": [
    "My Thoughts:\n",
    "\n",
    "- we probably want to find a better way to combine aggregates for the same component slug, we currently sum, but if those are 2 separate inspections did they cover the same section ?  Were they at different dates ?  there is more nuance that is not being addressed here\n",
    "\n",
    "- how could we identify weld overlay ?\n",
    "- how can we incorporate the partial inspections into a better model"
   ]
  },
  {
   "cell_type": "markdown",
   "id": "7d9c9a91-a4d3-4918-88a4-b288e3fafbfa",
   "metadata": {},
   "source": [
    "David Wolpa\n",
    " \n",
    "Here are my ideas to increase the value of this data asset:\n",
    "\n",
    "1. Group the slugs into waterwalls and slopes\n",
    "2. include partial boiler scans (vs just relying on full scans) by grouping data into critical bins per 1000 (or some other number) inspected. This makes our sample size much larger improving accuracy and ability to slice data…\n",
    "3. Add meta data like boiler type, and weld overlay amount that we can later filter on to produce most accurate comparisons groups\n",
    "4. bring into radar like y'all are discussing to hydrate initial predictions before we even step foot into a specific boiler\n",
    "5. The sales team already has a tool that calculates how many tube feet a specific boiler has based on eng drawings so we can use that to normalize what we expect to find in specific boiler to our data set that is orgianized by critical bins per 1000 bins inspected"
   ]
  },
  {
   "cell_type": "code",
   "execution_count": null,
   "id": "042120ea-66b8-4f5f-b48d-b751f7101089",
   "metadata": {},
   "outputs": [],
   "source": []
  },
  {
   "cell_type": "code",
   "execution_count": null,
   "id": "23504437-6262-447b-a45f-1a84981aa7c3",
   "metadata": {},
   "outputs": [],
   "source": []
  },
  {
   "cell_type": "markdown",
   "id": "3ff7862f-074f-4c02-8eae-307a9518af87",
   "metadata": {},
   "source": [
    "## Bowen Analysis"
   ]
  },
  {
   "cell_type": "code",
   "execution_count": null,
   "id": "067c7303-118a-46f1-aab8-bff02dde5e48",
   "metadata": {},
   "outputs": [],
   "source": [
    "bowen_df = clean_hist_df[\n",
    "    (clean_hist_df['Customer.name'].str.contains('Southern Co')) & \n",
    "    (clean_hist_df['Location.name'].str.contains('Plant Bowen'))\n",
    "]"
   ]
  },
  {
   "cell_type": "code",
   "execution_count": null,
   "id": "e32ac0d8-6fa8-4323-b177-f2e3f1c2d90f",
   "metadata": {},
   "outputs": [],
   "source": [
    "bowen_df.head(1)"
   ]
  },
  {
   "cell_type": "code",
   "execution_count": null,
   "id": "f2734967-364a-4446-9768-dfd6478d570f",
   "metadata": {
    "tags": []
   },
   "outputs": [],
   "source": [
    "bowen_df.groupby(['Unit.name'])['slug'].nunique().to_frame()"
   ]
  },
  {
   "cell_type": "code",
   "execution_count": null,
   "id": "f8dbfb16-b0e9-4248-880a-55149e3128b5",
   "metadata": {
    "tags": []
   },
   "outputs": [],
   "source": [
    "bowen_unit_1_df = bowen_df[bowen_df['Unit.name']=='Unit 1']"
   ]
  },
  {
   "cell_type": "code",
   "execution_count": null,
   "id": "0167fe9a-0573-4469-9685-05acd75e528b",
   "metadata": {},
   "outputs": [],
   "source": [
    "bowen_unit_1_df"
   ]
  },
  {
   "cell_type": "code",
   "execution_count": null,
   "id": "f0781bc3-5813-479d-aa2a-46733cb3f189",
   "metadata": {},
   "outputs": [],
   "source": [
    "# bowen_unit_1_df.to_csv('../data/outputs/bowen.csv')"
   ]
  },
  {
   "cell_type": "code",
   "execution_count": null,
   "id": "505d36e1-9e7a-473b-bea0-67afa89e815d",
   "metadata": {},
   "outputs": [],
   "source": []
  },
  {
   "cell_type": "code",
   "execution_count": null,
   "id": "cd902e28-9274-4127-913c-8d931f2a67c6",
   "metadata": {},
   "outputs": [],
   "source": []
  },
  {
   "cell_type": "code",
   "execution_count": null,
   "id": "cee9558a-a798-4c73-ac24-55826b0475d9",
   "metadata": {},
   "outputs": [],
   "source": []
  },
  {
   "cell_type": "code",
   "execution_count": null,
   "id": "d58e9097-3854-4c5b-9ccb-12e3e5b4ebab",
   "metadata": {},
   "outputs": [],
   "source": []
  },
  {
   "cell_type": "code",
   "execution_count": null,
   "id": "3fe928ce-10c6-4656-bb7d-6814050ae04a",
   "metadata": {},
   "outputs": [],
   "source": []
  },
  {
   "cell_type": "code",
   "execution_count": null,
   "id": "72745d65-b802-431f-97cf-eece2c18c9e3",
   "metadata": {},
   "outputs": [],
   "source": []
  },
  {
   "cell_type": "code",
   "execution_count": null,
   "id": "3bea7186-3c07-4faf-aecb-8ab949eb5ba6",
   "metadata": {},
   "outputs": [],
   "source": []
  },
  {
   "cell_type": "code",
   "execution_count": null,
   "id": "6eadced4-4783-4c8e-af3c-fcbd3f7dc0c9",
   "metadata": {},
   "outputs": [],
   "source": []
  },
  {
   "cell_type": "code",
   "execution_count": null,
   "id": "c1a6565b-fe7f-4a22-a1fb-5f656299eca4",
   "metadata": {},
   "outputs": [],
   "source": []
  },
  {
   "cell_type": "code",
   "execution_count": null,
   "id": "fbc2414a-f2a8-4a1a-91e0-5de866f8f4bb",
   "metadata": {},
   "outputs": [],
   "source": []
  },
  {
   "cell_type": "code",
   "execution_count": null,
   "id": "6e2fdf7d-4b71-4f86-81a1-a2a9c3c47954",
   "metadata": {},
   "outputs": [],
   "source": []
  },
  {
   "cell_type": "code",
   "execution_count": null,
   "id": "28d8c83d-7d3c-46c4-998d-a3b9cbc67a75",
   "metadata": {},
   "outputs": [],
   "source": []
  },
  {
   "cell_type": "code",
   "execution_count": null,
   "id": "c6b6e7e0-0f9e-4024-90f4-0344a0aedc5f",
   "metadata": {},
   "outputs": [],
   "source": []
  },
  {
   "cell_type": "code",
   "execution_count": null,
   "id": "36f3a8a4-e762-4b74-bb00-79a06b4d3726",
   "metadata": {},
   "outputs": [],
   "source": [
    "hist_values_sum = unit_grouped_hist.sum()\n",
    "hist_cols = unit_grouped_hist.columns"
   ]
  },
  {
   "cell_type": "code",
   "execution_count": null,
   "id": "773a8811-b068-4b65-8f53-0e3e9ab88ab3",
   "metadata": {},
   "outputs": [],
   "source": [
    "hist_values_median = unit_grouped_hist.median()"
   ]
  },
  {
   "cell_type": "code",
   "execution_count": null,
   "id": "df2c6f38-cef7-4fe9-85ef-ade676b60d6f",
   "metadata": {},
   "outputs": [],
   "source": [
    "hist_values_mean = unit_grouped_hist.mean()"
   ]
  },
  {
   "cell_type": "code",
   "execution_count": null,
   "id": "13e16698-a73c-426b-b179-a233259eac1e",
   "metadata": {},
   "outputs": [],
   "source": []
  },
  {
   "cell_type": "code",
   "execution_count": null,
   "id": "fc2df53d-3497-4687-ae97-fb7e46bef3f7",
   "metadata": {},
   "outputs": [],
   "source": []
  },
  {
   "cell_type": "code",
   "execution_count": null,
   "id": "75d7cebe-657f-4d80-9352-7620064ee1db",
   "metadata": {},
   "outputs": [],
   "source": [
    "hist_cols"
   ]
  },
  {
   "cell_type": "code",
   "execution_count": null,
   "id": "9f36ca6f-73ad-4f00-a8f7-b2bb1dbdff5d",
   "metadata": {},
   "outputs": [],
   "source": [
    "fig, ax = plt.subplots()\n",
    "\n",
    "x = hist_cols[9:18]\n",
    "y = hist_values_sum[9:18]\n",
    "width =0.7\n",
    "\n",
    "rects1 = ax.barh(x, y, width, label = 'Status')\n",
    "ax.set_title('US Boiler Wall Loss Histogram')\n",
    "ax.set_ylabel('Count of Bins')\n",
    "#ax.set_xticks(x)\n",
    "#ax.set_xticklabels(x)\n",
    "ax.legend()\n",
    "\n",
    "fig.tight_layout()\n",
    "\n",
    "#plt.axvline(x=2023, c='r')\n",
    "#plt.xticks(np.arange(min(x), max(x)+1, 5))\n",
    "\n",
    "plt.xticks(rotation=0)\n",
    "plt.show()"
   ]
  },
  {
   "cell_type": "code",
   "execution_count": null,
   "id": "94e37cc2-baf1-4256-a544-aba4bdd7d3a3",
   "metadata": {},
   "outputs": [],
   "source": []
  },
  {
   "cell_type": "code",
   "execution_count": null,
   "id": "f40e080e-da65-4f26-9434-5e4badb820b4",
   "metadata": {},
   "outputs": [],
   "source": [
    "fig, ax = plt.subplots()\n",
    "\n",
    "x = hist_cols[0:9]\n",
    "y = hist_values_sum[9:18]\n",
    "width =0.7\n",
    "\n",
    "rects1 = ax.barh(x, y, width, label = 'Status')\n",
    "ax.set_title('US Boiler Wall Loss Histogram')\n",
    "ax.set_ylabel('Count of Tubes')\n",
    "#ax.set_xticks(x)\n",
    "#ax.set_xticklabels(x)\n",
    "ax.legend()\n",
    "\n",
    "fig.tight_layout()\n",
    "\n",
    "#plt.axvline(x=2023, c='r')\n",
    "#plt.xticks(np.arange(min(x), max(x)+1, 5))\n",
    "\n",
    "plt.xticks(rotation=0)\n",
    "plt.show()"
   ]
  },
  {
   "cell_type": "code",
   "execution_count": null,
   "id": "fc818f16-bde6-4536-96b7-4a94455e7e74",
   "metadata": {},
   "outputs": [],
   "source": []
  },
  {
   "cell_type": "code",
   "execution_count": null,
   "id": "5a31f950-c7a9-4ec2-b04f-385d553f01d3",
   "metadata": {},
   "outputs": [],
   "source": [
    "fig, ax = plt.subplots()\n",
    "\n",
    "x = hist_cols[9:18]\n",
    "y = hist_values_median[9:18]\n",
    "width =0.7\n",
    "\n",
    "rects1 = ax.barh(x, y, width, label = 'Status')\n",
    "ax.set_title('US Boiler Wall Loss Histogram')\n",
    "ax.set_ylabel('Count of Bins')\n",
    "#ax.set_xticks(x)\n",
    "#ax.set_xticklabels(x)\n",
    "ax.legend()\n",
    "\n",
    "fig.tight_layout()\n",
    "\n",
    "#plt.axvline(x=2023, c='r')\n",
    "#plt.xticks(np.arange(min(x), max(x)+1, 5))\n",
    "\n",
    "plt.xticks(rotation=0)\n",
    "plt.show()"
   ]
  },
  {
   "cell_type": "code",
   "execution_count": null,
   "id": "ee482c09-376d-4d00-9587-93e71bdaae1d",
   "metadata": {},
   "outputs": [],
   "source": [
    "fig, ax = plt.subplots()\n",
    "\n",
    "x = hist_cols[0:9]\n",
    "y = hist_values_median[0:9]\n",
    "width =0.7\n",
    "\n",
    "rects1 = ax.barh(x, y, width, label = 'Status')\n",
    "ax.set_title('US Boiler Wall Loss Histogram')\n",
    "ax.set_ylabel('Count of Bins')\n",
    "#ax.set_xticks(x)\n",
    "#ax.set_xticklabels(x)\n",
    "ax.legend()\n",
    "\n",
    "fig.tight_layout()\n",
    "\n",
    "#plt.axvline(x=2023, c='r')\n",
    "#plt.xticks(np.arange(min(x), max(x)+1, 5))\n",
    "\n",
    "plt.xticks(rotation=0)\n",
    "plt.show()"
   ]
  },
  {
   "cell_type": "code",
   "execution_count": null,
   "id": "443d76eb-3343-4e85-908e-64eaa4879cf5",
   "metadata": {},
   "outputs": [],
   "source": [
    "fig, ax = plt.subplots()\n",
    "\n",
    "x = hist_cols[9:18]\n",
    "y = hist_values_mean[9:18]\n",
    "width =0.7\n",
    "\n",
    "rects1 = ax.barh(x, y, width, label = 'Status')\n",
    "ax.set_title('US Boiler Wall Loss Histogram')\n",
    "ax.set_ylabel('Count of Bins')\n",
    "#ax.set_xticks(x)\n",
    "#ax.set_xticklabels(x)\n",
    "ax.legend()\n",
    "\n",
    "fig.tight_layout()\n",
    "\n",
    "#plt.axvline(x=2023, c='r')\n",
    "#plt.xticks(np.arange(min(x), max(x)+1, 5))\n",
    "\n",
    "plt.xticks(rotation=0)\n",
    "plt.show()"
   ]
  },
  {
   "cell_type": "code",
   "execution_count": null,
   "id": "f981b56c-a6b4-4664-8c58-b2006f34f1d7",
   "metadata": {},
   "outputs": [],
   "source": [
    "fig, ax = plt.subplots()\n",
    "\n",
    "x = hist_cols[0:9]\n",
    "y = hist_values_mean[0:9]\n",
    "width =0.7\n",
    "\n",
    "rects1 = ax.barh(x, y, width, label = 'Status')\n",
    "ax.set_title('US Boiler Wall Loss Histogram')\n",
    "ax.set_ylabel('Count of Bins')\n",
    "#ax.set_xticks(x)\n",
    "#ax.set_xticklabels(x)\n",
    "ax.legend()\n",
    "\n",
    "fig.tight_layout()\n",
    "\n",
    "#plt.axvline(x=2023, c='r')\n",
    "#plt.xticks(np.arange(min(x), max(x)+1, 5))\n",
    "\n",
    "plt.xticks(rotation=0)\n",
    "plt.show()"
   ]
  },
  {
   "cell_type": "code",
   "execution_count": null,
   "id": "421c40d8-22ff-4e4e-b4a5-d00bf6231ead",
   "metadata": {},
   "outputs": [],
   "source": []
  },
  {
   "cell_type": "code",
   "execution_count": null,
   "id": "1016fce2-b53e-4262-87a6-c72519bbffa6",
   "metadata": {},
   "outputs": [],
   "source": []
  },
  {
   "cell_type": "code",
   "execution_count": null,
   "id": "21acc174-b11c-4e6b-9acf-522ecb787c4e",
   "metadata": {},
   "outputs": [],
   "source": []
  },
  {
   "cell_type": "code",
   "execution_count": null,
   "id": "18936fb1-4a50-4a8c-8091-52ac9a7a2161",
   "metadata": {},
   "outputs": [],
   "source": [
    "unit_grouped_hist.head(1)"
   ]
  },
  {
   "cell_type": "code",
   "execution_count": null,
   "id": "77e36422-1fa7-4bdb-8782-5864d4042339",
   "metadata": {},
   "outputs": [],
   "source": [
    "component_grouped_hist.head(1)"
   ]
  },
  {
   "cell_type": "code",
   "execution_count": null,
   "id": "7cdbb3b6-4785-43fa-88ef-fe5256e1917e",
   "metadata": {},
   "outputs": [],
   "source": [
    "ref_df.head(1)"
   ]
  },
  {
   "cell_type": "markdown",
   "id": "1bfba0b4-cfef-4547-acef-9d3bd1ac6bfe",
   "metadata": {},
   "source": [
    "## Merge crit df and ref df into comb_df"
   ]
  },
  {
   "cell_type": "code",
   "execution_count": null,
   "id": "bc77da3d-1ff3-4d8e-adb6-edbe0a08be48",
   "metadata": {},
   "outputs": [],
   "source": [
    "comb_df = unit_grouped_hist.merge(ref_df, how='left', on=[\n",
    "    'Customer.name', \n",
    "    'Location.name',\n",
    "    'Unit.name'\n",
    "])"
   ]
  },
  {
   "cell_type": "code",
   "execution_count": null,
   "id": "48a33014-51c0-493d-a1c1-043177871d56",
   "metadata": {},
   "outputs": [],
   "source": [
    "comb_df.head()"
   ]
  },
  {
   "cell_type": "code",
   "execution_count": null,
   "id": "34e9a3da-df23-4783-81b2-a52d64de8ad0",
   "metadata": {},
   "outputs": [],
   "source": []
  },
  {
   "cell_type": "code",
   "execution_count": null,
   "id": "d23785b9-b4de-478d-b562-716d959d0740",
   "metadata": {},
   "outputs": [],
   "source": []
  },
  {
   "cell_type": "code",
   "execution_count": null,
   "id": "0c019c0c-7a31-4fe7-8aa8-12e1d6f41bce",
   "metadata": {},
   "outputs": [],
   "source": [
    "component_comb_df = component_grouped_hist.merge(ref_df, how='left', on=[\n",
    "    'Customer.name', \n",
    "    'Location.name',\n",
    "    'Unit.name',\n",
    "    'Component.slug'\n",
    "])"
   ]
  },
  {
   "cell_type": "code",
   "execution_count": null,
   "id": "356a3fcb-5acf-4d8a-bf60-c50f612ccf69",
   "metadata": {},
   "outputs": [],
   "source": [
    "component_comb_df.tail()"
   ]
  },
  {
   "cell_type": "code",
   "execution_count": null,
   "id": "726a57a3-2127-456d-a2b6-ed79be0a67aa",
   "metadata": {},
   "outputs": [],
   "source": []
  },
  {
   "cell_type": "code",
   "execution_count": null,
   "id": "ecfc4a88-f070-41f1-9d85-78d5aeb294da",
   "metadata": {},
   "outputs": [],
   "source": [
    "def determine_component(string):\n",
    "    \"\"\"\n",
    "    Take a component slug and derive the component type\n",
    "    \"\"\"\n",
    "    component_type = 'Other'\n",
    "    \n",
    "    if 'slopes' in str(string).lower():\n",
    "        component_type = 'Slopes'\n",
    "    if 'walls' in str(string).lower():\n",
    "        component_type = 'Walls'\n",
    "    \n",
    "    return component_type"
   ]
  },
  {
   "cell_type": "code",
   "execution_count": null,
   "id": "7d1b141c-4601-4f79-9ebd-4ca46c7acfd2",
   "metadata": {},
   "outputs": [],
   "source": [
    "component_comb_df['Component_type'] = component_comb_df['Component.name'].apply(lambda x: determine_component(x))"
   ]
  },
  {
   "cell_type": "markdown",
   "id": "73669d58-68b2-48ae-80e0-a5ea3acbb575",
   "metadata": {},
   "source": [
    "Ideas here:\n",
    "\n",
    "- if string component.name contains wall\n",
    "- if string component name contains slope"
   ]
  },
  {
   "cell_type": "code",
   "execution_count": null,
   "id": "e280c8b6-d599-4243-b2fb-4fdbc58477c3",
   "metadata": {},
   "outputs": [],
   "source": [
    "set(component_comb_df['Component.name'])"
   ]
  },
  {
   "cell_type": "code",
   "execution_count": null,
   "id": "42f32ab4-6a5e-4e62-afeb-69ed36f0053f",
   "metadata": {},
   "outputs": [],
   "source": [
    "set(component_comb_df['Component_type'])"
   ]
  },
  {
   "cell_type": "code",
   "execution_count": null,
   "id": "67c80340-2352-43b6-b538-124195bf94cb",
   "metadata": {},
   "outputs": [],
   "source": [
    "component_comb_df.groupby(['Component_type'])['Component.slug'].nunique().to_frame()"
   ]
  },
  {
   "cell_type": "code",
   "execution_count": null,
   "id": "e55dd9c5-e394-4e11-b13a-851ed1c86176",
   "metadata": {},
   "outputs": [],
   "source": []
  },
  {
   "cell_type": "code",
   "execution_count": null,
   "id": "9cecc8af-c5a8-4284-ab38-2503688a5fb5",
   "metadata": {},
   "outputs": [],
   "source": []
  },
  {
   "cell_type": "code",
   "execution_count": null,
   "id": "11e6268f-101f-4ab7-9e89-37c1b94c7cab",
   "metadata": {},
   "outputs": [],
   "source": []
  },
  {
   "cell_type": "code",
   "execution_count": null,
   "id": "f00c4532-5940-4911-9548-46693ab0857d",
   "metadata": {},
   "outputs": [],
   "source": []
  },
  {
   "cell_type": "code",
   "execution_count": null,
   "id": "0db7b169-c0bc-49e5-b36a-01c5a8eb0b4d",
   "metadata": {},
   "outputs": [],
   "source": [
    "with open(r'../data/raw_data/power_boiler_inspections_pre2019.json') as json_data:\n",
    "    d = json.loads(json_data.read())\n",
    "    json_data.close()"
   ]
  },
  {
   "cell_type": "code",
   "execution_count": null,
   "id": "46cd84b7-d80d-45b0-99f3-7e84e445a911",
   "metadata": {},
   "outputs": [],
   "source": [
    "power_boiler_inspections19_df = pd.json_normalize(d)"
   ]
  },
  {
   "cell_type": "code",
   "execution_count": null,
   "id": "6230d613-aa68-41e8-a368-7d171f1d8b11",
   "metadata": {},
   "outputs": [],
   "source": [
    "power_boiler_inspections19_df['Unit.id'].nunique()"
   ]
  },
  {
   "cell_type": "code",
   "execution_count": null,
   "id": "decf211c-19ab-4191-8594-3e59b8dbdcac",
   "metadata": {},
   "outputs": [],
   "source": [
    "power_boiler_inspections19_df.head(1)"
   ]
  },
  {
   "cell_type": "code",
   "execution_count": null,
   "id": "0aba6e3e-ff53-4e65-a3d3-ad4eeec3405d",
   "metadata": {},
   "outputs": [],
   "source": [
    "min(power_boiler_inspections19_df['Inspection.date'])"
   ]
  },
  {
   "cell_type": "code",
   "execution_count": null,
   "id": "b91705bd-a810-4b52-8100-3f885b4dd271",
   "metadata": {},
   "outputs": [],
   "source": [
    "max(power_boiler_inspections19_df['Inspection.date'])"
   ]
  },
  {
   "cell_type": "code",
   "execution_count": null,
   "id": "98f6af1a-1070-4e79-b192-2d38dd9ffb2b",
   "metadata": {},
   "outputs": [],
   "source": []
  },
  {
   "cell_type": "code",
   "execution_count": null,
   "id": "244ad179-4bb0-4f51-9009-7a5a1efc7d93",
   "metadata": {},
   "outputs": [],
   "source": []
  },
  {
   "cell_type": "code",
   "execution_count": null,
   "id": "eef7f22f-41ac-46ac-beb8-e123751d7c53",
   "metadata": {},
   "outputs": [],
   "source": [
    "filtered_pre19_power_boiler_inspections_df = power_boiler_inspections19_df.loc[:, (\n",
    "    'Inspection.slug', \n",
    "    'Component.wall_nominal_thickness', \n",
    "    'Component.wall_warning_thickness', \n",
    "    'Component.coating_nominal_thickness',\n",
    "    'Component.slug',\n",
    "    'Unit.name',\n",
    "    'Unit.slug',\n",
    "    'Location.name',\n",
    "    'Location.city',\n",
    "    'Customer.name'\n",
    ")]"
   ]
  },
  {
   "cell_type": "code",
   "execution_count": null,
   "id": "729305d1-15b6-41dc-9fe8-1526d005fdea",
   "metadata": {},
   "outputs": [],
   "source": []
  },
  {
   "cell_type": "code",
   "execution_count": null,
   "id": "b087a2f8-28e2-4e0e-8dfb-8cec6b59f751",
   "metadata": {},
   "outputs": [],
   "source": []
  },
  {
   "cell_type": "code",
   "execution_count": null,
   "id": "10de2859-546f-4e65-9ecf-2808f9e953fd",
   "metadata": {},
   "outputs": [],
   "source": []
  },
  {
   "cell_type": "code",
   "execution_count": null,
   "id": "c2a4d5cf-e9dd-4d17-8a43-dc6cbf2b5c7d",
   "metadata": {},
   "outputs": [],
   "source": [
    "with open(r'../data/raw_data/power_boiler_inspections.json') as json_data:\n",
    "    d = json.loads(json_data.read())\n",
    "    json_data.close()"
   ]
  },
  {
   "cell_type": "code",
   "execution_count": null,
   "id": "4a247c94-8a26-43be-a067-6dc7e6524fae",
   "metadata": {},
   "outputs": [],
   "source": [
    "power_boiler_inspections_df = pd.json_normalize(d)"
   ]
  },
  {
   "cell_type": "code",
   "execution_count": null,
   "id": "ebed9c1c-bf65-4215-b631-10626be22f03",
   "metadata": {},
   "outputs": [],
   "source": [
    "power_boiler_inspections_df.head(1)"
   ]
  },
  {
   "cell_type": "code",
   "execution_count": null,
   "id": "2766b116-049d-445d-a0c8-6a5143e4c2f6",
   "metadata": {},
   "outputs": [],
   "source": [
    "filtered_power_boiler_inspections_df = power_boiler_inspections_df.loc[:, (\n",
    "    'Inspection.slug', \n",
    "    'Component.wall_nominal_thickness', \n",
    "    'Component.wall_warning_thickness', \n",
    "    'Component.coating_nominal_thickness',\n",
    "    'Component.slug',\n",
    "    'Unit.name',\n",
    "    'Unit.slug',\n",
    "    'Location.name',\n",
    "    'Location.city',\n",
    "    'Customer.name'\n",
    ")]"
   ]
  },
  {
   "cell_type": "code",
   "execution_count": null,
   "id": "a49dcb9d-b9a6-4822-b96d-e22e93e4cf71",
   "metadata": {},
   "outputs": [],
   "source": [
    "all_pbi_df = pd.concat([filtered_power_boiler_inspections_df, filtered_pre19_power_boiler_inspections_df])"
   ]
  },
  {
   "cell_type": "code",
   "execution_count": null,
   "id": "cfeb984d-30aa-4124-ad9d-6e3d9f5057ab",
   "metadata": {},
   "outputs": [],
   "source": [
    "all_pbi_df.head(1)"
   ]
  },
  {
   "cell_type": "code",
   "execution_count": null,
   "id": "cf1faf7c-4982-490b-80c9-ca9656e513a7",
   "metadata": {},
   "outputs": [],
   "source": [
    "all_pbi_ordered_df = all_pbi_df.loc[:,(\n",
    "    'Customer.name', \n",
    "    'Location.name', \n",
    "    'Location.city',\n",
    "    'Location.region',\n",
    "    'Location.slack_channel',\n",
    "    'Unit.id',\n",
    "    'Unit.name', \n",
    "    'Unit.slug',\n",
    "    'Unit.retirement_date',\n",
    "    'Unit.fuel_type',\n",
    "    'Unit.capacity',\n",
    "    'Unit.total_tubes',\n",
    "    'Component.slug', \n",
    "    'Component.component_type',\n",
    "    'Component.wall_nominal_thickness', \n",
    "    'Component.wall_warning_thickness', \n",
    "    'Component.coating_nominal_thickness',\n",
    "    'Component.tube_diameter', \n",
    "    'Component.tube_spacing',\n",
    "    'Component.shell_diameter',\n",
    "    'Inspection.slug',\n",
    "    'Inspection.date',\n",
    "    'Inspection.ndt_method_type',\n",
    "    'Inspection.inspection_type'\n",
    ")].drop_duplicates()"
   ]
  },
  {
   "cell_type": "code",
   "execution_count": null,
   "id": "019767c9-ec76-46dd-bf8e-ea3aee486a02",
   "metadata": {},
   "outputs": [],
   "source": [
    "all_pbi_ordered_df.head(1)"
   ]
  },
  {
   "cell_type": "code",
   "execution_count": null,
   "id": "b972901c-1d5e-4c5c-b9f5-a028dca12a52",
   "metadata": {},
   "outputs": [],
   "source": [
    "all_pbi_ordered_df.shape"
   ]
  },
  {
   "cell_type": "code",
   "execution_count": null,
   "id": "dee43a6c-ca2c-46d3-b440-299a83999991",
   "metadata": {},
   "outputs": [],
   "source": [
    "# all_pbi_ordered_df.to_csv('../data/outputs/all_pbi.csv')"
   ]
  },
  {
   "cell_type": "code",
   "execution_count": null,
   "id": "975404e3-2cb2-4424-bab7-e6849f81df26",
   "metadata": {},
   "outputs": [],
   "source": [
    "ref_df = portalservice_power_inspections_2022_df.loc[:,(\n",
    "\n",
    "    'Inspection.date',\n",
    "    'Inspection.ndt_method_type',\n",
    "    'Inspection.inspection_type',\n",
    "\n",
    "    'Component.tube_diameter', \n",
    "    'Component.tube_spacing',\n",
    "    'Component.shell_diameter',\n",
    "    'Component.component_type',\n",
    "\n",
    ")]"
   ]
  },
  {
   "cell_type": "code",
   "execution_count": null,
   "id": "d43495b1-71ea-4165-9ca9-96be507eb682",
   "metadata": {},
   "outputs": [],
   "source": []
  },
  {
   "cell_type": "code",
   "execution_count": null,
   "id": "477d19ae-9f90-4a5e-a80b-af0ab4ec319d",
   "metadata": {},
   "outputs": [],
   "source": []
  },
  {
   "cell_type": "code",
   "execution_count": null,
   "id": "7716945c-19b0-49b4-b776-7cce5f4fe246",
   "metadata": {},
   "outputs": [],
   "source": []
  },
  {
   "cell_type": "code",
   "execution_count": null,
   "id": "fc5fa2a2-eb8f-4b51-9c46-2141e9436f17",
   "metadata": {},
   "outputs": [],
   "source": []
  },
  {
   "cell_type": "code",
   "execution_count": null,
   "id": "66f57998-b439-4e02-baab-b2568765b6c5",
   "metadata": {},
   "outputs": [],
   "source": []
  },
  {
   "cell_type": "code",
   "execution_count": null,
   "id": "9ec3c4dd-8be6-4198-8e1b-549fad2cc416",
   "metadata": {},
   "outputs": [],
   "source": [
    "names_df = all_pbi_ordered_df.loc[:, (\n",
    "    'Customer.name', \n",
    "    'Location.name', \n",
    "    'Location.city', \n",
    "    'Unit.name', \n",
    "    'Unit.slug'\n",
    ")].drop_duplicates()"
   ]
  },
  {
   "cell_type": "code",
   "execution_count": null,
   "id": "3b644656-c3cd-4f22-a5b9-cd6e6ccc6c8a",
   "metadata": {},
   "outputs": [],
   "source": [
    "names_df.shape"
   ]
  },
  {
   "cell_type": "code",
   "execution_count": null,
   "id": "271db62c-3ce5-4963-a0f7-00ddb705b305",
   "metadata": {},
   "outputs": [],
   "source": []
  },
  {
   "cell_type": "code",
   "execution_count": null,
   "id": "d70e9e44-5953-484e-95ac-c522cd37fd80",
   "metadata": {},
   "outputs": [],
   "source": [
    "power_parents = [\n",
    "    'AEP',\n",
    "    'AES',\n",
    "    'ALCOA',\n",
    "    'Dominion',\n",
    "    'Duke Energy',\n",
    "    'East Kentucky Power Coop (EKPC)',\n",
    "    'Hallador Power Company',\n",
    "    'NRG',\n",
    "    'Southern Co'\n",
    "]"
   ]
  },
  {
   "cell_type": "code",
   "execution_count": null,
   "id": "0b4fec7a-4155-4678-b582-98c0f2367e47",
   "metadata": {},
   "outputs": [],
   "source": [
    "power_names_df = names_df[names_df['Customer.name'].isin(power_parents)]"
   ]
  },
  {
   "cell_type": "code",
   "execution_count": null,
   "id": "16f14821-729e-4643-ba44-151cf265561e",
   "metadata": {},
   "outputs": [],
   "source": [
    "power_names_df.shape"
   ]
  },
  {
   "cell_type": "code",
   "execution_count": null,
   "id": "8453f436-494f-4a43-8420-228fdeb7a722",
   "metadata": {},
   "outputs": [],
   "source": []
  },
  {
   "cell_type": "code",
   "execution_count": null,
   "id": "2d947b36-a430-445e-a2ae-ad682e4d6fd7",
   "metadata": {},
   "outputs": [],
   "source": [
    "power_names_df.sort_values(['Customer.name', 'Location.name', 'Location.city', 'Unit.name'])"
   ]
  },
  {
   "cell_type": "code",
   "execution_count": null,
   "id": "f040f8e1-f18d-47a0-8a69-2de42a07bb89",
   "metadata": {},
   "outputs": [],
   "source": []
  },
  {
   "cell_type": "code",
   "execution_count": null,
   "id": "4962602d-8d17-4665-8ad0-c92931650f9c",
   "metadata": {},
   "outputs": [],
   "source": []
  },
  {
   "cell_type": "code",
   "execution_count": null,
   "id": "f5614fea-4600-4968-959e-3a30b05c8328",
   "metadata": {},
   "outputs": [],
   "source": [
    "power_boiler_inspections_df['Unit.id'].nunique()"
   ]
  },
  {
   "cell_type": "code",
   "execution_count": null,
   "id": "8cc66259-4268-4c3e-b927-6d6a0b622b37",
   "metadata": {},
   "outputs": [],
   "source": [
    "power_boiler_inspections_df['Inspection.id'].nunique()"
   ]
  },
  {
   "cell_type": "code",
   "execution_count": null,
   "id": "96d6ce28-c56f-4ef8-b062-3b00ffe3de88",
   "metadata": {},
   "outputs": [],
   "source": [
    "power_boiler_inspections_df.groupby([])"
   ]
  },
  {
   "cell_type": "code",
   "execution_count": null,
   "id": "094e73cf-bc20-4566-b932-9eb8465fda8d",
   "metadata": {},
   "outputs": [],
   "source": []
  },
  {
   "cell_type": "code",
   "execution_count": null,
   "id": "a7d16349-591c-48e5-9ea3-df70aa87ba7e",
   "metadata": {},
   "outputs": [],
   "source": []
  },
  {
   "cell_type": "code",
   "execution_count": null,
   "id": "dd315a00-c1a2-4373-954a-1bd9eabffaa3",
   "metadata": {},
   "outputs": [],
   "source": []
  },
  {
   "cell_type": "code",
   "execution_count": null,
   "id": "3f67a2ba-3be5-4013-82fd-0584803b1dac",
   "metadata": {},
   "outputs": [],
   "source": []
  },
  {
   "cell_type": "code",
   "execution_count": null,
   "id": "f2be5b04-4341-4c0e-a4bf-fffdb0956f56",
   "metadata": {},
   "outputs": [],
   "source": [
    "aep_month_outage_df.head()"
   ]
  },
  {
   "cell_type": "code",
   "execution_count": null,
   "id": "288dcfe4-a885-45cf-8237-011e5915a35e",
   "metadata": {},
   "outputs": [],
   "source": [
    "duke_month_outages_df.head()"
   ]
  },
  {
   "cell_type": "code",
   "execution_count": null,
   "id": "90f53d4c-5ed4-4e73-8391-6afd6056e551",
   "metadata": {},
   "outputs": [],
   "source": [
    "aep_month_outage_df.rename(columns={'Event Start Timestamp': 'Event Count'}, inplace=True)\n",
    "duke_month_outages_df.rename(columns={'Event ID': 'Event Count'}, inplace=True)\n",
    "aep_month_outage_df['Utility'] = 'AEP'\n",
    "duke_month_outages_df['Utility'] = 'Duke'"
   ]
  },
  {
   "cell_type": "code",
   "execution_count": null,
   "id": "808c8630-a4d2-402e-94b1-6a43d07ff7c7",
   "metadata": {},
   "outputs": [],
   "source": []
  },
  {
   "cell_type": "code",
   "execution_count": null,
   "id": "abd773c8-b3c4-4f8d-984a-adca09d10276",
   "metadata": {},
   "outputs": [],
   "source": []
  },
  {
   "cell_type": "code",
   "execution_count": null,
   "id": "4affd317-71d5-431a-8e9a-a107197b1f5b",
   "metadata": {},
   "outputs": [],
   "source": [
    "eia_df = pd.read_csv(r'../data/raw_data/EIA.csv')"
   ]
  },
  {
   "cell_type": "code",
   "execution_count": null,
   "id": "0b533adb-37ad-4c08-aaf7-933df0caf8cd",
   "metadata": {},
   "outputs": [],
   "source": [
    "eia_df.head()"
   ]
  },
  {
   "cell_type": "code",
   "execution_count": null,
   "id": "58e5d03d-5c20-4a12-b61b-0dd9ed2d377b",
   "metadata": {},
   "outputs": [],
   "source": [
    "eia_df.shape"
   ]
  },
  {
   "cell_type": "code",
   "execution_count": null,
   "id": "5a3e45f2-d44d-4c8f-9665-16b2162671fc",
   "metadata": {},
   "outputs": [],
   "source": [
    "eia_df['Year'] = eia_df['YYYYMM'].astype(str).str[0:4]\n",
    "eia_df['Month'] = eia_df['YYYYMM'].astype(str).str[4:6]"
   ]
  },
  {
   "cell_type": "code",
   "execution_count": null,
   "id": "74029298-272a-40d8-934c-757a6306f3eb",
   "metadata": {},
   "outputs": [],
   "source": [
    "set(eia_df['Month'])"
   ]
  },
  {
   "cell_type": "code",
   "execution_count": null,
   "id": "fb978673-8b31-4e2d-a507-99d5fb435813",
   "metadata": {},
   "outputs": [],
   "source": [
    "recent_eia_df = eia_df[eia_df['Year'].astype(int) > 2000]"
   ]
  },
  {
   "cell_type": "code",
   "execution_count": null,
   "id": "4846e772-e5d8-4be0-82b8-257a03442e4f",
   "metadata": {},
   "outputs": [],
   "source": [
    "recent_eia_df.shape"
   ]
  },
  {
   "cell_type": "code",
   "execution_count": null,
   "id": "eb699f9d-06a3-448c-9440-95c12f258c78",
   "metadata": {},
   "outputs": [],
   "source": [
    "set(recent_eia_df['Month'])"
   ]
  },
  {
   "cell_type": "code",
   "execution_count": null,
   "id": "b5cbc556-0f04-431d-8c89-58ebe997535d",
   "metadata": {},
   "outputs": [],
   "source": [
    "set(recent_eia_df[\"Description\"])"
   ]
  },
  {
   "cell_type": "code",
   "execution_count": null,
   "id": "be513441-68a8-4dae-bb93-d39989e268e3",
   "metadata": {},
   "outputs": [],
   "source": [
    "keep_cols = ['Total Primary Energy Consumption',\n",
    " 'Total Primary Energy Production']"
   ]
  },
  {
   "cell_type": "code",
   "execution_count": null,
   "id": "99f74c6e-86b9-4f88-b000-4987e61e09b4",
   "metadata": {},
   "outputs": [],
   "source": [
    "eia_prim_en_df = recent_eia_df[recent_eia_df[\"Description\"].isin(keep_cols)]"
   ]
  },
  {
   "cell_type": "code",
   "execution_count": null,
   "id": "a25a41ad-1fd7-4fa9-b337-994cc10d5713",
   "metadata": {},
   "outputs": [],
   "source": [
    "eia_prim_en_df.shape"
   ]
  },
  {
   "cell_type": "code",
   "execution_count": null,
   "id": "0ef45ea3-616c-4f46-ba9d-54385dceb340",
   "metadata": {},
   "outputs": [],
   "source": [
    "eia_prim_en_df.head()"
   ]
  },
  {
   "cell_type": "code",
   "execution_count": null,
   "id": "7c3b25ab-c900-4d18-8a09-4f3dd24effe9",
   "metadata": {},
   "outputs": [],
   "source": [
    "eia_2021_df = eia_prim_en_df[(eia_prim_en_df['Year']=='2021') & (eia_prim_en_df['Month']!='13')]"
   ]
  },
  {
   "cell_type": "code",
   "execution_count": null,
   "id": "27d4fa10-66ca-4163-8345-2f8358a763c9",
   "metadata": {},
   "outputs": [],
   "source": [
    "eia_2021_df.head()"
   ]
  },
  {
   "cell_type": "code",
   "execution_count": null,
   "id": "719ccf21-b8d5-4ba0-b4fe-17371c666e49",
   "metadata": {},
   "outputs": [],
   "source": [
    "eia_2021_consumption = eia_2021_df[eia_2021_df['Description']=='Total Primary Energy Consumption']\n",
    "eia_2021_production = eia_2021_df[eia_2021_df['Description']=='Total Primary Energy Production']"
   ]
  },
  {
   "cell_type": "code",
   "execution_count": null,
   "id": "8fb08c0b-f666-4951-881d-335a91cb88e0",
   "metadata": {},
   "outputs": [],
   "source": []
  },
  {
   "cell_type": "code",
   "execution_count": null,
   "id": "278834d1-3630-4bd1-b31a-a3bfd56f467c",
   "metadata": {},
   "outputs": [],
   "source": []
  },
  {
   "cell_type": "code",
   "execution_count": null,
   "id": "c7ade17a-8955-4a9d-a745-2c405f9ef5d6",
   "metadata": {},
   "outputs": [],
   "source": []
  },
  {
   "cell_type": "code",
   "execution_count": null,
   "id": "252d5403-c7f2-4a3b-87d0-387418b35a0b",
   "metadata": {},
   "outputs": [],
   "source": [
    "fig=plt.figure()\n",
    "fig.show()\n",
    "ax=fig.add_subplot(111)\n",
    "\n",
    "ax.set_title('EIA US Energy Data')\n",
    "ax.set_ylabel('Quadrillion Btu')\n",
    "ax.set_ylim(eia_2021_consumption['Value'].min()-1,10)\n",
    "ax.set_xlabel('Month')\n",
    "ax.set_xticks([1,2,3,4,5,6,7,8,9,10,11,12])\n",
    "ax.set_xticklabels(eia_2021_consumption['Month'])\n",
    "\n",
    "\n",
    "ax.plot(eia_2021_consumption['Month'].astype(int), eia_2021_consumption['Value'], c='r', label='Primary Energy Consumption')\n",
    "#ax.plot(eia_2021_production['Month'].astype(int), eia_2021_production['Value'], c='g', label='Primary Energy Production')\n",
    "\n",
    "\n",
    "plt.legend()\n",
    "plt.draw()"
   ]
  },
  {
   "cell_type": "code",
   "execution_count": null,
   "id": "34bf6c8c-fd43-41fe-997b-6bdd098ffabd",
   "metadata": {},
   "outputs": [],
   "source": [
    "fig=plt.figure()\n",
    "fig.show()\n",
    "ax=fig.add_subplot(111)\n",
    "\n",
    "ax.set_title('Tube Failures by Month')\n",
    "ax.set_ylabel('Count of Tube Failures')\n",
    "ax.set_xlabel('Month')\n",
    "ax.set_xticks(aep_month_outage_df['Outage Month'])\n",
    "ax.set_xticklabels(aep_month_outage_df['Outage Month'])\n",
    "\n",
    "\n",
    "ax.plot(aep_month_outage_df['Outage Month'], aep_month_outage_df['Event Count'], c='r', label='AEP Tube Failures')\n",
    "ax.plot(duke_month_outages_df['Outage Month'], duke_month_outages_df['Event Count'], c='b', label='Duke Tube Failures')\n",
    "\n",
    "\n",
    "plt.legend()\n",
    "plt.draw()"
   ]
  },
  {
   "cell_type": "code",
   "execution_count": null,
   "id": "d707a88d-ccfc-4488-95bd-0f94f75af73a",
   "metadata": {},
   "outputs": [],
   "source": [
    "comb_df.head()"
   ]
  },
  {
   "cell_type": "code",
   "execution_count": null,
   "id": "85f0482d-a879-4ae8-a8dc-c98d0eb67baf",
   "metadata": {},
   "outputs": [],
   "source": [
    "comb_df['Inspection.month'] = pd.to_datetime(comb_df['Inspection.date']).dt.month"
   ]
  },
  {
   "cell_type": "code",
   "execution_count": null,
   "id": "855644f5-1dfb-4b0d-9be3-185d8d09aa19",
   "metadata": {},
   "outputs": [],
   "source": [
    "#set(comb_df['Inspection.month'])"
   ]
  },
  {
   "cell_type": "code",
   "execution_count": null,
   "id": "46f31c26-2e96-4e39-a81f-553d65ecca91",
   "metadata": {},
   "outputs": [],
   "source": [
    "gecko_2022_inspections = comb_df.groupby(['Inspection.month'])['Inspection.slug'].nunique().to_frame().reset_index().rename(columns={'slug': 'inspections'})"
   ]
  },
  {
   "cell_type": "code",
   "execution_count": null,
   "id": "51e2cc36-1f49-4794-8ba2-15ae5bfed787",
   "metadata": {},
   "outputs": [],
   "source": [
    "gecko_2022_inspections"
   ]
  },
  {
   "cell_type": "code",
   "execution_count": null,
   "id": "8ab7a125-9af5-42cf-bf97-fe4526dbeeb0",
   "metadata": {},
   "outputs": [],
   "source": [
    "gecko_2022_inspections['Inspection.slug'].sum()"
   ]
  },
  {
   "cell_type": "code",
   "execution_count": null,
   "id": "828734d5-d7a2-41e9-913a-16bf7f9b546f",
   "metadata": {},
   "outputs": [],
   "source": [
    "#us_boilers_df.loc[:, ('MARKET_REG', 'PLANT_NAME')]"
   ]
  },
  {
   "cell_type": "code",
   "execution_count": null,
   "id": "06137665-83c9-4ea5-ab95-23880b77063b",
   "metadata": {},
   "outputs": [],
   "source": [
    "us_boilers_df.loc[:, ('MARKET_REG', 'UNIT_STATE')]"
   ]
  },
  {
   "cell_type": "code",
   "execution_count": null,
   "id": "1967325e-35d3-4898-b568-5c2398d73228",
   "metadata": {},
   "outputs": [],
   "source": [
    "len(comb_df['Location.city'])"
   ]
  },
  {
   "cell_type": "code",
   "execution_count": null,
   "id": "8473bec4-aca5-4b33-91bf-0fee4f40d780",
   "metadata": {},
   "outputs": [],
   "source": [
    "len([city for city in comb_df['Location.city'] if city not in us_boilers_df['PHYS_CITY']])"
   ]
  },
  {
   "cell_type": "code",
   "execution_count": null,
   "id": "a83e105c-f774-444b-b73f-4f0962cfe950",
   "metadata": {},
   "outputs": [],
   "source": []
  },
  {
   "cell_type": "code",
   "execution_count": null,
   "id": "065f298e-b93d-47b5-82b6-f0f5b001471d",
   "metadata": {},
   "outputs": [],
   "source": []
  },
  {
   "cell_type": "code",
   "execution_count": null,
   "id": "83958705-ff9b-412c-b5e0-396e1bed7859",
   "metadata": {},
   "outputs": [],
   "source": [
    "set(us_boilers_df['MARKET_REG'])"
   ]
  },
  {
   "cell_type": "code",
   "execution_count": null,
   "id": "769d779f-9ee3-4ae1-9801-18b48731f771",
   "metadata": {},
   "outputs": [],
   "source": [
    "markets_comb_df = comb_df.merge(us_boilers_df.loc[:, ('MARKET_REG', 'UNIT_STATE')], how='left', left_on='Location.region', right_on='UNIT_STATE')"
   ]
  },
  {
   "cell_type": "code",
   "execution_count": null,
   "id": "ccb5f3e8-3f71-4e8e-8d70-f743af9d8bd6",
   "metadata": {},
   "outputs": [],
   "source": [
    "markets_comb_df.groupby(['MARKET_REG'])['Unit.slug'].nunique().to_frame()"
   ]
  },
  {
   "cell_type": "code",
   "execution_count": null,
   "id": "5b60154c-3f3d-4c6d-b016-f6f44a88f1aa",
   "metadata": {},
   "outputs": [],
   "source": []
  },
  {
   "cell_type": "code",
   "execution_count": null,
   "id": "5c850290-ec86-4af1-9fc1-e8ac333ace9a",
   "metadata": {},
   "outputs": [],
   "source": []
  },
  {
   "cell_type": "code",
   "execution_count": null,
   "id": "1f92631c-f9c7-4468-98d0-3a18f3607455",
   "metadata": {},
   "outputs": [],
   "source": [
    "units_inspected_bycust = comb_df.groupby(['Customer.name'])['Unit.slug'].nunique().to_frame().reset_index()"
   ]
  },
  {
   "cell_type": "code",
   "execution_count": null,
   "id": "2da93e54-af87-44bc-8009-97351f576096",
   "metadata": {},
   "outputs": [],
   "source": [
    "units_inspected_bycust['Unit.slug'].sum()"
   ]
  },
  {
   "cell_type": "code",
   "execution_count": null,
   "id": "17f5823d-c968-46fb-9beb-3a50c72375d4",
   "metadata": {},
   "outputs": [],
   "source": []
  },
  {
   "cell_type": "code",
   "execution_count": null,
   "id": "35578b2b-988c-4c1c-b41f-68b825d65c0c",
   "metadata": {},
   "outputs": [],
   "source": []
  },
  {
   "cell_type": "code",
   "execution_count": null,
   "id": "b5443d71-a082-486f-96ec-015e7df70dd3",
   "metadata": {},
   "outputs": [],
   "source": [
    "## NOTE: in 2022 there were ZERO power inspections in February"
   ]
  },
  {
   "cell_type": "code",
   "execution_count": null,
   "id": "06bda26d-e6eb-4ba9-9609-d4045fa84c39",
   "metadata": {},
   "outputs": [],
   "source": [
    "fig=plt.figure()\n",
    "fig.show()\n",
    "ax=fig.add_subplot(111)\n",
    "\n",
    "ax.set_title('Gecko Power Inspections')\n",
    "ax.set_ylabel('Count')\n",
    "ax.set_xlabel('Month')\n",
    "ax.set_xticks([1,3,4,5,6,7,8,9,10,11,12])\n",
    "ax.set_xticklabels(gecko_2022_inspections['Inspection.month'])\n",
    "\n",
    "\n",
    "ax.plot(gecko_2022_inspections['Inspection.month'], gecko_2022_inspections['Inspection.slug'], c='r', label='Gecko Power Inspections')\n",
    "\n",
    "\n",
    "plt.legend()\n",
    "plt.draw()"
   ]
  },
  {
   "cell_type": "code",
   "execution_count": null,
   "id": "3dfea1fa-2daa-4607-bd37-c85d5eb07dbd",
   "metadata": {},
   "outputs": [],
   "source": []
  },
  {
   "cell_type": "code",
   "execution_count": null,
   "id": "d8c9acc4-a93e-451c-9f08-a95bca9d653d",
   "metadata": {},
   "outputs": [],
   "source": []
  },
  {
   "cell_type": "code",
   "execution_count": null,
   "id": "13d06d3b-0099-4d41-a7e7-6815b3fff493",
   "metadata": {},
   "outputs": [],
   "source": []
  },
  {
   "cell_type": "code",
   "execution_count": null,
   "id": "ab5fafcc-4394-4438-b24a-7162da729b3e",
   "metadata": {},
   "outputs": [],
   "source": []
  },
  {
   "cell_type": "code",
   "execution_count": null,
   "id": "d8a66ec8-416f-4843-ade3-bbed6cd4fb92",
   "metadata": {},
   "outputs": [],
   "source": []
  },
  {
   "cell_type": "code",
   "execution_count": null,
   "id": "8a305612-d145-4e56-8b68-c9674bae8d5e",
   "metadata": {},
   "outputs": [],
   "source": []
  },
  {
   "cell_type": "code",
   "execution_count": null,
   "id": "21a85495-4a26-448d-870b-735b8666ddc3",
   "metadata": {},
   "outputs": [],
   "source": [
    "with open(r'../data/raw_data/gecko_tank_shells.json', encoding=\"utf8\") as json_data:\n",
    "    d = json.loads(json_data.read())\n",
    "    json_data.close()"
   ]
  },
  {
   "cell_type": "code",
   "execution_count": null,
   "id": "25b1795c-34d3-4301-869b-d8ef17eaeae1",
   "metadata": {},
   "outputs": [],
   "source": [
    "tank_shells_df = pd.json_normalize(d)"
   ]
  },
  {
   "cell_type": "code",
   "execution_count": null,
   "id": "2ff85fd3-8c59-4c97-8118-86dedda987e1",
   "metadata": {},
   "outputs": [],
   "source": []
  },
  {
   "cell_type": "code",
   "execution_count": null,
   "id": "c40aeade-3cbe-474c-b41a-04a5bb2e41f5",
   "metadata": {},
   "outputs": [],
   "source": [
    "tank_shells_df.head()"
   ]
  },
  {
   "cell_type": "code",
   "execution_count": null,
   "id": "124e0266-2986-4875-a79f-c4d89f4f6e80",
   "metadata": {},
   "outputs": [],
   "source": [
    "tank_shells_df.columns"
   ]
  },
  {
   "cell_type": "code",
   "execution_count": null,
   "id": "49de5755-ec77-431b-b7bc-3eea1e47740a",
   "metadata": {},
   "outputs": [],
   "source": [
    "tank_shells_df.shape"
   ]
  },
  {
   "cell_type": "code",
   "execution_count": null,
   "id": "8bd5baaa-a33e-4ac8-8ea1-e8b15efa0d28",
   "metadata": {},
   "outputs": [],
   "source": [
    "def is_liquor(string):\n",
    "    truth = False\n",
    "    if 'liq' in string.lower():\n",
    "        truth = True\n",
    "        \n",
    "    return truth"
   ]
  },
  {
   "cell_type": "code",
   "execution_count": null,
   "id": "29e032c0-97f4-4144-a592-73c97a7bdba8",
   "metadata": {},
   "outputs": [],
   "source": [
    "test = 'liquor'\n",
    "\n",
    "is_liquor(test)"
   ]
  },
  {
   "cell_type": "code",
   "execution_count": null,
   "id": "4ed41494-1475-49be-907e-4566b7854942",
   "metadata": {},
   "outputs": [],
   "source": [
    "tank_shells_df[tank_shells_df['Unit.name'].apply(lambda x: is_liquor(x)) | tank_shells_df['Unit.slug'].apply(lambda x: is_liquor(x))].shape"
   ]
  },
  {
   "cell_type": "code",
   "execution_count": null,
   "id": "b9c99eee-8257-493d-b85b-8da748297136",
   "metadata": {},
   "outputs": [],
   "source": [
    "liq_tanks_df = tank_shells_df[tank_shells_df['Unit.name'].apply(lambda x: is_liquor(x)) | tank_shells_df['Unit.slug'].apply(lambda x: is_liquor(x))]"
   ]
  },
  {
   "cell_type": "code",
   "execution_count": null,
   "id": "d78a1640-3279-4bb8-8e4c-864f0e0bed05",
   "metadata": {},
   "outputs": [],
   "source": [
    "liq_tanks_df"
   ]
  },
  {
   "cell_type": "code",
   "execution_count": null,
   "id": "6eacbf3b-7f18-403f-bb79-cc36260448ad",
   "metadata": {},
   "outputs": [],
   "source": []
  },
  {
   "cell_type": "code",
   "execution_count": null,
   "id": "a4130fa8-ff81-46da-b671-90b81015238b",
   "metadata": {},
   "outputs": [],
   "source": [
    "liq_tanks_df[tank_shells_df['Customer.id']==8].shape"
   ]
  },
  {
   "cell_type": "code",
   "execution_count": null,
   "id": "2747aaf0-4303-4830-9d74-7a6b070ddf3e",
   "metadata": {},
   "outputs": [],
   "source": [
    "liq_tanks_df[tank_shells_df['Customer.id']==8]"
   ]
  },
  {
   "cell_type": "markdown",
   "id": "ee570538-c78b-4127-9379-198790a5c513",
   "metadata": {},
   "source": [
    "1648 tank shell inspections, 14 of those are liquor tanks, 6 are at GP"
   ]
  },
  {
   "cell_type": "code",
   "execution_count": null,
   "id": "2251bcdd-a709-4e98-9fd9-a1eed77288ad",
   "metadata": {},
   "outputs": [],
   "source": []
  }
 ],
 "metadata": {
  "kernelspec": {
   "display_name": "Python 3 (ipykernel)",
   "language": "python",
   "name": "python3"
  },
  "language_info": {
   "codemirror_mode": {
    "name": "ipython",
    "version": 3
   },
   "file_extension": ".py",
   "mimetype": "text/x-python",
   "name": "python",
   "nbconvert_exporter": "python",
   "pygments_lexer": "ipython3",
   "version": "3.9.0"
  }
 },
 "nbformat": 4,
 "nbformat_minor": 5
}
