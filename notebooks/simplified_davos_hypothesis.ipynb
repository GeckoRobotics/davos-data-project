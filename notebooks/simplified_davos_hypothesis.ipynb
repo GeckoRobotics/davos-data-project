{
 "cells": [
  {
   "cell_type": "markdown",
   "id": "c9077123-11c1-459b-9c03-8b6350e6ad07",
   "metadata": {},
   "source": [
    "# New Hypothesis for Davos"
   ]
  },
  {
   "cell_type": "markdown",
   "id": "d12fb29e-9d7e-47f6-a6e0-2f457a2af2e4",
   "metadata": {},
   "source": [
    "In the last 12 months Gecko has inspected 45 boilers\n",
    "\n",
    "Based on our definition of critical we expect 11 of those 45 will have a failure in the next 3-12 months\n",
    "\n",
    "If we extrapolate this across the 472 coal fired boilers in the US we expect that:\n",
    "\n",
    "115 coal fired boilers in the US will have an outage in the next 3-12 months\n",
    "\n",
    "AND/OR across all boilers\n",
    "\n",
    "246 boilers in the US will have an outage due to tube leaks in the next 3-12 months\n",
    "\n"
   ]
  },
  {
   "cell_type": "markdown",
   "id": "673a69c0-9a3d-469f-ace3-04cabc5b960e",
   "metadata": {},
   "source": [
    "From the NERC data:\n",
    "    \n",
    "In 2021 Coal Fired Boiler Tube Leaks accounted for 38 million lost MWhs\n",
    "\n",
    "across all boiler tube leaks, 42 million"
   ]
  },
  {
   "cell_type": "code",
   "execution_count": 1,
   "id": "a5125bd8-ddaa-4041-9e3b-6d1485becc2c",
   "metadata": {},
   "outputs": [],
   "source": [
    "LOST_MWHS_COAL_BOILERS_2021 = 38000000"
   ]
  },
  {
   "cell_type": "code",
   "execution_count": 2,
   "id": "53c3136f-6a3d-4279-ac8c-d627367bc5b4",
   "metadata": {},
   "outputs": [],
   "source": [
    "COAL_UNITS = 472\n",
    "NGAS_UNITS = 350\n",
    "RENEWABLE_UNITS = 106\n",
    "FUEL_OIL_UNITS = 77"
   ]
  },
  {
   "cell_type": "code",
   "execution_count": 3,
   "id": "06d3cd8b-3f74-4178-bb8a-7a68aa374f76",
   "metadata": {},
   "outputs": [],
   "source": [
    "TOTAL_UNITS = COAL_UNITS + NGAS_UNITS + RENEWABLE_UNITS + FUEL_OIL_UNITS"
   ]
  },
  {
   "cell_type": "code",
   "execution_count": 4,
   "id": "8ec39a4a-942d-404c-8065-17cc57bd1e76",
   "metadata": {},
   "outputs": [],
   "source": [
    "MWH_LOST_PER_OUTAGE = 120\n",
    "CAP_FACTOR = 0.6\n",
    "OUTAGES_PER_CRIT = 3\n",
    "HOUSEHOLDS_PER_MW = 750"
   ]
  },
  {
   "cell_type": "code",
   "execution_count": 5,
   "id": "9919ef38-c6d1-4de6-a883-f6bc3f221d5b",
   "metadata": {},
   "outputs": [],
   "source": [
    "OUTAGE_RATIO = 0.4 # derive this from % of units expected to have a failure in <1 yr"
   ]
  },
  {
   "cell_type": "markdown",
   "id": "243db72c-5379-4673-bb3d-97614d55ec53",
   "metadata": {},
   "source": [
    "BASELINE rate assuming 9.5% YoY growth "
   ]
  },
  {
   "cell_type": "code",
   "execution_count": 6,
   "id": "65608a00-9b79-4edf-95df-640e9699287a",
   "metadata": {},
   "outputs": [
    {
     "data": {
      "text/plain": [
       "10402500.0"
      ]
     },
     "execution_count": 6,
     "metadata": {},
     "output_type": "execute_result"
    }
   ],
   "source": [
    "(LOST_MWHS_COAL_BOILERS_2021*1.095)/4"
   ]
  },
  {
   "cell_type": "code",
   "execution_count": null,
   "id": "1325d68a-bff8-456b-9769-7d0ca8d85aeb",
   "metadata": {},
   "outputs": [],
   "source": []
  },
  {
   "cell_type": "code",
   "execution_count": 12,
   "id": "ad78ee23-18ae-4898-9e00-4c296334e516",
   "metadata": {},
   "outputs": [],
   "source": [
    "CRITS_PER_UNIT = 120"
   ]
  },
  {
   "cell_type": "code",
   "execution_count": null,
   "id": "7329f7ff-4d88-4003-ad53-ab2750fe4c5b",
   "metadata": {},
   "outputs": [],
   "source": []
  },
  {
   "cell_type": "code",
   "execution_count": 14,
   "id": "0cddf67a-5776-4649-a663-ec3e8ca92b9b",
   "metadata": {},
   "outputs": [
    {
     "data": {
      "text/plain": [
       "8156160.0"
      ]
     },
     "execution_count": 14,
     "metadata": {},
     "output_type": "execute_result"
    }
   ],
   "source": [
    "COAL_UNITS*OUTAGE_RATIO*OUTAGES_PER_CRIT*CRITS_PER_UNIT*MWH_LOST_PER_OUTAGE"
   ]
  },
  {
   "cell_type": "code",
   "execution_count": null,
   "id": "b8b2239c-867e-4de7-a0e1-ffc7d952ca43",
   "metadata": {},
   "outputs": [],
   "source": []
  },
  {
   "cell_type": "code",
   "execution_count": 15,
   "id": "331075e1-34fc-4c83-af27-0bd1eba2328d",
   "metadata": {},
   "outputs": [
    {
     "data": {
      "text/plain": [
       "17366400.0"
      ]
     },
     "execution_count": 15,
     "metadata": {},
     "output_type": "execute_result"
    }
   ],
   "source": [
    "TOTAL_UNITS*OUTAGE_RATIO*MWH_LOST_PER_OUTAGE*CRITS_PER_UNIT*OUTAGES_PER_CRIT"
   ]
  },
  {
   "cell_type": "code",
   "execution_count": null,
   "id": "e135506c-5462-477f-9403-ec99a181bc7a",
   "metadata": {},
   "outputs": [],
   "source": []
  }
 ],
 "metadata": {
  "kernelspec": {
   "display_name": "Python 3 (ipykernel)",
   "language": "python",
   "name": "python3"
  },
  "language_info": {
   "codemirror_mode": {
    "name": "ipython",
    "version": 3
   },
   "file_extension": ".py",
   "mimetype": "text/x-python",
   "name": "python",
   "nbconvert_exporter": "python",
   "pygments_lexer": "ipython3",
   "version": "3.10.6"
  }
 },
 "nbformat": 4,
 "nbformat_minor": 5
}
