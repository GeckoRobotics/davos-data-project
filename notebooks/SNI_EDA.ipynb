{
 "cells": [
  {
   "cell_type": "markdown",
   "id": "adff744c-d06c-4a9f-ae05-3fc491d8bf42",
   "metadata": {},
   "source": [
    "# SNI - Sensor Networks Inc"
   ]
  },
  {
   "cell_type": "markdown",
   "id": "c0780228-ca71-459b-a76a-3c43e9373b0f",
   "metadata": {},
   "source": [
    "## Environment Setup"
   ]
  },
  {
   "cell_type": "code",
   "execution_count": 14,
   "id": "b23996e7-edba-41b2-b085-cbdc2cd30d3d",
   "metadata": {},
   "outputs": [],
   "source": [
    "import difflib\n",
    "import json\n",
    "import matplotlib\n",
    "from matplotlib.colors import ListedColormap\n",
    "import matplotlib.dates as mdates\n",
    "import matplotlib.pyplot as plt\n",
    "import matplotlib.ticker as ticker\n",
    "import numpy as np\n",
    "import os\n",
    "import pandas as pd\n",
    "import requests\n",
    "import seaborn as sns\n",
    "import sys\n",
    "sys.path.insert(0, '..')\n",
    "import warnings\n",
    "import zlib\n",
    "\n",
    "# local\n",
    "from libs.interfaces.rolodex_interface import rolodex_load\n",
    "from libs.viz.utils import add_vbar_labels, add_hbar_labels"
   ]
  },
  {
   "cell_type": "code",
   "execution_count": null,
   "id": "cce252c8-1120-42e4-bfe9-305c5a8845dc",
   "metadata": {},
   "outputs": [],
   "source": []
  },
  {
   "cell_type": "markdown",
   "id": "85528974-52ab-431b-80a8-884f2818e9d2",
   "metadata": {},
   "source": [
    "## Settings"
   ]
  },
  {
   "cell_type": "code",
   "execution_count": 2,
   "id": "c6dc645b-a1e9-448f-a34f-312f85ea7b85",
   "metadata": {},
   "outputs": [
    {
     "name": "stdout",
     "output_type": "stream",
     "text": [
      "C:\\Users\\tom.fiorelli\\Documents\\GitHub\\davos-data-project\\notebooks\n"
     ]
    }
   ],
   "source": [
    "plt.style.use('dark_background')\n",
    "#sns.set_style('darkgrid')\n",
    "\n",
    "pd.set_option('display.max_rows', 1000)\n",
    "pd.set_option('display.max_columns', 1000)\n",
    "\n",
    "warnings.filterwarnings('ignore')\n",
    "\n",
    "wd = os.getcwd()\n",
    "print(wd)"
   ]
  },
  {
   "cell_type": "code",
   "execution_count": null,
   "id": "1365c1b6-1f09-4685-ad51-233546286aed",
   "metadata": {},
   "outputs": [],
   "source": []
  },
  {
   "cell_type": "markdown",
   "id": "fa0e62c1-0f4d-4553-bf68-043c0199cf04",
   "metadata": {},
   "source": [
    "## Read Data"
   ]
  },
  {
   "cell_type": "code",
   "execution_count": 6,
   "id": "dd6adaa7-b207-4de9-a33b-7536273724d5",
   "metadata": {},
   "outputs": [],
   "source": [
    "sni_df = pd.read_csv('../data/raw_data/sni/sni_sample.csv')"
   ]
  },
  {
   "cell_type": "code",
   "execution_count": 10,
   "id": "188a9214-9b2a-4d19-9f9b-269c23da688a",
   "metadata": {},
   "outputs": [],
   "source": [
    "sni_df['datetime'] = pd.to_datetime(sni_df['Time/Date (UTC)'])"
   ]
  },
  {
   "cell_type": "code",
   "execution_count": 11,
   "id": "f2a796a8-077e-40a3-927b-b662068f7210",
   "metadata": {},
   "outputs": [
    {
     "data": {
      "text/html": [
       "<div>\n",
       "<style scoped>\n",
       "    .dataframe tbody tr th:only-of-type {\n",
       "        vertical-align: middle;\n",
       "    }\n",
       "\n",
       "    .dataframe tbody tr th {\n",
       "        vertical-align: top;\n",
       "    }\n",
       "\n",
       "    .dataframe thead th {\n",
       "        text-align: right;\n",
       "    }\n",
       "</style>\n",
       "<table border=\"1\" class=\"dataframe\">\n",
       "  <thead>\n",
       "    <tr style=\"text-align: right;\">\n",
       "      <th></th>\n",
       "      <th>Time/Date (UTC)</th>\n",
       "      <th>Thickness Alarm State</th>\n",
       "      <th>Corrosion Alarm State</th>\n",
       "      <th>Temperature Alarm State</th>\n",
       "      <th>Battery Alarm State</th>\n",
       "      <th>Signal Level Alarm State</th>\n",
       "      <th>Thickness in</th>\n",
       "      <th>Temp. Compensated Thickness in</th>\n",
       "      <th>Material Temperature deg F</th>\n",
       "      <th>DSI Temperature deg F</th>\n",
       "      <th>Reference Velocity in/usec</th>\n",
       "      <th>Temp. Compensated Velocity in/usec</th>\n",
       "      <th>Corrosion Rate (short term)in/yr</th>\n",
       "      <th>End of Life (short term)</th>\n",
       "      <th>Battery (%)</th>\n",
       "      <th>Signal (%)</th>\n",
       "      <th>Corrosion Rate (long term)in/yr</th>\n",
       "      <th>End of Life (long term)</th>\n",
       "      <th>Thickness Alarm Threshold</th>\n",
       "      <th>Thickness Warning Threshold</th>\n",
       "      <th>Corrosion Alarm Threshold</th>\n",
       "      <th>Corrosion Warning Threshold</th>\n",
       "      <th>Low Temperature Alarm Threshold</th>\n",
       "      <th>High Temperature Alarm Threshold</th>\n",
       "      <th>Company</th>\n",
       "      <th>Site</th>\n",
       "      <th>Plant</th>\n",
       "      <th>Asset</th>\n",
       "      <th>Collection Point</th>\n",
       "      <th>TML</th>\n",
       "      <th>datetime</th>\n",
       "    </tr>\n",
       "  </thead>\n",
       "  <tbody>\n",
       "    <tr>\n",
       "      <th>0</th>\n",
       "      <td>11/27/2023 16:09</td>\n",
       "      <td>warning</td>\n",
       "      <td>NaN</td>\n",
       "      <td>NaN</td>\n",
       "      <td>NaN</td>\n",
       "      <td>NaN</td>\n",
       "      <td>0.2144</td>\n",
       "      <td>0.2116</td>\n",
       "      <td>218.30</td>\n",
       "      <td>69.566</td>\n",
       "      <td>0.2273</td>\n",
       "      <td>0.2244</td>\n",
       "      <td>0.0</td>\n",
       "      <td>-</td>\n",
       "      <td>73%</td>\n",
       "      <td>66%</td>\n",
       "      <td>0.0</td>\n",
       "      <td>-</td>\n",
       "      <td>0.2</td>\n",
       "      <td>0.3</td>\n",
       "      <td>0</td>\n",
       "      <td>0</td>\n",
       "      <td>NaN</td>\n",
       "      <td>NaN</td>\n",
       "      <td>Valero Port Arthur Refinery</td>\n",
       "      <td>DHT-246</td>\n",
       "      <td>C-3214 Inlet WW Piping</td>\n",
       "      <td>Circuit 010C – 1</td>\n",
       "      <td>S0106M</td>\n",
       "      <td>#S0106M-1</td>\n",
       "      <td>2023-11-27 16:09:00</td>\n",
       "    </tr>\n",
       "    <tr>\n",
       "      <th>1</th>\n",
       "      <td>11/26/2023 15:24</td>\n",
       "      <td>warning</td>\n",
       "      <td>NaN</td>\n",
       "      <td>NaN</td>\n",
       "      <td>NaN</td>\n",
       "      <td>NaN</td>\n",
       "      <td>0.2144</td>\n",
       "      <td>0.2116</td>\n",
       "      <td>222.80</td>\n",
       "      <td>83.570</td>\n",
       "      <td>0.2273</td>\n",
       "      <td>0.2243</td>\n",
       "      <td>0.0</td>\n",
       "      <td>-</td>\n",
       "      <td>73%</td>\n",
       "      <td>66%</td>\n",
       "      <td>0.0</td>\n",
       "      <td>-</td>\n",
       "      <td>0.2</td>\n",
       "      <td>0.3</td>\n",
       "      <td>0</td>\n",
       "      <td>0</td>\n",
       "      <td>NaN</td>\n",
       "      <td>NaN</td>\n",
       "      <td>Valero Port Arthur Refinery</td>\n",
       "      <td>DHT-246</td>\n",
       "      <td>C-3214 Inlet WW Piping</td>\n",
       "      <td>Circuit 010C – 1</td>\n",
       "      <td>S0106M</td>\n",
       "      <td>#S0106M-1</td>\n",
       "      <td>2023-11-26 15:24:00</td>\n",
       "    </tr>\n",
       "    <tr>\n",
       "      <th>2</th>\n",
       "      <td>11/25/2023 14:58</td>\n",
       "      <td>warning</td>\n",
       "      <td>NaN</td>\n",
       "      <td>NaN</td>\n",
       "      <td>NaN</td>\n",
       "      <td>NaN</td>\n",
       "      <td>0.2142</td>\n",
       "      <td>0.2115</td>\n",
       "      <td>213.80</td>\n",
       "      <td>73.274</td>\n",
       "      <td>0.2273</td>\n",
       "      <td>0.2244</td>\n",
       "      <td>0.0</td>\n",
       "      <td>-</td>\n",
       "      <td>73%</td>\n",
       "      <td>66%</td>\n",
       "      <td>0.0</td>\n",
       "      <td>-</td>\n",
       "      <td>0.2</td>\n",
       "      <td>0.3</td>\n",
       "      <td>0</td>\n",
       "      <td>0</td>\n",
       "      <td>NaN</td>\n",
       "      <td>NaN</td>\n",
       "      <td>Valero Port Arthur Refinery</td>\n",
       "      <td>DHT-246</td>\n",
       "      <td>C-3214 Inlet WW Piping</td>\n",
       "      <td>Circuit 010C – 1</td>\n",
       "      <td>S0106M</td>\n",
       "      <td>#S0106M-1</td>\n",
       "      <td>2023-11-25 14:58:00</td>\n",
       "    </tr>\n",
       "    <tr>\n",
       "      <th>3</th>\n",
       "      <td>11/24/2023 14:28</td>\n",
       "      <td>warning</td>\n",
       "      <td>NaN</td>\n",
       "      <td>NaN</td>\n",
       "      <td>NaN</td>\n",
       "      <td>NaN</td>\n",
       "      <td>0.2142</td>\n",
       "      <td>0.2116</td>\n",
       "      <td>212.36</td>\n",
       "      <td>67.856</td>\n",
       "      <td>0.2273</td>\n",
       "      <td>0.2245</td>\n",
       "      <td>0.0</td>\n",
       "      <td>-</td>\n",
       "      <td>73%</td>\n",
       "      <td>53%</td>\n",
       "      <td>0.0</td>\n",
       "      <td>-</td>\n",
       "      <td>0.2</td>\n",
       "      <td>0.3</td>\n",
       "      <td>0</td>\n",
       "      <td>0</td>\n",
       "      <td>NaN</td>\n",
       "      <td>NaN</td>\n",
       "      <td>Valero Port Arthur Refinery</td>\n",
       "      <td>DHT-246</td>\n",
       "      <td>C-3214 Inlet WW Piping</td>\n",
       "      <td>Circuit 010C – 1</td>\n",
       "      <td>S0106M</td>\n",
       "      <td>#S0106M-1</td>\n",
       "      <td>2023-11-24 14:28:00</td>\n",
       "    </tr>\n",
       "    <tr>\n",
       "      <th>4</th>\n",
       "      <td>11/23/2023 13:52</td>\n",
       "      <td>warning</td>\n",
       "      <td>NaN</td>\n",
       "      <td>NaN</td>\n",
       "      <td>NaN</td>\n",
       "      <td>NaN</td>\n",
       "      <td>0.2143</td>\n",
       "      <td>0.2116</td>\n",
       "      <td>213.26</td>\n",
       "      <td>62.420</td>\n",
       "      <td>0.2273</td>\n",
       "      <td>0.2245</td>\n",
       "      <td>0.0</td>\n",
       "      <td>-</td>\n",
       "      <td>73%</td>\n",
       "      <td>60%</td>\n",
       "      <td>0.0</td>\n",
       "      <td>-</td>\n",
       "      <td>0.2</td>\n",
       "      <td>0.3</td>\n",
       "      <td>0</td>\n",
       "      <td>0</td>\n",
       "      <td>NaN</td>\n",
       "      <td>NaN</td>\n",
       "      <td>Valero Port Arthur Refinery</td>\n",
       "      <td>DHT-246</td>\n",
       "      <td>C-3214 Inlet WW Piping</td>\n",
       "      <td>Circuit 010C – 1</td>\n",
       "      <td>S0106M</td>\n",
       "      <td>#S0106M-1</td>\n",
       "      <td>2023-11-23 13:52:00</td>\n",
       "    </tr>\n",
       "  </tbody>\n",
       "</table>\n",
       "</div>"
      ],
      "text/plain": [
       "    Time/Date (UTC) Thickness Alarm State Corrosion Alarm State  \\\n",
       "0  11/27/2023 16:09               warning                   NaN   \n",
       "1  11/26/2023 15:24               warning                   NaN   \n",
       "2  11/25/2023 14:58               warning                   NaN   \n",
       "3  11/24/2023 14:28               warning                   NaN   \n",
       "4  11/23/2023 13:52               warning                   NaN   \n",
       "\n",
       "   Temperature Alarm State  Battery Alarm State  Signal Level Alarm State  \\\n",
       "0                      NaN                  NaN                       NaN   \n",
       "1                      NaN                  NaN                       NaN   \n",
       "2                      NaN                  NaN                       NaN   \n",
       "3                      NaN                  NaN                       NaN   \n",
       "4                      NaN                  NaN                       NaN   \n",
       "\n",
       "   Thickness in  Temp. Compensated Thickness in  Material Temperature deg F  \\\n",
       "0        0.2144                          0.2116                      218.30   \n",
       "1        0.2144                          0.2116                      222.80   \n",
       "2        0.2142                          0.2115                      213.80   \n",
       "3        0.2142                          0.2116                      212.36   \n",
       "4        0.2143                          0.2116                      213.26   \n",
       "\n",
       "   DSI Temperature deg F  Reference Velocity in/usec  \\\n",
       "0                 69.566                      0.2273   \n",
       "1                 83.570                      0.2273   \n",
       "2                 73.274                      0.2273   \n",
       "3                 67.856                      0.2273   \n",
       "4                 62.420                      0.2273   \n",
       "\n",
       "   Temp. Compensated Velocity in/usec  Corrosion Rate (short term)in/yr  \\\n",
       "0                              0.2244                               0.0   \n",
       "1                              0.2243                               0.0   \n",
       "2                              0.2244                               0.0   \n",
       "3                              0.2245                               0.0   \n",
       "4                              0.2245                               0.0   \n",
       "\n",
       "  End of Life (short term) Battery (%) Signal (%)  \\\n",
       "0                        -         73%        66%   \n",
       "1                        -         73%        66%   \n",
       "2                        -         73%        66%   \n",
       "3                        -         73%        53%   \n",
       "4                        -         73%        60%   \n",
       "\n",
       "   Corrosion Rate (long term)in/yr End of Life (long term)  \\\n",
       "0                              0.0                       -   \n",
       "1                              0.0                       -   \n",
       "2                              0.0                       -   \n",
       "3                              0.0                       -   \n",
       "4                              0.0                       -   \n",
       "\n",
       "   Thickness Alarm Threshold  Thickness Warning Threshold  \\\n",
       "0                        0.2                          0.3   \n",
       "1                        0.2                          0.3   \n",
       "2                        0.2                          0.3   \n",
       "3                        0.2                          0.3   \n",
       "4                        0.2                          0.3   \n",
       "\n",
       "   Corrosion Alarm Threshold  Corrosion Warning Threshold  \\\n",
       "0                          0                            0   \n",
       "1                          0                            0   \n",
       "2                          0                            0   \n",
       "3                          0                            0   \n",
       "4                          0                            0   \n",
       "\n",
       "   Low Temperature Alarm Threshold  High Temperature Alarm Threshold  \\\n",
       "0                              NaN                               NaN   \n",
       "1                              NaN                               NaN   \n",
       "2                              NaN                               NaN   \n",
       "3                              NaN                               NaN   \n",
       "4                              NaN                               NaN   \n",
       "\n",
       "                       Company     Site                   Plant  \\\n",
       "0  Valero Port Arthur Refinery  DHT-246  C-3214 Inlet WW Piping   \n",
       "1  Valero Port Arthur Refinery  DHT-246  C-3214 Inlet WW Piping   \n",
       "2  Valero Port Arthur Refinery  DHT-246  C-3214 Inlet WW Piping   \n",
       "3  Valero Port Arthur Refinery  DHT-246  C-3214 Inlet WW Piping   \n",
       "4  Valero Port Arthur Refinery  DHT-246  C-3214 Inlet WW Piping   \n",
       "\n",
       "              Asset Collection Point        TML            datetime  \n",
       "0  Circuit 010C – 1           S0106M  #S0106M-1 2023-11-27 16:09:00  \n",
       "1  Circuit 010C – 1           S0106M  #S0106M-1 2023-11-26 15:24:00  \n",
       "2  Circuit 010C – 1           S0106M  #S0106M-1 2023-11-25 14:58:00  \n",
       "3  Circuit 010C – 1           S0106M  #S0106M-1 2023-11-24 14:28:00  \n",
       "4  Circuit 010C – 1           S0106M  #S0106M-1 2023-11-23 13:52:00  "
      ]
     },
     "execution_count": 11,
     "metadata": {},
     "output_type": "execute_result"
    }
   ],
   "source": [
    "sni_df.head()"
   ]
  },
  {
   "cell_type": "code",
   "execution_count": 8,
   "id": "50620408-f46c-4fc8-b085-a309374d36e5",
   "metadata": {},
   "outputs": [
    {
     "data": {
      "text/plain": [
       "(283, 30)"
      ]
     },
     "execution_count": 8,
     "metadata": {},
     "output_type": "execute_result"
    }
   ],
   "source": [
    "sni_df.shape"
   ]
  },
  {
   "cell_type": "code",
   "execution_count": 23,
   "id": "e0ab6e3f-a46a-46c8-a99d-e38c9ca0f96f",
   "metadata": {},
   "outputs": [],
   "source": [
    "def plot_line(x, y, x_is_time, title):\n",
    "    \"\"\"\n",
    "    Plot line\n",
    "    \"\"\"\n",
    "\n",
    "    fig, ax = plt.subplots()\n",
    "    plt.rcParams[\"figure.figsize\"] = (16,8)\n",
    "    \n",
    "    plt.plot(x, y)\n",
    "    \n",
    "    plt.xticks(rotation=45)\n",
    "    \n",
    "    ax.set_title(title, size=20, weight='bold')\n",
    "\n",
    "    ax.set_ylim(0, max(y)*1.1)\n",
    "\n",
    "    if x_is_time == True:\n",
    "        ax.xaxis.set_major_locator(mdates.MonthLocator(interval=1))\n",
    "        ax.xaxis.set_major_formatter(mdates.DateFormatter('%m-%Y'))\n",
    "\n",
    "    #ax.legend()\n",
    "    \n",
    "    #plt.savefig(\n",
    "    #    '{}.png'.format(title), \n",
    "        #transparent=True\n",
    "    #)\n",
    "    \n",
    "    plt.show()"
   ]
  },
  {
   "cell_type": "code",
   "execution_count": null,
   "id": "bd2958ce-f531-4ee2-86b8-3eb22302fb61",
   "metadata": {},
   "outputs": [],
   "source": []
  },
  {
   "cell_type": "code",
   "execution_count": 24,
   "id": "136c4e32-69f5-4f1d-a790-9ad95f090aaf",
   "metadata": {},
   "outputs": [],
   "source": [
    "x = sni_df['datetime']\n",
    "y = sni_df['Thickness in']\n",
    "x_is_time = True\n",
    "title = 'Thickness'"
   ]
  },
  {
   "cell_type": "code",
   "execution_count": null,
   "id": "25fada43-7466-4daf-92df-269be5829684",
   "metadata": {},
   "outputs": [],
   "source": []
  },
  {
   "cell_type": "code",
   "execution_count": 25,
   "id": "0a49c708-e01e-40ce-9906-533edf547205",
   "metadata": {},
   "outputs": [
    {
     "data": {
      "image/png": "[encoded data removed]",
      "text/plain": [
       "<Figure size 1600x800 with 1 Axes>"
      ]
     },
     "metadata": {},
     "output_type": "display_data"
    }
   ],
   "source": [
    "plot_line(x, y, x_is_time, title)"
   ]
  },
  {
   "cell_type": "code",
   "execution_count": 26,
   "id": "b55c4265-49fb-4801-abc3-d3a57379f482",
   "metadata": {},
   "outputs": [],
   "source": [
    "y = sni_df['Temp. Compensated Thickness in']\n",
    "title = 'Temp. Compensated Thickness'"
   ]
  },
  {
   "cell_type": "code",
   "execution_count": 27,
   "id": "d3ba8ea6-55c5-4423-9385-baad251da343",
   "metadata": {},
   "outputs": [
    {
     "data": {
      "image/png": "[encoded data removed]",
      "text/plain": [
       "<Figure size 1600x800 with 1 Axes>"
      ]
     },
     "metadata": {},
     "output_type": "display_data"
    }
   ],
   "source": [
    "plot_line(x, y, x_is_time, title)"
   ]
  },
  {
   "cell_type": "code",
   "execution_count": 31,
   "id": "cfe1bd29-6120-4271-b220-7d97df0bad7c",
   "metadata": {},
   "outputs": [
    {
     "data": {
      "text/plain": [
       "'1/1/2161'"
      ]
     },
     "execution_count": 31,
     "metadata": {},
     "output_type": "execute_result"
    }
   ],
   "source": [
    "sni_df[sni_df['End of Life (long term)']!='-']['End of Life (long term)'].min()"
   ]
  },
  {
   "cell_type": "code",
   "execution_count": 32,
   "id": "afe41986-c6f6-438d-bb4a-1ae0fa377fb8",
   "metadata": {},
   "outputs": [
    {
     "data": {
      "text/plain": [
       "'1/10/2036'"
      ]
     },
     "execution_count": 32,
     "metadata": {},
     "output_type": "execute_result"
    }
   ],
   "source": [
    "sni_df[sni_df['End of Life (short term)']!='-']['End of Life (short term)'].min()"
   ]
  },
  {
   "cell_type": "code",
   "execution_count": null,
   "id": "a7e4e3ef-c424-491e-b397-9a312f532810",
   "metadata": {},
   "outputs": [],
   "source": []
  }
 ],
 "metadata": {
  "kernelspec": {
   "display_name": "Python 3 (ipykernel)",
   "language": "python",
   "name": "python3"
  },
  "language_info": {
   "codemirror_mode": {
    "name": "ipython",
    "version": 3
   },
   "file_extension": ".py",
   "mimetype": "text/x-python",
   "name": "python",
   "nbconvert_exporter": "python",
   "pygments_lexer": "ipython3",
   "version": "3.9.0"
  }
 },
 "nbformat": 4,
 "nbformat_minor": 5
}
