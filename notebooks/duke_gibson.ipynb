{
 "cells": [
  {
   "cell_type": "code",
   "execution_count": 1,
   "id": "0b0d547c-8a74-4d71-83f6-ef45a3e49a61",
   "metadata": {},
   "outputs": [],
   "source": [
    "import difflib\n",
    "import json\n",
    "import matplotlib\n",
    "import matplotlib.pyplot as plt\n",
    "from matplotlib.colors import ListedColormap\n",
    "import numpy as np\n",
    "import os\n",
    "import pandas as pd\n",
    "import requests\n",
    "import seaborn as sns\n",
    "import sys\n",
    "sys.path.insert(0, '..')\n",
    "import warnings\n",
    "import zlib\n",
    "\n",
    "# local\n",
    "from libs.etl.data_cleaning import generate_aep_outage_dfs, generate_duke_outage_dfs, generate_iir_boilers_dfs, determine_component\n",
    "from libs.inspection_analysis.utils import analyze_inspection_df, hist_inspection_df, check_thickness, get_thickness_histogram, group_critdat, get_inspection_df\n",
    "from libs.interfaces.rolodex_interface import rolodex_load\n",
    "from libs.reference.constants import COMPONENT_TYPE_MAP, POWER_CUST_LIST\n",
    "from libs.viz.utils import add_vbar_labels, add_hbar_labels"
   ]
  },
  {
   "cell_type": "code",
   "execution_count": null,
   "id": "08f03c8b-cb54-47e0-b5e6-e2f2daab032b",
   "metadata": {},
   "outputs": [],
   "source": []
  },
  {
   "cell_type": "code",
   "execution_count": 2,
   "id": "628ff79f-0ef8-4f8d-9019-75d2a9ec7496",
   "metadata": {},
   "outputs": [
    {
     "name": "stdout",
     "output_type": "stream",
     "text": [
      "C:\\Users\\tom.fiorelli\\Documents\\GitHub\\davos-data-project\\notebooks\n"
     ]
    }
   ],
   "source": [
    "plt.style.use('dark_background')\n",
    "#sns.set_style('darkgrid')\n",
    "\n",
    "pd.set_option('display.max_rows', 1000)\n",
    "pd.set_option('display.max_columns', 1000)\n",
    "\n",
    "warnings.filterwarnings('ignore')\n",
    "\n",
    "wd = os.getcwd()\n",
    "print(wd)"
   ]
  },
  {
   "cell_type": "code",
   "execution_count": null,
   "id": "868553a4-dee0-4140-907b-6071800f68a3",
   "metadata": {},
   "outputs": [],
   "source": []
  },
  {
   "cell_type": "code",
   "execution_count": 10,
   "id": "ae34dfe8-84ad-497a-9078-1f5e07d98ee9",
   "metadata": {},
   "outputs": [],
   "source": [
    "data = rolodex_load(\n",
    "    \"inspection\", \n",
    "    links=[\n",
    "    ], \n",
    "    filters=[\n",
    "    ], \n",
    "    ids=[], \n",
    "    tags={\n",
    "        \"site\": \"duke-gibson-generating-station-d87383\",\n",
    "        \"unit\": \"unit-1-c53151\",\n",
    "        \"organization\": \"duke-7f2faf\",\n",
    "    }, \n",
    "    limit=100000\n",
    ")"
   ]
  },
  {
   "cell_type": "code",
   "execution_count": 11,
   "id": "85b4e414-92e5-4aec-afbe-d5b234225ad3",
   "metadata": {},
   "outputs": [],
   "source": [
    "boiler_inspection_df = pd.json_normalize(data)"
   ]
  },
  {
   "cell_type": "code",
   "execution_count": 12,
   "id": "bd5f4a3a-8bc4-40a4-b5fa-edb4f75d128f",
   "metadata": {},
   "outputs": [
    {
     "data": {
      "text/html": [
       "<div>\n",
       "<style scoped>\n",
       "    .dataframe tbody tr th:only-of-type {\n",
       "        vertical-align: middle;\n",
       "    }\n",
       "\n",
       "    .dataframe tbody tr th {\n",
       "        vertical-align: top;\n",
       "    }\n",
       "\n",
       "    .dataframe thead th {\n",
       "        text-align: right;\n",
       "    }\n",
       "</style>\n",
       "<table border=\"1\" class=\"dataframe\">\n",
       "  <thead>\n",
       "    <tr style=\"text-align: right;\">\n",
       "      <th></th>\n",
       "      <th>entry.id</th>\n",
       "      <th>entry.type</th>\n",
       "      <th>entry.data.portal.id</th>\n",
       "      <th>entry.data.portal.date</th>\n",
       "      <th>entry.data.portal.demo</th>\n",
       "      <th>entry.data.portal.name</th>\n",
       "      <th>entry.data.portal.slug</th>\n",
       "      <th>entry.data.portal.notes</th>\n",
       "      <th>entry.data.portal.job_id</th>\n",
       "      <th>entry.data.portal.status</th>\n",
       "      <th>entry.data.portal.read_only</th>\n",
       "      <th>entry.data.portal.show_excel</th>\n",
       "      <th>entry.data.portal.sort_order</th>\n",
       "      <th>entry.data.portal.data_import</th>\n",
       "      <th>entry.data.portal.external_id</th>\n",
       "      <th>entry.data.portal.zero_offset</th>\n",
       "      <th>entry.data.portal.component_id</th>\n",
       "      <th>entry.data.portal.inspection_type</th>\n",
       "      <th>entry.data.portal.ndt_method_type</th>\n",
       "      <th>entry.data.portal.target_release_time</th>\n",
       "      <th>entry.data.portal.sales_robotic_service_id</th>\n",
       "      <th>entry.data.robot_types</th>\n",
       "      <th>entry.tags.job</th>\n",
       "      <th>entry.tags.site</th>\n",
       "      <th>entry.tags.unit</th>\n",
       "      <th>entry.tags.component</th>\n",
       "      <th>entry.tags.organization</th>\n",
       "    </tr>\n",
       "  </thead>\n",
       "  <tbody>\n",
       "    <tr>\n",
       "      <th>0</th>\n",
       "      <td>20221004-581e1e</td>\n",
       "      <td>inspection</td>\n",
       "      <td>3931</td>\n",
       "      <td>2022-10-04</td>\n",
       "      <td>0</td>\n",
       "      <td>None</td>\n",
       "      <td>20221004-581e1e</td>\n",
       "      <td></td>\n",
       "      <td>1291</td>\n",
       "      <td>completed</td>\n",
       "      <td>0</td>\n",
       "      <td>1</td>\n",
       "      <td>3102</td>\n",
       "      <td>0</td>\n",
       "      <td></td>\n",
       "      <td>None</td>\n",
       "      <td>3842</td>\n",
       "      <td>wall_thickness</td>\n",
       "      <td>ut</td>\n",
       "      <td>None</td>\n",
       "      <td>None</td>\n",
       "      <td>[TOKA 4, TOKA 3]</td>\n",
       "      <td>job-370e26</td>\n",
       "      <td>duke-gibson-generating-station-d87383</td>\n",
       "      <td>unit-1-c53151</td>\n",
       "      <td>waterwalls-217aec</td>\n",
       "      <td>duke-7f2faf</td>\n",
       "    </tr>\n",
       "    <tr>\n",
       "      <th>1</th>\n",
       "      <td>20221004-565f7b</td>\n",
       "      <td>inspection</td>\n",
       "      <td>3930</td>\n",
       "      <td>2022-10-04</td>\n",
       "      <td>0</td>\n",
       "      <td>None</td>\n",
       "      <td>20221004-565f7b</td>\n",
       "      <td></td>\n",
       "      <td>1291</td>\n",
       "      <td>completed</td>\n",
       "      <td>0</td>\n",
       "      <td>1</td>\n",
       "      <td>3101</td>\n",
       "      <td>0</td>\n",
       "      <td></td>\n",
       "      <td>None</td>\n",
       "      <td>3843</td>\n",
       "      <td>wall_thickness</td>\n",
       "      <td>ut</td>\n",
       "      <td>None</td>\n",
       "      <td>None</td>\n",
       "      <td>[TOKA 4, TOKA 3]</td>\n",
       "      <td>job-370e26</td>\n",
       "      <td>duke-gibson-generating-station-d87383</td>\n",
       "      <td>unit-1-c53151</td>\n",
       "      <td>slopes-36f0b5</td>\n",
       "      <td>duke-7f2faf</td>\n",
       "    </tr>\n",
       "    <tr>\n",
       "      <th>2</th>\n",
       "      <td>20221004-26bdfa</td>\n",
       "      <td>inspection</td>\n",
       "      <td>3932</td>\n",
       "      <td>2022-10-04</td>\n",
       "      <td>0</td>\n",
       "      <td>None</td>\n",
       "      <td>20221004-26bdfa</td>\n",
       "      <td></td>\n",
       "      <td>1291</td>\n",
       "      <td>completed</td>\n",
       "      <td>0</td>\n",
       "      <td>1</td>\n",
       "      <td>3103</td>\n",
       "      <td>0</td>\n",
       "      <td></td>\n",
       "      <td>None</td>\n",
       "      <td>3841</td>\n",
       "      <td>coating_thickness</td>\n",
       "      <td>mi</td>\n",
       "      <td>None</td>\n",
       "      <td>None</td>\n",
       "      <td>[TOKA 4, TOKA 3]</td>\n",
       "      <td>job-370e26</td>\n",
       "      <td>duke-gibson-generating-station-d87383</td>\n",
       "      <td>unit-1-c53151</td>\n",
       "      <td>waterwalls-719308</td>\n",
       "      <td>duke-7f2faf</td>\n",
       "    </tr>\n",
       "  </tbody>\n",
       "</table>\n",
       "</div>"
      ],
      "text/plain": [
       "          entry.id  entry.type  entry.data.portal.id entry.data.portal.date  \\\n",
       "0  20221004-581e1e  inspection                  3931             2022-10-04   \n",
       "1  20221004-565f7b  inspection                  3930             2022-10-04   \n",
       "2  20221004-26bdfa  inspection                  3932             2022-10-04   \n",
       "\n",
       "   entry.data.portal.demo entry.data.portal.name entry.data.portal.slug  \\\n",
       "0                       0                   None        20221004-581e1e   \n",
       "1                       0                   None        20221004-565f7b   \n",
       "2                       0                   None        20221004-26bdfa   \n",
       "\n",
       "  entry.data.portal.notes  entry.data.portal.job_id entry.data.portal.status  \\\n",
       "0                                              1291                completed   \n",
       "1                                              1291                completed   \n",
       "2                                              1291                completed   \n",
       "\n",
       "   entry.data.portal.read_only  entry.data.portal.show_excel  \\\n",
       "0                            0                             1   \n",
       "1                            0                             1   \n",
       "2                            0                             1   \n",
       "\n",
       "   entry.data.portal.sort_order  entry.data.portal.data_import  \\\n",
       "0                          3102                              0   \n",
       "1                          3101                              0   \n",
       "2                          3103                              0   \n",
       "\n",
       "  entry.data.portal.external_id entry.data.portal.zero_offset  \\\n",
       "0                                                        None   \n",
       "1                                                        None   \n",
       "2                                                        None   \n",
       "\n",
       "   entry.data.portal.component_id entry.data.portal.inspection_type  \\\n",
       "0                            3842                    wall_thickness   \n",
       "1                            3843                    wall_thickness   \n",
       "2                            3841                 coating_thickness   \n",
       "\n",
       "  entry.data.portal.ndt_method_type entry.data.portal.target_release_time  \\\n",
       "0                                ut                                  None   \n",
       "1                                ut                                  None   \n",
       "2                                mi                                  None   \n",
       "\n",
       "  entry.data.portal.sales_robotic_service_id entry.data.robot_types  \\\n",
       "0                                       None       [TOKA 4, TOKA 3]   \n",
       "1                                       None       [TOKA 4, TOKA 3]   \n",
       "2                                       None       [TOKA 4, TOKA 3]   \n",
       "\n",
       "  entry.tags.job                        entry.tags.site entry.tags.unit  \\\n",
       "0     job-370e26  duke-gibson-generating-station-d87383   unit-1-c53151   \n",
       "1     job-370e26  duke-gibson-generating-station-d87383   unit-1-c53151   \n",
       "2     job-370e26  duke-gibson-generating-station-d87383   unit-1-c53151   \n",
       "\n",
       "  entry.tags.component entry.tags.organization  \n",
       "0    waterwalls-217aec             duke-7f2faf  \n",
       "1        slopes-36f0b5             duke-7f2faf  \n",
       "2    waterwalls-719308             duke-7f2faf  "
      ]
     },
     "execution_count": 12,
     "metadata": {},
     "output_type": "execute_result"
    }
   ],
   "source": [
    "boiler_inspection_df"
   ]
  },
  {
   "cell_type": "code",
   "execution_count": 13,
   "id": "481d8eb9-0a4a-4d8a-881c-b5746d96d96c",
   "metadata": {},
   "outputs": [],
   "source": [
    "duke_gibson_1_inspection_slugs = [\"20221004-581e1e\", \"20221004-565f7b\"]"
   ]
  },
  {
   "cell_type": "code",
   "execution_count": 14,
   "id": "2c3fb0ec-a24a-4c76-a724-e7dea91a74bb",
   "metadata": {},
   "outputs": [
    {
     "name": "stdout",
     "output_type": "stream",
     "text": [
      "Making Req...\n",
      "...Req Done\n"
     ]
    }
   ],
   "source": [
    "waterwalls_df = get_inspection_df(\"20221004-581e1e\")"
   ]
  },
  {
   "cell_type": "code",
   "execution_count": 17,
   "id": "90dd6685-bc71-4c66-bdfd-a2382f516b1a",
   "metadata": {},
   "outputs": [
    {
     "name": "stdout",
     "output_type": "stream",
     "text": [
      "Making Req...\n",
      "...Req Done\n"
     ]
    }
   ],
   "source": [
    "slopes_df = get_inspection_df(\"20221004-565f7b\")"
   ]
  },
  {
   "cell_type": "code",
   "execution_count": 16,
   "id": "34c98003-84f1-413b-bbcf-c23d499a2caf",
   "metadata": {},
   "outputs": [
    {
     "data": {
      "text/html": [
       "<div>\n",
       "<style scoped>\n",
       "    .dataframe tbody tr th:only-of-type {\n",
       "        vertical-align: middle;\n",
       "    }\n",
       "\n",
       "    .dataframe tbody tr th {\n",
       "        vertical-align: top;\n",
       "    }\n",
       "\n",
       "    .dataframe thead th {\n",
       "        text-align: right;\n",
       "    }\n",
       "</style>\n",
       "<table border=\"1\" class=\"dataframe\">\n",
       "  <thead>\n",
       "    <tr style=\"text-align: right;\">\n",
       "      <th></th>\n",
       "      <th>customer_y</th>\n",
       "      <th>plot_x</th>\n",
       "      <th>x_bin</th>\n",
       "      <th>customer_x</th>\n",
       "      <th>y_bin</th>\n",
       "      <th>plot_y</th>\n",
       "      <th>thickness</th>\n",
       "    </tr>\n",
       "  </thead>\n",
       "  <tbody>\n",
       "    <tr>\n",
       "      <th>0</th>\n",
       "      <td>438.0</td>\n",
       "      <td>1312.0</td>\n",
       "      <td>1312.0</td>\n",
       "      <td>1312</td>\n",
       "      <td>438.0</td>\n",
       "      <td>438.0</td>\n",
       "      <td>0.29348</td>\n",
       "    </tr>\n",
       "    <tr>\n",
       "      <th>1</th>\n",
       "      <td>438.0</td>\n",
       "      <td>1313.0</td>\n",
       "      <td>1313.0</td>\n",
       "      <td>1313</td>\n",
       "      <td>438.0</td>\n",
       "      <td>438.0</td>\n",
       "      <td>0.28304</td>\n",
       "    </tr>\n",
       "    <tr>\n",
       "      <th>2</th>\n",
       "      <td>438.0</td>\n",
       "      <td>1314.0</td>\n",
       "      <td>1314.0</td>\n",
       "      <td>1314</td>\n",
       "      <td>438.0</td>\n",
       "      <td>438.0</td>\n",
       "      <td>0.29000</td>\n",
       "    </tr>\n",
       "    <tr>\n",
       "      <th>3</th>\n",
       "      <td>438.0</td>\n",
       "      <td>1315.0</td>\n",
       "      <td>1315.0</td>\n",
       "      <td>1315</td>\n",
       "      <td>438.0</td>\n",
       "      <td>438.0</td>\n",
       "      <td>0.27260</td>\n",
       "    </tr>\n",
       "    <tr>\n",
       "      <th>4</th>\n",
       "      <td>438.0</td>\n",
       "      <td>1317.0</td>\n",
       "      <td>1317.0</td>\n",
       "      <td>1317</td>\n",
       "      <td>438.0</td>\n",
       "      <td>438.0</td>\n",
       "      <td>0.27840</td>\n",
       "    </tr>\n",
       "  </tbody>\n",
       "</table>\n",
       "</div>"
      ],
      "text/plain": [
       "   customer_y  plot_x   x_bin  customer_x  y_bin  plot_y  thickness\n",
       "0       438.0  1312.0  1312.0        1312  438.0   438.0    0.29348\n",
       "1       438.0  1313.0  1313.0        1313  438.0   438.0    0.28304\n",
       "2       438.0  1314.0  1314.0        1314  438.0   438.0    0.29000\n",
       "3       438.0  1315.0  1315.0        1315  438.0   438.0    0.27260\n",
       "4       438.0  1317.0  1317.0        1317  438.0   438.0    0.27840"
      ]
     },
     "execution_count": 16,
     "metadata": {},
     "output_type": "execute_result"
    }
   ],
   "source": [
    "waterwalls_df.head()"
   ]
  },
  {
   "cell_type": "code",
   "execution_count": 19,
   "id": "2bd19ead-f223-4440-b84e-0a542e34c699",
   "metadata": {},
   "outputs": [
    {
     "data": {
      "text/plain": [
       "0.17399999499320984"
      ]
     },
     "execution_count": 19,
     "metadata": {},
     "output_type": "execute_result"
    }
   ],
   "source": [
    "waterwalls_df.thickness.min()"
   ]
  },
  {
   "cell_type": "code",
   "execution_count": 21,
   "id": "efac0224-520d-42fc-8996-0606bacf35b9",
   "metadata": {},
   "outputs": [
    {
     "data": {
      "text/plain": [
       "(10187, 7)"
      ]
     },
     "execution_count": 21,
     "metadata": {},
     "output_type": "execute_result"
    }
   ],
   "source": [
    "waterwalls_df.shape"
   ]
  },
  {
   "cell_type": "code",
   "execution_count": null,
   "id": "dde7261d-8c62-45dd-9eca-c5c125f3cbe9",
   "metadata": {},
   "outputs": [],
   "source": []
  },
  {
   "cell_type": "code",
   "execution_count": 18,
   "id": "a3c48cbf-6cbd-423a-ba08-025b6f888eae",
   "metadata": {},
   "outputs": [
    {
     "data": {
      "text/html": [
       "<div>\n",
       "<style scoped>\n",
       "    .dataframe tbody tr th:only-of-type {\n",
       "        vertical-align: middle;\n",
       "    }\n",
       "\n",
       "    .dataframe tbody tr th {\n",
       "        vertical-align: top;\n",
       "    }\n",
       "\n",
       "    .dataframe thead th {\n",
       "        text-align: right;\n",
       "    }\n",
       "</style>\n",
       "<table border=\"1\" class=\"dataframe\">\n",
       "  <thead>\n",
       "    <tr style=\"text-align: right;\">\n",
       "      <th></th>\n",
       "      <th>plot_y</th>\n",
       "      <th>plot_x</th>\n",
       "      <th>customer_x</th>\n",
       "      <th>y_bin</th>\n",
       "      <th>customer_y</th>\n",
       "      <th>x_bin</th>\n",
       "      <th>thickness</th>\n",
       "    </tr>\n",
       "  </thead>\n",
       "  <tbody>\n",
       "    <tr>\n",
       "      <th>0</th>\n",
       "      <td>2.0</td>\n",
       "      <td>73.0</td>\n",
       "      <td>73</td>\n",
       "      <td>2.0</td>\n",
       "      <td>2.0</td>\n",
       "      <td>73.0</td>\n",
       "      <td>0.20532</td>\n",
       "    </tr>\n",
       "    <tr>\n",
       "      <th>1</th>\n",
       "      <td>2.0</td>\n",
       "      <td>74.0</td>\n",
       "      <td>74</td>\n",
       "      <td>2.0</td>\n",
       "      <td>2.0</td>\n",
       "      <td>74.0</td>\n",
       "      <td>0.19604</td>\n",
       "    </tr>\n",
       "    <tr>\n",
       "      <th>2</th>\n",
       "      <td>2.0</td>\n",
       "      <td>75.0</td>\n",
       "      <td>75</td>\n",
       "      <td>2.0</td>\n",
       "      <td>2.0</td>\n",
       "      <td>75.0</td>\n",
       "      <td>0.19488</td>\n",
       "    </tr>\n",
       "    <tr>\n",
       "      <th>3</th>\n",
       "      <td>2.0</td>\n",
       "      <td>76.0</td>\n",
       "      <td>76</td>\n",
       "      <td>2.0</td>\n",
       "      <td>2.0</td>\n",
       "      <td>76.0</td>\n",
       "      <td>0.19488</td>\n",
       "    </tr>\n",
       "    <tr>\n",
       "      <th>4</th>\n",
       "      <td>2.0</td>\n",
       "      <td>77.0</td>\n",
       "      <td>77</td>\n",
       "      <td>2.0</td>\n",
       "      <td>2.0</td>\n",
       "      <td>77.0</td>\n",
       "      <td>0.19604</td>\n",
       "    </tr>\n",
       "  </tbody>\n",
       "</table>\n",
       "</div>"
      ],
      "text/plain": [
       "   plot_y  plot_x  customer_x  y_bin  customer_y  x_bin  thickness\n",
       "0     2.0    73.0          73    2.0         2.0   73.0    0.20532\n",
       "1     2.0    74.0          74    2.0         2.0   74.0    0.19604\n",
       "2     2.0    75.0          75    2.0         2.0   75.0    0.19488\n",
       "3     2.0    76.0          76    2.0         2.0   76.0    0.19488\n",
       "4     2.0    77.0          77    2.0         2.0   77.0    0.19604"
      ]
     },
     "execution_count": 18,
     "metadata": {},
     "output_type": "execute_result"
    }
   ],
   "source": [
    "slopes_df.head()"
   ]
  },
  {
   "cell_type": "code",
   "execution_count": 20,
   "id": "e9a53847-affb-4470-b6a5-b4eabfe46f3a",
   "metadata": {},
   "outputs": [
    {
     "data": {
      "text/plain": [
       "0.08584000170230865"
      ]
     },
     "execution_count": 20,
     "metadata": {},
     "output_type": "execute_result"
    }
   ],
   "source": [
    "slopes_df.thickness.min()"
   ]
  },
  {
   "cell_type": "code",
   "execution_count": 22,
   "id": "726538e3-9768-4d31-a093-afa769563a54",
   "metadata": {},
   "outputs": [
    {
     "data": {
      "text/plain": [
       "(14332, 7)"
      ]
     },
     "execution_count": 22,
     "metadata": {},
     "output_type": "execute_result"
    }
   ],
   "source": [
    "slopes_df.shape"
   ]
  },
  {
   "cell_type": "code",
   "execution_count": null,
   "id": "bd3de335-b233-49a2-8b3b-f62086ee82f0",
   "metadata": {},
   "outputs": [],
   "source": []
  },
  {
   "cell_type": "code",
   "execution_count": 23,
   "id": "1e7c45b7-eb22-4eac-8ef2-de648fd419c7",
   "metadata": {},
   "outputs": [
    {
     "data": {
      "text/plain": [
       "24519"
      ]
     },
     "execution_count": 23,
     "metadata": {},
     "output_type": "execute_result"
    }
   ],
   "source": [
    "10187+14332"
   ]
  },
  {
   "cell_type": "code",
   "execution_count": null,
   "id": "314e962e-0b0c-493e-9ba9-6f3b3d3309d7",
   "metadata": {},
   "outputs": [],
   "source": []
  }
 ],
 "metadata": {
  "kernelspec": {
   "display_name": "Python 3 (ipykernel)",
   "language": "python",
   "name": "python3"
  },
  "language_info": {
   "codemirror_mode": {
    "name": "ipython",
    "version": 3
   },
   "file_extension": ".py",
   "mimetype": "text/x-python",
   "name": "python",
   "nbconvert_exporter": "python",
   "pygments_lexer": "ipython3",
   "version": "3.10.6"
  }
 },
 "nbformat": 4,
 "nbformat_minor": 5
}
