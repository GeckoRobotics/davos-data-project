{
 "cells": [
  {
   "cell_type": "markdown",
   "id": "d10625b1-a03d-443c-810d-9afaa25563e4",
   "metadata": {},
   "source": [
    "# Davos Data Project\n",
    "\n",
    "# Goal:\n",
    "## Generate data to support a story that demonstrates the value of Gecko's unique dataset\n",
    "\n",
    "\n",
    "**Hypotheses:**\n",
    "- Extreme Weather leads to outages due to increased energy demand and stress on the grid\n",
    "    - Winter weather events , extreme cold\n",
    "    - Summer and extreme heat\n",
    "- What is the current state of US boilers, Gecko has inspected many recently, are they in good shape ?  How do we define good shape ?"
   ]
  },
  {
   "cell_type": "markdown",
   "id": "b2bab932-37aa-461b-85f1-39cc596dd15e",
   "metadata": {
    "tags": []
   },
   "source": [
    "# Table of Contents:\n",
    "\n",
    "1. Data Overview\n",
    "    - data\n",
    "2. Environment Setup\n",
    "3. Data Loading & Preprocessing\n",
    "4. EDA & Visualization"
   ]
  },
  {
   "cell_type": "markdown",
   "id": "97e6dc1c-31db-419e-a05c-19701eff8753",
   "metadata": {
    "tags": []
   },
   "source": [
    "# 1. Data Overview\n",
    "\n",
    "- data\n",
    "    - raw_data\n",
    "        1. **AEP Plants 2011-20220802 Boiler Tube Leaks.xlsx**\n",
    "            - AEP boiler tube leaks Jan 2011 - Aug 2022\n",
    "            - Source: AEP, Wolpa\n",
    "        2. **Duke Fleet Boiler tube failure data 2005 - 2020.csv**\n",
    "            - Duke boiler tube leaks 2005 - 2020\n",
    "            - Source: Duke, Connor\n",
    "        3. **All US Boilers.csv**\n",
    "            - US Boilers\n",
    "            - Source: IIR, Wolpa\n",
    "        - **salesforce.csv**\n",
    "            - Gecko Salesforce data\n",
    "            - Source: Gecko Salesforce\n",
    "        - **portalservice_power_units**\n",
    "            - all power industry units in portal data\n",
    "            - Source: Gecko portal-service"
   ]
  },
  {
   "cell_type": "code",
   "execution_count": null,
   "id": "6cf7cf7d-3cb7-485b-8bb9-465cf41da2ae",
   "metadata": {},
   "outputs": [],
   "source": []
  },
  {
   "cell_type": "markdown",
   "id": "9f44f133-0b12-4d5b-b856-271f698478dc",
   "metadata": {},
   "source": [
    "# 2. Environment Setup"
   ]
  },
  {
   "cell_type": "code",
   "execution_count": 1,
   "id": "d8c1f2c1-7329-4143-b99c-89a23db73f69",
   "metadata": {},
   "outputs": [],
   "source": [
    "import json\n",
    "import matplotlib\n",
    "import matplotlib.pyplot as plt\n",
    "from matplotlib.colors import ListedColormap\n",
    "import numpy as np\n",
    "import os\n",
    "import pandas as pd\n",
    "import requests\n",
    "import seaborn as sns\n",
    "import sys\n",
    "sys.path.insert(0, '..')\n",
    "import warnings\n",
    "import zlib\n",
    "\n",
    "# local\n",
    "from libs.etl.data_cleaning import generate_aep_outage_dfs, generate_duke_outage_dfs, generate_iir_boilers_dfs, determine_component\n",
    "from libs.inspection_analysis.utils import analyze_inspection_df, hist_inspection_df, check_thickness, get_thickness_histogram, group_critdat, get_inspection_df\n",
    "from libs.reference.constants import COMPONENT_TYPE_MAP, POWER_CUST_LIST\n",
    "from libs.viz.utils import add_vbar_labels, add_hbar_labels"
   ]
  },
  {
   "cell_type": "markdown",
   "id": "290662bf-801f-4c95-8bf8-b70f8c363e7a",
   "metadata": {},
   "source": [
    "Matplotlib Style:"
   ]
  },
  {
   "cell_type": "code",
   "execution_count": null,
   "id": "c9d9575d-bce6-4f72-b1c0-d8a3e0ea24d7",
   "metadata": {},
   "outputs": [],
   "source": [
    "plt.style.use('dark_background')\n",
    "#sns.set_style('darkgrid')"
   ]
  },
  {
   "cell_type": "markdown",
   "id": "7a85bb07-99a7-4f56-ab04-5865d0738427",
   "metadata": {},
   "source": [
    "Get Current Working Directory:"
   ]
  },
  {
   "cell_type": "code",
   "execution_count": null,
   "id": "a68c091c-c879-4fcf-8ab7-a156b0316855",
   "metadata": {},
   "outputs": [],
   "source": [
    "wd = os.getcwd()\n",
    "print(wd)"
   ]
  },
  {
   "cell_type": "markdown",
   "id": "da18dca6-34bf-411e-a3c4-322282929124",
   "metadata": {},
   "source": [
    "Pandas Settings:"
   ]
  },
  {
   "cell_type": "code",
   "execution_count": 17,
   "id": "ccb85672-3619-4733-ae1c-cce36a063777",
   "metadata": {},
   "outputs": [],
   "source": [
    "pd.set_option('display.max_rows', 1000)\n",
    "pd.set_option('display.max_columns', 1000)"
   ]
  },
  {
   "cell_type": "markdown",
   "id": "bc9952c2-0365-47f5-aca7-af4912288ab3",
   "metadata": {},
   "source": [
    "Disable Warnings:"
   ]
  },
  {
   "cell_type": "code",
   "execution_count": null,
   "id": "84407a19-4ae9-4569-b00f-5f5450d964b3",
   "metadata": {},
   "outputs": [],
   "source": [
    "warnings.filterwarnings('ignore')"
   ]
  },
  {
   "cell_type": "markdown",
   "id": "7bf9ea6a-d028-471c-81ac-0d0586ff32ee",
   "metadata": {},
   "source": [
    "Set Token ?"
   ]
  },
  {
   "cell_type": "code",
   "execution_count": null,
   "id": "06b0e4e0-22f3-495f-9b23-40bcba254e55",
   "metadata": {},
   "outputs": [],
   "source": [
    "# token = \"\"\"eyJhbGciOiJSUzI1NiIsInR5cCI6IkpXVCIsImtpZCI6IkVpeTN0a0l0bzZ0SDFTZ1VZdUdXVCJ9.eyJpc3MiOiJodHRwczovL2dlY2tvcm9ib3RpY3MudXMuYXV0aDAuY29tLyIsInN1YiI6Imdvb2dsZS1vYXV0aDJ8MTAxODIxNjU3MzQ0ODI0ODQxMjA5IiwiYXVkIjpbImNsb3VkLmdlY2tvcm9ib3RpY3MuY29tIiwiaHR0cHM6Ly9nZWNrb3JvYm90aWNzLnVzLmF1dGgwLmNvbS91c2VyaW5mbyJdLCJpYXQiOjE2NzM5NzE1NzYsImV4cCI6MTY3NDA1Nzk3NiwiYXpwIjoiSm1la3lLS0RsM2liRzdQbExRY2JLWHZoekx1UTRaQ08iLCJzY29wZSI6Im9wZW5pZCBwcm9maWxlIGVtYWlsIiwicGVybWlzc2lvbnMiOlsiY29sbGVjdGlvbnM6M2RfbW9kZWxzOmVkaXQiLCJjb2xsZWN0aW9uczphZG5vYy1hYnUtZGhhYmktbmF0aW9uYWwtb2lsLWNvbXBhbnktMmE1MzY0OmVkaXQiLCJjb2xsZWN0aW9uczphZXAtYTgyZjE4OmVkaXQiLCJjb2xsZWN0aW9uczphZXMtZWE0ZjMwOmVkaXQiLCJjb2xsZWN0aW9uczpiYXNmLTBmMmNiZTplZGl0IiwiY29sbGVjdGlvbnM6Y2hldnJvbi0wMWE1M2Y6ZWRpdCIsImNvbGxlY3Rpb25zOmNvbWJpbmVkX2NvbXBvbmVudF9kZnM6ZWRpdCIsImNvbGxlY3Rpb25zOmRvbXRhci03NDVhNWE6ZWRpdCIsImNvbGxlY3Rpb25zOmR1a2UtN2YyZmFmOmVkaXQiLCJjb2xsZWN0aW9uczplYmVuc2J1cmctcG93ZXItY29tcGFueS0wZTEyMWY6ZWRpdCIsImNvbGxlY3Rpb25zOmV4eG9uLTdmZDJhYjplZGl0IiwiY29sbGVjdGlvbnM6ZmRlLWRlbW86ZWRpdCIsImNvbGxlY3Rpb25zOmdlb3JnaWEtcGFjaWZpYy1hMWVjNTM6ZWRpdCIsImNvbGxlY3Rpb25zOm1hbnVhbF9pbnNwZWN0aW9uczplZGl0IiwiY29sbGVjdGlvbnM6bm9uc3BlY2lmaWMtY3VzdG9tZXI6ZWRpdCIsImNvbGxlY3Rpb25zOnJvbGxvdXRfaW1hZ2VzOmVkaXQiLCJjb2xsZWN0aW9uczp1cy1uYXZ5LTY5YTcyYTplZGl0IiwiZ2Vja286cmVhZCIsImdlY2tvOnJvbG9kZXg6ZWRpdCJdfQ.k5CJ5-EnyS1ELVIoCtNFqVrYRYuqVsKYdG5_nWqAXxgBcSS-qhiVr-RXpLyX3FLG2BYSrg0qUA8fet27LB7hMUt8wBnFNwFBlHAUbv0xYvyn2zLrxSWMxUIPI5vr6MVRKbJwPpPYVA-uOmM3idW8sWVs3RR544WZUC29Nt73zThAap2LG9qG-UrAJGOo9U365uFKkANH_A69qySfMUnQ7SGrSuuXNP0f8xXPmn4LQ63zJ_kVDEQNNQD-LhQo6ynMVG28h9UhoQ39MPvz-yRJLYKBk45QfQPk1yCqXWTwKKUg4_UyNy-JyaEbTWU3CW_Y47mlqVu5HZHWOWbTE3cb7A\"\"\""
   ]
  },
  {
   "cell_type": "markdown",
   "id": "277b521e-bf0a-4e5f-b9e0-1d5c94f4439d",
   "metadata": {},
   "source": [
    "# 3. EDA and Visualization"
   ]
  },
  {
   "cell_type": "markdown",
   "id": "196255f0-4e32-4fd4-b68d-48fada43cd33",
   "metadata": {},
   "source": [
    "## Source 1:\n",
    "AEP Plants 2011-20220802 Boiler Tube Leaks.xlsx\n",
    "\n",
    "Description:\n",
    "\n",
    "This dataset contains a large set of AEP tube failures across their steam fleet for a number of years"
   ]
  },
  {
   "cell_type": "code",
   "execution_count": null,
   "id": "68a0b203-bf5d-445a-9122-4fba6ef8f811",
   "metadata": {},
   "outputs": [],
   "source": [
    "# get data\n",
    "aep_df, active_aep_df = generate_aep_outage_dfs()"
   ]
  },
  {
   "cell_type": "code",
   "execution_count": null,
   "id": "555f37f1-6b60-490b-b87f-7acf240feaa9",
   "metadata": {},
   "outputs": [],
   "source": [
    "aep_df.shape"
   ]
  },
  {
   "cell_type": "code",
   "execution_count": null,
   "id": "55428cf3-5e56-4387-ae92-10257e0c6be4",
   "metadata": {},
   "outputs": [],
   "source": [
    "active_aep_df.shape"
   ]
  },
  {
   "cell_type": "code",
   "execution_count": null,
   "id": "4315869a-7e11-4f9d-b2aa-2463dca5be58",
   "metadata": {},
   "outputs": [],
   "source": []
  },
  {
   "cell_type": "code",
   "execution_count": null,
   "id": "f0ecf606-e118-4b79-a256-a2e293c8c18c",
   "metadata": {},
   "outputs": [],
   "source": [
    "aep_df.head(1)"
   ]
  },
  {
   "cell_type": "code",
   "execution_count": null,
   "id": "d7d98a3b-3051-4d34-821c-6b1a830deb1d",
   "metadata": {},
   "outputs": [],
   "source": [
    "active_aep_df.head(1)"
   ]
  },
  {
   "cell_type": "code",
   "execution_count": null,
   "id": "a0932628-e9f9-475d-bde9-b87dc894ab79",
   "metadata": {},
   "outputs": [],
   "source": []
  },
  {
   "cell_type": "code",
   "execution_count": null,
   "id": "c866df27-a13c-456e-b1bf-0b17e170f139",
   "metadata": {},
   "outputs": [],
   "source": [
    "set(aep_df['System Name'])"
   ]
  },
  {
   "cell_type": "code",
   "execution_count": null,
   "id": "a58234ad-981a-45bc-adb2-fdde8fffba6a",
   "metadata": {},
   "outputs": [],
   "source": [
    "active_aep_df['Event Start Timestamp'].min()"
   ]
  },
  {
   "cell_type": "code",
   "execution_count": null,
   "id": "49a75954-84e2-4f2c-96d6-c56fa9f9ac37",
   "metadata": {},
   "outputs": [],
   "source": [
    "active_aep_df['Event Start Timestamp'].max()"
   ]
  },
  {
   "cell_type": "code",
   "execution_count": null,
   "id": "5d2af482-342d-46d3-b7f6-7c7b424db5d4",
   "metadata": {},
   "outputs": [],
   "source": [
    "active_aep_df['Plant Name'].nunique()"
   ]
  },
  {
   "cell_type": "code",
   "execution_count": null,
   "id": "037bd053-aae3-4a84-b983-b7c4938c2f4f",
   "metadata": {},
   "outputs": [],
   "source": [
    "active_aep_df['Unit Name'].nunique()"
   ]
  },
  {
   "cell_type": "code",
   "execution_count": null,
   "id": "7bf497fe-9ee0-4e04-bf74-af59094ee664",
   "metadata": {},
   "outputs": [],
   "source": []
  },
  {
   "cell_type": "code",
   "execution_count": null,
   "id": "56b50099-0a60-4b22-8069-d6ce93e7d388",
   "metadata": {},
   "outputs": [],
   "source": [
    "component_df = active_aep_df.groupby(['Cause Description'])['Event Start Timestamp'].nunique().to_frame().sort_values(by='Event Start Timestamp', ascending=False).reset_index()"
   ]
  },
  {
   "cell_type": "code",
   "execution_count": null,
   "id": "c0ea52c5-f68f-4d6c-8694-2440eda1487e",
   "metadata": {},
   "outputs": [],
   "source": [
    "fig, ax = plt.subplots()\n",
    "plt.rcParams[\"figure.figsize\"] = (10,5)\n",
    "\n",
    "x = component_df[\"Cause Description\"]\n",
    "y = component_df[\"Event Start Timestamp\"]\n",
    "width =0.7\n",
    "\n",
    "rects1 = ax.barh(x, y, width, label = 'Outages')\n",
    "ax.set_title('AEP Outages by Component')\n",
    "ax.set_ylabel('Cause')\n",
    "ax.set_xlabel('Count of Outages')\n",
    "\n",
    "add_hbar_labels(x, y)\n",
    "\n",
    "#ax.set_xticks(x)\n",
    "#ax.set_xticklabels(component_df[\"Cause Description\"])\n",
    "#ax.legend()\n",
    "\n",
    "ax.invert_yaxis()\n",
    "\n",
    "#fig.tight_layout()\n",
    "\n",
    "#plt.xticks(rotation=90)\n",
    "plt.show()"
   ]
  },
  {
   "cell_type": "code",
   "execution_count": null,
   "id": "24be8d55-a1f9-489e-b266-034fa1acbb3d",
   "metadata": {},
   "outputs": [],
   "source": []
  },
  {
   "cell_type": "code",
   "execution_count": null,
   "id": "d5f12c31-cca5-4310-81aa-ebcb585e0467",
   "metadata": {},
   "outputs": [],
   "source": []
  },
  {
   "cell_type": "code",
   "execution_count": null,
   "id": "8be7326e-6048-4ffd-baa3-fe5c0b23dd92",
   "metadata": {},
   "outputs": [],
   "source": [
    "aep_month_outage_df = active_aep_df.groupby(['Outage Month'])['Event Start Timestamp'].nunique().to_frame().reset_index()"
   ]
  },
  {
   "cell_type": "code",
   "execution_count": null,
   "id": "dce32f02-6f01-4333-a07e-9b31bd24f4ad",
   "metadata": {},
   "outputs": [],
   "source": [
    "fig, ax = plt.subplots()\n",
    "\n",
    "x = aep_month_outage_df[\"Outage Month\"]\n",
    "y = aep_month_outage_df[\"Event Start Timestamp\"]\n",
    "width =0.7\n",
    "\n",
    "rects1 = ax.bar(x, y, width, label = 'Outages')\n",
    "ax.set_title('AEP Outages by Month')\n",
    "ax.set_ylabel('Count of Outages')\n",
    "ax.set_xticks(x)\n",
    "ax.set_xticklabels(aep_month_outage_df[\"Outage Month\"])\n",
    "#ax.legend()\n",
    "\n",
    "#add_vbar_labels(x,y)\n",
    "\n",
    "fig.tight_layout()\n",
    "\n",
    "plt.xticks(rotation=90)\n",
    "plt.show()"
   ]
  },
  {
   "cell_type": "code",
   "execution_count": null,
   "id": "f8e4ab08-7d4b-4a01-bb0f-286dfbe11f31",
   "metadata": {},
   "outputs": [],
   "source": []
  },
  {
   "cell_type": "code",
   "execution_count": null,
   "id": "138e47e8-ad7e-4a07-beba-27cef27f464b",
   "metadata": {},
   "outputs": [],
   "source": []
  },
  {
   "cell_type": "code",
   "execution_count": null,
   "id": "dc75ffc7-4b47-4e1c-8b3b-bc559db8b312",
   "metadata": {},
   "outputs": [],
   "source": [
    "plant_outages_df = active_aep_df.groupby(['Plant Name'])['Event Start Timestamp'].nunique().to_frame().reset_index().sort_values(by='Event Start Timestamp', ascending=False)"
   ]
  },
  {
   "cell_type": "code",
   "execution_count": null,
   "id": "be11d9a8-f226-4296-8abf-e2f88681286a",
   "metadata": {},
   "outputs": [],
   "source": [
    "fig, ax = plt.subplots()\n",
    "\n",
    "x = plant_outages_df[\"Plant Name\"]\n",
    "y = plant_outages_df[\"Event Start Timestamp\"]\n",
    "width =0.7\n",
    "\n",
    "rects1 = ax.bar(x, y, width, label = 'Outages')\n",
    "ax.set_title('Outages by Plant')\n",
    "ax.set_ylabel('Count of Outages')\n",
    "ax.set_xticks(x)\n",
    "ax.set_xticklabels(plant_outages_df[\"Plant Name\"])\n",
    "ax.legend()\n",
    "\n",
    "# add_vbar_labels(x,y)\n",
    "\n",
    "fig.tight_layout()\n",
    "\n",
    "plt.xticks(rotation=90)\n",
    "plt.show()"
   ]
  },
  {
   "cell_type": "code",
   "execution_count": null,
   "id": "9077b2ad-fdaa-41f0-98e6-1a3ac5da317f",
   "metadata": {},
   "outputs": [],
   "source": []
  },
  {
   "cell_type": "code",
   "execution_count": null,
   "id": "aea5dcc7-4169-4202-8b70-e2b926c4ebaa",
   "metadata": {},
   "outputs": [],
   "source": []
  },
  {
   "cell_type": "code",
   "execution_count": null,
   "id": "c9352308-b2ca-4078-bb57-a018559452fa",
   "metadata": {},
   "outputs": [],
   "source": [
    "outage_duration_df = active_aep_df.groupby(['Plant Name'])['NERC Equivalent Hours'].sum().to_frame().reset_index().sort_values(by='NERC Equivalent Hours', ascending=False)"
   ]
  },
  {
   "cell_type": "code",
   "execution_count": null,
   "id": "d76243ac-ad03-46d3-b810-d5df3075d8d1",
   "metadata": {},
   "outputs": [],
   "source": [
    "fig, ax = plt.subplots()\n",
    "\n",
    "x = outage_duration_df[\"Plant Name\"]\n",
    "y = outage_duration_df[\"NERC Equivalent Hours\"]\n",
    "width =0.7\n",
    "\n",
    "rects1 = ax.bar(x, y, width, label = 'Total Outage Hrs')\n",
    "ax.set_title('AEP Total Outage Duration by Plant')\n",
    "ax.set_ylabel('Total Duration (hrs)')\n",
    "ax.set_xticks(x)\n",
    "ax.set_xticklabels(plant_outages_df[\"Plant Name\"])\n",
    "ax.legend()\n",
    "\n",
    "# add_vbar_labels(x,y)\n",
    "\n",
    "fig.tight_layout()\n",
    "\n",
    "plt.xticks(rotation=90)\n",
    "plt.show()"
   ]
  },
  {
   "cell_type": "code",
   "execution_count": null,
   "id": "3fce3eef-e2c4-43b1-adb1-89d132978d07",
   "metadata": {},
   "outputs": [],
   "source": []
  },
  {
   "cell_type": "code",
   "execution_count": null,
   "id": "48cbdb1d-933d-4694-bac5-141a2fde63e9",
   "metadata": {},
   "outputs": [],
   "source": []
  },
  {
   "cell_type": "code",
   "execution_count": null,
   "id": "0afaf142-18d1-4bea-ab05-f75c117c6a96",
   "metadata": {},
   "outputs": [],
   "source": [
    "outage_mwh_df = active_aep_df.groupby(['Plant Name'])['NERC MWH Loss'].sum().to_frame().reset_index().sort_values(by='NERC MWH Loss', ascending=False)"
   ]
  },
  {
   "cell_type": "code",
   "execution_count": null,
   "id": "d246b65d-26aa-41ca-a573-707ff840d592",
   "metadata": {},
   "outputs": [],
   "source": [
    "fig, ax = plt.subplots()\n",
    "\n",
    "x = outage_mwh_df[\"Plant Name\"]\n",
    "y = outage_mwh_df[\"NERC MWH Loss\"]\n",
    "width =0.7\n",
    "\n",
    "rects1 = ax.bar(x, y, width, label = 'Total MWhs Lost')\n",
    "ax.set_title('AEP - Total MWhs Lost by Plant')\n",
    "ax.set_ylabel('Millions of MWhs')\n",
    "ax.set_xticks(x)\n",
    "ax.set_xticklabels(plant_outages_df[\"Plant Name\"])\n",
    "ax.legend()\n",
    "\n",
    "#add_vbar_labels(x,y)\n",
    "\n",
    "fig.tight_layout()\n",
    "\n",
    "plt.xticks(rotation=90)\n",
    "plt.show()"
   ]
  },
  {
   "cell_type": "code",
   "execution_count": null,
   "id": "581675b5-aa4b-4fc0-9cfb-d275629d02e5",
   "metadata": {},
   "outputs": [],
   "source": []
  },
  {
   "cell_type": "code",
   "execution_count": null,
   "id": "1ac48502-5bec-4e51-b40a-b8e963b32671",
   "metadata": {},
   "outputs": [],
   "source": []
  },
  {
   "cell_type": "markdown",
   "id": "b6253ddd-a985-4d14-9148-6bd335828726",
   "metadata": {},
   "source": [
    "## Source 2:\n",
    "Duke Fleet Boiler tube failure data 2005 - 2020.csv"
   ]
  },
  {
   "cell_type": "code",
   "execution_count": null,
   "id": "50a46eb8-7588-46f0-b213-cb4e77b39115",
   "metadata": {
    "tags": []
   },
   "outputs": [],
   "source": [
    "duke_df = generate_duke_outage_dfs()"
   ]
  },
  {
   "cell_type": "code",
   "execution_count": null,
   "id": "62cf8b41-eded-4857-9661-f0e9ef04e233",
   "metadata": {},
   "outputs": [],
   "source": [
    "duke_df.shape"
   ]
  },
  {
   "cell_type": "code",
   "execution_count": null,
   "id": "20a2ad43-83a3-4652-a6b6-e5a51e8ebde0",
   "metadata": {},
   "outputs": [],
   "source": [
    "duke_df.head()"
   ]
  },
  {
   "cell_type": "code",
   "execution_count": null,
   "id": "0053731f-88b5-403d-8cae-90780eb86428",
   "metadata": {},
   "outputs": [],
   "source": [
    "duke_month_outages_df = duke_df.groupby(['Outage Month'])['Event ID'].nunique().to_frame().reset_index()"
   ]
  },
  {
   "cell_type": "code",
   "execution_count": null,
   "id": "3975f0f0-d7cf-47a9-b06d-714723dcfc84",
   "metadata": {},
   "outputs": [],
   "source": [
    "fig, ax = plt.subplots()\n",
    "\n",
    "x = duke_month_outages_df[\"Outage Month\"]\n",
    "y = duke_month_outages_df[\"Event ID\"]\n",
    "width =0.7\n",
    "\n",
    "rects1 = ax.bar(x, y, width, label = 'Outages')\n",
    "ax.set_title('Duke Outages by Month')\n",
    "ax.set_ylabel('Count of Outages')\n",
    "ax.set_xticks(x)\n",
    "ax.set_xticklabels(duke_month_outages_df[\"Outage Month\"])\n",
    "ax.legend()\n",
    "\n",
    "fig.tight_layout()\n",
    "\n",
    "plt.xticks(rotation=90)\n",
    "plt.show()"
   ]
  },
  {
   "cell_type": "code",
   "execution_count": null,
   "id": "ec68f9cb-7b63-4b0a-b2d9-1acc1dca5ed6",
   "metadata": {},
   "outputs": [],
   "source": []
  },
  {
   "cell_type": "code",
   "execution_count": null,
   "id": "03eee0c6-8157-4366-b5b1-397dcda8a89d",
   "metadata": {},
   "outputs": [],
   "source": [
    "duke_station_unit_df = duke_df.groupby(['Station-Unit'])['Event ID'].nunique().to_frame().reset_index().sort_values(by=['Event ID'], ascending=False)"
   ]
  },
  {
   "cell_type": "code",
   "execution_count": null,
   "id": "4f29e29c-71b9-45fc-8651-b5317f9c435a",
   "metadata": {},
   "outputs": [],
   "source": [
    "fig, ax = plt.subplots()\n",
    "\n",
    "x = duke_station_unit_df[\"Station-Unit\"]\n",
    "y = duke_station_unit_df[\"Event ID\"]\n",
    "width =0.7\n",
    "\n",
    "rects1 = ax.barh(x, y, width, label = 'Outages')\n",
    "ax.set_title('Duke Outages by Station-Unit')\n",
    "ax.set_ylabel('Station-Unit')\n",
    "#ax.set_xticks(x)\n",
    "#ax.set_xticklabels(duke_station_unit_df[\"Station-Unit\"])\n",
    "ax.legend()\n",
    "ax.set_xlabel('Count of Outages')\n",
    "\n",
    "ax.invert_yaxis()\n",
    "\n",
    "fig.tight_layout()\n",
    "\n",
    "#plt.xticks(rotation=90)\n",
    "plt.show()"
   ]
  },
  {
   "cell_type": "code",
   "execution_count": null,
   "id": "9c959d8a-d89c-4711-8651-3ed7702fa19a",
   "metadata": {},
   "outputs": [],
   "source": []
  },
  {
   "cell_type": "code",
   "execution_count": null,
   "id": "55c835ab-06a9-4b03-ae94-bd3f772e244f",
   "metadata": {},
   "outputs": [],
   "source": []
  },
  {
   "cell_type": "code",
   "execution_count": null,
   "id": "d8dd093b-61e5-403b-bb1e-13c9b97f7b28",
   "metadata": {},
   "outputs": [],
   "source": []
  },
  {
   "cell_type": "code",
   "execution_count": null,
   "id": "ccc473ef-e722-4aa8-8fd8-e10e558a2eac",
   "metadata": {},
   "outputs": [],
   "source": []
  },
  {
   "cell_type": "markdown",
   "id": "d0282756-29dd-418d-8dc8-c6fd9c44979f",
   "metadata": {
    "tags": []
   },
   "source": [
    "## Source 3:\n",
    "All US Boilers.csv"
   ]
  },
  {
   "cell_type": "code",
   "execution_count": null,
   "id": "5b92fa25-206d-432d-ac6f-0b6d828b1390",
   "metadata": {},
   "outputs": [],
   "source": [
    "us_boilers_df, operational_us_boilers_df = generate_iir_boilers_dfs()"
   ]
  },
  {
   "cell_type": "code",
   "execution_count": null,
   "id": "ca8722e8-74e3-403c-af9c-f90d55b188e6",
   "metadata": {},
   "outputs": [],
   "source": []
  },
  {
   "cell_type": "markdown",
   "id": "98ab23ec-18dc-41b2-85d5-59a36a01087c",
   "metadata": {},
   "source": [
    "### NOTES:\n",
    "\n",
    "OUT_DESIGN is in MW\n",
    "\n",
    "avg 5days per outage\n",
    "\n",
    "heat rate , lower is better"
   ]
  },
  {
   "cell_type": "code",
   "execution_count": null,
   "id": "d5a5d7a2-73a4-41fb-822f-759a318fa6f2",
   "metadata": {},
   "outputs": [],
   "source": [
    "us_boilers_df.head(10)"
   ]
  },
  {
   "cell_type": "code",
   "execution_count": null,
   "id": "8e4844c0-9b93-4726-b7dd-63f01820f295",
   "metadata": {},
   "outputs": [],
   "source": []
  },
  {
   "cell_type": "code",
   "execution_count": null,
   "id": "acd3bd8d-e8e1-4568-9e25-6845fd323496",
   "metadata": {},
   "outputs": [],
   "source": [
    "# us_boilers_df[us_boilers_df['PLANT_NAME'].str.contains('Petersburg')]"
   ]
  },
  {
   "cell_type": "code",
   "execution_count": null,
   "id": "79030bbc-7671-41b5-b42b-adbb43716d2f",
   "metadata": {},
   "outputs": [],
   "source": [
    "operational_boilers_usage = operational_us_boilers_df.groupby(['PWR_USAGE'])['UNIT_ID'].nunique().to_frame().reset_index()"
   ]
  },
  {
   "cell_type": "code",
   "execution_count": null,
   "id": "e62cc778-140a-4af5-8414-e5d6f51a873c",
   "metadata": {},
   "outputs": [],
   "source": [
    "fig, ax = plt.subplots()\n",
    "\n",
    "x = operational_boilers_usage[\"PWR_USAGE\"]\n",
    "y = operational_boilers_usage[\"UNIT_ID\"]\n",
    "width =0.7\n",
    "\n",
    "rects1 = ax.bar(x, y, width, label = 'Status')\n",
    "ax.set_title('US Boiler Usage Category')\n",
    "ax.set_ylabel('Count of Units')\n",
    "ax.set_xticks(x)\n",
    "#ax.set_xticklabels(x)\n",
    "#ax.legend()\n",
    "\n",
    "add_vbar_labels(x,y)\n",
    "\n",
    "fig.tight_layout()\n",
    "\n",
    "#plt.axvline(x=2023, c='r')\n",
    "#plt.xticks(np.arange(min(x), max(x)+1, 5))\n",
    "\n",
    "#plt.xticks(rotation=45)\n",
    "plt.show()"
   ]
  },
  {
   "cell_type": "code",
   "execution_count": null,
   "id": "8845f721-c6af-4d9b-a320-365bf1217d81",
   "metadata": {},
   "outputs": [],
   "source": []
  },
  {
   "cell_type": "code",
   "execution_count": null,
   "id": "bf4aa835-9312-40d2-934e-f6f373ea9daa",
   "metadata": {},
   "outputs": [],
   "source": [
    "operational_boilers_fuel = operational_us_boilers_df.groupby(['PRIM_FUEL'])['UNIT_ID'].nunique().to_frame().reset_index().sort_values(by=['UNIT_ID'], ascending=False)"
   ]
  },
  {
   "cell_type": "code",
   "execution_count": null,
   "id": "9d1141ed-2fed-4244-9ea2-464ffadd6e2d",
   "metadata": {},
   "outputs": [],
   "source": [
    "fig, ax = plt.subplots()\n",
    "\n",
    "x = operational_boilers_fuel[\"PRIM_FUEL\"]\n",
    "y = operational_boilers_fuel[\"UNIT_ID\"]\n",
    "width =0.7\n",
    "\n",
    "rects1 = ax.barh(x, y, width, label = 'Status')\n",
    "ax.set_title('US Boiler Fuel Type')\n",
    "\n",
    "#ax.set_xticklabels(x)\n",
    "ax.legend()\n",
    "\n",
    "fig.tight_layout()\n",
    "\n",
    "ax.invert_yaxis()\n",
    "\n",
    "ax.set_ylabel('Fuel Type')\n",
    "ax.set_xlabel('Count of Units')\n",
    "#ax.set_xticks(x)\n",
    "\n",
    "#plt.axvline(x=2023, c='r')\n",
    "#plt.xticks(np.arange(min(x), max(x)+1, 5))\n",
    "\n",
    "#plt.xticks(rotation=90)\n",
    "plt.show()"
   ]
  },
  {
   "cell_type": "code",
   "execution_count": null,
   "id": "765c2bd3-c107-48c5-a382-55323992700f",
   "metadata": {},
   "outputs": [],
   "source": []
  },
  {
   "cell_type": "code",
   "execution_count": null,
   "id": "b028f32c-56cb-40be-8722-af6a1af04ede",
   "metadata": {},
   "outputs": [],
   "source": [
    "set(us_boilers_df['MARKET_REG'])"
   ]
  },
  {
   "cell_type": "code",
   "execution_count": null,
   "id": "f8d0c78a-c5a0-4d61-9183-056935d44fdf",
   "metadata": {},
   "outputs": [],
   "source": [
    "us_boilers_df.groupby(['MARKET_REG', 'PARENTNAME', 'OWNER_NAME', 'OPER_NAME', 'PLANT_NAME'])['UNIT_ID'].nunique().to_frame().head(20)"
   ]
  },
  {
   "cell_type": "code",
   "execution_count": null,
   "id": "d73be1e4-15eb-49f4-810c-429c1b8eedff",
   "metadata": {},
   "outputs": [],
   "source": [
    "us_boilers_df['PARENTNAME'].nunique()"
   ]
  },
  {
   "cell_type": "code",
   "execution_count": null,
   "id": "2e1da793-3dff-4317-96b4-6393e1500f7a",
   "metadata": {},
   "outputs": [],
   "source": [
    "us_boilers_df['UNIT_ID'].nunique()"
   ]
  },
  {
   "cell_type": "code",
   "execution_count": null,
   "id": "fe6ef66e-a42e-4e43-b58b-a6a8acc96a40",
   "metadata": {},
   "outputs": [],
   "source": [
    "shutdowns_by_yr = us_boilers_df.groupby(['SHUTDOWN_yr'])['UNIT_ID'].nunique().to_frame().reset_index()"
   ]
  },
  {
   "cell_type": "code",
   "execution_count": null,
   "id": "c8ffed05-5158-47cd-8b77-2f58f37ec962",
   "metadata": {},
   "outputs": [],
   "source": [
    "shutdowns_by_yr.head()"
   ]
  },
  {
   "cell_type": "code",
   "execution_count": null,
   "id": "4abbde23-fac0-4dbf-892d-a58aa91ca13e",
   "metadata": {},
   "outputs": [],
   "source": [
    "shutdowns_by_yr[shutdowns_by_yr.UNIT_ID==shutdowns_by_yr.UNIT_ID.max()]"
   ]
  },
  {
   "cell_type": "code",
   "execution_count": null,
   "id": "8724b50a-e551-45ec-a1bf-6df3e9c09591",
   "metadata": {},
   "outputs": [],
   "source": [
    "fig, ax = plt.subplots()\n",
    "\n",
    "x = shutdowns_by_yr[\"SHUTDOWN_yr\"]\n",
    "y = shutdowns_by_yr[\"UNIT_ID\"]\n",
    "width =0.7\n",
    "\n",
    "rects1 = ax.bar(x, y, width, label = 'Planned Shutdowns')\n",
    "ax.set_title('US Boiler Shutdowns')\n",
    "ax.set_ylabel('Count of Units')\n",
    "ax.set_xticks(x)\n",
    "#ax.set_xticklabels(shutdowns_by_yr[\"SHUTDOWN_yr\"])\n",
    "ax.legend()\n",
    "\n",
    "fig.tight_layout()\n",
    "\n",
    "plt.axvline(x=2023, c='r')\n",
    "plt.xticks(np.arange(min(x), max(x)+1, 5))\n",
    "\n",
    "plt.xticks(rotation=45)\n",
    "plt.show()"
   ]
  },
  {
   "cell_type": "code",
   "execution_count": null,
   "id": "3d353514-d721-45ba-bffe-cb8e50519075",
   "metadata": {},
   "outputs": [],
   "source": []
  },
  {
   "cell_type": "code",
   "execution_count": null,
   "id": "eb8f4d15-afdb-4f1e-a317-ece33eb901f8",
   "metadata": {},
   "outputs": [],
   "source": [
    "operational_boilers_shutdown = operational_us_boilers_df.groupby(['SHUTDOWN_yr'])['UNIT_ID'].nunique().to_frame().reset_index()"
   ]
  },
  {
   "cell_type": "code",
   "execution_count": null,
   "id": "79179262-8f06-46a5-8e9a-1e29c6e29587",
   "metadata": {},
   "outputs": [],
   "source": [
    "fig, ax = plt.subplots()\n",
    "\n",
    "x = operational_boilers_shutdown[\"SHUTDOWN_yr\"]\n",
    "y = operational_boilers_shutdown[\"UNIT_ID\"]\n",
    "width =0.7\n",
    "\n",
    "rects1 = ax.bar(x, y, width, label = 'Planned Shutdowns')\n",
    "ax.set_title('US Boiler Shutdowns')\n",
    "ax.set_ylabel('Count of Units')\n",
    "ax.set_xticks(x)\n",
    "#ax.set_xticklabels(shutdowns_by_yr[\"SHUTDOWN_yr\"])\n",
    "ax.legend()\n",
    "\n",
    "fig.tight_layout()\n",
    "\n",
    "plt.axvline(x=2023, c='r')\n",
    "plt.xticks(np.arange(min(x), max(x)+1, 5))\n",
    "\n",
    "plt.xticks(rotation=45)\n",
    "plt.show()"
   ]
  },
  {
   "cell_type": "code",
   "execution_count": null,
   "id": "efd4502e-ff1b-4eab-81af-53100cda82a4",
   "metadata": {},
   "outputs": [],
   "source": []
  },
  {
   "cell_type": "code",
   "execution_count": null,
   "id": "f3052c2a-fc9a-4ed0-869a-41111bce304c",
   "metadata": {},
   "outputs": [],
   "source": [
    "boiler_status = us_boilers_df.groupby(['U_STATUS'])['UNIT_ID'].nunique().to_frame().reset_index()"
   ]
  },
  {
   "cell_type": "code",
   "execution_count": null,
   "id": "eb833965-b486-4989-bd35-7b75c97b93e8",
   "metadata": {},
   "outputs": [],
   "source": [
    "fig, ax = plt.subplots()\n",
    "\n",
    "x = boiler_status[\"U_STATUS\"]\n",
    "y = boiler_status[\"UNIT_ID\"]\n",
    "width =0.7\n",
    "\n",
    "rects1 = ax.bar(x, y, width, label = 'Status')\n",
    "ax.set_title('US Boiler Status')\n",
    "ax.set_ylabel('Count of Units')\n",
    "ax.set_xticks(x)\n",
    "#ax.set_xticklabels(x)\n",
    "ax.legend()\n",
    "\n",
    "fig.tight_layout()\n",
    "\n",
    "#plt.axvline(x=2023, c='r')\n",
    "#plt.xticks(np.arange(min(x), max(x)+1, 5))\n",
    "\n",
    "plt.xticks(rotation=45)\n",
    "plt.show()"
   ]
  },
  {
   "cell_type": "code",
   "execution_count": null,
   "id": "96833658-85af-416e-a120-eeb619402a6d",
   "metadata": {},
   "outputs": [],
   "source": []
  },
  {
   "cell_type": "markdown",
   "id": "6bfa7a09-7d9d-45d5-927c-22dd28037029",
   "metadata": {},
   "source": [
    "Mothballed power plants\n",
    "Power plant layup or mothballing is one of the methods that plant operators can apply to prevent corrosive damage and ensure the preservation of various assets. When equipment and plants are mothballed, the organization maintains the service life of these facilities by employing various protective measures.\n",
    "\n",
    "https://www.bryair.com/news-and-events/articles/mothballing-as-an-effective-power-plant-layup/#:~:text=Power%20plant%20layup%20or%20mothballing,by%20employing%20various%20protective%20measures."
   ]
  },
  {
   "cell_type": "code",
   "execution_count": null,
   "id": "dd79430f-bb97-4e4a-a56a-9deb61c55a2c",
   "metadata": {},
   "outputs": [],
   "source": []
  },
  {
   "cell_type": "code",
   "execution_count": null,
   "id": "c2fcc27c-d31f-49d3-8af8-a878fe9d10e5",
   "metadata": {},
   "outputs": [],
   "source": [
    "us_boilers_byparent = operational_us_boilers_df.groupby(['PARENTNAME'])['UNIT_ID'].nunique().to_frame().sort_values(by='UNIT_ID', ascending=False).reset_index()"
   ]
  },
  {
   "cell_type": "code",
   "execution_count": null,
   "id": "bd009016-ecdb-4a80-a6f7-7f8a2c04408b",
   "metadata": {},
   "outputs": [],
   "source": [
    "us_boilers_byparent.head(10)"
   ]
  },
  {
   "cell_type": "code",
   "execution_count": null,
   "id": "d6ba2c2a-ffa9-426f-b66f-75918ce70c5f",
   "metadata": {},
   "outputs": [],
   "source": [
    "us_boilers_byparent.UNIT_ID.sum()"
   ]
  },
  {
   "cell_type": "code",
   "execution_count": null,
   "id": "4f793682-c4b9-420c-92dd-dde51c9218d1",
   "metadata": {},
   "outputs": [],
   "source": []
  },
  {
   "cell_type": "code",
   "execution_count": null,
   "id": "e5f29ddf-1962-4b53-98da-f2f792cf21c0",
   "metadata": {},
   "outputs": [],
   "source": [
    "us_boilers_df.groupby(['FUEL_GROUP', 'PRIM_FUEL', 'SECND_FUEL'])['UNIT_ID'].nunique().to_frame().sort_values(by='UNIT_ID', ascending=False).head(20)"
   ]
  },
  {
   "cell_type": "code",
   "execution_count": null,
   "id": "a223f7a9-402c-4619-adbd-76d9b27b4949",
   "metadata": {},
   "outputs": [],
   "source": [
    "operational_us_boilers_df.groupby(['FUEL_GROUP'])['UNIT_ID'].nunique().to_frame().sort_values(by='UNIT_ID', ascending=False)"
   ]
  },
  {
   "cell_type": "code",
   "execution_count": null,
   "id": "5d4ece61-7449-42f4-b9b2-c2b7a33a4f76",
   "metadata": {},
   "outputs": [],
   "source": []
  },
  {
   "cell_type": "code",
   "execution_count": null,
   "id": "4c03fc07-4fd6-4467-ba87-126822e3b5a5",
   "metadata": {},
   "outputs": [],
   "source": []
  },
  {
   "cell_type": "code",
   "execution_count": null,
   "id": "159ab75d-395b-4648-a6ae-e59a2295ca35",
   "metadata": {},
   "outputs": [],
   "source": []
  },
  {
   "cell_type": "markdown",
   "id": "ffe94c80-61c9-4b16-9e07-d99ceb1c9103",
   "metadata": {},
   "source": [
    "### Source 4:\n",
    "\n",
    "Portal Service ...\n",
    "\n",
    "\n",
    "portalservice_power_units.json"
   ]
  },
  {
   "cell_type": "code",
   "execution_count": 3,
   "id": "c115f7dc-4add-48b5-ae88-852f97ac8473",
   "metadata": {},
   "outputs": [],
   "source": [
    "with open(r'../data/raw_data/portalservice_power_inspections_2022.json') as json_data:\n",
    "    d = json.loads(json_data.read())\n",
    "    json_data.close()"
   ]
  },
  {
   "cell_type": "code",
   "execution_count": 4,
   "id": "3730f89f-8d05-49d4-b99d-1003f6f6e692",
   "metadata": {},
   "outputs": [],
   "source": [
    "portalservice_power_inspections_2022_df = pd.json_normalize(d)"
   ]
  },
  {
   "cell_type": "code",
   "execution_count": null,
   "id": "c071e947-0b8e-4c6a-9d18-2bf3bc49ada5",
   "metadata": {},
   "outputs": [],
   "source": [
    "portalservice_power_inspections_2022_df.head(1)"
   ]
  },
  {
   "cell_type": "code",
   "execution_count": null,
   "id": "f2698a54-7621-4f70-b26f-69a374c38807",
   "metadata": {},
   "outputs": [],
   "source": [
    "portalservice_power_inspections_2022_df.columns"
   ]
  },
  {
   "cell_type": "code",
   "execution_count": null,
   "id": "feea8ae2-4405-4de5-9319-c205f6a503be",
   "metadata": {},
   "outputs": [],
   "source": [
    "ref_df = portalservice_power_inspections_2022_df.loc[:,(\n",
    "    'Customer.name',\n",
    "    'Location.region',\n",
    "    'Location.name',\n",
    "    'Location.city',\n",
    "    'Location.slack_channel',\n",
    "    'Unit.slug',\n",
    "    'Unit.id',\n",
    "    'Unit.name',\n",
    "    'Unit.retirement_date',\n",
    "    'Unit.fuel_type',\n",
    "    'Unit.capacity',\n",
    "    'Unit.total_tubes',\n",
    "    'Component.slug',\n",
    "    'Component.name',\n",
    "    'Component.tube_diameter', \n",
    "    'Component.tube_spacing',\n",
    "    'Component.shell_diameter',\n",
    "    'Component.component_type',\n",
    "    'Inspection.slug',\n",
    "    'Inspection.date',\n",
    "    'Inspection.ndt_method_type',\n",
    "    'Inspection.inspection_type',\n",
    ")]"
   ]
  },
  {
   "cell_type": "code",
   "execution_count": null,
   "id": "2a24862f-9894-4807-bddf-68ef42975c0b",
   "metadata": {},
   "outputs": [],
   "source": []
  },
  {
   "cell_type": "code",
   "execution_count": null,
   "id": "a3ad0f9d-f26e-4162-b76a-4916c096bbd9",
   "metadata": {},
   "outputs": [],
   "source": [
    "ref_df.head(1)"
   ]
  },
  {
   "cell_type": "code",
   "execution_count": null,
   "id": "34e3b3bd-948c-4cd8-8318-a10e919c2df8",
   "metadata": {},
   "outputs": [],
   "source": [
    "ref_df.shape"
   ]
  },
  {
   "cell_type": "code",
   "execution_count": null,
   "id": "7a3bb5db-7d42-48bb-9d45-a8ad21f50f55",
   "metadata": {},
   "outputs": [],
   "source": [
    "min(ref_df['Inspection.date'])"
   ]
  },
  {
   "cell_type": "code",
   "execution_count": null,
   "id": "88c51b7b-7958-42b3-8ee7-b772e6bd2e52",
   "metadata": {},
   "outputs": [],
   "source": [
    "max(ref_df['Inspection.date'])"
   ]
  },
  {
   "cell_type": "code",
   "execution_count": null,
   "id": "41f38e32-be25-4126-8c69-6cc2c6813f37",
   "metadata": {},
   "outputs": [],
   "source": [
    "set(ref_df['Component.component_type'])"
   ]
  },
  {
   "cell_type": "code",
   "execution_count": null,
   "id": "b74bd364-f430-4007-99a3-a08aa3ef5170",
   "metadata": {},
   "outputs": [],
   "source": []
  },
  {
   "cell_type": "code",
   "execution_count": null,
   "id": "37805b7d-ff9b-4658-8fb7-e444630b843f",
   "metadata": {},
   "outputs": [],
   "source": [
    "ref_df[ref_df['Customer.name']=='Consolidated Edison Company of New York (Corporate)']"
   ]
  },
  {
   "cell_type": "code",
   "execution_count": null,
   "id": "3f86a47e-c2af-435d-b4c1-4302da1205b2",
   "metadata": {},
   "outputs": [],
   "source": []
  },
  {
   "cell_type": "code",
   "execution_count": null,
   "id": "67b44538-6e02-4471-804c-0ab336154b85",
   "metadata": {},
   "outputs": [],
   "source": []
  },
  {
   "cell_type": "code",
   "execution_count": null,
   "id": "544e39b9-df50-4f8d-b533-c0febc4cf11e",
   "metadata": {},
   "outputs": [],
   "source": [
    "portalservice_power_inspections_2022_df.shape"
   ]
  },
  {
   "cell_type": "code",
   "execution_count": null,
   "id": "e9c6d963-e441-4676-a6f8-8ec2c93008ca",
   "metadata": {},
   "outputs": [],
   "source": []
  },
  {
   "cell_type": "code",
   "execution_count": null,
   "id": "335b4be2-deec-43d4-82e6-036185a2cc49",
   "metadata": {},
   "outputs": [],
   "source": []
  },
  {
   "cell_type": "markdown",
   "id": "df774e6b-f5bc-434e-84e1-c37a6a1b8b20",
   "metadata": {},
   "source": [
    "# For Wolpa\n",
    "\n"
   ]
  },
  {
   "cell_type": "code",
   "execution_count": 2,
   "id": "d6d7314b-ca2e-4aa2-9b64-4a416ddeb875",
   "metadata": {},
   "outputs": [],
   "source": [
    "wolpas_df = pd.read_csv(r'../data/raw_data/unit_slug_mappings.csv')"
   ]
  },
  {
   "cell_type": "code",
   "execution_count": null,
   "id": "b006c3ef-0b51-4a5d-b106-a90993f15a6a",
   "metadata": {},
   "outputs": [],
   "source": [
    "wolpas_df.head()"
   ]
  },
  {
   "cell_type": "code",
   "execution_count": null,
   "id": "65fd0002-3e97-486d-9f17-3af910d7fbc6",
   "metadata": {},
   "outputs": [],
   "source": [
    "wolpas_df.shape"
   ]
  },
  {
   "cell_type": "code",
   "execution_count": null,
   "id": "2ec683ea-a5c7-42d5-868d-c549a1ed7cd4",
   "metadata": {},
   "outputs": [],
   "source": [
    "wolpas_df[~wolpas_df.GECKO_UNIT_SLUG.isnull()].shape"
   ]
  },
  {
   "cell_type": "code",
   "execution_count": null,
   "id": "9769d113-91b1-4fee-a277-4c458e951263",
   "metadata": {},
   "outputs": [],
   "source": [
    "filtered_wolpa_df = wolpas_df[~wolpas_df['GECKO_UNIT_SLUG'].isnull()]"
   ]
  },
  {
   "cell_type": "code",
   "execution_count": null,
   "id": "3be6b785-2889-49e6-84c6-c4706a1bdc39",
   "metadata": {},
   "outputs": [],
   "source": [
    "filtered_wolpa_df.shape"
   ]
  },
  {
   "cell_type": "code",
   "execution_count": null,
   "id": "dcf52ba3-ea72-4127-bd91-45242edf7c5b",
   "metadata": {},
   "outputs": [],
   "source": [
    "filtered_wolpa_df.head()"
   ]
  },
  {
   "cell_type": "code",
   "execution_count": null,
   "id": "9118640e-6394-46e2-8a67-f7f7eda5d9c8",
   "metadata": {},
   "outputs": [],
   "source": [
    "slug_maps = ref_df.loc[:,('Inspection.slug', 'Unit.slug')]"
   ]
  },
  {
   "cell_type": "code",
   "execution_count": null,
   "id": "f4d8c526-8b12-4e12-a90f-8c89c587dc38",
   "metadata": {},
   "outputs": [],
   "source": [
    "wolpa_df_inspection_slugs = filtered_wolpa_df.merge(slug_maps, how='left', left_on='GECKO_UNIT_SLUG', right_on='Unit.slug')"
   ]
  },
  {
   "cell_type": "code",
   "execution_count": null,
   "id": "603e116a-8235-4476-a472-2fc436a4200e",
   "metadata": {},
   "outputs": [],
   "source": [
    "wolpa_df_inspection_slugs.head()"
   ]
  },
  {
   "cell_type": "code",
   "execution_count": null,
   "id": "0722717f-9fd5-47df-b47a-a892035d9427",
   "metadata": {},
   "outputs": [],
   "source": []
  },
  {
   "cell_type": "code",
   "execution_count": null,
   "id": "0d036e52-23db-4327-9f7a-bf01a964dd87",
   "metadata": {},
   "outputs": [],
   "source": []
  },
  {
   "cell_type": "code",
   "execution_count": null,
   "id": "3c45a53b-b743-4140-a1a9-2a992766b8da",
   "metadata": {},
   "outputs": [],
   "source": []
  },
  {
   "cell_type": "code",
   "execution_count": null,
   "id": "75413eb7-cae6-4f0f-b45e-d43640c115d7",
   "metadata": {},
   "outputs": [],
   "source": []
  },
  {
   "cell_type": "markdown",
   "id": "0208c750-9211-434e-a3b2-f5c1e995a2d7",
   "metadata": {},
   "source": [
    "## Get All PBI"
   ]
  },
  {
   "cell_type": "code",
   "execution_count": null,
   "id": "1068d7ce-ca2a-47a8-8fd9-b61cefb0be0d",
   "metadata": {
    "tags": []
   },
   "outputs": [],
   "source": [
    "all_pbi_to_check_df = pd.read_csv('../data/outputs/all_pbi.csv')"
   ]
  },
  {
   "cell_type": "code",
   "execution_count": null,
   "id": "ceb15526-34dc-4b56-9d5f-7896ba2dc2b0",
   "metadata": {},
   "outputs": [],
   "source": [
    "all_pbi_to_check_df.head(1)"
   ]
  },
  {
   "cell_type": "code",
   "execution_count": null,
   "id": "fbb92368-597f-4cc3-ba02-cc5455e8e442",
   "metadata": {},
   "outputs": [],
   "source": [
    "all_pbi_to_check_df.shape"
   ]
  },
  {
   "cell_type": "code",
   "execution_count": null,
   "id": "87bd1f3c-3469-4502-ba08-1ee5a920d68e",
   "metadata": {},
   "outputs": [],
   "source": []
  },
  {
   "cell_type": "code",
   "execution_count": null,
   "id": "ba2aef63-bffd-43a7-a34b-878315910aa0",
   "metadata": {},
   "outputs": [],
   "source": []
  },
  {
   "cell_type": "markdown",
   "id": "34c1890e-bdfc-43ea-a65e-ee91566d0a1e",
   "metadata": {},
   "source": [
    "## Get Slopes Components Only"
   ]
  },
  {
   "cell_type": "code",
   "execution_count": null,
   "id": "1ab47e0b-e497-439f-b52d-d1e2a6885c02",
   "metadata": {},
   "outputs": [],
   "source": [
    "all_pbi_to_check_df['Component_type'] = all_pbi_to_check_df['Component.slug'].apply(lambda x: determine_component(x))"
   ]
  },
  {
   "cell_type": "code",
   "execution_count": null,
   "id": "689403d9-7275-4f66-b12e-da312b7fcccb",
   "metadata": {},
   "outputs": [],
   "source": [
    "set(all_pbi_to_check_df['Component_type'])"
   ]
  },
  {
   "cell_type": "code",
   "execution_count": null,
   "id": "348da53f-ec58-41a9-a500-b1b3a3acd766",
   "metadata": {},
   "outputs": [],
   "source": [
    "all_pbi_to_check_df.groupby(['Component_type'])['Component.slug'].nunique().to_frame()"
   ]
  },
  {
   "cell_type": "code",
   "execution_count": null,
   "id": "24531232-2699-47d1-b8e1-4ecea4097110",
   "metadata": {},
   "outputs": [],
   "source": [
    "slope_slugs_df = all_pbi_to_check_df[all_pbi_to_check_df['Component_type']=='Slopes']"
   ]
  },
  {
   "cell_type": "code",
   "execution_count": null,
   "id": "ff1326c7-44c5-4998-9574-6e17826f1687",
   "metadata": {},
   "outputs": [],
   "source": [
    "slope_slugs_df.head()"
   ]
  },
  {
   "cell_type": "code",
   "execution_count": null,
   "id": "f4263444-e3bb-4a70-bacb-0865bf8c98a7",
   "metadata": {},
   "outputs": [],
   "source": [
    "slope_slugs_df.groupby(['Customer.name', 'Location.name'])['Component.slug'].nunique()"
   ]
  },
  {
   "cell_type": "code",
   "execution_count": null,
   "id": "15214aec-9767-442c-b0af-95cb95200572",
   "metadata": {},
   "outputs": [],
   "source": [
    "slope_slugs_df.rename(columns={\n",
    "    'Inspection.slug': 'slug',\t\n",
    "    'Component.wall_nominal_thickness': 'nominal',\n",
    "}, inplace=True)"
   ]
  },
  {
   "cell_type": "code",
   "execution_count": null,
   "id": "5b67b72f-66ce-4095-aeb9-3d885fda165f",
   "metadata": {},
   "outputs": [],
   "source": [
    "slope_slugs_df['nominal'].isnull().sum()"
   ]
  },
  {
   "cell_type": "code",
   "execution_count": null,
   "id": "8319ce63-b1c9-46b2-a5df-8c8b53f750f0",
   "metadata": {},
   "outputs": [],
   "source": [
    "slope_slugs_df.shape[0]"
   ]
  },
  {
   "cell_type": "code",
   "execution_count": null,
   "id": "81797ef9-7b79-4e65-8c8a-1e669330830e",
   "metadata": {},
   "outputs": [],
   "source": [
    "slope_slugs_df[slope_slugs_df['nominal']==0.012]"
   ]
  },
  {
   "cell_type": "code",
   "execution_count": null,
   "id": "c334697e-1edb-4f3d-b931-eef83e9fcee3",
   "metadata": {},
   "outputs": [],
   "source": [
    "slopes_df = slope_slugs_df[(~slope_slugs_df.nominal.isnull()) & (slope_slugs_df.nominal!=0.012)]"
   ]
  },
  {
   "cell_type": "code",
   "execution_count": null,
   "id": "75057664-285d-45a5-a492-9ab78fc596ef",
   "metadata": {},
   "outputs": [],
   "source": [
    "set(slopes_df['nominal'])"
   ]
  },
  {
   "cell_type": "code",
   "execution_count": null,
   "id": "0eacbb22-fcb4-4472-afae-bcb078fbae6d",
   "metadata": {},
   "outputs": [],
   "source": [
    "slopes_df.shape"
   ]
  },
  {
   "cell_type": "code",
   "execution_count": null,
   "id": "799db1ec-03d7-4803-b405-5f8d5951c901",
   "metadata": {},
   "outputs": [],
   "source": [
    "slopes_df[slopes_df['nominal']<0.22].shape"
   ]
  },
  {
   "cell_type": "code",
   "execution_count": null,
   "id": "1d84538b-f3fa-4988-8ae4-63a3be63459e",
   "metadata": {},
   "outputs": [],
   "source": [
    "slopes_df.reset_index(inplace=True)"
   ]
  },
  {
   "cell_type": "code",
   "execution_count": null,
   "id": "477df453-4125-4663-943c-5b23bb29f277",
   "metadata": {},
   "outputs": [],
   "source": [
    "slopes_histogram_df, slopes_hist_error_slug_list = get_thickness_histogram(slopes_df)"
   ]
  },
  {
   "cell_type": "code",
   "execution_count": null,
   "id": "4cef0ef4-bc79-4621-92c0-aed6efe80854",
   "metadata": {},
   "outputs": [],
   "source": [
    "slopes_comb_df = slopes_df.merge(slopes_histogram_df, how='inner', on=['slug', 'nominal'])"
   ]
  },
  {
   "cell_type": "code",
   "execution_count": null,
   "id": "982b5171-6bac-4ffd-aff1-8a7a599c7e53",
   "metadata": {},
   "outputs": [],
   "source": [
    "slopes_comb_df.drop(columns='index', inplace=True)"
   ]
  },
  {
   "cell_type": "code",
   "execution_count": null,
   "id": "bd67fff6-afaa-4e74-bd41-f262a125bf93",
   "metadata": {},
   "outputs": [],
   "source": [
    "slopes_comb_df.head()"
   ]
  },
  {
   "cell_type": "code",
   "execution_count": null,
   "id": "9b10a3ef-5ff9-49dc-b2fa-7742a63f747d",
   "metadata": {},
   "outputs": [],
   "source": [
    "slopes_comb_df.shape"
   ]
  },
  {
   "cell_type": "code",
   "execution_count": null,
   "id": "8902f6eb-cf1b-48d7-8f82-f53a4ded2613",
   "metadata": {},
   "outputs": [],
   "source": [
    "# slopes_comb_df.to_csv('../data/outputs/raw_slopes.csv')"
   ]
  },
  {
   "cell_type": "code",
   "execution_count": null,
   "id": "8fa5d0a7-1248-44cc-9742-0b131bc80a8b",
   "metadata": {},
   "outputs": [],
   "source": [
    "slopes_comb_df[(slopes_comb_df['Customer.name'].isin(POWER_CUST_LIST))].shape"
   ]
  },
  {
   "cell_type": "code",
   "execution_count": null,
   "id": "33fabce9-e45d-4891-bcd8-030626331c4f",
   "metadata": {},
   "outputs": [],
   "source": [
    "slopes_comb_df[(slopes_comb_df['Customer.name'].isin(POWER_CUST_LIST)) & (slopes_df['nominal']<0.24)].shape"
   ]
  },
  {
   "cell_type": "code",
   "execution_count": null,
   "id": "f27fc742-5fe9-4e9c-9ea0-69d92ec314ab",
   "metadata": {},
   "outputs": [],
   "source": [
    "slopes_comb_df[(slopes_comb_df['Customer.name'].isin(POWER_CUST_LIST)) & (slopes_df['nominal']<0.22)].shape"
   ]
  },
  {
   "cell_type": "code",
   "execution_count": null,
   "id": "5377f0a3-f26b-44e7-9069-cb4966d80e9f",
   "metadata": {},
   "outputs": [],
   "source": [
    "slopes_comb_df.columns"
   ]
  },
  {
   "cell_type": "code",
   "execution_count": null,
   "id": "01c2cc6e-be02-4417-9451-14986e7236a6",
   "metadata": {},
   "outputs": [],
   "source": [
    "slopes_comb_df.groupby(['Component_type'])[\n",
    "    'Bins w 10% Loss',\n",
    "    'Bins w 20% Loss',\n",
    "    'Bins w 30% Loss',\n",
    "    'Bins w 40% Loss',\n",
    "    'Bins w 50% Loss',\n",
    "    'Bins w 60% Loss',\n",
    "    'Bins w 70% Loss',\n",
    "    'Bins w 80% Loss',\n",
    "    'Bins w 90% Loss',\n",
    "    'nominal',\n",
    "    'tubes_inspected',\n",
    "    'bins_collected'\n",
    "].median()"
   ]
  },
  {
   "cell_type": "code",
   "execution_count": null,
   "id": "aa72cc31-8a5c-4417-ac6e-d0333377b140",
   "metadata": {},
   "outputs": [],
   "source": [
    "slopes_comb_df[(slopes_comb_df['Customer.name'].isin(POWER_CUST_LIST))].groupby(['Component_type'])[\n",
    "    'Bins w 10% Loss',\n",
    "    'Bins w 20% Loss',\n",
    "    'Bins w 30% Loss',\n",
    "    'Bins w 40% Loss',\n",
    "    'Bins w 50% Loss',\n",
    "    'Bins w 60% Loss',\n",
    "    'Bins w 70% Loss',\n",
    "    'Bins w 80% Loss',\n",
    "    'Bins w 90% Loss',\n",
    "    'nominal',\n",
    "    'tubes_inspected',\n",
    "    'bins_collected'\n",
    "].median()"
   ]
  },
  {
   "cell_type": "code",
   "execution_count": null,
   "id": "6fbdc876-2379-4da2-b2c7-4cba0a0e9195",
   "metadata": {},
   "outputs": [],
   "source": [
    "slopes_comb_df[(slopes_comb_df['Customer.name'].isin(POWER_CUST_LIST)) & (slopes_df['nominal']<0.22)].groupby(['Component_type'])[\n",
    "    'Bins w 10% Loss',\n",
    "    'Bins w 20% Loss',\n",
    "    'Bins w 30% Loss',\n",
    "    'Bins w 40% Loss',\n",
    "    'Bins w 50% Loss',\n",
    "    'Bins w 60% Loss',\n",
    "    'Bins w 70% Loss',\n",
    "    'Bins w 80% Loss',\n",
    "    'Bins w 90% Loss',\n",
    "    'nominal',\n",
    "    'tubes_inspected',\n",
    "    'bins_collected'\n",
    "].median()"
   ]
  },
  {
   "cell_type": "code",
   "execution_count": null,
   "id": "e2605c2c-4dc1-407d-bc4f-935aafd691a9",
   "metadata": {},
   "outputs": [],
   "source": [
    "slopes_comb_df[(slopes_comb_df['Customer.name'].isin(POWER_CUST_LIST)) & (slopes_df['nominal']>=0.24)].shape"
   ]
  },
  {
   "cell_type": "code",
   "execution_count": null,
   "id": "5482e75e-bc29-418e-9b7d-4c8287e03dd2",
   "metadata": {},
   "outputs": [],
   "source": [
    "slopes_comb_df[(slopes_comb_df['Customer.name'].isin(POWER_CUST_LIST)) & (slopes_df['nominal']>0.24)].groupby(['Component_type'])[\n",
    "    'Bins w 10% Loss',\n",
    "    'Bins w 20% Loss',\n",
    "    'Bins w 30% Loss',\n",
    "    'Bins w 40% Loss',\n",
    "    'Bins w 50% Loss',\n",
    "    'Bins w 60% Loss',\n",
    "    'Bins w 70% Loss',\n",
    "    'Bins w 80% Loss',\n",
    "    'Bins w 90% Loss',\n",
    "    'nominal',\n",
    "    'tubes_inspected',\n",
    "    'bins_collected'\n",
    "].median()"
   ]
  },
  {
   "cell_type": "code",
   "execution_count": null,
   "id": "f5280006-a7e3-4640-bbee-ac0214334f65",
   "metadata": {},
   "outputs": [],
   "source": [
    "slopes_comb_df[(slopes_comb_df['Customer.name'].isin(POWER_CUST_LIST)) & (slopes_df['nominal']<=0.24)].shape"
   ]
  },
  {
   "cell_type": "code",
   "execution_count": null,
   "id": "b09de670-57a5-443a-974e-4ac79094b648",
   "metadata": {},
   "outputs": [],
   "source": [
    "slopes_comb_df[(slopes_comb_df['Customer.name'].isin(POWER_CUST_LIST)) & (slopes_df['nominal']<=0.24)].groupby(['Component_type'])[\n",
    "    'Bins w 10% Loss',\n",
    "    'Bins w 20% Loss',\n",
    "    'Bins w 30% Loss',\n",
    "    'Bins w 40% Loss',\n",
    "    'Bins w 50% Loss',\n",
    "    'Bins w 60% Loss',\n",
    "    'Bins w 70% Loss',\n",
    "    'Bins w 80% Loss',\n",
    "    'Bins w 90% Loss',\n",
    "    'nominal',\n",
    "    'tubes_inspected',\n",
    "    'bins_collected'\n",
    "].median()"
   ]
  },
  {
   "cell_type": "code",
   "execution_count": null,
   "id": "56365ae3-c559-4794-88b7-0c326bd02267",
   "metadata": {},
   "outputs": [],
   "source": [
    "slopes_comb_df[slopes_comb_df['Customer.name']=='Duke Energy']"
   ]
  },
  {
   "cell_type": "code",
   "execution_count": null,
   "id": "af9217ec-137d-4316-a45c-64fe64bf4dbd",
   "metadata": {},
   "outputs": [],
   "source": [
    "IIR_ID_slopes_df = pd.read_csv('../data/intermediate/slopes_wIIR_id.csv')"
   ]
  },
  {
   "cell_type": "code",
   "execution_count": null,
   "id": "3bde498d-b684-4f2d-a0bb-98dedcb0196b",
   "metadata": {},
   "outputs": [],
   "source": [
    "IIR_ID_slopes_df.head(1)"
   ]
  },
  {
   "cell_type": "code",
   "execution_count": null,
   "id": "0c46d972-04a9-46c3-a34f-ea4d1638d343",
   "metadata": {},
   "outputs": [],
   "source": [
    "IIR_ID_slopes_df.IIR_UNIT_ID = IIR_ID_slopes_df.IIR_UNIT_ID.astype(int)"
   ]
  },
  {
   "cell_type": "code",
   "execution_count": null,
   "id": "58377fd2-8643-4464-8835-28d92495754b",
   "metadata": {},
   "outputs": [],
   "source": [
    "us_boilers_df.head(1)"
   ]
  },
  {
   "cell_type": "code",
   "execution_count": null,
   "id": "0f15c1b0-3690-44df-802a-d533fcba85c8",
   "metadata": {},
   "outputs": [],
   "source": [
    "enriched_slopes_aggs_df = IIR_ID_slopes_df.merge(us_boilers_df, how='left', left_on='IIR_UNIT_ID', right_on='UNIT_ID')"
   ]
  },
  {
   "cell_type": "code",
   "execution_count": null,
   "id": "4fd58886-8eb0-4fec-929d-90ff7afd1ed2",
   "metadata": {},
   "outputs": [],
   "source": [
    "enriched_slopes_aggs_df.head(1)"
   ]
  },
  {
   "cell_type": "code",
   "execution_count": null,
   "id": "2fc1369b-7f51-46ea-bd17-47348d75455b",
   "metadata": {},
   "outputs": [],
   "source": [
    "enriched_slopes_aggs_df[(enriched_slopes_aggs_df['Customer.name'].isin(POWER_CUST_LIST)) & (enriched_slopes_aggs_df['nominal']<=0.24)].groupby(['FUEL_GROUP'])['slug'].nunique()"
   ]
  },
  {
   "cell_type": "code",
   "execution_count": null,
   "id": "0accc97f-0f96-4fb8-bb03-8506cb43cfd1",
   "metadata": {},
   "outputs": [],
   "source": [
    "enriched_slopes_aggs_df[(enriched_slopes_aggs_df['Customer.name'].isin(POWER_CUST_LIST)) & (enriched_slopes_aggs_df['nominal']<=0.24)].groupby(['PRIM_FUEL'])['slug'].nunique()"
   ]
  },
  {
   "cell_type": "code",
   "execution_count": null,
   "id": "88e573fa-7c89-4f7a-9268-8c50342eee30",
   "metadata": {},
   "outputs": [],
   "source": []
  },
  {
   "cell_type": "code",
   "execution_count": null,
   "id": "5a6398b9-aaa2-48df-9479-cb9ca0f103cd",
   "metadata": {},
   "outputs": [],
   "source": [
    "enriched_slopes_aggs_df.shape"
   ]
  },
  {
   "cell_type": "code",
   "execution_count": null,
   "id": "c9b4ea37-6038-4038-9a5f-5c3910e999dc",
   "metadata": {},
   "outputs": [],
   "source": [
    "enriched_slopes_aggs_df.to_csv('../data/outputs/agg_slopes_data.csv')"
   ]
  },
  {
   "cell_type": "code",
   "execution_count": null,
   "id": "8fce9dbf-3c77-44b1-99f5-f65cc50be6ba",
   "metadata": {},
   "outputs": [],
   "source": []
  },
  {
   "cell_type": "code",
   "execution_count": null,
   "id": "6f42e644-6963-4d04-9bb8-de118dfe0f59",
   "metadata": {},
   "outputs": [],
   "source": []
  },
  {
   "cell_type": "code",
   "execution_count": null,
   "id": "42dc9526-1a58-4706-a1cd-0209063d077c",
   "metadata": {},
   "outputs": [],
   "source": [
    "all_pbi_to_check_df.rename(columns={\n",
    "    'Inspection.slug': 'slug',\t\n",
    "    'Component.wall_nominal_thickness': 'nominal',\n",
    "}, inplace=True)\n",
    "\n",
    "null_nominals = all_pbi_to_check_df['nominal'].isnull().sum()\n",
    "null_nominals_aspercentage = round(100*null_nominals/all_pbi_to_check_df.shape[0], 2)\n",
    "\n",
    "median_nominal = all_pbi_to_check_df['nominal'].median()\n",
    "\n",
    "print('Nominals with null value: {} , or {}% of total'.format(null_nominals, null_nominals_aspercentage))\n",
    "print('Nominal used to fillna:  {}'.format(median_nominal))\n",
    "\n",
    "all_pbi_to_check_df['nominal'].fillna(median_nominal, inplace=True)"
   ]
  },
  {
   "cell_type": "code",
   "execution_count": null,
   "id": "b03a2572-7907-4a90-800e-2c77581d15bb",
   "metadata": {},
   "outputs": [],
   "source": []
  },
  {
   "cell_type": "code",
   "execution_count": null,
   "id": "64151c0a-243e-4994-87f9-bc95dfee2f9c",
   "metadata": {},
   "outputs": [],
   "source": []
  },
  {
   "cell_type": "code",
   "execution_count": null,
   "id": "f8c7f19d-5b7f-4fd8-b169-7c8a0e7cd564",
   "metadata": {},
   "outputs": [],
   "source": []
  },
  {
   "cell_type": "code",
   "execution_count": null,
   "id": "fa5423ae-b206-489c-9f1a-9a62eefaddc2",
   "metadata": {},
   "outputs": [],
   "source": []
  },
  {
   "cell_type": "markdown",
   "id": "cb16ad47-6fee-4f53-a1fe-1181311395a7",
   "metadata": {},
   "source": [
    "## Error checking and handling"
   ]
  },
  {
   "cell_type": "code",
   "execution_count": null,
   "id": "21104751-d1d7-4058-9bdc-cb2ab1b8931a",
   "metadata": {},
   "outputs": [],
   "source": [
    "len(error_slug_list)"
   ]
  },
  {
   "cell_type": "code",
   "execution_count": null,
   "id": "5df30e58-776e-40de-855a-477da6a28ccb",
   "metadata": {},
   "outputs": [],
   "source": [
    "error_slug_list"
   ]
  },
  {
   "cell_type": "code",
   "execution_count": null,
   "id": "b0dd4c45-ca4b-4333-bfe1-5d3c69107f82",
   "metadata": {},
   "outputs": [],
   "source": [
    "error_df = ref_df[ref_df['Inspection.slug'].isin(error_slug_list)]"
   ]
  },
  {
   "cell_type": "code",
   "execution_count": null,
   "id": "9d90ffc2-d6e6-45cb-b58c-36351c8a4bdd",
   "metadata": {},
   "outputs": [],
   "source": [
    "dominion_mtstorm_unit_1 = ['20220919-072202', '20220919-f40fdc', '20220919-35548d', '20220917-b520a5']\n",
    "great_river_spiritwood_unit_1 = ['20220507-caec3a', '20220507-182a26', '20220506-c90d1d', '20220506-396ef9']\n",
    "aes_warrior_run_unit_1 = ['20220509-27e470', '20220509-addaf6', '20220509-0849bd']"
   ]
  },
  {
   "cell_type": "code",
   "execution_count": null,
   "id": "aea31bec-eccd-4852-b6fd-a171c601e8a0",
   "metadata": {},
   "outputs": [],
   "source": [
    "unchecked_error_df = error_df[\n",
    "    (~error_df['Inspection.slug'].isin(dominion_mtstorm_unit_1)) & \n",
    "    (~error_df['Inspection.slug'].isin(great_river_spiritwood_unit_1)) &\n",
    "    (~error_df['Inspection.slug'].isin(aes_warrior_run_unit_1))\n",
    "]"
   ]
  },
  {
   "cell_type": "code",
   "execution_count": null,
   "id": "02edc830-9508-4ead-b29b-6608debd1123",
   "metadata": {},
   "outputs": [],
   "source": [
    "unchecked_error_df"
   ]
  },
  {
   "cell_type": "code",
   "execution_count": null,
   "id": "6ad98c44-b881-4a31-ab2f-aeb895d10fa3",
   "metadata": {},
   "outputs": [],
   "source": []
  },
  {
   "cell_type": "code",
   "execution_count": null,
   "id": "f60774d1-ce7e-4535-b2ce-7a9eda7b540c",
   "metadata": {},
   "outputs": [],
   "source": [
    "#get_inspection_df('20220310-990386')"
   ]
  },
  {
   "cell_type": "code",
   "execution_count": null,
   "id": "9ff35b0e-813c-4422-b6db-0576a8e85c59",
   "metadata": {},
   "outputs": [],
   "source": []
  },
  {
   "cell_type": "code",
   "execution_count": null,
   "id": "ba8cc4d7-c74a-4732-89ef-07f02d6d1899",
   "metadata": {},
   "outputs": [],
   "source": []
  },
  {
   "cell_type": "code",
   "execution_count": null,
   "id": "d4b39eeb-e30b-413f-a50f-22e4b5ea04c9",
   "metadata": {},
   "outputs": [],
   "source": []
  },
  {
   "cell_type": "code",
   "execution_count": null,
   "id": "16070e5f-6c50-45b9-9a60-054dc4dd36ea",
   "metadata": {},
   "outputs": [],
   "source": []
  },
  {
   "cell_type": "code",
   "execution_count": null,
   "id": "73583479-394b-4e44-8b54-155293615e41",
   "metadata": {},
   "outputs": [],
   "source": []
  },
  {
   "cell_type": "code",
   "execution_count": null,
   "id": "4bc68eb8-88ff-46f1-a5c3-7d4f56c7f6bc",
   "metadata": {},
   "outputs": [],
   "source": []
  },
  {
   "cell_type": "markdown",
   "id": "3202c4a4-90ee-4616-8a1d-21456e4f2ab4",
   "metadata": {},
   "source": [
    "## Davos - Jake"
   ]
  },
  {
   "cell_type": "code",
   "execution_count": null,
   "id": "c8e4c09f-8c59-4e13-9739-4c5711a3cc4d",
   "metadata": {},
   "outputs": [],
   "source": [
    "jake_davos_threshold = 0.6\n",
    "# jake_davos_df, davos_error_slug_list = check_thickness(all_pbi_to_check_df, jake_davos_threshold)"
   ]
  },
  {
   "cell_type": "code",
   "execution_count": null,
   "id": "8c7c7a2f-f0c7-43de-9b4c-dcdd3ca3efd1",
   "metadata": {},
   "outputs": [],
   "source": [
    "# ratio = 100*(jake_davos_df[jake_davos_df.critical_bins != 0].shape[0] / jake_davos_df.shape[0])"
   ]
  },
  {
   "cell_type": "code",
   "execution_count": null,
   "id": "fd8b120e-a6a7-4296-b540-ffa9b43204d8",
   "metadata": {},
   "outputs": [],
   "source": [
    "# ratio"
   ]
  },
  {
   "cell_type": "code",
   "execution_count": null,
   "id": "1e2d1889-d359-498a-a0d3-1eec226f753a",
   "metadata": {},
   "outputs": [],
   "source": [
    "round(ratio, 2)"
   ]
  },
  {
   "cell_type": "code",
   "execution_count": null,
   "id": "d8317b0e-9b7a-4f5d-a169-7b4411270545",
   "metadata": {},
   "outputs": [],
   "source": []
  },
  {
   "cell_type": "code",
   "execution_count": null,
   "id": "ca233daa-e54a-4eac-bed2-2b955e16d5e8",
   "metadata": {},
   "outputs": [],
   "source": [
    "len(davos_error_slug_list)"
   ]
  },
  {
   "cell_type": "code",
   "execution_count": null,
   "id": "8609089b-4b4d-415a-a8dd-80d71415e828",
   "metadata": {},
   "outputs": [],
   "source": []
  },
  {
   "cell_type": "code",
   "execution_count": null,
   "id": "afc525d9-2346-457c-b525-16cded513e10",
   "metadata": {},
   "outputs": [],
   "source": []
  },
  {
   "cell_type": "code",
   "execution_count": null,
   "id": "173cf056-6470-475f-8cc8-75dc0fc1aa75",
   "metadata": {},
   "outputs": [],
   "source": []
  },
  {
   "cell_type": "markdown",
   "id": "a4871a39-369d-4591-9032-bb6b35cfac13",
   "metadata": {},
   "source": [
    "# Use Histogram Generator"
   ]
  },
  {
   "cell_type": "code",
   "execution_count": null,
   "id": "8a75b0ec-d93b-489a-92bd-71012bc3602e",
   "metadata": {},
   "outputs": [],
   "source": [
    "# histogram_df, hist_error_slug_list = get_thickness_histogram(all_pbi_to_check_df)"
   ]
  },
  {
   "cell_type": "code",
   "execution_count": null,
   "id": "2e60cf2e-598b-4e0c-ae88-213101967fca",
   "metadata": {},
   "outputs": [],
   "source": [
    "histogram_df.head()"
   ]
  },
  {
   "cell_type": "code",
   "execution_count": null,
   "id": "da91f0de-9b08-4a62-b608-aef895ced547",
   "metadata": {},
   "outputs": [],
   "source": [
    "histogram_df.shape"
   ]
  },
  {
   "cell_type": "code",
   "execution_count": null,
   "id": "724c457d-e817-4538-9b24-63a1de47bb2a",
   "metadata": {},
   "outputs": [],
   "source": [
    "len(hist_error_slug_list)"
   ]
  },
  {
   "cell_type": "code",
   "execution_count": null,
   "id": "2f51aad6-3630-498c-86c7-321ad9e066ad",
   "metadata": {},
   "outputs": [],
   "source": []
  },
  {
   "cell_type": "code",
   "execution_count": null,
   "id": "bed08ed3-f741-45b0-a8e6-5fc6a307c856",
   "metadata": {},
   "outputs": [],
   "source": []
  },
  {
   "cell_type": "code",
   "execution_count": null,
   "id": "498fc442-b450-4ea5-9d02-55143858def0",
   "metadata": {},
   "outputs": [],
   "source": [
    "enriched_hist_df = histogram_df.merge(all_pbi_to_check_df.loc[:,(\n",
    "    'slug',\n",
    "    'Customer.name',\n",
    "    'Location.name',\n",
    "    'Location.city',\n",
    "    'Unit.name',\n",
    "    'Unit.slug',\n",
    "    'Component.slug',\n",
    ")], how='left', on='slug')"
   ]
  },
  {
   "cell_type": "code",
   "execution_count": null,
   "id": "7b632135-1608-4cf6-9285-df9a7fa61948",
   "metadata": {},
   "outputs": [],
   "source": [
    "enriched_hist_df.head(1)"
   ]
  },
  {
   "cell_type": "code",
   "execution_count": null,
   "id": "2dcbefc4-4a1b-461f-95b6-b4812388eaf2",
   "metadata": {},
   "outputs": [],
   "source": [
    "enriched_hist_df.shape"
   ]
  },
  {
   "cell_type": "code",
   "execution_count": null,
   "id": "ed976649-0bd1-44d5-8a62-27987ef35478",
   "metadata": {},
   "outputs": [],
   "source": []
  },
  {
   "cell_type": "code",
   "execution_count": null,
   "id": "63e3c9c4-7696-4f27-962d-89fc7d3666d7",
   "metadata": {},
   "outputs": [],
   "source": []
  },
  {
   "cell_type": "code",
   "execution_count": null,
   "id": "42633304-9316-4aee-9f9b-eade23dc074a",
   "metadata": {},
   "outputs": [],
   "source": [
    "clean_hist_df = enriched_hist_df.loc[:, (\n",
    "    'Customer.name',\n",
    "    'Location.name',\n",
    "    'Location.city',\n",
    "    'Unit.name',\n",
    "    'Unit.slug',\n",
    "    'Component.slug',\n",
    "    'slug',\n",
    "    'nominal',\n",
    "    'min_t',\n",
    "    'max_t',\n",
    "    'tubes_inspected',\n",
    "    'bins_collected',\n",
    "    'Tubes w 10% Loss',\n",
    "    'Tubes w 20% Loss',\n",
    "    'Tubes w 30% Loss',\n",
    "    'Tubes w 40% Loss',\n",
    "    'Tubes w 50% Loss',\n",
    "    'Tubes w 60% Loss',\n",
    "    'Tubes w 70% Loss',\n",
    "    'Tubes w 80% Loss',\n",
    "    'Tubes w 90% Loss',\n",
    "    'Bins w 10% Loss',\n",
    "    'Bins w 20% Loss',\n",
    "    'Bins w 30% Loss',\n",
    "    'Bins w 40% Loss',\n",
    "    'Bins w 50% Loss',\n",
    "    'Bins w 60% Loss',\n",
    "    'Bins w 70% Loss',\n",
    "    'Bins w 80% Loss',\n",
    "    'Bins w 90% Loss'\n",
    ")]"
   ]
  },
  {
   "cell_type": "code",
   "execution_count": null,
   "id": "0939a495-66a9-4c39-b64d-8810b8a30bab",
   "metadata": {},
   "outputs": [],
   "source": [
    "# NOTE this relies on an assume 3in bin size\n",
    "clean_hist_df['tube_feet_inspected'] = clean_hist_df['bins_collected']*3/12 # convert to tube feet ?"
   ]
  },
  {
   "cell_type": "code",
   "execution_count": null,
   "id": "b5227517-5361-4355-b601-12dc5718a5e7",
   "metadata": {},
   "outputs": [],
   "source": [
    "clean_hist_df.head(1)"
   ]
  },
  {
   "cell_type": "code",
   "execution_count": null,
   "id": "88b939d8-b76f-4496-b874-08f9915b1cd1",
   "metadata": {},
   "outputs": [],
   "source": [
    "clean_hist_df.shape"
   ]
  },
  {
   "cell_type": "code",
   "execution_count": null,
   "id": "e1b2cadd-0854-4ecc-a2f2-6023b2333f8c",
   "metadata": {},
   "outputs": [],
   "source": []
  },
  {
   "cell_type": "markdown",
   "id": "7ea53d3c-4f9e-408e-94b4-b06ae52bd2c6",
   "metadata": {},
   "source": [
    "## Filter for just the power customers identified"
   ]
  },
  {
   "cell_type": "code",
   "execution_count": null,
   "id": "ee34c867-71f8-4635-9354-cba6b5eb7498",
   "metadata": {},
   "outputs": [],
   "source": [
    "power_hist_df = clean_hist_df[clean_hist_df['Customer.name'].isin(POWER_CUST_LIST)]"
   ]
  },
  {
   "cell_type": "code",
   "execution_count": null,
   "id": "0f6f1015-b52d-4581-9ee8-99d8706816c6",
   "metadata": {},
   "outputs": [],
   "source": []
  },
  {
   "cell_type": "code",
   "execution_count": null,
   "id": "e31f390a-4786-4853-803b-2d93de5a36ee",
   "metadata": {},
   "outputs": [],
   "source": [
    "site_grouped_hist = clean_hist_df.groupby(['Customer.name', 'Location.name'])[\n",
    "    'Tubes w 10% Loss',\n",
    "    'Tubes w 20% Loss',\n",
    "    'Tubes w 30% Loss',\n",
    "    'Tubes w 40% Loss',\n",
    "    'Tubes w 50% Loss',\n",
    "    'Tubes w 60% Loss',\n",
    "    'Tubes w 70% Loss',\n",
    "    'Tubes w 80% Loss',\n",
    "    'Tubes w 90% Loss',\n",
    "    'Bins w 10% Loss',\n",
    "    'Bins w 20% Loss',\n",
    "    'Bins w 30% Loss',\n",
    "    'Bins w 40% Loss',\n",
    "    'Bins w 50% Loss',\n",
    "    'Bins w 60% Loss',\n",
    "    'Bins w 70% Loss',\n",
    "    'Bins w 80% Loss',\n",
    "    'Bins w 90% Loss',\n",
    "    'tube_feet_inspected',\n",
    "    'tubes_inspected',\t\n",
    "    'bins_collected'\n",
    "].sum()"
   ]
  },
  {
   "cell_type": "code",
   "execution_count": null,
   "id": "11083cde-66f8-4264-8553-a83aefbb3522",
   "metadata": {},
   "outputs": [],
   "source": [
    "site_grouped_hist.head(25)"
   ]
  },
  {
   "cell_type": "code",
   "execution_count": null,
   "id": "f4c1eb9d-3027-46df-a5b4-7813f1456824",
   "metadata": {},
   "outputs": [],
   "source": []
  },
  {
   "cell_type": "code",
   "execution_count": null,
   "id": "4272a9d1-926c-4d0f-ab46-ae08bb07371e",
   "metadata": {},
   "outputs": [],
   "source": []
  },
  {
   "cell_type": "code",
   "execution_count": null,
   "id": "bf6040c2-491c-43f9-af78-8c6f55849603",
   "metadata": {},
   "outputs": [],
   "source": [
    "unit_grouped_hist = clean_hist_df.groupby(['Customer.name', 'Location.name', 'Unit.name'])[\n",
    "    'Tubes w 10% Loss',\n",
    "    'Tubes w 20% Loss',\n",
    "    'Tubes w 30% Loss',\n",
    "    'Tubes w 40% Loss',\n",
    "    'Tubes w 50% Loss',\n",
    "    'Tubes w 60% Loss',\n",
    "    'Tubes w 70% Loss',\n",
    "    'Tubes w 80% Loss',\n",
    "    'Tubes w 90% Loss',\n",
    "    'Bins w 10% Loss',\n",
    "    'Bins w 20% Loss',\n",
    "    'Bins w 30% Loss',\n",
    "    'Bins w 40% Loss',\n",
    "    'Bins w 50% Loss',\n",
    "    'Bins w 60% Loss',\n",
    "    'Bins w 70% Loss',\n",
    "    'Bins w 80% Loss',\n",
    "    'Bins w 90% Loss',\n",
    "    'tube_feet_inspected',\n",
    "    'tubes_inspected',\t\n",
    "    'bins_collected'\n",
    "].sum()"
   ]
  },
  {
   "cell_type": "code",
   "execution_count": null,
   "id": "ba9b34c5-06c5-42ad-b7c0-fed47cf7cd44",
   "metadata": {},
   "outputs": [],
   "source": []
  },
  {
   "cell_type": "code",
   "execution_count": null,
   "id": "4e872431-46eb-4366-a514-a05e958b0d5d",
   "metadata": {},
   "outputs": [],
   "source": [
    "unit_grouped_hist.head()"
   ]
  },
  {
   "cell_type": "code",
   "execution_count": null,
   "id": "aeec0fc7-fe1a-407a-96a8-db6b7dde2268",
   "metadata": {},
   "outputs": [],
   "source": [
    "unit_grouped_hist[unit_grouped_hist['Bins w 40% Loss']!=0].shape"
   ]
  },
  {
   "cell_type": "code",
   "execution_count": null,
   "id": "2460bb56-49c6-43a2-a158-65537433a433",
   "metadata": {},
   "outputs": [],
   "source": [
    "unit_grouped_hist[unit_grouped_hist['Bins w 50% Loss']!=0].shape"
   ]
  },
  {
   "cell_type": "code",
   "execution_count": null,
   "id": "f2220883-cdb6-45bf-a50e-0957b6677bf2",
   "metadata": {},
   "outputs": [],
   "source": [
    "unit_grouped_hist[unit_grouped_hist['Bins w 60% Loss']!=0].shape"
   ]
  },
  {
   "cell_type": "code",
   "execution_count": null,
   "id": "4d109ada-c1fa-4abe-88a2-12d85550b017",
   "metadata": {},
   "outputs": [],
   "source": [
    "unit_grouped_hist.shape"
   ]
  },
  {
   "cell_type": "code",
   "execution_count": null,
   "id": "c472db5b-0b53-4d9e-a07f-a82b43ac9c83",
   "metadata": {},
   "outputs": [],
   "source": []
  },
  {
   "cell_type": "markdown",
   "id": "49643db1-23f6-4b5f-9ccf-e7a1dab96920",
   "metadata": {},
   "source": [
    "Save unit_grouped_hist as a csv"
   ]
  },
  {
   "cell_type": "code",
   "execution_count": null,
   "id": "0f091fa8-dfaa-4cc1-b92a-d5d1cfc9631b",
   "metadata": {},
   "outputs": [],
   "source": [
    "# unit_grouped_hist.reset_index().to_csv('data/outputs/unit_grouped_hist.csv')"
   ]
  },
  {
   "cell_type": "code",
   "execution_count": null,
   "id": "875b617b-bbcb-4b1c-bbc9-4a9fc808433e",
   "metadata": {},
   "outputs": [],
   "source": []
  },
  {
   "cell_type": "code",
   "execution_count": null,
   "id": "1113dd1d-1f1d-4a88-9f1b-4b88ed506cb7",
   "metadata": {},
   "outputs": [],
   "source": [
    "component_grouped_hist = clean_hist_df.groupby(['Customer.name', 'Location.name', 'Unit.name', 'Component.slug'])[\n",
    "    'Tubes w 10% Loss',\n",
    "    'Tubes w 20% Loss',\n",
    "    'Tubes w 30% Loss',\n",
    "    'Tubes w 40% Loss',\n",
    "    'Tubes w 50% Loss',\n",
    "    'Tubes w 60% Loss',\n",
    "    'Tubes w 70% Loss',\n",
    "    'Tubes w 80% Loss',\n",
    "    'Tubes w 90% Loss',\n",
    "    'Bins w 10% Loss',\n",
    "    'Bins w 20% Loss',\n",
    "    'Bins w 30% Loss',\n",
    "    'Bins w 40% Loss',\n",
    "    'Bins w 50% Loss',\n",
    "    'Bins w 60% Loss',\n",
    "    'Bins w 70% Loss',\n",
    "    'Bins w 80% Loss',\n",
    "    'Bins w 90% Loss',\n",
    "    'tube_feet_inspected',\n",
    "    'tubes_inspected',\t\n",
    "    'bins_collected'\n",
    "].sum()"
   ]
  },
  {
   "cell_type": "code",
   "execution_count": null,
   "id": "9ef90124-fcdc-4b5b-8409-3bce592c05f2",
   "metadata": {},
   "outputs": [],
   "source": [
    "component_grouped_hist.tail(5)"
   ]
  },
  {
   "cell_type": "code",
   "execution_count": null,
   "id": "1e69242c-6f06-4149-9fad-1dea9cc86bda",
   "metadata": {},
   "outputs": [],
   "source": [
    "component_grouped_hist.shape"
   ]
  },
  {
   "cell_type": "code",
   "execution_count": null,
   "id": "b34d1a30-b1e9-47ba-aba1-cdcf709075b7",
   "metadata": {},
   "outputs": [],
   "source": []
  },
  {
   "cell_type": "markdown",
   "id": "e3de0d97-2c40-4334-82b6-3345a4646dd1",
   "metadata": {},
   "source": [
    "My Thoughts:\n",
    "\n",
    "- we probably want to find a better way to combine aggregates for the same component slug, we currently sum, but if those are 2 separate inspections did they cover the same section ?  Were they at different dates ?  there is more nuance that is not being addressed here\n",
    "\n",
    "- how could we identify weld overlay ?\n",
    "- how can we incorporate the partial inspections into a better model"
   ]
  },
  {
   "cell_type": "markdown",
   "id": "7d9c9a91-a4d3-4918-88a4-b288e3fafbfa",
   "metadata": {},
   "source": [
    "David Wolpa\n",
    " \n",
    "Here are my ideas to increase the value of this data asset:\n",
    "\n",
    "1. Group the slugs into waterwalls and slopes\n",
    "2. include partial boiler scans (vs just relying on full scans) by grouping data into critical bins per 1000 (or some other number) inspected. This makes our sample size much larger improving accuracy and ability to slice data…\n",
    "3. Add meta data like boiler type, and weld overlay amount that we can later filter on to produce most accurate comparisons groups\n",
    "4. bring into radar like y'all are discussing to hydrate initial predictions before we even step foot into a specific boiler\n",
    "5. The sales team already has a tool that calculates how many tube feet a specific boiler has based on eng drawings so we can use that to normalize what we expect to find in specific boiler to our data set that is orgianized by critical bins per 1000 bins inspected"
   ]
  },
  {
   "cell_type": "code",
   "execution_count": null,
   "id": "042120ea-66b8-4f5f-b48d-b751f7101089",
   "metadata": {},
   "outputs": [],
   "source": []
  },
  {
   "cell_type": "code",
   "execution_count": null,
   "id": "23504437-6262-447b-a45f-1a84981aa7c3",
   "metadata": {},
   "outputs": [],
   "source": []
  },
  {
   "cell_type": "markdown",
   "id": "3ff7862f-074f-4c02-8eae-307a9518af87",
   "metadata": {},
   "source": [
    "## Bowen Analysis"
   ]
  },
  {
   "cell_type": "code",
   "execution_count": null,
   "id": "067c7303-118a-46f1-aab8-bff02dde5e48",
   "metadata": {},
   "outputs": [],
   "source": [
    "bowen_df = clean_hist_df[\n",
    "    (clean_hist_df['Customer.name'].str.contains('Southern Co')) & \n",
    "    (clean_hist_df['Location.name'].str.contains('Plant Bowen'))\n",
    "]"
   ]
  },
  {
   "cell_type": "code",
   "execution_count": null,
   "id": "e32ac0d8-6fa8-4323-b177-f2e3f1c2d90f",
   "metadata": {},
   "outputs": [],
   "source": [
    "bowen_df.head(1)"
   ]
  },
  {
   "cell_type": "code",
   "execution_count": null,
   "id": "f2734967-364a-4446-9768-dfd6478d570f",
   "metadata": {
    "tags": []
   },
   "outputs": [],
   "source": [
    "bowen_df.groupby(['Unit.name'])['slug'].nunique().to_frame()"
   ]
  },
  {
   "cell_type": "code",
   "execution_count": null,
   "id": "f8dbfb16-b0e9-4248-880a-55149e3128b5",
   "metadata": {
    "tags": []
   },
   "outputs": [],
   "source": [
    "bowen_unit_1_df = bowen_df[bowen_df['Unit.name']=='Unit 1']"
   ]
  },
  {
   "cell_type": "code",
   "execution_count": null,
   "id": "0167fe9a-0573-4469-9685-05acd75e528b",
   "metadata": {},
   "outputs": [],
   "source": [
    "bowen_unit_1_df"
   ]
  },
  {
   "cell_type": "code",
   "execution_count": null,
   "id": "f0781bc3-5813-479d-aa2a-46733cb3f189",
   "metadata": {},
   "outputs": [],
   "source": [
    "# bowen_unit_1_df.to_csv('../data/outputs/bowen.csv')"
   ]
  },
  {
   "cell_type": "code",
   "execution_count": null,
   "id": "505d36e1-9e7a-473b-bea0-67afa89e815d",
   "metadata": {},
   "outputs": [],
   "source": []
  },
  {
   "cell_type": "code",
   "execution_count": null,
   "id": "cd902e28-9274-4127-913c-8d931f2a67c6",
   "metadata": {},
   "outputs": [],
   "source": []
  },
  {
   "cell_type": "code",
   "execution_count": null,
   "id": "cee9558a-a798-4c73-ac24-55826b0475d9",
   "metadata": {},
   "outputs": [],
   "source": []
  },
  {
   "cell_type": "code",
   "execution_count": null,
   "id": "d58e9097-3854-4c5b-9ccb-12e3e5b4ebab",
   "metadata": {},
   "outputs": [],
   "source": []
  },
  {
   "cell_type": "code",
   "execution_count": null,
   "id": "3fe928ce-10c6-4656-bb7d-6814050ae04a",
   "metadata": {},
   "outputs": [],
   "source": []
  },
  {
   "cell_type": "code",
   "execution_count": null,
   "id": "72745d65-b802-431f-97cf-eece2c18c9e3",
   "metadata": {},
   "outputs": [],
   "source": []
  },
  {
   "cell_type": "code",
   "execution_count": null,
   "id": "3bea7186-3c07-4faf-aecb-8ab949eb5ba6",
   "metadata": {},
   "outputs": [],
   "source": []
  },
  {
   "cell_type": "code",
   "execution_count": null,
   "id": "6eadced4-4783-4c8e-af3c-fcbd3f7dc0c9",
   "metadata": {},
   "outputs": [],
   "source": []
  },
  {
   "cell_type": "code",
   "execution_count": null,
   "id": "c1a6565b-fe7f-4a22-a1fb-5f656299eca4",
   "metadata": {},
   "outputs": [],
   "source": []
  },
  {
   "cell_type": "code",
   "execution_count": null,
   "id": "fbc2414a-f2a8-4a1a-91e0-5de866f8f4bb",
   "metadata": {},
   "outputs": [],
   "source": []
  },
  {
   "cell_type": "code",
   "execution_count": null,
   "id": "6e2fdf7d-4b71-4f86-81a1-a2a9c3c47954",
   "metadata": {},
   "outputs": [],
   "source": []
  },
  {
   "cell_type": "code",
   "execution_count": null,
   "id": "28d8c83d-7d3c-46c4-998d-a3b9cbc67a75",
   "metadata": {},
   "outputs": [],
   "source": []
  },
  {
   "cell_type": "code",
   "execution_count": null,
   "id": "c6b6e7e0-0f9e-4024-90f4-0344a0aedc5f",
   "metadata": {},
   "outputs": [],
   "source": []
  },
  {
   "cell_type": "code",
   "execution_count": null,
   "id": "36f3a8a4-e762-4b74-bb00-79a06b4d3726",
   "metadata": {},
   "outputs": [],
   "source": [
    "hist_values_sum = unit_grouped_hist.sum()\n",
    "hist_cols = unit_grouped_hist.columns"
   ]
  },
  {
   "cell_type": "code",
   "execution_count": null,
   "id": "773a8811-b068-4b65-8f53-0e3e9ab88ab3",
   "metadata": {},
   "outputs": [],
   "source": [
    "hist_values_median = unit_grouped_hist.median()"
   ]
  },
  {
   "cell_type": "code",
   "execution_count": null,
   "id": "df2c6f38-cef7-4fe9-85ef-ade676b60d6f",
   "metadata": {},
   "outputs": [],
   "source": [
    "hist_values_mean = unit_grouped_hist.mean()"
   ]
  },
  {
   "cell_type": "code",
   "execution_count": null,
   "id": "13e16698-a73c-426b-b179-a233259eac1e",
   "metadata": {},
   "outputs": [],
   "source": []
  },
  {
   "cell_type": "code",
   "execution_count": null,
   "id": "fc2df53d-3497-4687-ae97-fb7e46bef3f7",
   "metadata": {},
   "outputs": [],
   "source": []
  },
  {
   "cell_type": "code",
   "execution_count": null,
   "id": "75d7cebe-657f-4d80-9352-7620064ee1db",
   "metadata": {},
   "outputs": [],
   "source": [
    "hist_cols"
   ]
  },
  {
   "cell_type": "code",
   "execution_count": null,
   "id": "9f36ca6f-73ad-4f00-a8f7-b2bb1dbdff5d",
   "metadata": {},
   "outputs": [],
   "source": [
    "fig, ax = plt.subplots()\n",
    "\n",
    "x = hist_cols[9:18]\n",
    "y = hist_values_sum[9:18]\n",
    "width =0.7\n",
    "\n",
    "rects1 = ax.barh(x, y, width, label = 'Status')\n",
    "ax.set_title('US Boiler Wall Loss Histogram')\n",
    "ax.set_ylabel('Count of Bins')\n",
    "#ax.set_xticks(x)\n",
    "#ax.set_xticklabels(x)\n",
    "ax.legend()\n",
    "\n",
    "fig.tight_layout()\n",
    "\n",
    "#plt.axvline(x=2023, c='r')\n",
    "#plt.xticks(np.arange(min(x), max(x)+1, 5))\n",
    "\n",
    "plt.xticks(rotation=0)\n",
    "plt.show()"
   ]
  },
  {
   "cell_type": "code",
   "execution_count": null,
   "id": "94e37cc2-baf1-4256-a544-aba4bdd7d3a3",
   "metadata": {},
   "outputs": [],
   "source": []
  },
  {
   "cell_type": "code",
   "execution_count": null,
   "id": "f40e080e-da65-4f26-9434-5e4badb820b4",
   "metadata": {},
   "outputs": [],
   "source": [
    "fig, ax = plt.subplots()\n",
    "\n",
    "x = hist_cols[0:9]\n",
    "y = hist_values_sum[9:18]\n",
    "width =0.7\n",
    "\n",
    "rects1 = ax.barh(x, y, width, label = 'Status')\n",
    "ax.set_title('US Boiler Wall Loss Histogram')\n",
    "ax.set_ylabel('Count of Tubes')\n",
    "#ax.set_xticks(x)\n",
    "#ax.set_xticklabels(x)\n",
    "ax.legend()\n",
    "\n",
    "fig.tight_layout()\n",
    "\n",
    "#plt.axvline(x=2023, c='r')\n",
    "#plt.xticks(np.arange(min(x), max(x)+1, 5))\n",
    "\n",
    "plt.xticks(rotation=0)\n",
    "plt.show()"
   ]
  },
  {
   "cell_type": "code",
   "execution_count": null,
   "id": "fc818f16-bde6-4536-96b7-4a94455e7e74",
   "metadata": {},
   "outputs": [],
   "source": []
  },
  {
   "cell_type": "code",
   "execution_count": null,
   "id": "5a31f950-c7a9-4ec2-b04f-385d553f01d3",
   "metadata": {},
   "outputs": [],
   "source": [
    "fig, ax = plt.subplots()\n",
    "\n",
    "x = hist_cols[9:18]\n",
    "y = hist_values_median[9:18]\n",
    "width =0.7\n",
    "\n",
    "rects1 = ax.barh(x, y, width, label = 'Status')\n",
    "ax.set_title('US Boiler Wall Loss Histogram')\n",
    "ax.set_ylabel('Count of Bins')\n",
    "#ax.set_xticks(x)\n",
    "#ax.set_xticklabels(x)\n",
    "ax.legend()\n",
    "\n",
    "fig.tight_layout()\n",
    "\n",
    "#plt.axvline(x=2023, c='r')\n",
    "#plt.xticks(np.arange(min(x), max(x)+1, 5))\n",
    "\n",
    "plt.xticks(rotation=0)\n",
    "plt.show()"
   ]
  },
  {
   "cell_type": "code",
   "execution_count": null,
   "id": "ee482c09-376d-4d00-9587-93e71bdaae1d",
   "metadata": {},
   "outputs": [],
   "source": [
    "fig, ax = plt.subplots()\n",
    "\n",
    "x = hist_cols[0:9]\n",
    "y = hist_values_median[0:9]\n",
    "width =0.7\n",
    "\n",
    "rects1 = ax.barh(x, y, width, label = 'Status')\n",
    "ax.set_title('US Boiler Wall Loss Histogram')\n",
    "ax.set_ylabel('Count of Bins')\n",
    "#ax.set_xticks(x)\n",
    "#ax.set_xticklabels(x)\n",
    "ax.legend()\n",
    "\n",
    "fig.tight_layout()\n",
    "\n",
    "#plt.axvline(x=2023, c='r')\n",
    "#plt.xticks(np.arange(min(x), max(x)+1, 5))\n",
    "\n",
    "plt.xticks(rotation=0)\n",
    "plt.show()"
   ]
  },
  {
   "cell_type": "code",
   "execution_count": null,
   "id": "443d76eb-3343-4e85-908e-64eaa4879cf5",
   "metadata": {},
   "outputs": [],
   "source": [
    "fig, ax = plt.subplots()\n",
    "\n",
    "x = hist_cols[9:18]\n",
    "y = hist_values_mean[9:18]\n",
    "width =0.7\n",
    "\n",
    "rects1 = ax.barh(x, y, width, label = 'Status')\n",
    "ax.set_title('US Boiler Wall Loss Histogram')\n",
    "ax.set_ylabel('Count of Bins')\n",
    "#ax.set_xticks(x)\n",
    "#ax.set_xticklabels(x)\n",
    "ax.legend()\n",
    "\n",
    "fig.tight_layout()\n",
    "\n",
    "#plt.axvline(x=2023, c='r')\n",
    "#plt.xticks(np.arange(min(x), max(x)+1, 5))\n",
    "\n",
    "plt.xticks(rotation=0)\n",
    "plt.show()"
   ]
  },
  {
   "cell_type": "code",
   "execution_count": null,
   "id": "f981b56c-a6b4-4664-8c58-b2006f34f1d7",
   "metadata": {},
   "outputs": [],
   "source": [
    "fig, ax = plt.subplots()\n",
    "\n",
    "x = hist_cols[0:9]\n",
    "y = hist_values_mean[0:9]\n",
    "width =0.7\n",
    "\n",
    "rects1 = ax.barh(x, y, width, label = 'Status')\n",
    "ax.set_title('US Boiler Wall Loss Histogram')\n",
    "ax.set_ylabel('Count of Bins')\n",
    "#ax.set_xticks(x)\n",
    "#ax.set_xticklabels(x)\n",
    "ax.legend()\n",
    "\n",
    "fig.tight_layout()\n",
    "\n",
    "#plt.axvline(x=2023, c='r')\n",
    "#plt.xticks(np.arange(min(x), max(x)+1, 5))\n",
    "\n",
    "plt.xticks(rotation=0)\n",
    "plt.show()"
   ]
  },
  {
   "cell_type": "code",
   "execution_count": null,
   "id": "421c40d8-22ff-4e4e-b4a5-d00bf6231ead",
   "metadata": {},
   "outputs": [],
   "source": []
  },
  {
   "cell_type": "code",
   "execution_count": null,
   "id": "1016fce2-b53e-4262-87a6-c72519bbffa6",
   "metadata": {},
   "outputs": [],
   "source": []
  },
  {
   "cell_type": "code",
   "execution_count": null,
   "id": "21acc174-b11c-4e6b-9acf-522ecb787c4e",
   "metadata": {},
   "outputs": [],
   "source": []
  },
  {
   "cell_type": "code",
   "execution_count": null,
   "id": "18936fb1-4a50-4a8c-8091-52ac9a7a2161",
   "metadata": {},
   "outputs": [],
   "source": [
    "unit_grouped_hist.head(1)"
   ]
  },
  {
   "cell_type": "code",
   "execution_count": null,
   "id": "77e36422-1fa7-4bdb-8782-5864d4042339",
   "metadata": {},
   "outputs": [],
   "source": [
    "component_grouped_hist.head(1)"
   ]
  },
  {
   "cell_type": "code",
   "execution_count": null,
   "id": "7cdbb3b6-4785-43fa-88ef-fe5256e1917e",
   "metadata": {},
   "outputs": [],
   "source": [
    "ref_df.head(1)"
   ]
  },
  {
   "cell_type": "markdown",
   "id": "1bfba0b4-cfef-4547-acef-9d3bd1ac6bfe",
   "metadata": {},
   "source": [
    "## Merge crit df and ref df into comb_df"
   ]
  },
  {
   "cell_type": "code",
   "execution_count": null,
   "id": "bc77da3d-1ff3-4d8e-adb6-edbe0a08be48",
   "metadata": {},
   "outputs": [],
   "source": [
    "comb_df = unit_grouped_hist.merge(ref_df, how='left', on=[\n",
    "    'Customer.name', \n",
    "    'Location.name',\n",
    "    'Unit.name'\n",
    "])"
   ]
  },
  {
   "cell_type": "code",
   "execution_count": null,
   "id": "48a33014-51c0-493d-a1c1-043177871d56",
   "metadata": {},
   "outputs": [],
   "source": [
    "comb_df.head()"
   ]
  },
  {
   "cell_type": "code",
   "execution_count": null,
   "id": "34e9a3da-df23-4783-81b2-a52d64de8ad0",
   "metadata": {},
   "outputs": [],
   "source": []
  },
  {
   "cell_type": "code",
   "execution_count": null,
   "id": "d23785b9-b4de-478d-b562-716d959d0740",
   "metadata": {},
   "outputs": [],
   "source": []
  },
  {
   "cell_type": "code",
   "execution_count": null,
   "id": "0c019c0c-7a31-4fe7-8aa8-12e1d6f41bce",
   "metadata": {},
   "outputs": [],
   "source": [
    "component_comb_df = component_grouped_hist.merge(ref_df, how='left', on=[\n",
    "    'Customer.name', \n",
    "    'Location.name',\n",
    "    'Unit.name',\n",
    "    'Component.slug'\n",
    "])"
   ]
  },
  {
   "cell_type": "code",
   "execution_count": null,
   "id": "356a3fcb-5acf-4d8a-bf60-c50f612ccf69",
   "metadata": {},
   "outputs": [],
   "source": [
    "component_comb_df.tail()"
   ]
  },
  {
   "cell_type": "code",
   "execution_count": null,
   "id": "726a57a3-2127-456d-a2b6-ed79be0a67aa",
   "metadata": {},
   "outputs": [],
   "source": []
  },
  {
   "cell_type": "code",
   "execution_count": null,
   "id": "ecfc4a88-f070-41f1-9d85-78d5aeb294da",
   "metadata": {},
   "outputs": [],
   "source": [
    "def determine_component(string):\n",
    "    \"\"\"\n",
    "    Take a component slug and derive the component type\n",
    "    \"\"\"\n",
    "    component_type = 'Other'\n",
    "    \n",
    "    if 'slopes' in str(string).lower():\n",
    "        component_type = 'Slopes'\n",
    "    if 'walls' in str(string).lower():\n",
    "        component_type = 'Walls'\n",
    "    \n",
    "    return component_type"
   ]
  },
  {
   "cell_type": "code",
   "execution_count": null,
   "id": "7d1b141c-4601-4f79-9ebd-4ca46c7acfd2",
   "metadata": {},
   "outputs": [],
   "source": [
    "component_comb_df['Component_type'] = component_comb_df['Component.name'].apply(lambda x: determine_component(x))"
   ]
  },
  {
   "cell_type": "markdown",
   "id": "73669d58-68b2-48ae-80e0-a5ea3acbb575",
   "metadata": {},
   "source": [
    "Ideas here:\n",
    "\n",
    "- if string component.name contains wall\n",
    "- if string component name contains slope"
   ]
  },
  {
   "cell_type": "code",
   "execution_count": null,
   "id": "e280c8b6-d599-4243-b2fb-4fdbc58477c3",
   "metadata": {},
   "outputs": [],
   "source": [
    "set(component_comb_df['Component.name'])"
   ]
  },
  {
   "cell_type": "code",
   "execution_count": null,
   "id": "42f32ab4-6a5e-4e62-afeb-69ed36f0053f",
   "metadata": {},
   "outputs": [],
   "source": [
    "set(component_comb_df['Component_type'])"
   ]
  },
  {
   "cell_type": "code",
   "execution_count": null,
   "id": "67c80340-2352-43b6-b538-124195bf94cb",
   "metadata": {},
   "outputs": [],
   "source": [
    "component_comb_df.groupby(['Component_type'])['Component.slug'].nunique().to_frame()"
   ]
  },
  {
   "cell_type": "code",
   "execution_count": null,
   "id": "e55dd9c5-e394-4e11-b13a-851ed1c86176",
   "metadata": {},
   "outputs": [],
   "source": []
  },
  {
   "cell_type": "code",
   "execution_count": null,
   "id": "9cecc8af-c5a8-4284-ab38-2503688a5fb5",
   "metadata": {},
   "outputs": [],
   "source": []
  },
  {
   "cell_type": "code",
   "execution_count": null,
   "id": "11e6268f-101f-4ab7-9e89-37c1b94c7cab",
   "metadata": {},
   "outputs": [],
   "source": []
  },
  {
   "cell_type": "code",
   "execution_count": null,
   "id": "f00c4532-5940-4911-9548-46693ab0857d",
   "metadata": {},
   "outputs": [],
   "source": []
  },
  {
   "cell_type": "code",
   "execution_count": null,
   "id": "0db7b169-c0bc-49e5-b36a-01c5a8eb0b4d",
   "metadata": {},
   "outputs": [],
   "source": [
    "with open(r'../data/raw_data/power_boiler_inspections_pre2019.json') as json_data:\n",
    "    d = json.loads(json_data.read())\n",
    "    json_data.close()"
   ]
  },
  {
   "cell_type": "code",
   "execution_count": null,
   "id": "46cd84b7-d80d-45b0-99f3-7e84e445a911",
   "metadata": {},
   "outputs": [],
   "source": [
    "power_boiler_inspections19_df = pd.json_normalize(d)"
   ]
  },
  {
   "cell_type": "code",
   "execution_count": null,
   "id": "6230d613-aa68-41e8-a368-7d171f1d8b11",
   "metadata": {},
   "outputs": [],
   "source": [
    "power_boiler_inspections19_df['Unit.id'].nunique()"
   ]
  },
  {
   "cell_type": "code",
   "execution_count": null,
   "id": "decf211c-19ab-4191-8594-3e59b8dbdcac",
   "metadata": {},
   "outputs": [],
   "source": [
    "power_boiler_inspections19_df.head(1)"
   ]
  },
  {
   "cell_type": "code",
   "execution_count": null,
   "id": "0aba6e3e-ff53-4e65-a3d3-ad4eeec3405d",
   "metadata": {},
   "outputs": [],
   "source": [
    "min(power_boiler_inspections19_df['Inspection.date'])"
   ]
  },
  {
   "cell_type": "code",
   "execution_count": null,
   "id": "b91705bd-a810-4b52-8100-3f885b4dd271",
   "metadata": {},
   "outputs": [],
   "source": [
    "max(power_boiler_inspections19_df['Inspection.date'])"
   ]
  },
  {
   "cell_type": "code",
   "execution_count": null,
   "id": "98f6af1a-1070-4e79-b192-2d38dd9ffb2b",
   "metadata": {},
   "outputs": [],
   "source": []
  },
  {
   "cell_type": "code",
   "execution_count": null,
   "id": "244ad179-4bb0-4f51-9009-7a5a1efc7d93",
   "metadata": {},
   "outputs": [],
   "source": []
  },
  {
   "cell_type": "code",
   "execution_count": null,
   "id": "eef7f22f-41ac-46ac-beb8-e123751d7c53",
   "metadata": {},
   "outputs": [],
   "source": [
    "filtered_pre19_power_boiler_inspections_df = power_boiler_inspections19_df.loc[:, (\n",
    "    'Inspection.slug', \n",
    "    'Component.wall_nominal_thickness', \n",
    "    'Component.wall_warning_thickness', \n",
    "    'Component.coating_nominal_thickness',\n",
    "    'Component.slug',\n",
    "    'Unit.name',\n",
    "    'Unit.slug',\n",
    "    'Location.name',\n",
    "    'Location.city',\n",
    "    'Customer.name'\n",
    ")]"
   ]
  },
  {
   "cell_type": "code",
   "execution_count": null,
   "id": "729305d1-15b6-41dc-9fe8-1526d005fdea",
   "metadata": {},
   "outputs": [],
   "source": []
  },
  {
   "cell_type": "code",
   "execution_count": null,
   "id": "b087a2f8-28e2-4e0e-8dfb-8cec6b59f751",
   "metadata": {},
   "outputs": [],
   "source": []
  },
  {
   "cell_type": "code",
   "execution_count": null,
   "id": "10de2859-546f-4e65-9ecf-2808f9e953fd",
   "metadata": {},
   "outputs": [],
   "source": []
  },
  {
   "cell_type": "code",
   "execution_count": null,
   "id": "c2a4d5cf-e9dd-4d17-8a43-dc6cbf2b5c7d",
   "metadata": {},
   "outputs": [],
   "source": [
    "with open(r'../data/raw_data/power_boiler_inspections.json') as json_data:\n",
    "    d = json.loads(json_data.read())\n",
    "    json_data.close()"
   ]
  },
  {
   "cell_type": "code",
   "execution_count": null,
   "id": "4a247c94-8a26-43be-a067-6dc7e6524fae",
   "metadata": {},
   "outputs": [],
   "source": [
    "power_boiler_inspections_df = pd.json_normalize(d)"
   ]
  },
  {
   "cell_type": "code",
   "execution_count": null,
   "id": "ebed9c1c-bf65-4215-b631-10626be22f03",
   "metadata": {},
   "outputs": [],
   "source": [
    "power_boiler_inspections_df.head(1)"
   ]
  },
  {
   "cell_type": "code",
   "execution_count": null,
   "id": "2766b116-049d-445d-a0c8-6a5143e4c2f6",
   "metadata": {},
   "outputs": [],
   "source": [
    "filtered_power_boiler_inspections_df = power_boiler_inspections_df.loc[:, (\n",
    "    'Inspection.slug', \n",
    "    'Component.wall_nominal_thickness', \n",
    "    'Component.wall_warning_thickness', \n",
    "    'Component.coating_nominal_thickness',\n",
    "    'Component.slug',\n",
    "    'Unit.name',\n",
    "    'Unit.slug',\n",
    "    'Location.name',\n",
    "    'Location.city',\n",
    "    'Customer.name'\n",
    ")]"
   ]
  },
  {
   "cell_type": "code",
   "execution_count": null,
   "id": "a49dcb9d-b9a6-4822-b96d-e22e93e4cf71",
   "metadata": {},
   "outputs": [],
   "source": [
    "all_pbi_df = pd.concat([filtered_power_boiler_inspections_df, filtered_pre19_power_boiler_inspections_df])"
   ]
  },
  {
   "cell_type": "code",
   "execution_count": null,
   "id": "cfeb984d-30aa-4124-ad9d-6e3d9f5057ab",
   "metadata": {},
   "outputs": [],
   "source": [
    "all_pbi_df.head(1)"
   ]
  },
  {
   "cell_type": "code",
   "execution_count": null,
   "id": "cf1faf7c-4982-490b-80c9-ca9656e513a7",
   "metadata": {},
   "outputs": [],
   "source": [
    "all_pbi_ordered_df = all_pbi_df.loc[:,(\n",
    "    'Customer.name', \n",
    "    'Location.name', \n",
    "    'Location.city',\n",
    "    'Location.region',\n",
    "    'Location.slack_channel',\n",
    "    'Unit.id',\n",
    "    'Unit.name', \n",
    "    'Unit.slug',\n",
    "    'Unit.retirement_date',\n",
    "    'Unit.fuel_type',\n",
    "    'Unit.capacity',\n",
    "    'Unit.total_tubes',\n",
    "    'Component.slug', \n",
    "    'Component.component_type',\n",
    "    'Component.wall_nominal_thickness', \n",
    "    'Component.wall_warning_thickness', \n",
    "    'Component.coating_nominal_thickness',\n",
    "    'Component.tube_diameter', \n",
    "    'Component.tube_spacing',\n",
    "    'Component.shell_diameter',\n",
    "    'Inspection.slug',\n",
    "    'Inspection.date',\n",
    "    'Inspection.ndt_method_type',\n",
    "    'Inspection.inspection_type'\n",
    ")].drop_duplicates()"
   ]
  },
  {
   "cell_type": "code",
   "execution_count": null,
   "id": "019767c9-ec76-46dd-bf8e-ea3aee486a02",
   "metadata": {},
   "outputs": [],
   "source": [
    "all_pbi_ordered_df.head(1)"
   ]
  },
  {
   "cell_type": "code",
   "execution_count": null,
   "id": "b972901c-1d5e-4c5c-b9f5-a028dca12a52",
   "metadata": {},
   "outputs": [],
   "source": [
    "all_pbi_ordered_df.shape"
   ]
  },
  {
   "cell_type": "code",
   "execution_count": null,
   "id": "dee43a6c-ca2c-46d3-b440-299a83999991",
   "metadata": {},
   "outputs": [],
   "source": [
    "# all_pbi_ordered_df.to_csv('../data/outputs/all_pbi.csv')"
   ]
  },
  {
   "cell_type": "code",
   "execution_count": null,
   "id": "975404e3-2cb2-4424-bab7-e6849f81df26",
   "metadata": {},
   "outputs": [],
   "source": [
    "ref_df = portalservice_power_inspections_2022_df.loc[:,(\n",
    "\n",
    "    'Inspection.date',\n",
    "    'Inspection.ndt_method_type',\n",
    "    'Inspection.inspection_type',\n",
    "\n",
    "    'Component.tube_diameter', \n",
    "    'Component.tube_spacing',\n",
    "    'Component.shell_diameter',\n",
    "    'Component.component_type',\n",
    "\n",
    ")]"
   ]
  },
  {
   "cell_type": "code",
   "execution_count": null,
   "id": "d43495b1-71ea-4165-9ca9-96be507eb682",
   "metadata": {},
   "outputs": [],
   "source": []
  },
  {
   "cell_type": "code",
   "execution_count": null,
   "id": "477d19ae-9f90-4a5e-a80b-af0ab4ec319d",
   "metadata": {},
   "outputs": [],
   "source": []
  },
  {
   "cell_type": "code",
   "execution_count": null,
   "id": "7716945c-19b0-49b4-b776-7cce5f4fe246",
   "metadata": {},
   "outputs": [],
   "source": []
  },
  {
   "cell_type": "code",
   "execution_count": null,
   "id": "fc5fa2a2-eb8f-4b51-9c46-2141e9436f17",
   "metadata": {},
   "outputs": [],
   "source": []
  },
  {
   "cell_type": "code",
   "execution_count": null,
   "id": "66f57998-b439-4e02-baab-b2568765b6c5",
   "metadata": {},
   "outputs": [],
   "source": []
  },
  {
   "cell_type": "code",
   "execution_count": null,
   "id": "9ec3c4dd-8be6-4198-8e1b-549fad2cc416",
   "metadata": {},
   "outputs": [],
   "source": [
    "names_df = all_pbi_ordered_df.loc[:, (\n",
    "    'Customer.name', \n",
    "    'Location.name', \n",
    "    'Location.city', \n",
    "    'Unit.name', \n",
    "    'Unit.slug'\n",
    ")].drop_duplicates()"
   ]
  },
  {
   "cell_type": "code",
   "execution_count": null,
   "id": "3b644656-c3cd-4f22-a5b9-cd6e6ccc6c8a",
   "metadata": {},
   "outputs": [],
   "source": [
    "names_df.shape"
   ]
  },
  {
   "cell_type": "code",
   "execution_count": null,
   "id": "271db62c-3ce5-4963-a0f7-00ddb705b305",
   "metadata": {},
   "outputs": [],
   "source": []
  },
  {
   "cell_type": "code",
   "execution_count": null,
   "id": "d70e9e44-5953-484e-95ac-c522cd37fd80",
   "metadata": {},
   "outputs": [],
   "source": [
    "power_parents = [\n",
    "    'AEP',\n",
    "    'AES',\n",
    "    'ALCOA',\n",
    "    'Dominion',\n",
    "    'Duke Energy',\n",
    "    'East Kentucky Power Coop (EKPC)',\n",
    "    'Hallador Power Company',\n",
    "    'NRG',\n",
    "    'Southern Co'\n",
    "]"
   ]
  },
  {
   "cell_type": "code",
   "execution_count": null,
   "id": "0b4fec7a-4155-4678-b582-98c0f2367e47",
   "metadata": {},
   "outputs": [],
   "source": [
    "power_names_df = names_df[names_df['Customer.name'].isin(power_parents)]"
   ]
  },
  {
   "cell_type": "code",
   "execution_count": null,
   "id": "16f14821-729e-4643-ba44-151cf265561e",
   "metadata": {},
   "outputs": [],
   "source": [
    "power_names_df.shape"
   ]
  },
  {
   "cell_type": "code",
   "execution_count": null,
   "id": "8453f436-494f-4a43-8420-228fdeb7a722",
   "metadata": {},
   "outputs": [],
   "source": []
  },
  {
   "cell_type": "code",
   "execution_count": null,
   "id": "2d947b36-a430-445e-a2ae-ad682e4d6fd7",
   "metadata": {},
   "outputs": [],
   "source": [
    "power_names_df.sort_values(['Customer.name', 'Location.name', 'Location.city', 'Unit.name'])"
   ]
  },
  {
   "cell_type": "code",
   "execution_count": null,
   "id": "f040f8e1-f18d-47a0-8a69-2de42a07bb89",
   "metadata": {},
   "outputs": [],
   "source": []
  },
  {
   "cell_type": "code",
   "execution_count": null,
   "id": "4962602d-8d17-4665-8ad0-c92931650f9c",
   "metadata": {},
   "outputs": [],
   "source": []
  },
  {
   "cell_type": "code",
   "execution_count": null,
   "id": "f5614fea-4600-4968-959e-3a30b05c8328",
   "metadata": {},
   "outputs": [],
   "source": [
    "power_boiler_inspections_df['Unit.id'].nunique()"
   ]
  },
  {
   "cell_type": "code",
   "execution_count": null,
   "id": "8cc66259-4268-4c3e-b927-6d6a0b622b37",
   "metadata": {},
   "outputs": [],
   "source": [
    "power_boiler_inspections_df['Inspection.id'].nunique()"
   ]
  },
  {
   "cell_type": "code",
   "execution_count": null,
   "id": "96d6ce28-c56f-4ef8-b062-3b00ffe3de88",
   "metadata": {},
   "outputs": [],
   "source": [
    "power_boiler_inspections_df.groupby([])"
   ]
  },
  {
   "cell_type": "code",
   "execution_count": null,
   "id": "094e73cf-bc20-4566-b932-9eb8465fda8d",
   "metadata": {},
   "outputs": [],
   "source": []
  },
  {
   "cell_type": "code",
   "execution_count": null,
   "id": "a7d16349-591c-48e5-9ea3-df70aa87ba7e",
   "metadata": {},
   "outputs": [],
   "source": []
  },
  {
   "cell_type": "code",
   "execution_count": null,
   "id": "dd315a00-c1a2-4373-954a-1bd9eabffaa3",
   "metadata": {},
   "outputs": [],
   "source": []
  },
  {
   "cell_type": "code",
   "execution_count": null,
   "id": "3f67a2ba-3be5-4013-82fd-0584803b1dac",
   "metadata": {},
   "outputs": [],
   "source": []
  },
  {
   "cell_type": "code",
   "execution_count": null,
   "id": "f2be5b04-4341-4c0e-a4bf-fffdb0956f56",
   "metadata": {},
   "outputs": [],
   "source": [
    "aep_month_outage_df.head()"
   ]
  },
  {
   "cell_type": "code",
   "execution_count": null,
   "id": "288dcfe4-a885-45cf-8237-011e5915a35e",
   "metadata": {},
   "outputs": [],
   "source": [
    "duke_month_outages_df.head()"
   ]
  },
  {
   "cell_type": "code",
   "execution_count": null,
   "id": "90f53d4c-5ed4-4e73-8391-6afd6056e551",
   "metadata": {},
   "outputs": [],
   "source": [
    "aep_month_outage_df.rename(columns={'Event Start Timestamp': 'Event Count'}, inplace=True)\n",
    "duke_month_outages_df.rename(columns={'Event ID': 'Event Count'}, inplace=True)\n",
    "aep_month_outage_df['Utility'] = 'AEP'\n",
    "duke_month_outages_df['Utility'] = 'Duke'"
   ]
  },
  {
   "cell_type": "code",
   "execution_count": null,
   "id": "808c8630-a4d2-402e-94b1-6a43d07ff7c7",
   "metadata": {},
   "outputs": [],
   "source": []
  },
  {
   "cell_type": "code",
   "execution_count": null,
   "id": "abd773c8-b3c4-4f8d-984a-adca09d10276",
   "metadata": {},
   "outputs": [],
   "source": []
  },
  {
   "cell_type": "code",
   "execution_count": null,
   "id": "4affd317-71d5-431a-8e9a-a107197b1f5b",
   "metadata": {},
   "outputs": [],
   "source": [
    "eia_df = pd.read_csv(r'../data/raw_data/EIA.csv')"
   ]
  },
  {
   "cell_type": "code",
   "execution_count": null,
   "id": "0b533adb-37ad-4c08-aaf7-933df0caf8cd",
   "metadata": {},
   "outputs": [],
   "source": [
    "eia_df.head()"
   ]
  },
  {
   "cell_type": "code",
   "execution_count": null,
   "id": "58e5d03d-5c20-4a12-b61b-0dd9ed2d377b",
   "metadata": {},
   "outputs": [],
   "source": [
    "eia_df.shape"
   ]
  },
  {
   "cell_type": "code",
   "execution_count": null,
   "id": "5a3e45f2-d44d-4c8f-9665-16b2162671fc",
   "metadata": {},
   "outputs": [],
   "source": [
    "eia_df['Year'] = eia_df['YYYYMM'].astype(str).str[0:4]\n",
    "eia_df['Month'] = eia_df['YYYYMM'].astype(str).str[4:6]"
   ]
  },
  {
   "cell_type": "code",
   "execution_count": null,
   "id": "74029298-272a-40d8-934c-757a6306f3eb",
   "metadata": {},
   "outputs": [],
   "source": [
    "set(eia_df['Month'])"
   ]
  },
  {
   "cell_type": "code",
   "execution_count": null,
   "id": "fb978673-8b31-4e2d-a507-99d5fb435813",
   "metadata": {},
   "outputs": [],
   "source": [
    "recent_eia_df = eia_df[eia_df['Year'].astype(int) > 2000]"
   ]
  },
  {
   "cell_type": "code",
   "execution_count": null,
   "id": "4846e772-e5d8-4be0-82b8-257a03442e4f",
   "metadata": {},
   "outputs": [],
   "source": [
    "recent_eia_df.shape"
   ]
  },
  {
   "cell_type": "code",
   "execution_count": null,
   "id": "eb699f9d-06a3-448c-9440-95c12f258c78",
   "metadata": {},
   "outputs": [],
   "source": [
    "set(recent_eia_df['Month'])"
   ]
  },
  {
   "cell_type": "code",
   "execution_count": null,
   "id": "b5cbc556-0f04-431d-8c89-58ebe997535d",
   "metadata": {},
   "outputs": [],
   "source": [
    "set(recent_eia_df[\"Description\"])"
   ]
  },
  {
   "cell_type": "code",
   "execution_count": null,
   "id": "be513441-68a8-4dae-bb93-d39989e268e3",
   "metadata": {},
   "outputs": [],
   "source": [
    "keep_cols = ['Total Primary Energy Consumption',\n",
    " 'Total Primary Energy Production']"
   ]
  },
  {
   "cell_type": "code",
   "execution_count": null,
   "id": "99f74c6e-86b9-4f88-b000-4987e61e09b4",
   "metadata": {},
   "outputs": [],
   "source": [
    "eia_prim_en_df = recent_eia_df[recent_eia_df[\"Description\"].isin(keep_cols)]"
   ]
  },
  {
   "cell_type": "code",
   "execution_count": null,
   "id": "a25a41ad-1fd7-4fa9-b337-994cc10d5713",
   "metadata": {},
   "outputs": [],
   "source": [
    "eia_prim_en_df.shape"
   ]
  },
  {
   "cell_type": "code",
   "execution_count": null,
   "id": "0ef45ea3-616c-4f46-ba9d-54385dceb340",
   "metadata": {},
   "outputs": [],
   "source": [
    "eia_prim_en_df.head()"
   ]
  },
  {
   "cell_type": "code",
   "execution_count": null,
   "id": "7c3b25ab-c900-4d18-8a09-4f3dd24effe9",
   "metadata": {},
   "outputs": [],
   "source": [
    "eia_2021_df = eia_prim_en_df[(eia_prim_en_df['Year']=='2021') & (eia_prim_en_df['Month']!='13')]"
   ]
  },
  {
   "cell_type": "code",
   "execution_count": null,
   "id": "27d4fa10-66ca-4163-8345-2f8358a763c9",
   "metadata": {},
   "outputs": [],
   "source": [
    "eia_2021_df.head()"
   ]
  },
  {
   "cell_type": "code",
   "execution_count": null,
   "id": "719ccf21-b8d5-4ba0-b4fe-17371c666e49",
   "metadata": {},
   "outputs": [],
   "source": [
    "eia_2021_consumption = eia_2021_df[eia_2021_df['Description']=='Total Primary Energy Consumption']\n",
    "eia_2021_production = eia_2021_df[eia_2021_df['Description']=='Total Primary Energy Production']"
   ]
  },
  {
   "cell_type": "code",
   "execution_count": null,
   "id": "8fb08c0b-f666-4951-881d-335a91cb88e0",
   "metadata": {},
   "outputs": [],
   "source": []
  },
  {
   "cell_type": "code",
   "execution_count": null,
   "id": "278834d1-3630-4bd1-b31a-a3bfd56f467c",
   "metadata": {},
   "outputs": [],
   "source": []
  },
  {
   "cell_type": "code",
   "execution_count": null,
   "id": "c7ade17a-8955-4a9d-a745-2c405f9ef5d6",
   "metadata": {},
   "outputs": [],
   "source": []
  },
  {
   "cell_type": "code",
   "execution_count": null,
   "id": "252d5403-c7f2-4a3b-87d0-387418b35a0b",
   "metadata": {},
   "outputs": [],
   "source": [
    "fig=plt.figure()\n",
    "fig.show()\n",
    "ax=fig.add_subplot(111)\n",
    "\n",
    "ax.set_title('EIA US Energy Data')\n",
    "ax.set_ylabel('Quadrillion Btu')\n",
    "ax.set_ylim(eia_2021_consumption['Value'].min()-1,10)\n",
    "ax.set_xlabel('Month')\n",
    "ax.set_xticks([1,2,3,4,5,6,7,8,9,10,11,12])\n",
    "ax.set_xticklabels(eia_2021_consumption['Month'])\n",
    "\n",
    "\n",
    "ax.plot(eia_2021_consumption['Month'].astype(int), eia_2021_consumption['Value'], c='r', label='Primary Energy Consumption')\n",
    "#ax.plot(eia_2021_production['Month'].astype(int), eia_2021_production['Value'], c='g', label='Primary Energy Production')\n",
    "\n",
    "\n",
    "plt.legend()\n",
    "plt.draw()"
   ]
  },
  {
   "cell_type": "code",
   "execution_count": null,
   "id": "34bf6c8c-fd43-41fe-997b-6bdd098ffabd",
   "metadata": {},
   "outputs": [],
   "source": [
    "fig=plt.figure()\n",
    "fig.show()\n",
    "ax=fig.add_subplot(111)\n",
    "\n",
    "ax.set_title('Tube Failures by Month')\n",
    "ax.set_ylabel('Count of Tube Failures')\n",
    "ax.set_xlabel('Month')\n",
    "ax.set_xticks(aep_month_outage_df['Outage Month'])\n",
    "ax.set_xticklabels(aep_month_outage_df['Outage Month'])\n",
    "\n",
    "\n",
    "ax.plot(aep_month_outage_df['Outage Month'], aep_month_outage_df['Event Count'], c='r', label='AEP Tube Failures')\n",
    "ax.plot(duke_month_outages_df['Outage Month'], duke_month_outages_df['Event Count'], c='b', label='Duke Tube Failures')\n",
    "\n",
    "\n",
    "plt.legend()\n",
    "plt.draw()"
   ]
  },
  {
   "cell_type": "code",
   "execution_count": null,
   "id": "d707a88d-ccfc-4488-95bd-0f94f75af73a",
   "metadata": {},
   "outputs": [],
   "source": [
    "comb_df.head()"
   ]
  },
  {
   "cell_type": "code",
   "execution_count": null,
   "id": "85f0482d-a879-4ae8-a8dc-c98d0eb67baf",
   "metadata": {},
   "outputs": [],
   "source": [
    "comb_df['Inspection.month'] = pd.to_datetime(comb_df['Inspection.date']).dt.month"
   ]
  },
  {
   "cell_type": "code",
   "execution_count": null,
   "id": "855644f5-1dfb-4b0d-9be3-185d8d09aa19",
   "metadata": {},
   "outputs": [],
   "source": [
    "#set(comb_df['Inspection.month'])"
   ]
  },
  {
   "cell_type": "code",
   "execution_count": null,
   "id": "46f31c26-2e96-4e39-a81f-553d65ecca91",
   "metadata": {},
   "outputs": [],
   "source": [
    "gecko_2022_inspections = comb_df.groupby(['Inspection.month'])['Inspection.slug'].nunique().to_frame().reset_index().rename(columns={'slug': 'inspections'})"
   ]
  },
  {
   "cell_type": "code",
   "execution_count": null,
   "id": "51e2cc36-1f49-4794-8ba2-15ae5bfed787",
   "metadata": {},
   "outputs": [],
   "source": [
    "gecko_2022_inspections"
   ]
  },
  {
   "cell_type": "code",
   "execution_count": null,
   "id": "8ab7a125-9af5-42cf-bf97-fe4526dbeeb0",
   "metadata": {},
   "outputs": [],
   "source": [
    "gecko_2022_inspections['Inspection.slug'].sum()"
   ]
  },
  {
   "cell_type": "code",
   "execution_count": null,
   "id": "828734d5-d7a2-41e9-913a-16bf7f9b546f",
   "metadata": {},
   "outputs": [],
   "source": [
    "#us_boilers_df.loc[:, ('MARKET_REG', 'PLANT_NAME')]"
   ]
  },
  {
   "cell_type": "code",
   "execution_count": null,
   "id": "06137665-83c9-4ea5-ab95-23880b77063b",
   "metadata": {},
   "outputs": [],
   "source": [
    "us_boilers_df.loc[:, ('MARKET_REG', 'UNIT_STATE')]"
   ]
  },
  {
   "cell_type": "code",
   "execution_count": null,
   "id": "1967325e-35d3-4898-b568-5c2398d73228",
   "metadata": {},
   "outputs": [],
   "source": [
    "len(comb_df['Location.city'])"
   ]
  },
  {
   "cell_type": "code",
   "execution_count": null,
   "id": "8473bec4-aca5-4b33-91bf-0fee4f40d780",
   "metadata": {},
   "outputs": [],
   "source": [
    "len([city for city in comb_df['Location.city'] if city not in us_boilers_df['PHYS_CITY']])"
   ]
  },
  {
   "cell_type": "code",
   "execution_count": null,
   "id": "a83e105c-f774-444b-b73f-4f0962cfe950",
   "metadata": {},
   "outputs": [],
   "source": []
  },
  {
   "cell_type": "code",
   "execution_count": null,
   "id": "065f298e-b93d-47b5-82b6-f0f5b001471d",
   "metadata": {},
   "outputs": [],
   "source": []
  },
  {
   "cell_type": "code",
   "execution_count": null,
   "id": "83958705-ff9b-412c-b5e0-396e1bed7859",
   "metadata": {},
   "outputs": [],
   "source": [
    "set(us_boilers_df['MARKET_REG'])"
   ]
  },
  {
   "cell_type": "code",
   "execution_count": null,
   "id": "769d779f-9ee3-4ae1-9801-18b48731f771",
   "metadata": {},
   "outputs": [],
   "source": [
    "markets_comb_df = comb_df.merge(us_boilers_df.loc[:, ('MARKET_REG', 'UNIT_STATE')], how='left', left_on='Location.region', right_on='UNIT_STATE')"
   ]
  },
  {
   "cell_type": "code",
   "execution_count": null,
   "id": "ccb5f3e8-3f71-4e8e-8d70-f743af9d8bd6",
   "metadata": {},
   "outputs": [],
   "source": [
    "markets_comb_df.groupby(['MARKET_REG'])['Unit.slug'].nunique().to_frame()"
   ]
  },
  {
   "cell_type": "code",
   "execution_count": null,
   "id": "5b60154c-3f3d-4c6d-b016-f6f44a88f1aa",
   "metadata": {},
   "outputs": [],
   "source": []
  },
  {
   "cell_type": "code",
   "execution_count": null,
   "id": "5c850290-ec86-4af1-9fc1-e8ac333ace9a",
   "metadata": {},
   "outputs": [],
   "source": []
  },
  {
   "cell_type": "code",
   "execution_count": null,
   "id": "1f92631c-f9c7-4468-98d0-3a18f3607455",
   "metadata": {},
   "outputs": [],
   "source": [
    "units_inspected_bycust = comb_df.groupby(['Customer.name'])['Unit.slug'].nunique().to_frame().reset_index()"
   ]
  },
  {
   "cell_type": "code",
   "execution_count": null,
   "id": "2da93e54-af87-44bc-8009-97351f576096",
   "metadata": {},
   "outputs": [],
   "source": [
    "units_inspected_bycust['Unit.slug'].sum()"
   ]
  },
  {
   "cell_type": "code",
   "execution_count": null,
   "id": "17f5823d-c968-46fb-9beb-3a50c72375d4",
   "metadata": {},
   "outputs": [],
   "source": []
  },
  {
   "cell_type": "code",
   "execution_count": null,
   "id": "35578b2b-988c-4c1c-b41f-68b825d65c0c",
   "metadata": {},
   "outputs": [],
   "source": []
  },
  {
   "cell_type": "code",
   "execution_count": null,
   "id": "b5443d71-a082-486f-96ec-015e7df70dd3",
   "metadata": {},
   "outputs": [],
   "source": [
    "## NOTE: in 2022 there were ZERO power inspections in February"
   ]
  },
  {
   "cell_type": "code",
   "execution_count": null,
   "id": "06bda26d-e6eb-4ba9-9609-d4045fa84c39",
   "metadata": {},
   "outputs": [],
   "source": [
    "fig=plt.figure()\n",
    "fig.show()\n",
    "ax=fig.add_subplot(111)\n",
    "\n",
    "ax.set_title('Gecko Power Inspections')\n",
    "ax.set_ylabel('Count')\n",
    "ax.set_xlabel('Month')\n",
    "ax.set_xticks([1,3,4,5,6,7,8,9,10,11,12])\n",
    "ax.set_xticklabels(gecko_2022_inspections['Inspection.month'])\n",
    "\n",
    "\n",
    "ax.plot(gecko_2022_inspections['Inspection.month'], gecko_2022_inspections['Inspection.slug'], c='r', label='Gecko Power Inspections')\n",
    "\n",
    "\n",
    "plt.legend()\n",
    "plt.draw()"
   ]
  },
  {
   "cell_type": "code",
   "execution_count": null,
   "id": "3dfea1fa-2daa-4607-bd37-c85d5eb07dbd",
   "metadata": {},
   "outputs": [],
   "source": []
  },
  {
   "cell_type": "code",
   "execution_count": null,
   "id": "d8c9acc4-a93e-451c-9f08-a95bca9d653d",
   "metadata": {},
   "outputs": [],
   "source": []
  },
  {
   "cell_type": "code",
   "execution_count": null,
   "id": "13d06d3b-0099-4d41-a7e7-6815b3fff493",
   "metadata": {},
   "outputs": [],
   "source": []
  },
  {
   "cell_type": "code",
   "execution_count": null,
   "id": "ab5fafcc-4394-4438-b24a-7162da729b3e",
   "metadata": {},
   "outputs": [],
   "source": []
  },
  {
   "cell_type": "code",
   "execution_count": null,
   "id": "d8a66ec8-416f-4843-ade3-bbed6cd4fb92",
   "metadata": {},
   "outputs": [],
   "source": []
  },
  {
   "cell_type": "code",
   "execution_count": null,
   "id": "8a305612-d145-4e56-8b68-c9674bae8d5e",
   "metadata": {},
   "outputs": [],
   "source": []
  },
  {
   "cell_type": "code",
   "execution_count": 6,
   "id": "21a85495-4a26-448d-870b-735b8666ddc3",
   "metadata": {},
   "outputs": [],
   "source": [
    "with open(r'../data/raw_data/gecko_tank_shells.json', encoding=\"utf8\") as json_data:\n",
    "    d = json.loads(json_data.read())\n",
    "    json_data.close()"
   ]
  },
  {
   "cell_type": "code",
   "execution_count": 7,
   "id": "25b1795c-34d3-4301-869b-d8ef17eaeae1",
   "metadata": {},
   "outputs": [],
   "source": [
    "tank_shells_df = pd.json_normalize(d)"
   ]
  },
  {
   "cell_type": "code",
   "execution_count": null,
   "id": "2ff85fd3-8c59-4c97-8118-86dedda987e1",
   "metadata": {},
   "outputs": [],
   "source": []
  },
  {
   "cell_type": "code",
   "execution_count": 18,
   "id": "c40aeade-3cbe-474c-b41a-04a5bb2e41f5",
   "metadata": {},
   "outputs": [
    {
     "data": {
      "text/html": [
       "<div>\n",
       "<style scoped>\n",
       "    .dataframe tbody tr th:only-of-type {\n",
       "        vertical-align: middle;\n",
       "    }\n",
       "\n",
       "    .dataframe tbody tr th {\n",
       "        vertical-align: top;\n",
       "    }\n",
       "\n",
       "    .dataframe thead th {\n",
       "        text-align: right;\n",
       "    }\n",
       "</style>\n",
       "<table border=\"1\" class=\"dataframe\">\n",
       "  <thead>\n",
       "    <tr style=\"text-align: right;\">\n",
       "      <th></th>\n",
       "      <th>Component.tube_diameter</th>\n",
       "      <th>Component.material_type</th>\n",
       "      <th>Component.contents</th>\n",
       "      <th>Component.tube_spacing</th>\n",
       "      <th>Component.wall_nominal_thickness</th>\n",
       "      <th>Component.temperature</th>\n",
       "      <th>Component.sea_level</th>\n",
       "      <th>Component.wall_warning_thickness</th>\n",
       "      <th>Component.difficulty_factor_percentage</th>\n",
       "      <th>Component.id</th>\n",
       "      <th>Component.shell_diameter</th>\n",
       "      <th>Component.coating_nominal_thickness</th>\n",
       "      <th>Component.salesforce_id</th>\n",
       "      <th>Component.name</th>\n",
       "      <th>Component.slope_angle</th>\n",
       "      <th>Component.coating_warning_thickness</th>\n",
       "      <th>Component.description</th>\n",
       "      <th>Component.lat</th>\n",
       "      <th>Component.component_type</th>\n",
       "      <th>Component.slug</th>\n",
       "      <th>Component.lng</th>\n",
       "      <th>Component.sales_asset_type_id</th>\n",
       "      <th>Component.unit_id</th>\n",
       "      <th>Component.alloy_id</th>\n",
       "      <th>Unit.name</th>\n",
       "      <th>Unit.location_id</th>\n",
       "      <th>Unit.slug</th>\n",
       "      <th>Unit.capacity</th>\n",
       "      <th>Unit.inspection_code</th>\n",
       "      <th>Unit.latitude</th>\n",
       "      <th>Unit.retirement_date</th>\n",
       "      <th>Unit.total_tubes</th>\n",
       "      <th>Unit.description</th>\n",
       "      <th>Unit.id</th>\n",
       "      <th>Unit.built_date</th>\n",
       "      <th>Unit.fuel_type</th>\n",
       "      <th>Unit.inspection_interval_years</th>\n",
       "      <th>Unit.longitude</th>\n",
       "      <th>Unit.sales_asset_category_id</th>\n",
       "      <th>Unit.salesforce_id</th>\n",
       "      <th>Location.name</th>\n",
       "      <th>Location.address_line_2</th>\n",
       "      <th>Location.postal_code</th>\n",
       "      <th>Location.customer_id</th>\n",
       "      <th>Location.city</th>\n",
       "      <th>Location.slack_channel</th>\n",
       "      <th>Location.lat</th>\n",
       "      <th>Location.salesforce_id</th>\n",
       "      <th>Location.address_line_1</th>\n",
       "      <th>Location.id</th>\n",
       "      <th>Location.region</th>\n",
       "      <th>Location.country</th>\n",
       "      <th>Location.slug</th>\n",
       "      <th>Location.industry_type</th>\n",
       "      <th>Location.lng</th>\n",
       "      <th>Location.drive_folder_id</th>\n",
       "      <th>Customer.salesforce_id</th>\n",
       "      <th>Customer.logo</th>\n",
       "      <th>Customer.slug</th>\n",
       "      <th>Customer.id</th>\n",
       "      <th>Customer.name</th>\n",
       "      <th>Customer.drive_folder_id</th>\n",
       "    </tr>\n",
       "  </thead>\n",
       "  <tbody>\n",
       "    <tr>\n",
       "      <th>0</th>\n",
       "      <td>0.0</td>\n",
       "      <td>carbon_steel</td>\n",
       "      <td>None</td>\n",
       "      <td>0.0</td>\n",
       "      <td>0.325</td>\n",
       "      <td></td>\n",
       "      <td>NaN</td>\n",
       "      <td>0.15</td>\n",
       "      <td>0</td>\n",
       "      <td>18</td>\n",
       "      <td>NaN</td>\n",
       "      <td>0.0</td>\n",
       "      <td></td>\n",
       "      <td>Outer Shell</td>\n",
       "      <td>NaN</td>\n",
       "      <td>0.0</td>\n",
       "      <td>The zero point is 0.5 feet from the left weld ...</td>\n",
       "      <td>None</td>\n",
       "      <td>2</td>\n",
       "      <td>outer-shell-a27f0e</td>\n",
       "      <td>None</td>\n",
       "      <td>NaN</td>\n",
       "      <td>18</td>\n",
       "      <td>NaN</td>\n",
       "      <td>Coal Silo 1</td>\n",
       "      <td>10</td>\n",
       "      <td>coal-silo-1-5ccad9</td>\n",
       "      <td>0</td>\n",
       "      <td></td>\n",
       "      <td>0.0</td>\n",
       "      <td>None</td>\n",
       "      <td>0</td>\n",
       "      <td></td>\n",
       "      <td>18</td>\n",
       "      <td>None</td>\n",
       "      <td></td>\n",
       "      <td>0</td>\n",
       "      <td>0.0</td>\n",
       "      <td>NaN</td>\n",
       "      <td></td>\n",
       "      <td>Warrior Run</td>\n",
       "      <td></td>\n",
       "      <td>21502</td>\n",
       "      <td>10</td>\n",
       "      <td>Cumberland</td>\n",
       "      <td>insp_aes_warriorrun</td>\n",
       "      <td>39.59586</td>\n",
       "      <td>0011U00000EHUeuQAH</td>\n",
       "      <td>11600 Mexico Farms Rd SE</td>\n",
       "      <td>10</td>\n",
       "      <td>MD</td>\n",
       "      <td>US</td>\n",
       "      <td>warrior-run-134143</td>\n",
       "      <td>power</td>\n",
       "      <td>-78.74616</td>\n",
       "      <td>0B61E5R0McQ-1dzEwQ0JsMUdtVGs</td>\n",
       "      <td>0011U00000EHUZhQAP</td>\n",
       "      <td>customer_logos/aes.png</td>\n",
       "      <td>aes-ea4f30</td>\n",
       "      <td>10</td>\n",
       "      <td>AES</td>\n",
       "      <td>0B61E5R0McQ-1UmhZTThYRzJWNVU</td>\n",
       "    </tr>\n",
       "    <tr>\n",
       "      <th>1</th>\n",
       "      <td>0.0</td>\n",
       "      <td>carbon_steel</td>\n",
       "      <td>None</td>\n",
       "      <td>0.0</td>\n",
       "      <td>0.325</td>\n",
       "      <td></td>\n",
       "      <td>NaN</td>\n",
       "      <td>0.15</td>\n",
       "      <td>0</td>\n",
       "      <td>19</td>\n",
       "      <td>NaN</td>\n",
       "      <td>0.0</td>\n",
       "      <td></td>\n",
       "      <td>Outer Shell</td>\n",
       "      <td>NaN</td>\n",
       "      <td>0.0</td>\n",
       "      <td>The zero point is 5.33 feet from the right wel...</td>\n",
       "      <td>None</td>\n",
       "      <td>2</td>\n",
       "      <td>outer-shell-dfd932</td>\n",
       "      <td>None</td>\n",
       "      <td>NaN</td>\n",
       "      <td>19</td>\n",
       "      <td>NaN</td>\n",
       "      <td>Coal Silo 2</td>\n",
       "      <td>10</td>\n",
       "      <td>coal-silo-2-75fac9</td>\n",
       "      <td>0</td>\n",
       "      <td></td>\n",
       "      <td>0.0</td>\n",
       "      <td>None</td>\n",
       "      <td>0</td>\n",
       "      <td></td>\n",
       "      <td>19</td>\n",
       "      <td>None</td>\n",
       "      <td></td>\n",
       "      <td>0</td>\n",
       "      <td>0.0</td>\n",
       "      <td>NaN</td>\n",
       "      <td></td>\n",
       "      <td>Warrior Run</td>\n",
       "      <td></td>\n",
       "      <td>21502</td>\n",
       "      <td>10</td>\n",
       "      <td>Cumberland</td>\n",
       "      <td>insp_aes_warriorrun</td>\n",
       "      <td>39.59586</td>\n",
       "      <td>0011U00000EHUeuQAH</td>\n",
       "      <td>11600 Mexico Farms Rd SE</td>\n",
       "      <td>10</td>\n",
       "      <td>MD</td>\n",
       "      <td>US</td>\n",
       "      <td>warrior-run-134143</td>\n",
       "      <td>power</td>\n",
       "      <td>-78.74616</td>\n",
       "      <td>0B61E5R0McQ-1dzEwQ0JsMUdtVGs</td>\n",
       "      <td>0011U00000EHUZhQAP</td>\n",
       "      <td>customer_logos/aes.png</td>\n",
       "      <td>aes-ea4f30</td>\n",
       "      <td>10</td>\n",
       "      <td>AES</td>\n",
       "      <td>0B61E5R0McQ-1UmhZTThYRzJWNVU</td>\n",
       "    </tr>\n",
       "    <tr>\n",
       "      <th>2</th>\n",
       "      <td>0.0</td>\n",
       "      <td>carbon_steel</td>\n",
       "      <td>None</td>\n",
       "      <td>0.0</td>\n",
       "      <td>0.325</td>\n",
       "      <td></td>\n",
       "      <td>NaN</td>\n",
       "      <td>0.15</td>\n",
       "      <td>0</td>\n",
       "      <td>20</td>\n",
       "      <td>NaN</td>\n",
       "      <td>0.0</td>\n",
       "      <td></td>\n",
       "      <td>Outer Shell</td>\n",
       "      <td>NaN</td>\n",
       "      <td>0.0</td>\n",
       "      <td>The zero point is 0.75 feet from left weld of ...</td>\n",
       "      <td>None</td>\n",
       "      <td>2</td>\n",
       "      <td>outer-shell-b5407c</td>\n",
       "      <td>None</td>\n",
       "      <td>NaN</td>\n",
       "      <td>20</td>\n",
       "      <td>NaN</td>\n",
       "      <td>Coal Silo 3</td>\n",
       "      <td>10</td>\n",
       "      <td>coal-silo-3-d2f1f1</td>\n",
       "      <td>0</td>\n",
       "      <td></td>\n",
       "      <td>0.0</td>\n",
       "      <td>None</td>\n",
       "      <td>0</td>\n",
       "      <td></td>\n",
       "      <td>20</td>\n",
       "      <td>None</td>\n",
       "      <td></td>\n",
       "      <td>0</td>\n",
       "      <td>0.0</td>\n",
       "      <td>NaN</td>\n",
       "      <td></td>\n",
       "      <td>Warrior Run</td>\n",
       "      <td></td>\n",
       "      <td>21502</td>\n",
       "      <td>10</td>\n",
       "      <td>Cumberland</td>\n",
       "      <td>insp_aes_warriorrun</td>\n",
       "      <td>39.59586</td>\n",
       "      <td>0011U00000EHUeuQAH</td>\n",
       "      <td>11600 Mexico Farms Rd SE</td>\n",
       "      <td>10</td>\n",
       "      <td>MD</td>\n",
       "      <td>US</td>\n",
       "      <td>warrior-run-134143</td>\n",
       "      <td>power</td>\n",
       "      <td>-78.74616</td>\n",
       "      <td>0B61E5R0McQ-1dzEwQ0JsMUdtVGs</td>\n",
       "      <td>0011U00000EHUZhQAP</td>\n",
       "      <td>customer_logos/aes.png</td>\n",
       "      <td>aes-ea4f30</td>\n",
       "      <td>10</td>\n",
       "      <td>AES</td>\n",
       "      <td>0B61E5R0McQ-1UmhZTThYRzJWNVU</td>\n",
       "    </tr>\n",
       "    <tr>\n",
       "      <th>3</th>\n",
       "      <td>0.0</td>\n",
       "      <td>carbon_steel</td>\n",
       "      <td>None</td>\n",
       "      <td>0.0</td>\n",
       "      <td>0.375</td>\n",
       "      <td></td>\n",
       "      <td>NaN</td>\n",
       "      <td>0.15</td>\n",
       "      <td>0</td>\n",
       "      <td>21</td>\n",
       "      <td>NaN</td>\n",
       "      <td>0.0</td>\n",
       "      <td></td>\n",
       "      <td>Outer Shell</td>\n",
       "      <td>NaN</td>\n",
       "      <td>0.0</td>\n",
       "      <td>The zero point is 7.75 feet from the left weld...</td>\n",
       "      <td>None</td>\n",
       "      <td>2</td>\n",
       "      <td>outer-shell-dc6fbd</td>\n",
       "      <td>None</td>\n",
       "      <td>NaN</td>\n",
       "      <td>21</td>\n",
       "      <td>NaN</td>\n",
       "      <td>Coal Silo 4</td>\n",
       "      <td>10</td>\n",
       "      <td>coal-silo-4-fe90e8</td>\n",
       "      <td>0</td>\n",
       "      <td></td>\n",
       "      <td>0.0</td>\n",
       "      <td>None</td>\n",
       "      <td>0</td>\n",
       "      <td></td>\n",
       "      <td>21</td>\n",
       "      <td>None</td>\n",
       "      <td></td>\n",
       "      <td>0</td>\n",
       "      <td>0.0</td>\n",
       "      <td>NaN</td>\n",
       "      <td></td>\n",
       "      <td>Warrior Run</td>\n",
       "      <td></td>\n",
       "      <td>21502</td>\n",
       "      <td>10</td>\n",
       "      <td>Cumberland</td>\n",
       "      <td>insp_aes_warriorrun</td>\n",
       "      <td>39.59586</td>\n",
       "      <td>0011U00000EHUeuQAH</td>\n",
       "      <td>11600 Mexico Farms Rd SE</td>\n",
       "      <td>10</td>\n",
       "      <td>MD</td>\n",
       "      <td>US</td>\n",
       "      <td>warrior-run-134143</td>\n",
       "      <td>power</td>\n",
       "      <td>-78.74616</td>\n",
       "      <td>0B61E5R0McQ-1dzEwQ0JsMUdtVGs</td>\n",
       "      <td>0011U00000EHUZhQAP</td>\n",
       "      <td>customer_logos/aes.png</td>\n",
       "      <td>aes-ea4f30</td>\n",
       "      <td>10</td>\n",
       "      <td>AES</td>\n",
       "      <td>0B61E5R0McQ-1UmhZTThYRzJWNVU</td>\n",
       "    </tr>\n",
       "    <tr>\n",
       "      <th>4</th>\n",
       "      <td>1.0</td>\n",
       "      <td>carbon_steel</td>\n",
       "      <td>None</td>\n",
       "      <td>2.0</td>\n",
       "      <td>NaN</td>\n",
       "      <td></td>\n",
       "      <td>NaN</td>\n",
       "      <td>NaN</td>\n",
       "      <td>0</td>\n",
       "      <td>32</td>\n",
       "      <td>NaN</td>\n",
       "      <td>NaN</td>\n",
       "      <td></td>\n",
       "      <td>Shell</td>\n",
       "      <td>NaN</td>\n",
       "      <td>NaN</td>\n",
       "      <td></td>\n",
       "      <td>None</td>\n",
       "      <td>2</td>\n",
       "      <td>shell-48ca11</td>\n",
       "      <td>None</td>\n",
       "      <td>NaN</td>\n",
       "      <td>31</td>\n",
       "      <td>NaN</td>\n",
       "      <td>Coal Bunker - Ultrasound</td>\n",
       "      <td>12</td>\n",
       "      <td>coal-bunker-c04a12</td>\n",
       "      <td>0</td>\n",
       "      <td></td>\n",
       "      <td>0.0</td>\n",
       "      <td>None</td>\n",
       "      <td>0</td>\n",
       "      <td></td>\n",
       "      <td>31</td>\n",
       "      <td>None</td>\n",
       "      <td></td>\n",
       "      <td>0</td>\n",
       "      <td>0.0</td>\n",
       "      <td>NaN</td>\n",
       "      <td></td>\n",
       "      <td>Pittsburgh</td>\n",
       "      <td></td>\n",
       "      <td>15208</td>\n",
       "      <td>12</td>\n",
       "      <td>Pittsburgh</td>\n",
       "      <td></td>\n",
       "      <td>40.45465</td>\n",
       "      <td>None</td>\n",
       "      <td>6901 Lynn Way</td>\n",
       "      <td>12</td>\n",
       "      <td>PA</td>\n",
       "      <td>US</td>\n",
       "      <td>pittsburgh-9e6b4e</td>\n",
       "      <td>None</td>\n",
       "      <td>-79.90496</td>\n",
       "      <td>None</td>\n",
       "      <td>None</td>\n",
       "      <td>customer_logos/gecko.jpeg</td>\n",
       "      <td>demo-company-d5b267</td>\n",
       "      <td>12</td>\n",
       "      <td>Gecko Robotics (Legacy)</td>\n",
       "      <td>None</td>\n",
       "    </tr>\n",
       "  </tbody>\n",
       "</table>\n",
       "</div>"
      ],
      "text/plain": [
       "   Component.tube_diameter Component.material_type Component.contents  \\\n",
       "0                      0.0            carbon_steel               None   \n",
       "1                      0.0            carbon_steel               None   \n",
       "2                      0.0            carbon_steel               None   \n",
       "3                      0.0            carbon_steel               None   \n",
       "4                      1.0            carbon_steel               None   \n",
       "\n",
       "   Component.tube_spacing  Component.wall_nominal_thickness  \\\n",
       "0                     0.0                             0.325   \n",
       "1                     0.0                             0.325   \n",
       "2                     0.0                             0.325   \n",
       "3                     0.0                             0.375   \n",
       "4                     2.0                               NaN   \n",
       "\n",
       "  Component.temperature  Component.sea_level  \\\n",
       "0                                        NaN   \n",
       "1                                        NaN   \n",
       "2                                        NaN   \n",
       "3                                        NaN   \n",
       "4                                        NaN   \n",
       "\n",
       "   Component.wall_warning_thickness  Component.difficulty_factor_percentage  \\\n",
       "0                              0.15                                       0   \n",
       "1                              0.15                                       0   \n",
       "2                              0.15                                       0   \n",
       "3                              0.15                                       0   \n",
       "4                               NaN                                       0   \n",
       "\n",
       "   Component.id  Component.shell_diameter  \\\n",
       "0            18                       NaN   \n",
       "1            19                       NaN   \n",
       "2            20                       NaN   \n",
       "3            21                       NaN   \n",
       "4            32                       NaN   \n",
       "\n",
       "   Component.coating_nominal_thickness Component.salesforce_id Component.name  \\\n",
       "0                                  0.0                            Outer Shell   \n",
       "1                                  0.0                            Outer Shell   \n",
       "2                                  0.0                            Outer Shell   \n",
       "3                                  0.0                            Outer Shell   \n",
       "4                                  NaN                                  Shell   \n",
       "\n",
       "   Component.slope_angle  Component.coating_warning_thickness  \\\n",
       "0                    NaN                                  0.0   \n",
       "1                    NaN                                  0.0   \n",
       "2                    NaN                                  0.0   \n",
       "3                    NaN                                  0.0   \n",
       "4                    NaN                                  NaN   \n",
       "\n",
       "                               Component.description Component.lat  \\\n",
       "0  The zero point is 0.5 feet from the left weld ...          None   \n",
       "1  The zero point is 5.33 feet from the right wel...          None   \n",
       "2  The zero point is 0.75 feet from left weld of ...          None   \n",
       "3  The zero point is 7.75 feet from the left weld...          None   \n",
       "4                                                             None   \n",
       "\n",
       "   Component.component_type      Component.slug Component.lng  \\\n",
       "0                         2  outer-shell-a27f0e          None   \n",
       "1                         2  outer-shell-dfd932          None   \n",
       "2                         2  outer-shell-b5407c          None   \n",
       "3                         2  outer-shell-dc6fbd          None   \n",
       "4                         2        shell-48ca11          None   \n",
       "\n",
       "   Component.sales_asset_type_id  Component.unit_id  Component.alloy_id  \\\n",
       "0                            NaN                 18                 NaN   \n",
       "1                            NaN                 19                 NaN   \n",
       "2                            NaN                 20                 NaN   \n",
       "3                            NaN                 21                 NaN   \n",
       "4                            NaN                 31                 NaN   \n",
       "\n",
       "                  Unit.name  Unit.location_id           Unit.slug  \\\n",
       "0               Coal Silo 1                10  coal-silo-1-5ccad9   \n",
       "1               Coal Silo 2                10  coal-silo-2-75fac9   \n",
       "2               Coal Silo 3                10  coal-silo-3-d2f1f1   \n",
       "3               Coal Silo 4                10  coal-silo-4-fe90e8   \n",
       "4  Coal Bunker - Ultrasound                12  coal-bunker-c04a12   \n",
       "\n",
       "   Unit.capacity Unit.inspection_code  Unit.latitude Unit.retirement_date  \\\n",
       "0              0                                 0.0                 None   \n",
       "1              0                                 0.0                 None   \n",
       "2              0                                 0.0                 None   \n",
       "3              0                                 0.0                 None   \n",
       "4              0                                 0.0                 None   \n",
       "\n",
       "   Unit.total_tubes Unit.description  Unit.id Unit.built_date Unit.fuel_type  \\\n",
       "0                 0                        18            None                  \n",
       "1                 0                        19            None                  \n",
       "2                 0                        20            None                  \n",
       "3                 0                        21            None                  \n",
       "4                 0                        31            None                  \n",
       "\n",
       "   Unit.inspection_interval_years  Unit.longitude  \\\n",
       "0                               0             0.0   \n",
       "1                               0             0.0   \n",
       "2                               0             0.0   \n",
       "3                               0             0.0   \n",
       "4                               0             0.0   \n",
       "\n",
       "   Unit.sales_asset_category_id Unit.salesforce_id Location.name  \\\n",
       "0                           NaN                      Warrior Run   \n",
       "1                           NaN                      Warrior Run   \n",
       "2                           NaN                      Warrior Run   \n",
       "3                           NaN                      Warrior Run   \n",
       "4                           NaN                       Pittsburgh   \n",
       "\n",
       "  Location.address_line_2 Location.postal_code  Location.customer_id  \\\n",
       "0                                        21502                    10   \n",
       "1                                        21502                    10   \n",
       "2                                        21502                    10   \n",
       "3                                        21502                    10   \n",
       "4                                        15208                    12   \n",
       "\n",
       "  Location.city Location.slack_channel  Location.lat Location.salesforce_id  \\\n",
       "0    Cumberland    insp_aes_warriorrun      39.59586     0011U00000EHUeuQAH   \n",
       "1    Cumberland    insp_aes_warriorrun      39.59586     0011U00000EHUeuQAH   \n",
       "2    Cumberland    insp_aes_warriorrun      39.59586     0011U00000EHUeuQAH   \n",
       "3    Cumberland    insp_aes_warriorrun      39.59586     0011U00000EHUeuQAH   \n",
       "4    Pittsburgh                             40.45465                   None   \n",
       "\n",
       "    Location.address_line_1  Location.id Location.region Location.country  \\\n",
       "0  11600 Mexico Farms Rd SE           10              MD               US   \n",
       "1  11600 Mexico Farms Rd SE           10              MD               US   \n",
       "2  11600 Mexico Farms Rd SE           10              MD               US   \n",
       "3  11600 Mexico Farms Rd SE           10              MD               US   \n",
       "4             6901 Lynn Way           12              PA               US   \n",
       "\n",
       "        Location.slug Location.industry_type  Location.lng  \\\n",
       "0  warrior-run-134143                  power     -78.74616   \n",
       "1  warrior-run-134143                  power     -78.74616   \n",
       "2  warrior-run-134143                  power     -78.74616   \n",
       "3  warrior-run-134143                  power     -78.74616   \n",
       "4   pittsburgh-9e6b4e                   None     -79.90496   \n",
       "\n",
       "       Location.drive_folder_id Customer.salesforce_id  \\\n",
       "0  0B61E5R0McQ-1dzEwQ0JsMUdtVGs     0011U00000EHUZhQAP   \n",
       "1  0B61E5R0McQ-1dzEwQ0JsMUdtVGs     0011U00000EHUZhQAP   \n",
       "2  0B61E5R0McQ-1dzEwQ0JsMUdtVGs     0011U00000EHUZhQAP   \n",
       "3  0B61E5R0McQ-1dzEwQ0JsMUdtVGs     0011U00000EHUZhQAP   \n",
       "4                          None                   None   \n",
       "\n",
       "               Customer.logo        Customer.slug  Customer.id  \\\n",
       "0     customer_logos/aes.png           aes-ea4f30           10   \n",
       "1     customer_logos/aes.png           aes-ea4f30           10   \n",
       "2     customer_logos/aes.png           aes-ea4f30           10   \n",
       "3     customer_logos/aes.png           aes-ea4f30           10   \n",
       "4  customer_logos/gecko.jpeg  demo-company-d5b267           12   \n",
       "\n",
       "             Customer.name      Customer.drive_folder_id  \n",
       "0                      AES  0B61E5R0McQ-1UmhZTThYRzJWNVU  \n",
       "1                      AES  0B61E5R0McQ-1UmhZTThYRzJWNVU  \n",
       "2                      AES  0B61E5R0McQ-1UmhZTThYRzJWNVU  \n",
       "3                      AES  0B61E5R0McQ-1UmhZTThYRzJWNVU  \n",
       "4  Gecko Robotics (Legacy)                          None  "
      ]
     },
     "execution_count": 18,
     "metadata": {},
     "output_type": "execute_result"
    }
   ],
   "source": [
    "tank_shells_df.head()"
   ]
  },
  {
   "cell_type": "code",
   "execution_count": 10,
   "id": "124e0266-2986-4875-a79f-c4d89f4f6e80",
   "metadata": {},
   "outputs": [
    {
     "data": {
      "text/plain": [
       "Index(['Component.tube_diameter', 'Component.material_type',\n",
       "       'Component.contents', 'Component.tube_spacing',\n",
       "       'Component.wall_nominal_thickness', 'Component.temperature',\n",
       "       'Component.sea_level', 'Component.wall_warning_thickness',\n",
       "       'Component.difficulty_factor_percentage', 'Component.id',\n",
       "       'Component.shell_diameter', 'Component.coating_nominal_thickness',\n",
       "       'Component.salesforce_id', 'Component.name', 'Component.slope_angle',\n",
       "       'Component.coating_warning_thickness', 'Component.description',\n",
       "       'Component.lat', 'Component.component_type', 'Component.slug',\n",
       "       'Component.lng', 'Component.sales_asset_type_id', 'Component.unit_id',\n",
       "       'Component.alloy_id', 'Unit.name', 'Unit.location_id', 'Unit.slug',\n",
       "       'Unit.capacity', 'Unit.inspection_code', 'Unit.latitude',\n",
       "       'Unit.retirement_date', 'Unit.total_tubes', 'Unit.description',\n",
       "       'Unit.id', 'Unit.built_date', 'Unit.fuel_type',\n",
       "       'Unit.inspection_interval_years', 'Unit.longitude',\n",
       "       'Unit.sales_asset_category_id', 'Unit.salesforce_id', 'Location.name',\n",
       "       'Location.address_line_2', 'Location.postal_code',\n",
       "       'Location.customer_id', 'Location.city', 'Location.slack_channel',\n",
       "       'Location.lat', 'Location.salesforce_id', 'Location.address_line_1',\n",
       "       'Location.id', 'Location.region', 'Location.country', 'Location.slug',\n",
       "       'Location.industry_type', 'Location.lng', 'Location.drive_folder_id',\n",
       "       'Customer.salesforce_id', 'Customer.logo', 'Customer.slug',\n",
       "       'Customer.id', 'Customer.name', 'Customer.drive_folder_id'],\n",
       "      dtype='object')"
      ]
     },
     "execution_count": 10,
     "metadata": {},
     "output_type": "execute_result"
    }
   ],
   "source": [
    "tank_shells_df.columns"
   ]
  },
  {
   "cell_type": "code",
   "execution_count": 9,
   "id": "49de5755-ec77-431b-b7bc-3eea1e47740a",
   "metadata": {},
   "outputs": [
    {
     "data": {
      "text/plain": [
       "(1648, 62)"
      ]
     },
     "execution_count": 9,
     "metadata": {},
     "output_type": "execute_result"
    }
   ],
   "source": [
    "tank_shells_df.shape"
   ]
  },
  {
   "cell_type": "code",
   "execution_count": 32,
   "id": "8bd5baaa-a33e-4ac8-8ea1-e8b15efa0d28",
   "metadata": {},
   "outputs": [],
   "source": [
    "def is_liquor(string):\n",
    "    truth = False\n",
    "    if 'liq' in string.lower():\n",
    "        truth = True\n",
    "        \n",
    "    return truth"
   ]
  },
  {
   "cell_type": "code",
   "execution_count": 33,
   "id": "29e032c0-97f4-4144-a592-73c97a7bdba8",
   "metadata": {},
   "outputs": [
    {
     "data": {
      "text/plain": [
       "True"
      ]
     },
     "execution_count": 33,
     "metadata": {},
     "output_type": "execute_result"
    }
   ],
   "source": [
    "test = 'liquor'\n",
    "\n",
    "is_liquor(test)"
   ]
  },
  {
   "cell_type": "code",
   "execution_count": 34,
   "id": "4ed41494-1475-49be-907e-4566b7854942",
   "metadata": {},
   "outputs": [
    {
     "data": {
      "text/plain": [
       "(14, 62)"
      ]
     },
     "execution_count": 34,
     "metadata": {},
     "output_type": "execute_result"
    }
   ],
   "source": [
    "tank_shells_df[tank_shells_df['Unit.name'].apply(lambda x: is_liquor(x)) | tank_shells_df['Unit.slug'].apply(lambda x: is_liquor(x))].shape"
   ]
  },
  {
   "cell_type": "code",
   "execution_count": 35,
   "id": "b9c99eee-8257-493d-b85b-8da748297136",
   "metadata": {},
   "outputs": [],
   "source": [
    "liq_tanks_df = tank_shells_df[tank_shells_df['Unit.name'].apply(lambda x: is_liquor(x)) | tank_shells_df['Unit.slug'].apply(lambda x: is_liquor(x))]"
   ]
  },
  {
   "cell_type": "code",
   "execution_count": 36,
   "id": "d78a1640-3279-4bb8-8e4c-864f0e0bed05",
   "metadata": {},
   "outputs": [
    {
     "data": {
      "text/html": [
       "<div>\n",
       "<style scoped>\n",
       "    .dataframe tbody tr th:only-of-type {\n",
       "        vertical-align: middle;\n",
       "    }\n",
       "\n",
       "    .dataframe tbody tr th {\n",
       "        vertical-align: top;\n",
       "    }\n",
       "\n",
       "    .dataframe thead th {\n",
       "        text-align: right;\n",
       "    }\n",
       "</style>\n",
       "<table border=\"1\" class=\"dataframe\">\n",
       "  <thead>\n",
       "    <tr style=\"text-align: right;\">\n",
       "      <th></th>\n",
       "      <th>Component.tube_diameter</th>\n",
       "      <th>Component.material_type</th>\n",
       "      <th>Component.contents</th>\n",
       "      <th>Component.tube_spacing</th>\n",
       "      <th>Component.wall_nominal_thickness</th>\n",
       "      <th>Component.temperature</th>\n",
       "      <th>Component.sea_level</th>\n",
       "      <th>Component.wall_warning_thickness</th>\n",
       "      <th>Component.difficulty_factor_percentage</th>\n",
       "      <th>Component.id</th>\n",
       "      <th>Component.shell_diameter</th>\n",
       "      <th>Component.coating_nominal_thickness</th>\n",
       "      <th>Component.salesforce_id</th>\n",
       "      <th>Component.name</th>\n",
       "      <th>Component.slope_angle</th>\n",
       "      <th>Component.coating_warning_thickness</th>\n",
       "      <th>Component.description</th>\n",
       "      <th>Component.lat</th>\n",
       "      <th>Component.component_type</th>\n",
       "      <th>Component.slug</th>\n",
       "      <th>Component.lng</th>\n",
       "      <th>Component.sales_asset_type_id</th>\n",
       "      <th>Component.unit_id</th>\n",
       "      <th>Component.alloy_id</th>\n",
       "      <th>Unit.name</th>\n",
       "      <th>Unit.location_id</th>\n",
       "      <th>Unit.slug</th>\n",
       "      <th>Unit.capacity</th>\n",
       "      <th>Unit.inspection_code</th>\n",
       "      <th>Unit.latitude</th>\n",
       "      <th>Unit.retirement_date</th>\n",
       "      <th>Unit.total_tubes</th>\n",
       "      <th>Unit.description</th>\n",
       "      <th>Unit.id</th>\n",
       "      <th>Unit.built_date</th>\n",
       "      <th>Unit.fuel_type</th>\n",
       "      <th>Unit.inspection_interval_years</th>\n",
       "      <th>Unit.longitude</th>\n",
       "      <th>Unit.sales_asset_category_id</th>\n",
       "      <th>Unit.salesforce_id</th>\n",
       "      <th>Location.name</th>\n",
       "      <th>Location.address_line_2</th>\n",
       "      <th>Location.postal_code</th>\n",
       "      <th>Location.customer_id</th>\n",
       "      <th>Location.city</th>\n",
       "      <th>Location.slack_channel</th>\n",
       "      <th>Location.lat</th>\n",
       "      <th>Location.salesforce_id</th>\n",
       "      <th>Location.address_line_1</th>\n",
       "      <th>Location.id</th>\n",
       "      <th>Location.region</th>\n",
       "      <th>Location.country</th>\n",
       "      <th>Location.slug</th>\n",
       "      <th>Location.industry_type</th>\n",
       "      <th>Location.lng</th>\n",
       "      <th>Location.drive_folder_id</th>\n",
       "      <th>Customer.salesforce_id</th>\n",
       "      <th>Customer.logo</th>\n",
       "      <th>Customer.slug</th>\n",
       "      <th>Customer.id</th>\n",
       "      <th>Customer.name</th>\n",
       "      <th>Customer.drive_folder_id</th>\n",
       "    </tr>\n",
       "  </thead>\n",
       "  <tbody>\n",
       "    <tr>\n",
       "      <th>288</th>\n",
       "      <td>0.0</td>\n",
       "      <td>carbon_steel</td>\n",
       "      <td>None</td>\n",
       "      <td>0.0</td>\n",
       "      <td>0.375</td>\n",
       "      <td></td>\n",
       "      <td>NaN</td>\n",
       "      <td>0.22</td>\n",
       "      <td>0</td>\n",
       "      <td>722</td>\n",
       "      <td>8.0</td>\n",
       "      <td>0.0000</td>\n",
       "      <td></td>\n",
       "      <td>Stack Wall</td>\n",
       "      <td>NaN</td>\n",
       "      <td>0.0</td>\n",
       "      <td></td>\n",
       "      <td>None</td>\n",
       "      <td>2</td>\n",
       "      <td>tank-wall-f8e2fb</td>\n",
       "      <td>None</td>\n",
       "      <td>NaN</td>\n",
       "      <td>358</td>\n",
       "      <td>NaN</td>\n",
       "      <td>Black Liquor Stack</td>\n",
       "      <td>112</td>\n",
       "      <td>black-liquor-stack-2e7567</td>\n",
       "      <td>0</td>\n",
       "      <td></td>\n",
       "      <td>0.0</td>\n",
       "      <td>None</td>\n",
       "      <td>0</td>\n",
       "      <td></td>\n",
       "      <td>358</td>\n",
       "      <td>None</td>\n",
       "      <td></td>\n",
       "      <td>0</td>\n",
       "      <td>0.0</td>\n",
       "      <td>NaN</td>\n",
       "      <td></td>\n",
       "      <td>Nekoosa Pulp and Paper Mill</td>\n",
       "      <td></td>\n",
       "      <td>54457</td>\n",
       "      <td>79</td>\n",
       "      <td>Nekoosa</td>\n",
       "      <td>insp_domtar_nekoosa</td>\n",
       "      <td>44.313530</td>\n",
       "      <td>0011U00000TFUW8QAP</td>\n",
       "      <td>301 Point Basse Avenue</td>\n",
       "      <td>112</td>\n",
       "      <td>WI</td>\n",
       "      <td>US</td>\n",
       "      <td>nekoosa-pulp-and-paper-mill-226e84</td>\n",
       "      <td>paper</td>\n",
       "      <td>-89.895990</td>\n",
       "      <td>16K6-Z9KqfUOUfuBu7eT4KmHScsrS2pJU</td>\n",
       "      <td>0011U00000EHUWdQAP</td>\n",
       "      <td>customer_logos/domtar.png</td>\n",
       "      <td>domtar-745a5a</td>\n",
       "      <td>79</td>\n",
       "      <td>Domtar</td>\n",
       "      <td>1OFk4M3IIZyX1uNkRKADw_rSFfuBqMLNP</td>\n",
       "    </tr>\n",
       "    <tr>\n",
       "      <th>717</th>\n",
       "      <td>0.0</td>\n",
       "      <td>carbon_steel</td>\n",
       "      <td>None</td>\n",
       "      <td>0.0</td>\n",
       "      <td>0.550</td>\n",
       "      <td></td>\n",
       "      <td>NaN</td>\n",
       "      <td>0.40</td>\n",
       "      <td>0</td>\n",
       "      <td>1570</td>\n",
       "      <td>0.9</td>\n",
       "      <td>NaN</td>\n",
       "      <td></td>\n",
       "      <td>Line</td>\n",
       "      <td>NaN</td>\n",
       "      <td>NaN</td>\n",
       "      <td></td>\n",
       "      <td>None</td>\n",
       "      <td>2</td>\n",
       "      <td>line-4cfca8</td>\n",
       "      <td>None</td>\n",
       "      <td>NaN</td>\n",
       "      <td>734</td>\n",
       "      <td>NaN</td>\n",
       "      <td>White Liquor Line</td>\n",
       "      <td>101</td>\n",
       "      <td>white-liquor-line-46e33e</td>\n",
       "      <td>0</td>\n",
       "      <td></td>\n",
       "      <td>0.0</td>\n",
       "      <td>None</td>\n",
       "      <td>0</td>\n",
       "      <td></td>\n",
       "      <td>734</td>\n",
       "      <td>None</td>\n",
       "      <td></td>\n",
       "      <td>0</td>\n",
       "      <td>0.0</td>\n",
       "      <td>NaN</td>\n",
       "      <td></td>\n",
       "      <td>Brewton Mill</td>\n",
       "      <td></td>\n",
       "      <td>36427</td>\n",
       "      <td>8</td>\n",
       "      <td>Brewton</td>\n",
       "      <td>insp_gp_brewton</td>\n",
       "      <td>31.079360</td>\n",
       "      <td>0011U00000n94wrQAA</td>\n",
       "      <td>32224 Highway 31</td>\n",
       "      <td>101</td>\n",
       "      <td>AL</td>\n",
       "      <td>US</td>\n",
       "      <td>brewton-mill-fb51be</td>\n",
       "      <td>paper</td>\n",
       "      <td>-87.115270</td>\n",
       "      <td>1f74rBSA-STUvhgbgGwLAVrVIRPGPcXwQ</td>\n",
       "      <td>0011U00000EHUN6QAP</td>\n",
       "      <td>customer_logos/georgia-pacific-300x225.jpg</td>\n",
       "      <td>georgia-pacific-a1ec53</td>\n",
       "      <td>8</td>\n",
       "      <td>Georgia Pacific</td>\n",
       "      <td>1mHDa3E68Ydr1gNpfmSttRQTolkXQkgaM</td>\n",
       "    </tr>\n",
       "    <tr>\n",
       "      <th>1254</th>\n",
       "      <td>0.0</td>\n",
       "      <td>carbon_steel</td>\n",
       "      <td></td>\n",
       "      <td>0.0</td>\n",
       "      <td>0.000</td>\n",
       "      <td>ambient</td>\n",
       "      <td>NaN</td>\n",
       "      <td>0.00</td>\n",
       "      <td>0</td>\n",
       "      <td>3061</td>\n",
       "      <td>35.0</td>\n",
       "      <td>0.3125</td>\n",
       "      <td>a0M1U00000Jew3LUAR</td>\n",
       "      <td>Tank Shell</td>\n",
       "      <td>NaN</td>\n",
       "      <td>NaN</td>\n",
       "      <td></td>\n",
       "      <td>None</td>\n",
       "      <td>2</td>\n",
       "      <td>tank-shell-5fe88d</td>\n",
       "      <td>None</td>\n",
       "      <td>9.0</td>\n",
       "      <td>1518</td>\n",
       "      <td>1.0</td>\n",
       "      <td>Weak Black Liquor Storage Tank</td>\n",
       "      <td>140</td>\n",
       "      <td>weak-black-liquor-storage-tank-00747b</td>\n",
       "      <td>0</td>\n",
       "      <td>653</td>\n",
       "      <td>0.0</td>\n",
       "      <td>None</td>\n",
       "      <td>0</td>\n",
       "      <td></td>\n",
       "      <td>1518</td>\n",
       "      <td>None</td>\n",
       "      <td></td>\n",
       "      <td>0</td>\n",
       "      <td>0.0</td>\n",
       "      <td>5.0</td>\n",
       "      <td>02i1U000004RshDQAS</td>\n",
       "      <td>Ashdown</td>\n",
       "      <td></td>\n",
       "      <td>71822</td>\n",
       "      <td>79</td>\n",
       "      <td>Ashdown</td>\n",
       "      <td>insp_domtar_ashdown</td>\n",
       "      <td>33.642370</td>\n",
       "      <td>0011U00000EHUZOQA5</td>\n",
       "      <td>285 US-71</td>\n",
       "      <td>140</td>\n",
       "      <td>AR</td>\n",
       "      <td>US</td>\n",
       "      <td>ashdown-a02e36</td>\n",
       "      <td>paper</td>\n",
       "      <td>-94.100980</td>\n",
       "      <td>1nsCEtWfTBzmBbDJ11sPSGus5GU_cvyxh</td>\n",
       "      <td>0011U00000EHUWdQAP</td>\n",
       "      <td>customer_logos/domtar.png</td>\n",
       "      <td>domtar-745a5a</td>\n",
       "      <td>79</td>\n",
       "      <td>Domtar</td>\n",
       "      <td>1OFk4M3IIZyX1uNkRKADw_rSFfuBqMLNP</td>\n",
       "    </tr>\n",
       "    <tr>\n",
       "      <th>1255</th>\n",
       "      <td>0.0</td>\n",
       "      <td>carbon_steel</td>\n",
       "      <td></td>\n",
       "      <td>0.0</td>\n",
       "      <td>0.250</td>\n",
       "      <td>ambient</td>\n",
       "      <td>NaN</td>\n",
       "      <td>0.20</td>\n",
       "      <td>0</td>\n",
       "      <td>3063</td>\n",
       "      <td>10.0</td>\n",
       "      <td>NaN</td>\n",
       "      <td>None</td>\n",
       "      <td>Tank Shell</td>\n",
       "      <td>NaN</td>\n",
       "      <td>NaN</td>\n",
       "      <td></td>\n",
       "      <td>None</td>\n",
       "      <td>2</td>\n",
       "      <td>tank-shell-df38c4</td>\n",
       "      <td>None</td>\n",
       "      <td>NaN</td>\n",
       "      <td>1520</td>\n",
       "      <td>NaN</td>\n",
       "      <td>Black Liquor Flash Tank</td>\n",
       "      <td>437</td>\n",
       "      <td>black-liquor-flash-tank-8398a2</td>\n",
       "      <td>0</td>\n",
       "      <td>None</td>\n",
       "      <td>0.0</td>\n",
       "      <td>None</td>\n",
       "      <td>0</td>\n",
       "      <td></td>\n",
       "      <td>1520</td>\n",
       "      <td>None</td>\n",
       "      <td>None</td>\n",
       "      <td>0</td>\n",
       "      <td>0.0</td>\n",
       "      <td>NaN</td>\n",
       "      <td>None</td>\n",
       "      <td>Monticello Kraft Pulp &amp; Linerboard Mill</td>\n",
       "      <td></td>\n",
       "      <td>39654-7601</td>\n",
       "      <td>8</td>\n",
       "      <td>Monticello</td>\n",
       "      <td>insp_gp_monticello_cs</td>\n",
       "      <td>31.623700</td>\n",
       "      <td>0011U00000PTKntQAH</td>\n",
       "      <td>604 NA Sandifer Road</td>\n",
       "      <td>437</td>\n",
       "      <td></td>\n",
       "      <td>US</td>\n",
       "      <td>georgia-pacific-monticello-kraft-pulp-liner-d1...</td>\n",
       "      <td>paper</td>\n",
       "      <td>-90.082740</td>\n",
       "      <td>12ZrTGOxiFC-sVU2VXwTVadxGLFT6LRkI</td>\n",
       "      <td>0011U00000EHUN6QAP</td>\n",
       "      <td>customer_logos/georgia-pacific-300x225.jpg</td>\n",
       "      <td>georgia-pacific-a1ec53</td>\n",
       "      <td>8</td>\n",
       "      <td>Georgia Pacific</td>\n",
       "      <td>1mHDa3E68Ydr1gNpfmSttRQTolkXQkgaM</td>\n",
       "    </tr>\n",
       "    <tr>\n",
       "      <th>1256</th>\n",
       "      <td>0.0</td>\n",
       "      <td>carbon_steel</td>\n",
       "      <td></td>\n",
       "      <td>0.0</td>\n",
       "      <td>0.250</td>\n",
       "      <td>ambient</td>\n",
       "      <td>NaN</td>\n",
       "      <td>0.20</td>\n",
       "      <td>0</td>\n",
       "      <td>3064</td>\n",
       "      <td>10.0</td>\n",
       "      <td>NaN</td>\n",
       "      <td>None</td>\n",
       "      <td>Tank Shell</td>\n",
       "      <td>NaN</td>\n",
       "      <td>NaN</td>\n",
       "      <td></td>\n",
       "      <td>None</td>\n",
       "      <td>2</td>\n",
       "      <td>tank-shell-154beb</td>\n",
       "      <td>None</td>\n",
       "      <td>NaN</td>\n",
       "      <td>1520</td>\n",
       "      <td>NaN</td>\n",
       "      <td>Black Liquor Flash Tank</td>\n",
       "      <td>437</td>\n",
       "      <td>black-liquor-flash-tank-8398a2</td>\n",
       "      <td>0</td>\n",
       "      <td>None</td>\n",
       "      <td>0.0</td>\n",
       "      <td>None</td>\n",
       "      <td>0</td>\n",
       "      <td></td>\n",
       "      <td>1520</td>\n",
       "      <td>None</td>\n",
       "      <td>None</td>\n",
       "      <td>0</td>\n",
       "      <td>0.0</td>\n",
       "      <td>NaN</td>\n",
       "      <td>None</td>\n",
       "      <td>Monticello Kraft Pulp &amp; Linerboard Mill</td>\n",
       "      <td></td>\n",
       "      <td>39654-7601</td>\n",
       "      <td>8</td>\n",
       "      <td>Monticello</td>\n",
       "      <td>insp_gp_monticello_cs</td>\n",
       "      <td>31.623700</td>\n",
       "      <td>0011U00000PTKntQAH</td>\n",
       "      <td>604 NA Sandifer Road</td>\n",
       "      <td>437</td>\n",
       "      <td></td>\n",
       "      <td>US</td>\n",
       "      <td>georgia-pacific-monticello-kraft-pulp-liner-d1...</td>\n",
       "      <td>paper</td>\n",
       "      <td>-90.082740</td>\n",
       "      <td>12ZrTGOxiFC-sVU2VXwTVadxGLFT6LRkI</td>\n",
       "      <td>0011U00000EHUN6QAP</td>\n",
       "      <td>customer_logos/georgia-pacific-300x225.jpg</td>\n",
       "      <td>georgia-pacific-a1ec53</td>\n",
       "      <td>8</td>\n",
       "      <td>Georgia Pacific</td>\n",
       "      <td>1mHDa3E68Ydr1gNpfmSttRQTolkXQkgaM</td>\n",
       "    </tr>\n",
       "    <tr>\n",
       "      <th>1257</th>\n",
       "      <td>0.0</td>\n",
       "      <td>carbon_steel</td>\n",
       "      <td></td>\n",
       "      <td>0.0</td>\n",
       "      <td>0.250</td>\n",
       "      <td>ambient</td>\n",
       "      <td>NaN</td>\n",
       "      <td>0.20</td>\n",
       "      <td>0</td>\n",
       "      <td>3065</td>\n",
       "      <td>30.0</td>\n",
       "      <td>NaN</td>\n",
       "      <td>None</td>\n",
       "      <td>Tank Shell</td>\n",
       "      <td>NaN</td>\n",
       "      <td>NaN</td>\n",
       "      <td></td>\n",
       "      <td>None</td>\n",
       "      <td>2</td>\n",
       "      <td>tank-shell-0384de</td>\n",
       "      <td>None</td>\n",
       "      <td>NaN</td>\n",
       "      <td>1520</td>\n",
       "      <td>NaN</td>\n",
       "      <td>Black Liquor Flash Tank</td>\n",
       "      <td>437</td>\n",
       "      <td>black-liquor-flash-tank-8398a2</td>\n",
       "      <td>0</td>\n",
       "      <td>None</td>\n",
       "      <td>0.0</td>\n",
       "      <td>None</td>\n",
       "      <td>0</td>\n",
       "      <td></td>\n",
       "      <td>1520</td>\n",
       "      <td>None</td>\n",
       "      <td>None</td>\n",
       "      <td>0</td>\n",
       "      <td>0.0</td>\n",
       "      <td>NaN</td>\n",
       "      <td>None</td>\n",
       "      <td>Monticello Kraft Pulp &amp; Linerboard Mill</td>\n",
       "      <td></td>\n",
       "      <td>39654-7601</td>\n",
       "      <td>8</td>\n",
       "      <td>Monticello</td>\n",
       "      <td>insp_gp_monticello_cs</td>\n",
       "      <td>31.623700</td>\n",
       "      <td>0011U00000PTKntQAH</td>\n",
       "      <td>604 NA Sandifer Road</td>\n",
       "      <td>437</td>\n",
       "      <td></td>\n",
       "      <td>US</td>\n",
       "      <td>georgia-pacific-monticello-kraft-pulp-liner-d1...</td>\n",
       "      <td>paper</td>\n",
       "      <td>-90.082740</td>\n",
       "      <td>12ZrTGOxiFC-sVU2VXwTVadxGLFT6LRkI</td>\n",
       "      <td>0011U00000EHUN6QAP</td>\n",
       "      <td>customer_logos/georgia-pacific-300x225.jpg</td>\n",
       "      <td>georgia-pacific-a1ec53</td>\n",
       "      <td>8</td>\n",
       "      <td>Georgia Pacific</td>\n",
       "      <td>1mHDa3E68Ydr1gNpfmSttRQTolkXQkgaM</td>\n",
       "    </tr>\n",
       "    <tr>\n",
       "      <th>1317</th>\n",
       "      <td>0.0</td>\n",
       "      <td>carbon_steel</td>\n",
       "      <td></td>\n",
       "      <td>0.0</td>\n",
       "      <td>0.500</td>\n",
       "      <td>ambient</td>\n",
       "      <td>NaN</td>\n",
       "      <td>0.10</td>\n",
       "      <td>0</td>\n",
       "      <td>3246</td>\n",
       "      <td>45.0</td>\n",
       "      <td>NaN</td>\n",
       "      <td>None</td>\n",
       "      <td>Tank Shell</td>\n",
       "      <td>NaN</td>\n",
       "      <td>NaN</td>\n",
       "      <td></td>\n",
       "      <td>None</td>\n",
       "      <td>2</td>\n",
       "      <td>tank-shell-a93e15</td>\n",
       "      <td>None</td>\n",
       "      <td>NaN</td>\n",
       "      <td>1626</td>\n",
       "      <td>NaN</td>\n",
       "      <td>#4 Weak Black Liquor Tank</td>\n",
       "      <td>101</td>\n",
       "      <td>4-weak-black-liquor-tank-706057</td>\n",
       "      <td>0</td>\n",
       "      <td>None</td>\n",
       "      <td>0.0</td>\n",
       "      <td>None</td>\n",
       "      <td>0</td>\n",
       "      <td></td>\n",
       "      <td>1626</td>\n",
       "      <td>None</td>\n",
       "      <td>None</td>\n",
       "      <td>0</td>\n",
       "      <td>0.0</td>\n",
       "      <td>NaN</td>\n",
       "      <td>None</td>\n",
       "      <td>Brewton Mill</td>\n",
       "      <td></td>\n",
       "      <td>36427</td>\n",
       "      <td>8</td>\n",
       "      <td>Brewton</td>\n",
       "      <td>insp_gp_brewton</td>\n",
       "      <td>31.079360</td>\n",
       "      <td>0011U00000n94wrQAA</td>\n",
       "      <td>32224 Highway 31</td>\n",
       "      <td>101</td>\n",
       "      <td>AL</td>\n",
       "      <td>US</td>\n",
       "      <td>brewton-mill-fb51be</td>\n",
       "      <td>paper</td>\n",
       "      <td>-87.115270</td>\n",
       "      <td>1f74rBSA-STUvhgbgGwLAVrVIRPGPcXwQ</td>\n",
       "      <td>0011U00000EHUN6QAP</td>\n",
       "      <td>customer_logos/georgia-pacific-300x225.jpg</td>\n",
       "      <td>georgia-pacific-a1ec53</td>\n",
       "      <td>8</td>\n",
       "      <td>Georgia Pacific</td>\n",
       "      <td>1mHDa3E68Ydr1gNpfmSttRQTolkXQkgaM</td>\n",
       "    </tr>\n",
       "    <tr>\n",
       "      <th>1323</th>\n",
       "      <td>0.0</td>\n",
       "      <td>carbon_steel</td>\n",
       "      <td></td>\n",
       "      <td>0.0</td>\n",
       "      <td>0.250</td>\n",
       "      <td>ambient</td>\n",
       "      <td>NaN</td>\n",
       "      <td>0.10</td>\n",
       "      <td>0</td>\n",
       "      <td>3283</td>\n",
       "      <td>133.0</td>\n",
       "      <td>0.0000</td>\n",
       "      <td>a0M1U00000QqfrIUAR</td>\n",
       "      <td>Tank Shell</td>\n",
       "      <td>NaN</td>\n",
       "      <td>NaN</td>\n",
       "      <td></td>\n",
       "      <td>None</td>\n",
       "      <td>2</td>\n",
       "      <td>tank-shell-43b868</td>\n",
       "      <td>None</td>\n",
       "      <td>9.0</td>\n",
       "      <td>1642</td>\n",
       "      <td>1.0</td>\n",
       "      <td>TNK-0202 #3 White Liquor</td>\n",
       "      <td>453</td>\n",
       "      <td>tnk-0202-3-white-liquor-556610</td>\n",
       "      <td>0</td>\n",
       "      <td>653</td>\n",
       "      <td>0.0</td>\n",
       "      <td>None</td>\n",
       "      <td>0</td>\n",
       "      <td></td>\n",
       "      <td>1642</td>\n",
       "      <td>None</td>\n",
       "      <td>None</td>\n",
       "      <td>0</td>\n",
       "      <td>0.0</td>\n",
       "      <td>5.0</td>\n",
       "      <td>02i1U0000028X2iQAE</td>\n",
       "      <td>Evergreen - Pine Bluff Pulp and Paper Mill</td>\n",
       "      <td></td>\n",
       "      <td>71601</td>\n",
       "      <td>277</td>\n",
       "      <td>Pine Bluff</td>\n",
       "      <td>insp_evergreen_pine_bluff</td>\n",
       "      <td>34.219200</td>\n",
       "      <td>0011U00000EHUZWQA5</td>\n",
       "      <td>5201 Fairfiled Road Suite 010</td>\n",
       "      <td>453</td>\n",
       "      <td></td>\n",
       "      <td>US</td>\n",
       "      <td>evergreen-pine-bluff-pulp-and-paper-mill-a56b46</td>\n",
       "      <td>paper</td>\n",
       "      <td>-91.909900</td>\n",
       "      <td>16e8_3uTJtgnW97m4eVre07Cn4i4WwBLA</td>\n",
       "      <td>0011U00000cmP1xQAE</td>\n",
       "      <td>customer_logos/Evergreen_Packaging_Logo.jpg</td>\n",
       "      <td>evergreen-packaging-8b2b7a</td>\n",
       "      <td>277</td>\n",
       "      <td>Evergreen Packaging</td>\n",
       "      <td>1s60dOVAS2O6AlgW3UBbivAncS6Y5UDw5</td>\n",
       "    </tr>\n",
       "    <tr>\n",
       "      <th>1324</th>\n",
       "      <td>0.0</td>\n",
       "      <td>carbon_steel</td>\n",
       "      <td></td>\n",
       "      <td>0.0</td>\n",
       "      <td>0.250</td>\n",
       "      <td>ambient</td>\n",
       "      <td>NaN</td>\n",
       "      <td>0.10</td>\n",
       "      <td>0</td>\n",
       "      <td>3284</td>\n",
       "      <td>133.0</td>\n",
       "      <td>0.0000</td>\n",
       "      <td>a0M1U00000QqfrNUAR</td>\n",
       "      <td>Fill Line</td>\n",
       "      <td>NaN</td>\n",
       "      <td>NaN</td>\n",
       "      <td></td>\n",
       "      <td>None</td>\n",
       "      <td>2</td>\n",
       "      <td>fill-line-848231</td>\n",
       "      <td>None</td>\n",
       "      <td>10.0</td>\n",
       "      <td>1642</td>\n",
       "      <td>1.0</td>\n",
       "      <td>TNK-0202 #3 White Liquor</td>\n",
       "      <td>453</td>\n",
       "      <td>tnk-0202-3-white-liquor-556610</td>\n",
       "      <td>0</td>\n",
       "      <td>653</td>\n",
       "      <td>0.0</td>\n",
       "      <td>None</td>\n",
       "      <td>0</td>\n",
       "      <td></td>\n",
       "      <td>1642</td>\n",
       "      <td>None</td>\n",
       "      <td>None</td>\n",
       "      <td>0</td>\n",
       "      <td>0.0</td>\n",
       "      <td>5.0</td>\n",
       "      <td>02i1U0000028X2iQAE</td>\n",
       "      <td>Evergreen - Pine Bluff Pulp and Paper Mill</td>\n",
       "      <td></td>\n",
       "      <td>71601</td>\n",
       "      <td>277</td>\n",
       "      <td>Pine Bluff</td>\n",
       "      <td>insp_evergreen_pine_bluff</td>\n",
       "      <td>34.219200</td>\n",
       "      <td>0011U00000EHUZWQA5</td>\n",
       "      <td>5201 Fairfiled Road Suite 010</td>\n",
       "      <td>453</td>\n",
       "      <td></td>\n",
       "      <td>US</td>\n",
       "      <td>evergreen-pine-bluff-pulp-and-paper-mill-a56b46</td>\n",
       "      <td>paper</td>\n",
       "      <td>-91.909900</td>\n",
       "      <td>16e8_3uTJtgnW97m4eVre07Cn4i4WwBLA</td>\n",
       "      <td>0011U00000cmP1xQAE</td>\n",
       "      <td>customer_logos/Evergreen_Packaging_Logo.jpg</td>\n",
       "      <td>evergreen-packaging-8b2b7a</td>\n",
       "      <td>277</td>\n",
       "      <td>Evergreen Packaging</td>\n",
       "      <td>1s60dOVAS2O6AlgW3UBbivAncS6Y5UDw5</td>\n",
       "    </tr>\n",
       "    <tr>\n",
       "      <th>1325</th>\n",
       "      <td>0.0</td>\n",
       "      <td>carbon_steel</td>\n",
       "      <td></td>\n",
       "      <td>0.0</td>\n",
       "      <td>0.250</td>\n",
       "      <td>ambient</td>\n",
       "      <td>NaN</td>\n",
       "      <td>0.20</td>\n",
       "      <td>0</td>\n",
       "      <td>3288</td>\n",
       "      <td>40.0</td>\n",
       "      <td>0.0000</td>\n",
       "      <td>None</td>\n",
       "      <td>Tank Shell</td>\n",
       "      <td>NaN</td>\n",
       "      <td>0.0</td>\n",
       "      <td></td>\n",
       "      <td>None</td>\n",
       "      <td>2</td>\n",
       "      <td>tank-shell-df9655</td>\n",
       "      <td>None</td>\n",
       "      <td>NaN</td>\n",
       "      <td>1643</td>\n",
       "      <td>NaN</td>\n",
       "      <td>Green Liquor Clarifier Tank</td>\n",
       "      <td>101</td>\n",
       "      <td>green-liquor-clarifier-tank-a5395a</td>\n",
       "      <td>0</td>\n",
       "      <td>None</td>\n",
       "      <td>0.0</td>\n",
       "      <td>None</td>\n",
       "      <td>0</td>\n",
       "      <td></td>\n",
       "      <td>1643</td>\n",
       "      <td>None</td>\n",
       "      <td>None</td>\n",
       "      <td>0</td>\n",
       "      <td>0.0</td>\n",
       "      <td>NaN</td>\n",
       "      <td>None</td>\n",
       "      <td>Brewton Mill</td>\n",
       "      <td></td>\n",
       "      <td>36427</td>\n",
       "      <td>8</td>\n",
       "      <td>Brewton</td>\n",
       "      <td>insp_gp_brewton</td>\n",
       "      <td>31.079360</td>\n",
       "      <td>0011U00000n94wrQAA</td>\n",
       "      <td>32224 Highway 31</td>\n",
       "      <td>101</td>\n",
       "      <td>AL</td>\n",
       "      <td>US</td>\n",
       "      <td>brewton-mill-fb51be</td>\n",
       "      <td>paper</td>\n",
       "      <td>-87.115270</td>\n",
       "      <td>1f74rBSA-STUvhgbgGwLAVrVIRPGPcXwQ</td>\n",
       "      <td>0011U00000EHUN6QAP</td>\n",
       "      <td>customer_logos/georgia-pacific-300x225.jpg</td>\n",
       "      <td>georgia-pacific-a1ec53</td>\n",
       "      <td>8</td>\n",
       "      <td>Georgia Pacific</td>\n",
       "      <td>1mHDa3E68Ydr1gNpfmSttRQTolkXQkgaM</td>\n",
       "    </tr>\n",
       "    <tr>\n",
       "      <th>1352</th>\n",
       "      <td>0.0</td>\n",
       "      <td>carbon_steel</td>\n",
       "      <td></td>\n",
       "      <td>0.0</td>\n",
       "      <td>0.250</td>\n",
       "      <td>ambient</td>\n",
       "      <td>NaN</td>\n",
       "      <td>0.00</td>\n",
       "      <td>0</td>\n",
       "      <td>3398</td>\n",
       "      <td>50.0</td>\n",
       "      <td>0.0000</td>\n",
       "      <td>a0M8W00000CkdfvUAB</td>\n",
       "      <td>Shell</td>\n",
       "      <td>NaN</td>\n",
       "      <td>NaN</td>\n",
       "      <td></td>\n",
       "      <td>None</td>\n",
       "      <td>2</td>\n",
       "      <td>shell-376e03</td>\n",
       "      <td>None</td>\n",
       "      <td>9.0</td>\n",
       "      <td>1686</td>\n",
       "      <td>1.0</td>\n",
       "      <td>Strong Black Liquor Tank</td>\n",
       "      <td>468</td>\n",
       "      <td>strong-black-liquor-tank-8b65f1</td>\n",
       "      <td>0</td>\n",
       "      <td></td>\n",
       "      <td>0.0</td>\n",
       "      <td>None</td>\n",
       "      <td>0</td>\n",
       "      <td></td>\n",
       "      <td>1686</td>\n",
       "      <td>None</td>\n",
       "      <td></td>\n",
       "      <td>0</td>\n",
       "      <td>0.0</td>\n",
       "      <td>5.0</td>\n",
       "      <td>02i8W000004rZZ4QAM</td>\n",
       "      <td>Verso - Escanaba Pulp and Paper Mill</td>\n",
       "      <td></td>\n",
       "      <td>49829</td>\n",
       "      <td>283</td>\n",
       "      <td>Escanaba</td>\n",
       "      <td>insp_billerud_escanaba</td>\n",
       "      <td>45.795810</td>\n",
       "      <td>0011U00000TFUJ9QAP</td>\n",
       "      <td>7100 Co Rd 426</td>\n",
       "      <td>468</td>\n",
       "      <td></td>\n",
       "      <td>US</td>\n",
       "      <td>verso-escanaba-pulp-and-paper-mill-2bc5b2</td>\n",
       "      <td>None</td>\n",
       "      <td>-87.082440</td>\n",
       "      <td>1k_d_BEdHb-ar9i4fbDY8WpG_R6uzQnwO</td>\n",
       "      <td>0011U00000EHUZFQA5</td>\n",
       "      <td>customer_logos/verso_logo.jpg</td>\n",
       "      <td>verso-corporate-27ddb8</td>\n",
       "      <td>283</td>\n",
       "      <td>Verso (Corporate)</td>\n",
       "      <td>1YLUNacDmMWrfTo2e2_NsyJdWbyqFvXA6</td>\n",
       "    </tr>\n",
       "    <tr>\n",
       "      <th>1598</th>\n",
       "      <td>0.0</td>\n",
       "      <td>carbon_steel</td>\n",
       "      <td></td>\n",
       "      <td>0.0</td>\n",
       "      <td>0.500</td>\n",
       "      <td>ambient</td>\n",
       "      <td>NaN</td>\n",
       "      <td>0.10</td>\n",
       "      <td>0</td>\n",
       "      <td>3891</td>\n",
       "      <td>60.0</td>\n",
       "      <td>NaN</td>\n",
       "      <td>None</td>\n",
       "      <td>Tank Shell</td>\n",
       "      <td>NaN</td>\n",
       "      <td>NaN</td>\n",
       "      <td></td>\n",
       "      <td>None</td>\n",
       "      <td>2</td>\n",
       "      <td>tank-shell-ebd5f3</td>\n",
       "      <td>None</td>\n",
       "      <td>NaN</td>\n",
       "      <td>1963</td>\n",
       "      <td>NaN</td>\n",
       "      <td>#2 Green Liquor Clarifier</td>\n",
       "      <td>140</td>\n",
       "      <td>2-green-liquor-clarifier-4e83da</td>\n",
       "      <td>0</td>\n",
       "      <td>None</td>\n",
       "      <td>0.0</td>\n",
       "      <td>None</td>\n",
       "      <td>0</td>\n",
       "      <td></td>\n",
       "      <td>1963</td>\n",
       "      <td>None</td>\n",
       "      <td>None</td>\n",
       "      <td>0</td>\n",
       "      <td>0.0</td>\n",
       "      <td>NaN</td>\n",
       "      <td>None</td>\n",
       "      <td>Ashdown</td>\n",
       "      <td></td>\n",
       "      <td>71822</td>\n",
       "      <td>79</td>\n",
       "      <td>Ashdown</td>\n",
       "      <td>insp_domtar_ashdown</td>\n",
       "      <td>33.642370</td>\n",
       "      <td>0011U00000EHUZOQA5</td>\n",
       "      <td>285 US-71</td>\n",
       "      <td>140</td>\n",
       "      <td>AR</td>\n",
       "      <td>US</td>\n",
       "      <td>ashdown-a02e36</td>\n",
       "      <td>paper</td>\n",
       "      <td>-94.100980</td>\n",
       "      <td>1nsCEtWfTBzmBbDJ11sPSGus5GU_cvyxh</td>\n",
       "      <td>0011U00000EHUWdQAP</td>\n",
       "      <td>customer_logos/domtar.png</td>\n",
       "      <td>domtar-745a5a</td>\n",
       "      <td>79</td>\n",
       "      <td>Domtar</td>\n",
       "      <td>1OFk4M3IIZyX1uNkRKADw_rSFfuBqMLNP</td>\n",
       "    </tr>\n",
       "    <tr>\n",
       "      <th>1602</th>\n",
       "      <td>0.0</td>\n",
       "      <td>carbon_steel</td>\n",
       "      <td></td>\n",
       "      <td>0.0</td>\n",
       "      <td>0.250</td>\n",
       "      <td>ambient</td>\n",
       "      <td>NaN</td>\n",
       "      <td>0.10</td>\n",
       "      <td>0</td>\n",
       "      <td>3907</td>\n",
       "      <td>30.0</td>\n",
       "      <td>NaN</td>\n",
       "      <td>None</td>\n",
       "      <td>Tank Shell</td>\n",
       "      <td>NaN</td>\n",
       "      <td>NaN</td>\n",
       "      <td></td>\n",
       "      <td>None</td>\n",
       "      <td>2</td>\n",
       "      <td>tank-shell-east-cd36e5</td>\n",
       "      <td>None</td>\n",
       "      <td>NaN</td>\n",
       "      <td>1974</td>\n",
       "      <td>NaN</td>\n",
       "      <td>#3 Black Liquor Storage Tank</td>\n",
       "      <td>842</td>\n",
       "      <td>black-liquor-tank-east-58a353</td>\n",
       "      <td>0</td>\n",
       "      <td>None</td>\n",
       "      <td>0.0</td>\n",
       "      <td>None</td>\n",
       "      <td>0</td>\n",
       "      <td></td>\n",
       "      <td>1974</td>\n",
       "      <td>None</td>\n",
       "      <td>None</td>\n",
       "      <td>0</td>\n",
       "      <td>0.0</td>\n",
       "      <td>NaN</td>\n",
       "      <td>None</td>\n",
       "      <td>Hodge Pulp Mill</td>\n",
       "      <td></td>\n",
       "      <td>71247</td>\n",
       "      <td>97</td>\n",
       "      <td>Hodge</td>\n",
       "      <td>insp_westrock_hodge</td>\n",
       "      <td>32.275438</td>\n",
       "      <td>0011U00000EHUb6QAH</td>\n",
       "      <td>100 Mill Street</td>\n",
       "      <td>842</td>\n",
       "      <td>LA</td>\n",
       "      <td>US</td>\n",
       "      <td>westrock-hodge-pulp-mill-b08914</td>\n",
       "      <td>None</td>\n",
       "      <td>-92.724644</td>\n",
       "      <td>16dBkBxOrDJGqWEpolceVB6BYWfpZrnrL</td>\n",
       "      <td>0011U00000EHUOSQA5</td>\n",
       "      <td>customer_logos/westrock_logo.jpg</td>\n",
       "      <td>westrock-53ce5f</td>\n",
       "      <td>97</td>\n",
       "      <td>Westrock</td>\n",
       "      <td>1qBEK97dP1u8UMUyLetJT5Mr0RGoCGtYW</td>\n",
       "    </tr>\n",
       "    <tr>\n",
       "      <th>1603</th>\n",
       "      <td>0.0</td>\n",
       "      <td>carbon_steel</td>\n",
       "      <td></td>\n",
       "      <td>0.0</td>\n",
       "      <td>0.250</td>\n",
       "      <td>ambient</td>\n",
       "      <td>NaN</td>\n",
       "      <td>0.10</td>\n",
       "      <td>0</td>\n",
       "      <td>3908</td>\n",
       "      <td>30.0</td>\n",
       "      <td>NaN</td>\n",
       "      <td>None</td>\n",
       "      <td>Tank Shell</td>\n",
       "      <td>NaN</td>\n",
       "      <td>NaN</td>\n",
       "      <td></td>\n",
       "      <td>None</td>\n",
       "      <td>2</td>\n",
       "      <td>tank-shell-west-9438cb</td>\n",
       "      <td>None</td>\n",
       "      <td>NaN</td>\n",
       "      <td>1975</td>\n",
       "      <td>NaN</td>\n",
       "      <td>#4 Black Liquor Storage Tank</td>\n",
       "      <td>842</td>\n",
       "      <td>black-liquor-tank-west-f50d1d</td>\n",
       "      <td>0</td>\n",
       "      <td>None</td>\n",
       "      <td>0.0</td>\n",
       "      <td>None</td>\n",
       "      <td>0</td>\n",
       "      <td></td>\n",
       "      <td>1975</td>\n",
       "      <td>None</td>\n",
       "      <td>None</td>\n",
       "      <td>0</td>\n",
       "      <td>0.0</td>\n",
       "      <td>NaN</td>\n",
       "      <td>None</td>\n",
       "      <td>Hodge Pulp Mill</td>\n",
       "      <td></td>\n",
       "      <td>71247</td>\n",
       "      <td>97</td>\n",
       "      <td>Hodge</td>\n",
       "      <td>insp_westrock_hodge</td>\n",
       "      <td>32.275438</td>\n",
       "      <td>0011U00000EHUb6QAH</td>\n",
       "      <td>100 Mill Street</td>\n",
       "      <td>842</td>\n",
       "      <td>LA</td>\n",
       "      <td>US</td>\n",
       "      <td>westrock-hodge-pulp-mill-b08914</td>\n",
       "      <td>None</td>\n",
       "      <td>-92.724644</td>\n",
       "      <td>16dBkBxOrDJGqWEpolceVB6BYWfpZrnrL</td>\n",
       "      <td>0011U00000EHUOSQA5</td>\n",
       "      <td>customer_logos/westrock_logo.jpg</td>\n",
       "      <td>westrock-53ce5f</td>\n",
       "      <td>97</td>\n",
       "      <td>Westrock</td>\n",
       "      <td>1qBEK97dP1u8UMUyLetJT5Mr0RGoCGtYW</td>\n",
       "    </tr>\n",
       "  </tbody>\n",
       "</table>\n",
       "</div>"
      ],
      "text/plain": [
       "      Component.tube_diameter Component.material_type Component.contents  \\\n",
       "288                       0.0            carbon_steel               None   \n",
       "717                       0.0            carbon_steel               None   \n",
       "1254                      0.0            carbon_steel                      \n",
       "1255                      0.0            carbon_steel                      \n",
       "1256                      0.0            carbon_steel                      \n",
       "1257                      0.0            carbon_steel                      \n",
       "1317                      0.0            carbon_steel                      \n",
       "1323                      0.0            carbon_steel                      \n",
       "1324                      0.0            carbon_steel                      \n",
       "1325                      0.0            carbon_steel                      \n",
       "1352                      0.0            carbon_steel                      \n",
       "1598                      0.0            carbon_steel                      \n",
       "1602                      0.0            carbon_steel                      \n",
       "1603                      0.0            carbon_steel                      \n",
       "\n",
       "      Component.tube_spacing  Component.wall_nominal_thickness  \\\n",
       "288                      0.0                             0.375   \n",
       "717                      0.0                             0.550   \n",
       "1254                     0.0                             0.000   \n",
       "1255                     0.0                             0.250   \n",
       "1256                     0.0                             0.250   \n",
       "1257                     0.0                             0.250   \n",
       "1317                     0.0                             0.500   \n",
       "1323                     0.0                             0.250   \n",
       "1324                     0.0                             0.250   \n",
       "1325                     0.0                             0.250   \n",
       "1352                     0.0                             0.250   \n",
       "1598                     0.0                             0.500   \n",
       "1602                     0.0                             0.250   \n",
       "1603                     0.0                             0.250   \n",
       "\n",
       "     Component.temperature  Component.sea_level  \\\n",
       "288                                         NaN   \n",
       "717                                         NaN   \n",
       "1254               ambient                  NaN   \n",
       "1255               ambient                  NaN   \n",
       "1256               ambient                  NaN   \n",
       "1257               ambient                  NaN   \n",
       "1317               ambient                  NaN   \n",
       "1323               ambient                  NaN   \n",
       "1324               ambient                  NaN   \n",
       "1325               ambient                  NaN   \n",
       "1352               ambient                  NaN   \n",
       "1598               ambient                  NaN   \n",
       "1602               ambient                  NaN   \n",
       "1603               ambient                  NaN   \n",
       "\n",
       "      Component.wall_warning_thickness  \\\n",
       "288                               0.22   \n",
       "717                               0.40   \n",
       "1254                              0.00   \n",
       "1255                              0.20   \n",
       "1256                              0.20   \n",
       "1257                              0.20   \n",
       "1317                              0.10   \n",
       "1323                              0.10   \n",
       "1324                              0.10   \n",
       "1325                              0.20   \n",
       "1352                              0.00   \n",
       "1598                              0.10   \n",
       "1602                              0.10   \n",
       "1603                              0.10   \n",
       "\n",
       "      Component.difficulty_factor_percentage  Component.id  \\\n",
       "288                                        0           722   \n",
       "717                                        0          1570   \n",
       "1254                                       0          3061   \n",
       "1255                                       0          3063   \n",
       "1256                                       0          3064   \n",
       "1257                                       0          3065   \n",
       "1317                                       0          3246   \n",
       "1323                                       0          3283   \n",
       "1324                                       0          3284   \n",
       "1325                                       0          3288   \n",
       "1352                                       0          3398   \n",
       "1598                                       0          3891   \n",
       "1602                                       0          3907   \n",
       "1603                                       0          3908   \n",
       "\n",
       "      Component.shell_diameter  Component.coating_nominal_thickness  \\\n",
       "288                        8.0                               0.0000   \n",
       "717                        0.9                                  NaN   \n",
       "1254                      35.0                               0.3125   \n",
       "1255                      10.0                                  NaN   \n",
       "1256                      10.0                                  NaN   \n",
       "1257                      30.0                                  NaN   \n",
       "1317                      45.0                                  NaN   \n",
       "1323                     133.0                               0.0000   \n",
       "1324                     133.0                               0.0000   \n",
       "1325                      40.0                               0.0000   \n",
       "1352                      50.0                               0.0000   \n",
       "1598                      60.0                                  NaN   \n",
       "1602                      30.0                                  NaN   \n",
       "1603                      30.0                                  NaN   \n",
       "\n",
       "     Component.salesforce_id Component.name  Component.slope_angle  \\\n",
       "288                              Stack Wall                    NaN   \n",
       "717                                    Line                    NaN   \n",
       "1254      a0M1U00000Jew3LUAR     Tank Shell                    NaN   \n",
       "1255                    None     Tank Shell                    NaN   \n",
       "1256                    None     Tank Shell                    NaN   \n",
       "1257                    None     Tank Shell                    NaN   \n",
       "1317                    None     Tank Shell                    NaN   \n",
       "1323      a0M1U00000QqfrIUAR     Tank Shell                    NaN   \n",
       "1324      a0M1U00000QqfrNUAR      Fill Line                    NaN   \n",
       "1325                    None     Tank Shell                    NaN   \n",
       "1352      a0M8W00000CkdfvUAB          Shell                    NaN   \n",
       "1598                    None     Tank Shell                    NaN   \n",
       "1602                    None     Tank Shell                    NaN   \n",
       "1603                    None     Tank Shell                    NaN   \n",
       "\n",
       "      Component.coating_warning_thickness Component.description Component.lat  \\\n",
       "288                                   0.0                                None   \n",
       "717                                   NaN                                None   \n",
       "1254                                  NaN                                None   \n",
       "1255                                  NaN                                None   \n",
       "1256                                  NaN                                None   \n",
       "1257                                  NaN                                None   \n",
       "1317                                  NaN                                None   \n",
       "1323                                  NaN                                None   \n",
       "1324                                  NaN                                None   \n",
       "1325                                  0.0                                None   \n",
       "1352                                  NaN                                None   \n",
       "1598                                  NaN                                None   \n",
       "1602                                  NaN                                None   \n",
       "1603                                  NaN                                None   \n",
       "\n",
       "      Component.component_type          Component.slug Component.lng  \\\n",
       "288                          2        tank-wall-f8e2fb          None   \n",
       "717                          2             line-4cfca8          None   \n",
       "1254                         2       tank-shell-5fe88d          None   \n",
       "1255                         2       tank-shell-df38c4          None   \n",
       "1256                         2       tank-shell-154beb          None   \n",
       "1257                         2       tank-shell-0384de          None   \n",
       "1317                         2       tank-shell-a93e15          None   \n",
       "1323                         2       tank-shell-43b868          None   \n",
       "1324                         2        fill-line-848231          None   \n",
       "1325                         2       tank-shell-df9655          None   \n",
       "1352                         2            shell-376e03          None   \n",
       "1598                         2       tank-shell-ebd5f3          None   \n",
       "1602                         2  tank-shell-east-cd36e5          None   \n",
       "1603                         2  tank-shell-west-9438cb          None   \n",
       "\n",
       "      Component.sales_asset_type_id  Component.unit_id  Component.alloy_id  \\\n",
       "288                             NaN                358                 NaN   \n",
       "717                             NaN                734                 NaN   \n",
       "1254                            9.0               1518                 1.0   \n",
       "1255                            NaN               1520                 NaN   \n",
       "1256                            NaN               1520                 NaN   \n",
       "1257                            NaN               1520                 NaN   \n",
       "1317                            NaN               1626                 NaN   \n",
       "1323                            9.0               1642                 1.0   \n",
       "1324                           10.0               1642                 1.0   \n",
       "1325                            NaN               1643                 NaN   \n",
       "1352                            9.0               1686                 1.0   \n",
       "1598                            NaN               1963                 NaN   \n",
       "1602                            NaN               1974                 NaN   \n",
       "1603                            NaN               1975                 NaN   \n",
       "\n",
       "                           Unit.name  Unit.location_id  \\\n",
       "288               Black Liquor Stack               112   \n",
       "717                White Liquor Line               101   \n",
       "1254  Weak Black Liquor Storage Tank               140   \n",
       "1255         Black Liquor Flash Tank               437   \n",
       "1256         Black Liquor Flash Tank               437   \n",
       "1257         Black Liquor Flash Tank               437   \n",
       "1317       #4 Weak Black Liquor Tank               101   \n",
       "1323        TNK-0202 #3 White Liquor               453   \n",
       "1324        TNK-0202 #3 White Liquor               453   \n",
       "1325     Green Liquor Clarifier Tank               101   \n",
       "1352        Strong Black Liquor Tank               468   \n",
       "1598       #2 Green Liquor Clarifier               140   \n",
       "1602    #3 Black Liquor Storage Tank               842   \n",
       "1603    #4 Black Liquor Storage Tank               842   \n",
       "\n",
       "                                  Unit.slug  Unit.capacity  \\\n",
       "288               black-liquor-stack-2e7567              0   \n",
       "717                white-liquor-line-46e33e              0   \n",
       "1254  weak-black-liquor-storage-tank-00747b              0   \n",
       "1255         black-liquor-flash-tank-8398a2              0   \n",
       "1256         black-liquor-flash-tank-8398a2              0   \n",
       "1257         black-liquor-flash-tank-8398a2              0   \n",
       "1317        4-weak-black-liquor-tank-706057              0   \n",
       "1323         tnk-0202-3-white-liquor-556610              0   \n",
       "1324         tnk-0202-3-white-liquor-556610              0   \n",
       "1325     green-liquor-clarifier-tank-a5395a              0   \n",
       "1352        strong-black-liquor-tank-8b65f1              0   \n",
       "1598        2-green-liquor-clarifier-4e83da              0   \n",
       "1602          black-liquor-tank-east-58a353              0   \n",
       "1603          black-liquor-tank-west-f50d1d              0   \n",
       "\n",
       "     Unit.inspection_code  Unit.latitude Unit.retirement_date  \\\n",
       "288                                  0.0                 None   \n",
       "717                                  0.0                 None   \n",
       "1254                  653            0.0                 None   \n",
       "1255                 None            0.0                 None   \n",
       "1256                 None            0.0                 None   \n",
       "1257                 None            0.0                 None   \n",
       "1317                 None            0.0                 None   \n",
       "1323                  653            0.0                 None   \n",
       "1324                  653            0.0                 None   \n",
       "1325                 None            0.0                 None   \n",
       "1352                                 0.0                 None   \n",
       "1598                 None            0.0                 None   \n",
       "1602                 None            0.0                 None   \n",
       "1603                 None            0.0                 None   \n",
       "\n",
       "      Unit.total_tubes Unit.description  Unit.id Unit.built_date  \\\n",
       "288                  0                       358            None   \n",
       "717                  0                       734            None   \n",
       "1254                 0                      1518            None   \n",
       "1255                 0                      1520            None   \n",
       "1256                 0                      1520            None   \n",
       "1257                 0                      1520            None   \n",
       "1317                 0                      1626            None   \n",
       "1323                 0                      1642            None   \n",
       "1324                 0                      1642            None   \n",
       "1325                 0                      1643            None   \n",
       "1352                 0                      1686            None   \n",
       "1598                 0                      1963            None   \n",
       "1602                 0                      1974            None   \n",
       "1603                 0                      1975            None   \n",
       "\n",
       "     Unit.fuel_type  Unit.inspection_interval_years  Unit.longitude  \\\n",
       "288                                               0             0.0   \n",
       "717                                               0             0.0   \n",
       "1254                                              0             0.0   \n",
       "1255           None                               0             0.0   \n",
       "1256           None                               0             0.0   \n",
       "1257           None                               0             0.0   \n",
       "1317           None                               0             0.0   \n",
       "1323           None                               0             0.0   \n",
       "1324           None                               0             0.0   \n",
       "1325           None                               0             0.0   \n",
       "1352                                              0             0.0   \n",
       "1598           None                               0             0.0   \n",
       "1602           None                               0             0.0   \n",
       "1603           None                               0             0.0   \n",
       "\n",
       "      Unit.sales_asset_category_id  Unit.salesforce_id  \\\n",
       "288                            NaN                       \n",
       "717                            NaN                       \n",
       "1254                           5.0  02i1U000004RshDQAS   \n",
       "1255                           NaN                None   \n",
       "1256                           NaN                None   \n",
       "1257                           NaN                None   \n",
       "1317                           NaN                None   \n",
       "1323                           5.0  02i1U0000028X2iQAE   \n",
       "1324                           5.0  02i1U0000028X2iQAE   \n",
       "1325                           NaN                None   \n",
       "1352                           5.0  02i8W000004rZZ4QAM   \n",
       "1598                           NaN                None   \n",
       "1602                           NaN                None   \n",
       "1603                           NaN                None   \n",
       "\n",
       "                                   Location.name Location.address_line_2  \\\n",
       "288                  Nekoosa Pulp and Paper Mill                           \n",
       "717                                 Brewton Mill                           \n",
       "1254                                     Ashdown                           \n",
       "1255     Monticello Kraft Pulp & Linerboard Mill                           \n",
       "1256     Monticello Kraft Pulp & Linerboard Mill                           \n",
       "1257     Monticello Kraft Pulp & Linerboard Mill                           \n",
       "1317                                Brewton Mill                           \n",
       "1323  Evergreen - Pine Bluff Pulp and Paper Mill                           \n",
       "1324  Evergreen - Pine Bluff Pulp and Paper Mill                           \n",
       "1325                                Brewton Mill                           \n",
       "1352        Verso - Escanaba Pulp and Paper Mill                           \n",
       "1598                                     Ashdown                           \n",
       "1602                             Hodge Pulp Mill                           \n",
       "1603                             Hodge Pulp Mill                           \n",
       "\n",
       "     Location.postal_code  Location.customer_id Location.city  \\\n",
       "288                 54457                    79       Nekoosa   \n",
       "717                 36427                     8       Brewton   \n",
       "1254                71822                    79       Ashdown   \n",
       "1255           39654-7601                     8    Monticello   \n",
       "1256           39654-7601                     8    Monticello   \n",
       "1257           39654-7601                     8    Monticello   \n",
       "1317                36427                     8       Brewton   \n",
       "1323                71601                   277    Pine Bluff   \n",
       "1324                71601                   277    Pine Bluff   \n",
       "1325                36427                     8       Brewton   \n",
       "1352                49829                   283      Escanaba   \n",
       "1598                71822                    79       Ashdown   \n",
       "1602                71247                    97         Hodge   \n",
       "1603                71247                    97         Hodge   \n",
       "\n",
       "         Location.slack_channel  Location.lat Location.salesforce_id  \\\n",
       "288         insp_domtar_nekoosa     44.313530     0011U00000TFUW8QAP   \n",
       "717             insp_gp_brewton     31.079360     0011U00000n94wrQAA   \n",
       "1254        insp_domtar_ashdown     33.642370     0011U00000EHUZOQA5   \n",
       "1255      insp_gp_monticello_cs     31.623700     0011U00000PTKntQAH   \n",
       "1256      insp_gp_monticello_cs     31.623700     0011U00000PTKntQAH   \n",
       "1257      insp_gp_monticello_cs     31.623700     0011U00000PTKntQAH   \n",
       "1317            insp_gp_brewton     31.079360     0011U00000n94wrQAA   \n",
       "1323  insp_evergreen_pine_bluff     34.219200     0011U00000EHUZWQA5   \n",
       "1324  insp_evergreen_pine_bluff     34.219200     0011U00000EHUZWQA5   \n",
       "1325            insp_gp_brewton     31.079360     0011U00000n94wrQAA   \n",
       "1352     insp_billerud_escanaba     45.795810     0011U00000TFUJ9QAP   \n",
       "1598        insp_domtar_ashdown     33.642370     0011U00000EHUZOQA5   \n",
       "1602        insp_westrock_hodge     32.275438     0011U00000EHUb6QAH   \n",
       "1603        insp_westrock_hodge     32.275438     0011U00000EHUb6QAH   \n",
       "\n",
       "            Location.address_line_1  Location.id Location.region  \\\n",
       "288          301 Point Basse Avenue          112              WI   \n",
       "717                32224 Highway 31          101              AL   \n",
       "1254                      285 US-71          140              AR   \n",
       "1255           604 NA Sandifer Road          437                   \n",
       "1256           604 NA Sandifer Road          437                   \n",
       "1257           604 NA Sandifer Road          437                   \n",
       "1317               32224 Highway 31          101              AL   \n",
       "1323  5201 Fairfiled Road Suite 010          453                   \n",
       "1324  5201 Fairfiled Road Suite 010          453                   \n",
       "1325               32224 Highway 31          101              AL   \n",
       "1352                 7100 Co Rd 426          468                   \n",
       "1598                      285 US-71          140              AR   \n",
       "1602                100 Mill Street          842              LA   \n",
       "1603                100 Mill Street          842              LA   \n",
       "\n",
       "     Location.country                                      Location.slug  \\\n",
       "288                US                 nekoosa-pulp-and-paper-mill-226e84   \n",
       "717                US                                brewton-mill-fb51be   \n",
       "1254               US                                     ashdown-a02e36   \n",
       "1255               US  georgia-pacific-monticello-kraft-pulp-liner-d1...   \n",
       "1256               US  georgia-pacific-monticello-kraft-pulp-liner-d1...   \n",
       "1257               US  georgia-pacific-monticello-kraft-pulp-liner-d1...   \n",
       "1317               US                                brewton-mill-fb51be   \n",
       "1323               US    evergreen-pine-bluff-pulp-and-paper-mill-a56b46   \n",
       "1324               US    evergreen-pine-bluff-pulp-and-paper-mill-a56b46   \n",
       "1325               US                                brewton-mill-fb51be   \n",
       "1352               US          verso-escanaba-pulp-and-paper-mill-2bc5b2   \n",
       "1598               US                                     ashdown-a02e36   \n",
       "1602               US                    westrock-hodge-pulp-mill-b08914   \n",
       "1603               US                    westrock-hodge-pulp-mill-b08914   \n",
       "\n",
       "     Location.industry_type  Location.lng           Location.drive_folder_id  \\\n",
       "288                   paper    -89.895990  16K6-Z9KqfUOUfuBu7eT4KmHScsrS2pJU   \n",
       "717                   paper    -87.115270  1f74rBSA-STUvhgbgGwLAVrVIRPGPcXwQ   \n",
       "1254                  paper    -94.100980  1nsCEtWfTBzmBbDJ11sPSGus5GU_cvyxh   \n",
       "1255                  paper    -90.082740  12ZrTGOxiFC-sVU2VXwTVadxGLFT6LRkI   \n",
       "1256                  paper    -90.082740  12ZrTGOxiFC-sVU2VXwTVadxGLFT6LRkI   \n",
       "1257                  paper    -90.082740  12ZrTGOxiFC-sVU2VXwTVadxGLFT6LRkI   \n",
       "1317                  paper    -87.115270  1f74rBSA-STUvhgbgGwLAVrVIRPGPcXwQ   \n",
       "1323                  paper    -91.909900  16e8_3uTJtgnW97m4eVre07Cn4i4WwBLA   \n",
       "1324                  paper    -91.909900  16e8_3uTJtgnW97m4eVre07Cn4i4WwBLA   \n",
       "1325                  paper    -87.115270  1f74rBSA-STUvhgbgGwLAVrVIRPGPcXwQ   \n",
       "1352                   None    -87.082440  1k_d_BEdHb-ar9i4fbDY8WpG_R6uzQnwO   \n",
       "1598                  paper    -94.100980  1nsCEtWfTBzmBbDJ11sPSGus5GU_cvyxh   \n",
       "1602                   None    -92.724644  16dBkBxOrDJGqWEpolceVB6BYWfpZrnrL   \n",
       "1603                   None    -92.724644  16dBkBxOrDJGqWEpolceVB6BYWfpZrnrL   \n",
       "\n",
       "     Customer.salesforce_id                                Customer.logo  \\\n",
       "288      0011U00000EHUWdQAP                    customer_logos/domtar.png   \n",
       "717      0011U00000EHUN6QAP   customer_logos/georgia-pacific-300x225.jpg   \n",
       "1254     0011U00000EHUWdQAP                    customer_logos/domtar.png   \n",
       "1255     0011U00000EHUN6QAP   customer_logos/georgia-pacific-300x225.jpg   \n",
       "1256     0011U00000EHUN6QAP   customer_logos/georgia-pacific-300x225.jpg   \n",
       "1257     0011U00000EHUN6QAP   customer_logos/georgia-pacific-300x225.jpg   \n",
       "1317     0011U00000EHUN6QAP   customer_logos/georgia-pacific-300x225.jpg   \n",
       "1323     0011U00000cmP1xQAE  customer_logos/Evergreen_Packaging_Logo.jpg   \n",
       "1324     0011U00000cmP1xQAE  customer_logos/Evergreen_Packaging_Logo.jpg   \n",
       "1325     0011U00000EHUN6QAP   customer_logos/georgia-pacific-300x225.jpg   \n",
       "1352     0011U00000EHUZFQA5                customer_logos/verso_logo.jpg   \n",
       "1598     0011U00000EHUWdQAP                    customer_logos/domtar.png   \n",
       "1602     0011U00000EHUOSQA5             customer_logos/westrock_logo.jpg   \n",
       "1603     0011U00000EHUOSQA5             customer_logos/westrock_logo.jpg   \n",
       "\n",
       "                   Customer.slug  Customer.id        Customer.name  \\\n",
       "288                domtar-745a5a           79               Domtar   \n",
       "717       georgia-pacific-a1ec53            8      Georgia Pacific   \n",
       "1254               domtar-745a5a           79               Domtar   \n",
       "1255      georgia-pacific-a1ec53            8      Georgia Pacific   \n",
       "1256      georgia-pacific-a1ec53            8      Georgia Pacific   \n",
       "1257      georgia-pacific-a1ec53            8      Georgia Pacific   \n",
       "1317      georgia-pacific-a1ec53            8      Georgia Pacific   \n",
       "1323  evergreen-packaging-8b2b7a          277  Evergreen Packaging   \n",
       "1324  evergreen-packaging-8b2b7a          277  Evergreen Packaging   \n",
       "1325      georgia-pacific-a1ec53            8      Georgia Pacific   \n",
       "1352      verso-corporate-27ddb8          283    Verso (Corporate)   \n",
       "1598               domtar-745a5a           79               Domtar   \n",
       "1602             westrock-53ce5f           97             Westrock   \n",
       "1603             westrock-53ce5f           97             Westrock   \n",
       "\n",
       "               Customer.drive_folder_id  \n",
       "288   1OFk4M3IIZyX1uNkRKADw_rSFfuBqMLNP  \n",
       "717   1mHDa3E68Ydr1gNpfmSttRQTolkXQkgaM  \n",
       "1254  1OFk4M3IIZyX1uNkRKADw_rSFfuBqMLNP  \n",
       "1255  1mHDa3E68Ydr1gNpfmSttRQTolkXQkgaM  \n",
       "1256  1mHDa3E68Ydr1gNpfmSttRQTolkXQkgaM  \n",
       "1257  1mHDa3E68Ydr1gNpfmSttRQTolkXQkgaM  \n",
       "1317  1mHDa3E68Ydr1gNpfmSttRQTolkXQkgaM  \n",
       "1323  1s60dOVAS2O6AlgW3UBbivAncS6Y5UDw5  \n",
       "1324  1s60dOVAS2O6AlgW3UBbivAncS6Y5UDw5  \n",
       "1325  1mHDa3E68Ydr1gNpfmSttRQTolkXQkgaM  \n",
       "1352  1YLUNacDmMWrfTo2e2_NsyJdWbyqFvXA6  \n",
       "1598  1OFk4M3IIZyX1uNkRKADw_rSFfuBqMLNP  \n",
       "1602  1qBEK97dP1u8UMUyLetJT5Mr0RGoCGtYW  \n",
       "1603  1qBEK97dP1u8UMUyLetJT5Mr0RGoCGtYW  "
      ]
     },
     "execution_count": 36,
     "metadata": {},
     "output_type": "execute_result"
    }
   ],
   "source": [
    "liq_tanks_df"
   ]
  },
  {
   "cell_type": "code",
   "execution_count": null,
   "id": "6eacbf3b-7f18-403f-bb79-cc36260448ad",
   "metadata": {},
   "outputs": [],
   "source": []
  },
  {
   "cell_type": "code",
   "execution_count": 37,
   "id": "a4130fa8-ff81-46da-b671-90b81015238b",
   "metadata": {},
   "outputs": [
    {
     "name": "stderr",
     "output_type": "stream",
     "text": [
      "C:\\Users\\tom.fiorelli\\AppData\\Local\\Temp\\ipykernel_14968\\2539260755.py:1: UserWarning: Boolean Series key will be reindexed to match DataFrame index.\n",
      "  liq_tanks_df[tank_shells_df['Customer.id']==8].shape\n"
     ]
    },
    {
     "data": {
      "text/plain": [
       "(6, 62)"
      ]
     },
     "execution_count": 37,
     "metadata": {},
     "output_type": "execute_result"
    }
   ],
   "source": [
    "liq_tanks_df[tank_shells_df['Customer.id']==8].shape"
   ]
  },
  {
   "cell_type": "code",
   "execution_count": 38,
   "id": "2747aaf0-4303-4830-9d74-7a6b070ddf3e",
   "metadata": {},
   "outputs": [
    {
     "name": "stderr",
     "output_type": "stream",
     "text": [
      "C:\\Users\\tom.fiorelli\\AppData\\Local\\Temp\\ipykernel_14968\\1999285972.py:1: UserWarning: Boolean Series key will be reindexed to match DataFrame index.\n",
      "  liq_tanks_df[tank_shells_df['Customer.id']==8]\n"
     ]
    },
    {
     "data": {
      "text/html": [
       "<div>\n",
       "<style scoped>\n",
       "    .dataframe tbody tr th:only-of-type {\n",
       "        vertical-align: middle;\n",
       "    }\n",
       "\n",
       "    .dataframe tbody tr th {\n",
       "        vertical-align: top;\n",
       "    }\n",
       "\n",
       "    .dataframe thead th {\n",
       "        text-align: right;\n",
       "    }\n",
       "</style>\n",
       "<table border=\"1\" class=\"dataframe\">\n",
       "  <thead>\n",
       "    <tr style=\"text-align: right;\">\n",
       "      <th></th>\n",
       "      <th>Component.tube_diameter</th>\n",
       "      <th>Component.material_type</th>\n",
       "      <th>Component.contents</th>\n",
       "      <th>Component.tube_spacing</th>\n",
       "      <th>Component.wall_nominal_thickness</th>\n",
       "      <th>Component.temperature</th>\n",
       "      <th>Component.sea_level</th>\n",
       "      <th>Component.wall_warning_thickness</th>\n",
       "      <th>Component.difficulty_factor_percentage</th>\n",
       "      <th>Component.id</th>\n",
       "      <th>Component.shell_diameter</th>\n",
       "      <th>Component.coating_nominal_thickness</th>\n",
       "      <th>Component.salesforce_id</th>\n",
       "      <th>Component.name</th>\n",
       "      <th>Component.slope_angle</th>\n",
       "      <th>Component.coating_warning_thickness</th>\n",
       "      <th>Component.description</th>\n",
       "      <th>Component.lat</th>\n",
       "      <th>Component.component_type</th>\n",
       "      <th>Component.slug</th>\n",
       "      <th>Component.lng</th>\n",
       "      <th>Component.sales_asset_type_id</th>\n",
       "      <th>Component.unit_id</th>\n",
       "      <th>Component.alloy_id</th>\n",
       "      <th>Unit.name</th>\n",
       "      <th>Unit.location_id</th>\n",
       "      <th>Unit.slug</th>\n",
       "      <th>Unit.capacity</th>\n",
       "      <th>Unit.inspection_code</th>\n",
       "      <th>Unit.latitude</th>\n",
       "      <th>Unit.retirement_date</th>\n",
       "      <th>Unit.total_tubes</th>\n",
       "      <th>Unit.description</th>\n",
       "      <th>Unit.id</th>\n",
       "      <th>Unit.built_date</th>\n",
       "      <th>Unit.fuel_type</th>\n",
       "      <th>Unit.inspection_interval_years</th>\n",
       "      <th>Unit.longitude</th>\n",
       "      <th>Unit.sales_asset_category_id</th>\n",
       "      <th>Unit.salesforce_id</th>\n",
       "      <th>Location.name</th>\n",
       "      <th>Location.address_line_2</th>\n",
       "      <th>Location.postal_code</th>\n",
       "      <th>Location.customer_id</th>\n",
       "      <th>Location.city</th>\n",
       "      <th>Location.slack_channel</th>\n",
       "      <th>Location.lat</th>\n",
       "      <th>Location.salesforce_id</th>\n",
       "      <th>Location.address_line_1</th>\n",
       "      <th>Location.id</th>\n",
       "      <th>Location.region</th>\n",
       "      <th>Location.country</th>\n",
       "      <th>Location.slug</th>\n",
       "      <th>Location.industry_type</th>\n",
       "      <th>Location.lng</th>\n",
       "      <th>Location.drive_folder_id</th>\n",
       "      <th>Customer.salesforce_id</th>\n",
       "      <th>Customer.logo</th>\n",
       "      <th>Customer.slug</th>\n",
       "      <th>Customer.id</th>\n",
       "      <th>Customer.name</th>\n",
       "      <th>Customer.drive_folder_id</th>\n",
       "    </tr>\n",
       "  </thead>\n",
       "  <tbody>\n",
       "    <tr>\n",
       "      <th>717</th>\n",
       "      <td>0.0</td>\n",
       "      <td>carbon_steel</td>\n",
       "      <td>None</td>\n",
       "      <td>0.0</td>\n",
       "      <td>0.55</td>\n",
       "      <td></td>\n",
       "      <td>NaN</td>\n",
       "      <td>0.4</td>\n",
       "      <td>0</td>\n",
       "      <td>1570</td>\n",
       "      <td>0.9</td>\n",
       "      <td>NaN</td>\n",
       "      <td></td>\n",
       "      <td>Line</td>\n",
       "      <td>NaN</td>\n",
       "      <td>NaN</td>\n",
       "      <td></td>\n",
       "      <td>None</td>\n",
       "      <td>2</td>\n",
       "      <td>line-4cfca8</td>\n",
       "      <td>None</td>\n",
       "      <td>NaN</td>\n",
       "      <td>734</td>\n",
       "      <td>NaN</td>\n",
       "      <td>White Liquor Line</td>\n",
       "      <td>101</td>\n",
       "      <td>white-liquor-line-46e33e</td>\n",
       "      <td>0</td>\n",
       "      <td></td>\n",
       "      <td>0.0</td>\n",
       "      <td>None</td>\n",
       "      <td>0</td>\n",
       "      <td></td>\n",
       "      <td>734</td>\n",
       "      <td>None</td>\n",
       "      <td></td>\n",
       "      <td>0</td>\n",
       "      <td>0.0</td>\n",
       "      <td>NaN</td>\n",
       "      <td></td>\n",
       "      <td>Brewton Mill</td>\n",
       "      <td></td>\n",
       "      <td>36427</td>\n",
       "      <td>8</td>\n",
       "      <td>Brewton</td>\n",
       "      <td>insp_gp_brewton</td>\n",
       "      <td>31.07936</td>\n",
       "      <td>0011U00000n94wrQAA</td>\n",
       "      <td>32224 Highway 31</td>\n",
       "      <td>101</td>\n",
       "      <td>AL</td>\n",
       "      <td>US</td>\n",
       "      <td>brewton-mill-fb51be</td>\n",
       "      <td>paper</td>\n",
       "      <td>-87.11527</td>\n",
       "      <td>1f74rBSA-STUvhgbgGwLAVrVIRPGPcXwQ</td>\n",
       "      <td>0011U00000EHUN6QAP</td>\n",
       "      <td>customer_logos/georgia-pacific-300x225.jpg</td>\n",
       "      <td>georgia-pacific-a1ec53</td>\n",
       "      <td>8</td>\n",
       "      <td>Georgia Pacific</td>\n",
       "      <td>1mHDa3E68Ydr1gNpfmSttRQTolkXQkgaM</td>\n",
       "    </tr>\n",
       "    <tr>\n",
       "      <th>1255</th>\n",
       "      <td>0.0</td>\n",
       "      <td>carbon_steel</td>\n",
       "      <td></td>\n",
       "      <td>0.0</td>\n",
       "      <td>0.25</td>\n",
       "      <td>ambient</td>\n",
       "      <td>NaN</td>\n",
       "      <td>0.2</td>\n",
       "      <td>0</td>\n",
       "      <td>3063</td>\n",
       "      <td>10.0</td>\n",
       "      <td>NaN</td>\n",
       "      <td>None</td>\n",
       "      <td>Tank Shell</td>\n",
       "      <td>NaN</td>\n",
       "      <td>NaN</td>\n",
       "      <td></td>\n",
       "      <td>None</td>\n",
       "      <td>2</td>\n",
       "      <td>tank-shell-df38c4</td>\n",
       "      <td>None</td>\n",
       "      <td>NaN</td>\n",
       "      <td>1520</td>\n",
       "      <td>NaN</td>\n",
       "      <td>Black Liquor Flash Tank</td>\n",
       "      <td>437</td>\n",
       "      <td>black-liquor-flash-tank-8398a2</td>\n",
       "      <td>0</td>\n",
       "      <td>None</td>\n",
       "      <td>0.0</td>\n",
       "      <td>None</td>\n",
       "      <td>0</td>\n",
       "      <td></td>\n",
       "      <td>1520</td>\n",
       "      <td>None</td>\n",
       "      <td>None</td>\n",
       "      <td>0</td>\n",
       "      <td>0.0</td>\n",
       "      <td>NaN</td>\n",
       "      <td>None</td>\n",
       "      <td>Monticello Kraft Pulp &amp; Linerboard Mill</td>\n",
       "      <td></td>\n",
       "      <td>39654-7601</td>\n",
       "      <td>8</td>\n",
       "      <td>Monticello</td>\n",
       "      <td>insp_gp_monticello_cs</td>\n",
       "      <td>31.62370</td>\n",
       "      <td>0011U00000PTKntQAH</td>\n",
       "      <td>604 NA Sandifer Road</td>\n",
       "      <td>437</td>\n",
       "      <td></td>\n",
       "      <td>US</td>\n",
       "      <td>georgia-pacific-monticello-kraft-pulp-liner-d1...</td>\n",
       "      <td>paper</td>\n",
       "      <td>-90.08274</td>\n",
       "      <td>12ZrTGOxiFC-sVU2VXwTVadxGLFT6LRkI</td>\n",
       "      <td>0011U00000EHUN6QAP</td>\n",
       "      <td>customer_logos/georgia-pacific-300x225.jpg</td>\n",
       "      <td>georgia-pacific-a1ec53</td>\n",
       "      <td>8</td>\n",
       "      <td>Georgia Pacific</td>\n",
       "      <td>1mHDa3E68Ydr1gNpfmSttRQTolkXQkgaM</td>\n",
       "    </tr>\n",
       "    <tr>\n",
       "      <th>1256</th>\n",
       "      <td>0.0</td>\n",
       "      <td>carbon_steel</td>\n",
       "      <td></td>\n",
       "      <td>0.0</td>\n",
       "      <td>0.25</td>\n",
       "      <td>ambient</td>\n",
       "      <td>NaN</td>\n",
       "      <td>0.2</td>\n",
       "      <td>0</td>\n",
       "      <td>3064</td>\n",
       "      <td>10.0</td>\n",
       "      <td>NaN</td>\n",
       "      <td>None</td>\n",
       "      <td>Tank Shell</td>\n",
       "      <td>NaN</td>\n",
       "      <td>NaN</td>\n",
       "      <td></td>\n",
       "      <td>None</td>\n",
       "      <td>2</td>\n",
       "      <td>tank-shell-154beb</td>\n",
       "      <td>None</td>\n",
       "      <td>NaN</td>\n",
       "      <td>1520</td>\n",
       "      <td>NaN</td>\n",
       "      <td>Black Liquor Flash Tank</td>\n",
       "      <td>437</td>\n",
       "      <td>black-liquor-flash-tank-8398a2</td>\n",
       "      <td>0</td>\n",
       "      <td>None</td>\n",
       "      <td>0.0</td>\n",
       "      <td>None</td>\n",
       "      <td>0</td>\n",
       "      <td></td>\n",
       "      <td>1520</td>\n",
       "      <td>None</td>\n",
       "      <td>None</td>\n",
       "      <td>0</td>\n",
       "      <td>0.0</td>\n",
       "      <td>NaN</td>\n",
       "      <td>None</td>\n",
       "      <td>Monticello Kraft Pulp &amp; Linerboard Mill</td>\n",
       "      <td></td>\n",
       "      <td>39654-7601</td>\n",
       "      <td>8</td>\n",
       "      <td>Monticello</td>\n",
       "      <td>insp_gp_monticello_cs</td>\n",
       "      <td>31.62370</td>\n",
       "      <td>0011U00000PTKntQAH</td>\n",
       "      <td>604 NA Sandifer Road</td>\n",
       "      <td>437</td>\n",
       "      <td></td>\n",
       "      <td>US</td>\n",
       "      <td>georgia-pacific-monticello-kraft-pulp-liner-d1...</td>\n",
       "      <td>paper</td>\n",
       "      <td>-90.08274</td>\n",
       "      <td>12ZrTGOxiFC-sVU2VXwTVadxGLFT6LRkI</td>\n",
       "      <td>0011U00000EHUN6QAP</td>\n",
       "      <td>customer_logos/georgia-pacific-300x225.jpg</td>\n",
       "      <td>georgia-pacific-a1ec53</td>\n",
       "      <td>8</td>\n",
       "      <td>Georgia Pacific</td>\n",
       "      <td>1mHDa3E68Ydr1gNpfmSttRQTolkXQkgaM</td>\n",
       "    </tr>\n",
       "    <tr>\n",
       "      <th>1257</th>\n",
       "      <td>0.0</td>\n",
       "      <td>carbon_steel</td>\n",
       "      <td></td>\n",
       "      <td>0.0</td>\n",
       "      <td>0.25</td>\n",
       "      <td>ambient</td>\n",
       "      <td>NaN</td>\n",
       "      <td>0.2</td>\n",
       "      <td>0</td>\n",
       "      <td>3065</td>\n",
       "      <td>30.0</td>\n",
       "      <td>NaN</td>\n",
       "      <td>None</td>\n",
       "      <td>Tank Shell</td>\n",
       "      <td>NaN</td>\n",
       "      <td>NaN</td>\n",
       "      <td></td>\n",
       "      <td>None</td>\n",
       "      <td>2</td>\n",
       "      <td>tank-shell-0384de</td>\n",
       "      <td>None</td>\n",
       "      <td>NaN</td>\n",
       "      <td>1520</td>\n",
       "      <td>NaN</td>\n",
       "      <td>Black Liquor Flash Tank</td>\n",
       "      <td>437</td>\n",
       "      <td>black-liquor-flash-tank-8398a2</td>\n",
       "      <td>0</td>\n",
       "      <td>None</td>\n",
       "      <td>0.0</td>\n",
       "      <td>None</td>\n",
       "      <td>0</td>\n",
       "      <td></td>\n",
       "      <td>1520</td>\n",
       "      <td>None</td>\n",
       "      <td>None</td>\n",
       "      <td>0</td>\n",
       "      <td>0.0</td>\n",
       "      <td>NaN</td>\n",
       "      <td>None</td>\n",
       "      <td>Monticello Kraft Pulp &amp; Linerboard Mill</td>\n",
       "      <td></td>\n",
       "      <td>39654-7601</td>\n",
       "      <td>8</td>\n",
       "      <td>Monticello</td>\n",
       "      <td>insp_gp_monticello_cs</td>\n",
       "      <td>31.62370</td>\n",
       "      <td>0011U00000PTKntQAH</td>\n",
       "      <td>604 NA Sandifer Road</td>\n",
       "      <td>437</td>\n",
       "      <td></td>\n",
       "      <td>US</td>\n",
       "      <td>georgia-pacific-monticello-kraft-pulp-liner-d1...</td>\n",
       "      <td>paper</td>\n",
       "      <td>-90.08274</td>\n",
       "      <td>12ZrTGOxiFC-sVU2VXwTVadxGLFT6LRkI</td>\n",
       "      <td>0011U00000EHUN6QAP</td>\n",
       "      <td>customer_logos/georgia-pacific-300x225.jpg</td>\n",
       "      <td>georgia-pacific-a1ec53</td>\n",
       "      <td>8</td>\n",
       "      <td>Georgia Pacific</td>\n",
       "      <td>1mHDa3E68Ydr1gNpfmSttRQTolkXQkgaM</td>\n",
       "    </tr>\n",
       "    <tr>\n",
       "      <th>1317</th>\n",
       "      <td>0.0</td>\n",
       "      <td>carbon_steel</td>\n",
       "      <td></td>\n",
       "      <td>0.0</td>\n",
       "      <td>0.50</td>\n",
       "      <td>ambient</td>\n",
       "      <td>NaN</td>\n",
       "      <td>0.1</td>\n",
       "      <td>0</td>\n",
       "      <td>3246</td>\n",
       "      <td>45.0</td>\n",
       "      <td>NaN</td>\n",
       "      <td>None</td>\n",
       "      <td>Tank Shell</td>\n",
       "      <td>NaN</td>\n",
       "      <td>NaN</td>\n",
       "      <td></td>\n",
       "      <td>None</td>\n",
       "      <td>2</td>\n",
       "      <td>tank-shell-a93e15</td>\n",
       "      <td>None</td>\n",
       "      <td>NaN</td>\n",
       "      <td>1626</td>\n",
       "      <td>NaN</td>\n",
       "      <td>#4 Weak Black Liquor Tank</td>\n",
       "      <td>101</td>\n",
       "      <td>4-weak-black-liquor-tank-706057</td>\n",
       "      <td>0</td>\n",
       "      <td>None</td>\n",
       "      <td>0.0</td>\n",
       "      <td>None</td>\n",
       "      <td>0</td>\n",
       "      <td></td>\n",
       "      <td>1626</td>\n",
       "      <td>None</td>\n",
       "      <td>None</td>\n",
       "      <td>0</td>\n",
       "      <td>0.0</td>\n",
       "      <td>NaN</td>\n",
       "      <td>None</td>\n",
       "      <td>Brewton Mill</td>\n",
       "      <td></td>\n",
       "      <td>36427</td>\n",
       "      <td>8</td>\n",
       "      <td>Brewton</td>\n",
       "      <td>insp_gp_brewton</td>\n",
       "      <td>31.07936</td>\n",
       "      <td>0011U00000n94wrQAA</td>\n",
       "      <td>32224 Highway 31</td>\n",
       "      <td>101</td>\n",
       "      <td>AL</td>\n",
       "      <td>US</td>\n",
       "      <td>brewton-mill-fb51be</td>\n",
       "      <td>paper</td>\n",
       "      <td>-87.11527</td>\n",
       "      <td>1f74rBSA-STUvhgbgGwLAVrVIRPGPcXwQ</td>\n",
       "      <td>0011U00000EHUN6QAP</td>\n",
       "      <td>customer_logos/georgia-pacific-300x225.jpg</td>\n",
       "      <td>georgia-pacific-a1ec53</td>\n",
       "      <td>8</td>\n",
       "      <td>Georgia Pacific</td>\n",
       "      <td>1mHDa3E68Ydr1gNpfmSttRQTolkXQkgaM</td>\n",
       "    </tr>\n",
       "    <tr>\n",
       "      <th>1325</th>\n",
       "      <td>0.0</td>\n",
       "      <td>carbon_steel</td>\n",
       "      <td></td>\n",
       "      <td>0.0</td>\n",
       "      <td>0.25</td>\n",
       "      <td>ambient</td>\n",
       "      <td>NaN</td>\n",
       "      <td>0.2</td>\n",
       "      <td>0</td>\n",
       "      <td>3288</td>\n",
       "      <td>40.0</td>\n",
       "      <td>0.0</td>\n",
       "      <td>None</td>\n",
       "      <td>Tank Shell</td>\n",
       "      <td>NaN</td>\n",
       "      <td>0.0</td>\n",
       "      <td></td>\n",
       "      <td>None</td>\n",
       "      <td>2</td>\n",
       "      <td>tank-shell-df9655</td>\n",
       "      <td>None</td>\n",
       "      <td>NaN</td>\n",
       "      <td>1643</td>\n",
       "      <td>NaN</td>\n",
       "      <td>Green Liquor Clarifier Tank</td>\n",
       "      <td>101</td>\n",
       "      <td>green-liquor-clarifier-tank-a5395a</td>\n",
       "      <td>0</td>\n",
       "      <td>None</td>\n",
       "      <td>0.0</td>\n",
       "      <td>None</td>\n",
       "      <td>0</td>\n",
       "      <td></td>\n",
       "      <td>1643</td>\n",
       "      <td>None</td>\n",
       "      <td>None</td>\n",
       "      <td>0</td>\n",
       "      <td>0.0</td>\n",
       "      <td>NaN</td>\n",
       "      <td>None</td>\n",
       "      <td>Brewton Mill</td>\n",
       "      <td></td>\n",
       "      <td>36427</td>\n",
       "      <td>8</td>\n",
       "      <td>Brewton</td>\n",
       "      <td>insp_gp_brewton</td>\n",
       "      <td>31.07936</td>\n",
       "      <td>0011U00000n94wrQAA</td>\n",
       "      <td>32224 Highway 31</td>\n",
       "      <td>101</td>\n",
       "      <td>AL</td>\n",
       "      <td>US</td>\n",
       "      <td>brewton-mill-fb51be</td>\n",
       "      <td>paper</td>\n",
       "      <td>-87.11527</td>\n",
       "      <td>1f74rBSA-STUvhgbgGwLAVrVIRPGPcXwQ</td>\n",
       "      <td>0011U00000EHUN6QAP</td>\n",
       "      <td>customer_logos/georgia-pacific-300x225.jpg</td>\n",
       "      <td>georgia-pacific-a1ec53</td>\n",
       "      <td>8</td>\n",
       "      <td>Georgia Pacific</td>\n",
       "      <td>1mHDa3E68Ydr1gNpfmSttRQTolkXQkgaM</td>\n",
       "    </tr>\n",
       "  </tbody>\n",
       "</table>\n",
       "</div>"
      ],
      "text/plain": [
       "      Component.tube_diameter Component.material_type Component.contents  \\\n",
       "717                       0.0            carbon_steel               None   \n",
       "1255                      0.0            carbon_steel                      \n",
       "1256                      0.0            carbon_steel                      \n",
       "1257                      0.0            carbon_steel                      \n",
       "1317                      0.0            carbon_steel                      \n",
       "1325                      0.0            carbon_steel                      \n",
       "\n",
       "      Component.tube_spacing  Component.wall_nominal_thickness  \\\n",
       "717                      0.0                              0.55   \n",
       "1255                     0.0                              0.25   \n",
       "1256                     0.0                              0.25   \n",
       "1257                     0.0                              0.25   \n",
       "1317                     0.0                              0.50   \n",
       "1325                     0.0                              0.25   \n",
       "\n",
       "     Component.temperature  Component.sea_level  \\\n",
       "717                                         NaN   \n",
       "1255               ambient                  NaN   \n",
       "1256               ambient                  NaN   \n",
       "1257               ambient                  NaN   \n",
       "1317               ambient                  NaN   \n",
       "1325               ambient                  NaN   \n",
       "\n",
       "      Component.wall_warning_thickness  \\\n",
       "717                                0.4   \n",
       "1255                               0.2   \n",
       "1256                               0.2   \n",
       "1257                               0.2   \n",
       "1317                               0.1   \n",
       "1325                               0.2   \n",
       "\n",
       "      Component.difficulty_factor_percentage  Component.id  \\\n",
       "717                                        0          1570   \n",
       "1255                                       0          3063   \n",
       "1256                                       0          3064   \n",
       "1257                                       0          3065   \n",
       "1317                                       0          3246   \n",
       "1325                                       0          3288   \n",
       "\n",
       "      Component.shell_diameter  Component.coating_nominal_thickness  \\\n",
       "717                        0.9                                  NaN   \n",
       "1255                      10.0                                  NaN   \n",
       "1256                      10.0                                  NaN   \n",
       "1257                      30.0                                  NaN   \n",
       "1317                      45.0                                  NaN   \n",
       "1325                      40.0                                  0.0   \n",
       "\n",
       "     Component.salesforce_id Component.name  Component.slope_angle  \\\n",
       "717                                    Line                    NaN   \n",
       "1255                    None     Tank Shell                    NaN   \n",
       "1256                    None     Tank Shell                    NaN   \n",
       "1257                    None     Tank Shell                    NaN   \n",
       "1317                    None     Tank Shell                    NaN   \n",
       "1325                    None     Tank Shell                    NaN   \n",
       "\n",
       "      Component.coating_warning_thickness Component.description Component.lat  \\\n",
       "717                                   NaN                                None   \n",
       "1255                                  NaN                                None   \n",
       "1256                                  NaN                                None   \n",
       "1257                                  NaN                                None   \n",
       "1317                                  NaN                                None   \n",
       "1325                                  0.0                                None   \n",
       "\n",
       "      Component.component_type     Component.slug Component.lng  \\\n",
       "717                          2        line-4cfca8          None   \n",
       "1255                         2  tank-shell-df38c4          None   \n",
       "1256                         2  tank-shell-154beb          None   \n",
       "1257                         2  tank-shell-0384de          None   \n",
       "1317                         2  tank-shell-a93e15          None   \n",
       "1325                         2  tank-shell-df9655          None   \n",
       "\n",
       "      Component.sales_asset_type_id  Component.unit_id  Component.alloy_id  \\\n",
       "717                             NaN                734                 NaN   \n",
       "1255                            NaN               1520                 NaN   \n",
       "1256                            NaN               1520                 NaN   \n",
       "1257                            NaN               1520                 NaN   \n",
       "1317                            NaN               1626                 NaN   \n",
       "1325                            NaN               1643                 NaN   \n",
       "\n",
       "                        Unit.name  Unit.location_id  \\\n",
       "717             White Liquor Line               101   \n",
       "1255      Black Liquor Flash Tank               437   \n",
       "1256      Black Liquor Flash Tank               437   \n",
       "1257      Black Liquor Flash Tank               437   \n",
       "1317    #4 Weak Black Liquor Tank               101   \n",
       "1325  Green Liquor Clarifier Tank               101   \n",
       "\n",
       "                               Unit.slug  Unit.capacity Unit.inspection_code  \\\n",
       "717             white-liquor-line-46e33e              0                        \n",
       "1255      black-liquor-flash-tank-8398a2              0                 None   \n",
       "1256      black-liquor-flash-tank-8398a2              0                 None   \n",
       "1257      black-liquor-flash-tank-8398a2              0                 None   \n",
       "1317     4-weak-black-liquor-tank-706057              0                 None   \n",
       "1325  green-liquor-clarifier-tank-a5395a              0                 None   \n",
       "\n",
       "      Unit.latitude Unit.retirement_date  Unit.total_tubes Unit.description  \\\n",
       "717             0.0                 None                 0                    \n",
       "1255            0.0                 None                 0                    \n",
       "1256            0.0                 None                 0                    \n",
       "1257            0.0                 None                 0                    \n",
       "1317            0.0                 None                 0                    \n",
       "1325            0.0                 None                 0                    \n",
       "\n",
       "      Unit.id Unit.built_date Unit.fuel_type  Unit.inspection_interval_years  \\\n",
       "717       734            None                                              0   \n",
       "1255     1520            None           None                               0   \n",
       "1256     1520            None           None                               0   \n",
       "1257     1520            None           None                               0   \n",
       "1317     1626            None           None                               0   \n",
       "1325     1643            None           None                               0   \n",
       "\n",
       "      Unit.longitude  Unit.sales_asset_category_id Unit.salesforce_id  \\\n",
       "717              0.0                           NaN                      \n",
       "1255             0.0                           NaN               None   \n",
       "1256             0.0                           NaN               None   \n",
       "1257             0.0                           NaN               None   \n",
       "1317             0.0                           NaN               None   \n",
       "1325             0.0                           NaN               None   \n",
       "\n",
       "                                Location.name Location.address_line_2  \\\n",
       "717                              Brewton Mill                           \n",
       "1255  Monticello Kraft Pulp & Linerboard Mill                           \n",
       "1256  Monticello Kraft Pulp & Linerboard Mill                           \n",
       "1257  Monticello Kraft Pulp & Linerboard Mill                           \n",
       "1317                             Brewton Mill                           \n",
       "1325                             Brewton Mill                           \n",
       "\n",
       "     Location.postal_code  Location.customer_id Location.city  \\\n",
       "717                 36427                     8       Brewton   \n",
       "1255           39654-7601                     8    Monticello   \n",
       "1256           39654-7601                     8    Monticello   \n",
       "1257           39654-7601                     8    Monticello   \n",
       "1317                36427                     8       Brewton   \n",
       "1325                36427                     8       Brewton   \n",
       "\n",
       "     Location.slack_channel  Location.lat Location.salesforce_id  \\\n",
       "717         insp_gp_brewton      31.07936     0011U00000n94wrQAA   \n",
       "1255  insp_gp_monticello_cs      31.62370     0011U00000PTKntQAH   \n",
       "1256  insp_gp_monticello_cs      31.62370     0011U00000PTKntQAH   \n",
       "1257  insp_gp_monticello_cs      31.62370     0011U00000PTKntQAH   \n",
       "1317        insp_gp_brewton      31.07936     0011U00000n94wrQAA   \n",
       "1325        insp_gp_brewton      31.07936     0011U00000n94wrQAA   \n",
       "\n",
       "     Location.address_line_1  Location.id Location.region Location.country  \\\n",
       "717         32224 Highway 31          101              AL               US   \n",
       "1255    604 NA Sandifer Road          437                               US   \n",
       "1256    604 NA Sandifer Road          437                               US   \n",
       "1257    604 NA Sandifer Road          437                               US   \n",
       "1317        32224 Highway 31          101              AL               US   \n",
       "1325        32224 Highway 31          101              AL               US   \n",
       "\n",
       "                                          Location.slug  \\\n",
       "717                                 brewton-mill-fb51be   \n",
       "1255  georgia-pacific-monticello-kraft-pulp-liner-d1...   \n",
       "1256  georgia-pacific-monticello-kraft-pulp-liner-d1...   \n",
       "1257  georgia-pacific-monticello-kraft-pulp-liner-d1...   \n",
       "1317                                brewton-mill-fb51be   \n",
       "1325                                brewton-mill-fb51be   \n",
       "\n",
       "     Location.industry_type  Location.lng           Location.drive_folder_id  \\\n",
       "717                   paper     -87.11527  1f74rBSA-STUvhgbgGwLAVrVIRPGPcXwQ   \n",
       "1255                  paper     -90.08274  12ZrTGOxiFC-sVU2VXwTVadxGLFT6LRkI   \n",
       "1256                  paper     -90.08274  12ZrTGOxiFC-sVU2VXwTVadxGLFT6LRkI   \n",
       "1257                  paper     -90.08274  12ZrTGOxiFC-sVU2VXwTVadxGLFT6LRkI   \n",
       "1317                  paper     -87.11527  1f74rBSA-STUvhgbgGwLAVrVIRPGPcXwQ   \n",
       "1325                  paper     -87.11527  1f74rBSA-STUvhgbgGwLAVrVIRPGPcXwQ   \n",
       "\n",
       "     Customer.salesforce_id                               Customer.logo  \\\n",
       "717      0011U00000EHUN6QAP  customer_logos/georgia-pacific-300x225.jpg   \n",
       "1255     0011U00000EHUN6QAP  customer_logos/georgia-pacific-300x225.jpg   \n",
       "1256     0011U00000EHUN6QAP  customer_logos/georgia-pacific-300x225.jpg   \n",
       "1257     0011U00000EHUN6QAP  customer_logos/georgia-pacific-300x225.jpg   \n",
       "1317     0011U00000EHUN6QAP  customer_logos/georgia-pacific-300x225.jpg   \n",
       "1325     0011U00000EHUN6QAP  customer_logos/georgia-pacific-300x225.jpg   \n",
       "\n",
       "               Customer.slug  Customer.id    Customer.name  \\\n",
       "717   georgia-pacific-a1ec53            8  Georgia Pacific   \n",
       "1255  georgia-pacific-a1ec53            8  Georgia Pacific   \n",
       "1256  georgia-pacific-a1ec53            8  Georgia Pacific   \n",
       "1257  georgia-pacific-a1ec53            8  Georgia Pacific   \n",
       "1317  georgia-pacific-a1ec53            8  Georgia Pacific   \n",
       "1325  georgia-pacific-a1ec53            8  Georgia Pacific   \n",
       "\n",
       "               Customer.drive_folder_id  \n",
       "717   1mHDa3E68Ydr1gNpfmSttRQTolkXQkgaM  \n",
       "1255  1mHDa3E68Ydr1gNpfmSttRQTolkXQkgaM  \n",
       "1256  1mHDa3E68Ydr1gNpfmSttRQTolkXQkgaM  \n",
       "1257  1mHDa3E68Ydr1gNpfmSttRQTolkXQkgaM  \n",
       "1317  1mHDa3E68Ydr1gNpfmSttRQTolkXQkgaM  \n",
       "1325  1mHDa3E68Ydr1gNpfmSttRQTolkXQkgaM  "
      ]
     },
     "execution_count": 38,
     "metadata": {},
     "output_type": "execute_result"
    }
   ],
   "source": [
    "liq_tanks_df[tank_shells_df['Customer.id']==8]"
   ]
  },
  {
   "cell_type": "markdown",
   "id": "ee570538-c78b-4127-9379-198790a5c513",
   "metadata": {},
   "source": [
    "1648 tank shell inspections, 14 of those are liquor tanks, 6 are at GP"
   ]
  },
  {
   "cell_type": "code",
   "execution_count": null,
   "id": "2251bcdd-a709-4e98-9fd9-a1eed77288ad",
   "metadata": {},
   "outputs": [],
   "source": []
  }
 ],
 "metadata": {
  "kernelspec": {
   "display_name": "Python 3 (ipykernel)",
   "language": "python",
   "name": "python3"
  },
  "language_info": {
   "codemirror_mode": {
    "name": "ipython",
    "version": 3
   },
   "file_extension": ".py",
   "mimetype": "text/x-python",
   "name": "python",
   "nbconvert_exporter": "python",
   "pygments_lexer": "ipython3",
   "version": "3.10.6"
  }
 },
 "nbformat": 4,
 "nbformat_minor": 5
}
